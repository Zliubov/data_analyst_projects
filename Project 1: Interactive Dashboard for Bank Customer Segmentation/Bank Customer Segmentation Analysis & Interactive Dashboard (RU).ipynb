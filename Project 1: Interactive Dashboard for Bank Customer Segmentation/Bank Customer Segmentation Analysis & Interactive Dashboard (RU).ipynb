{
 "cells": [
  {
   "cell_type": "markdown",
   "metadata": {},
   "source": [
    "## Введение \n",
    "\n",
    "Проект **Аналитика данных с целью сегментации клиентов банка**."
   ]
  },
  {
   "cell_type": "markdown",
   "metadata": {},
   "source": [
    "### Описание проекта\n",
    "\n",
    "\n",
    "**Контекст**\n",
    "\n",
    "\n",
    "Банк «Метанпром» сделал заказ на аналитику данных с целью сегментации своих клиентов.\n",
    "\n",
    "Менеджер банка  хотят сформулировать сегменты клиентов и дать рекомендацию относительно конкретных продуктов, которые могли бы заинтересовать разные сегменты клиентов.\n",
    "\n",
    "\n",
    "Нам доступен датасет с информацией о 10 000 клиентах.  банка «Метанпром». Банк располагается в Ярославле и областных городах: Ростов Великий и Рыбинск."
   ]
  },
  {
   "cell_type": "markdown",
   "metadata": {},
   "source": [
    "### Описание данных\n",
    "\n",
    "**Описание данных**:\n",
    "\n",
    "\n",
    "Файл `bank_dataset.csv`:\n",
    "       \n",
    "- `userid` — уникальный id пользователя;\n",
    "- `score` — баллы кредитного скоринга;\n",
    "- `City` — название города;\n",
    "- `Gender` — пол,\n",
    "- `Age` — возраст,\n",
    "- `Objects` — количество объектов в собственности,\n",
    "- `Balance` — баланс на счёте,\n",
    "- `Products` — количество продуктов, которыми пользуется клиент,\n",
    "- `CreditCard` — есть ли кредитная карта,\n",
    "- `Loyalty` — активный клиент,\n",
    "- `estimated_salary` — заработная плата клиента,\n",
    "- `Churn` — ушёл или нет. "
   ]
  },
  {
   "cell_type": "markdown",
   "metadata": {},
   "source": [
    "### Декомпозиция проекта\n",
    "\n",
    "**Цель проекта:** Сегментировать клиентов банка для формулировки целевого маркетингового предложения продукта и рекомендаций по улучшению обслуживания клиентов.\n",
    "\n",
    "\n",
    "\n",
    "\n",
    "**Шаг 1. Загрузка библиотек и изучение общей информации**\n",
    "\n",
    "Этот шаг включает в себя импорт необходимых библиотек и загрузку данных о клиентов банка для подготовки к дальнейшему анализу.\n",
    "\n",
    "Путь к файлу: `datasets/bank_dataset.csv.` \n",
    "\n",
    "Формулировка краткого вывода.\n",
    "\n",
    "**Шаг 2. Предобработка данных**\n",
    "\n",
    "Этот этап включает в себя выявление дубликатов, очистку и преобразование данных о клиентах, выявление закономерностей в пропусках (если есть), обработку пропущенных значений и подготовку данных для исследовательского анализа данных и сегментации.\n",
    "\n",
    "Вывод по разделу.\n",
    "\n",
    "\n",
    "\n",
    "**Шаг 3. Исследовательский анализ данных**\n",
    "\n",
    "Этот этап включает в себя визуализацию и обобщение данных о клиентах для выявления закономерностей и тенденций, а также выбор соответствующих функций для сегментации клиентов.\n",
    "\n",
    "По завершению этапа  - сбор наблюдений по вопросам выше в один общий вывод.\n",
    "\n",
    "\n",
    "**Шаг 4. Сегментация клиентов банка**\n",
    "\n",
    "Этот шаг включает в себя сегментацию клиентов банка в основные 4 или менее категорий на основе количества используемых продуктов и уровню оттока. \n",
    "Также необходимо оценить степень схожести разных категорий и провести окончательную границу между категориями. \n",
    "\n",
    "Завершить этап формулировкой рекомендаций для маркетингового предложения банковского продукиа на основе разных сегментов клиентов банка. \n",
    "\n",
    "\n",
    "**Шаг 5. Статистическое исследование данных**\n",
    "\n",
    "На этом шаге предполагается применение статистических методов для дальнейшего изучения и проверки сегментов, полученных на этапе сегментации.\n",
    "Проверка гипотезу различия дохода между теми клиентами, которые пользуются двумя продуктами банка, и теми, которые пользуются одним.\n",
    "Формулировка и проверка второй статистической гипотезы относительно представленных данных (предварительно - есть ли различия баланса тех, кто уходит из банка и тех, кто остаётся).\n",
    "\n",
    "Сформулировать выводы по разделу.\n",
    "\n",
    "\n",
    "**Шаг 6. Подготовка презентации**\n",
    "\n",
    "Построение дашборда.\n",
    "Формулировка окончательных выводов и рекомендаций. Подготовка презентации исследования для менеджера банка. \n"
   ]
  },
  {
   "cell_type": "markdown",
   "metadata": {},
   "source": [
    "## Загрузка библиотек и изучение общей информации"
   ]
  },
  {
   "cell_type": "markdown",
   "metadata": {},
   "source": [
    "### Импорт библиотек\n",
    "\n",
    "Загружаем библиотеки."
   ]
  },
  {
   "cell_type": "code",
   "execution_count": 1,
   "metadata": {},
   "outputs": [],
   "source": [
    "import pandas as pd\n",
    "import numpy as np\n",
    "import matplotlib.pyplot as plt\n",
    "import seaborn as sns\n",
    "from sklearn.cluster import KMeans\n",
    "from sklearn.metrics import silhouette_score\n",
    "import scipy.stats as stats"
   ]
  },
  {
   "cell_type": "code",
   "execution_count": 2,
   "metadata": {},
   "outputs": [
    {
     "name": "stdout",
     "output_type": "stream",
     "text": [
      "Requirement already satisfied: matplotlib in c:\\users\\ivano\\anaconda3\\lib\\site-packages (3.7.1)\n",
      "Requirement already satisfied: numpy>=1.20 in c:\\users\\ivano\\anaconda3\\lib\\site-packages (from matplotlib) (1.21.5)\n",
      "Requirement already satisfied: pyparsing>=2.3.1 in c:\\users\\ivano\\anaconda3\\lib\\site-packages (from matplotlib) (3.0.9)\n",
      "Requirement already satisfied: fonttools>=4.22.0 in c:\\users\\ivano\\anaconda3\\lib\\site-packages (from matplotlib) (4.25.0)\n",
      "Requirement already satisfied: importlib-resources>=3.2.0 in c:\\users\\ivano\\anaconda3\\lib\\site-packages (from matplotlib) (5.2.0)\n",
      "Requirement already satisfied: kiwisolver>=1.0.1 in c:\\users\\ivano\\anaconda3\\lib\\site-packages (from matplotlib) (1.4.4)\n",
      "Requirement already satisfied: pillow>=6.2.0 in c:\\users\\ivano\\anaconda3\\lib\\site-packages (from matplotlib) (9.4.0)\n",
      "Requirement already satisfied: python-dateutil>=2.7 in c:\\users\\ivano\\anaconda3\\lib\\site-packages (from matplotlib) (2.8.2)\n",
      "Requirement already satisfied: packaging>=20.0 in c:\\users\\ivano\\anaconda3\\lib\\site-packages (from matplotlib) (22.0)\n",
      "Requirement already satisfied: cycler>=0.10 in c:\\users\\ivano\\anaconda3\\lib\\site-packages (from matplotlib) (0.11.0)\n",
      "Requirement already satisfied: contourpy>=1.0.1 in c:\\users\\ivano\\anaconda3\\lib\\site-packages (from matplotlib) (1.0.5)\n",
      "Requirement already satisfied: zipp>=3.1.0 in c:\\users\\ivano\\anaconda3\\lib\\site-packages (from importlib-resources>=3.2.0->matplotlib) (3.11.0)\n",
      "Requirement already satisfied: six>=1.5 in c:\\users\\ivano\\anaconda3\\lib\\site-packages (from python-dateutil>=2.7->matplotlib) (1.16.0)\n",
      "Note: you may need to restart the kernel to use updated packages.\n"
     ]
    }
   ],
   "source": [
    "pip install matplotlib --upgrade"
   ]
  },
  {
   "cell_type": "markdown",
   "metadata": {},
   "source": [
    "### Загрузим данные и подготовим их к анализу  \n",
    "\n",
    "Загрузии данные из CSV-файлa в переменные.\n",
    "\n",
    "Путь к файлу: `datasets/bank_dataset.csv.` \n"
   ]
  },
  {
   "cell_type": "code",
   "execution_count": 3,
   "metadata": {},
   "outputs": [],
   "source": [
    "try:\n",
    "    bank_dataset= pd.read_csv('bank_dataset.csv')\n",
    "except FileNotFoundError:\n",
    "    bank_dataset = pd.read_csv('https://code.s3.yandex.net/datasets/bank_dataset.csv')"
   ]
  },
  {
   "cell_type": "markdown",
   "metadata": {},
   "source": [
    "### Общая информация в датасете.\n",
    "Выведем первые 5 строчек датафреймa на экран.\n"
   ]
  },
  {
   "cell_type": "code",
   "execution_count": 4,
   "metadata": {},
   "outputs": [
    {
     "name": "stdout",
     "output_type": "stream",
     "text": [
      "Датасет клиентов банка:\n"
     ]
    },
    {
     "data": {
      "text/html": [
       "<div>\n",
       "<style scoped>\n",
       "    .dataframe tbody tr th:only-of-type {\n",
       "        vertical-align: middle;\n",
       "    }\n",
       "\n",
       "    .dataframe tbody tr th {\n",
       "        vertical-align: top;\n",
       "    }\n",
       "\n",
       "    .dataframe thead th {\n",
       "        text-align: right;\n",
       "    }\n",
       "</style>\n",
       "<table border=\"1\" class=\"dataframe\">\n",
       "  <thead>\n",
       "    <tr style=\"text-align: right;\">\n",
       "      <th></th>\n",
       "      <th>userid</th>\n",
       "      <th>score</th>\n",
       "      <th>City</th>\n",
       "      <th>Gender</th>\n",
       "      <th>Age</th>\n",
       "      <th>Objects</th>\n",
       "      <th>Balance</th>\n",
       "      <th>Products</th>\n",
       "      <th>CreditCard</th>\n",
       "      <th>Loyalty</th>\n",
       "      <th>estimated_salary</th>\n",
       "      <th>Churn</th>\n",
       "    </tr>\n",
       "  </thead>\n",
       "  <tbody>\n",
       "    <tr>\n",
       "      <th>0</th>\n",
       "      <td>15677338</td>\n",
       "      <td>619</td>\n",
       "      <td>Ярославль</td>\n",
       "      <td>Ж</td>\n",
       "      <td>42</td>\n",
       "      <td>2</td>\n",
       "      <td>NaN</td>\n",
       "      <td>1</td>\n",
       "      <td>1</td>\n",
       "      <td>1</td>\n",
       "      <td>101348.88</td>\n",
       "      <td>1</td>\n",
       "    </tr>\n",
       "    <tr>\n",
       "      <th>1</th>\n",
       "      <td>15690047</td>\n",
       "      <td>608</td>\n",
       "      <td>Рыбинск</td>\n",
       "      <td>Ж</td>\n",
       "      <td>41</td>\n",
       "      <td>1</td>\n",
       "      <td>83807.86</td>\n",
       "      <td>1</td>\n",
       "      <td>0</td>\n",
       "      <td>1</td>\n",
       "      <td>112542.58</td>\n",
       "      <td>0</td>\n",
       "    </tr>\n",
       "    <tr>\n",
       "      <th>2</th>\n",
       "      <td>15662040</td>\n",
       "      <td>502</td>\n",
       "      <td>Ярославль</td>\n",
       "      <td>Ж</td>\n",
       "      <td>42</td>\n",
       "      <td>8</td>\n",
       "      <td>159660.80</td>\n",
       "      <td>3</td>\n",
       "      <td>1</td>\n",
       "      <td>0</td>\n",
       "      <td>113931.57</td>\n",
       "      <td>1</td>\n",
       "    </tr>\n",
       "    <tr>\n",
       "      <th>3</th>\n",
       "      <td>15744090</td>\n",
       "      <td>699</td>\n",
       "      <td>Ярославль</td>\n",
       "      <td>Ж</td>\n",
       "      <td>39</td>\n",
       "      <td>1</td>\n",
       "      <td>NaN</td>\n",
       "      <td>2</td>\n",
       "      <td>0</td>\n",
       "      <td>0</td>\n",
       "      <td>93826.63</td>\n",
       "      <td>0</td>\n",
       "    </tr>\n",
       "    <tr>\n",
       "      <th>4</th>\n",
       "      <td>15780624</td>\n",
       "      <td>850</td>\n",
       "      <td>Рыбинск</td>\n",
       "      <td>Ж</td>\n",
       "      <td>43</td>\n",
       "      <td>2</td>\n",
       "      <td>125510.82</td>\n",
       "      <td>1</td>\n",
       "      <td>1</td>\n",
       "      <td>1</td>\n",
       "      <td>79084.10</td>\n",
       "      <td>0</td>\n",
       "    </tr>\n",
       "  </tbody>\n",
       "</table>\n",
       "</div>"
      ],
      "text/plain": [
       "     userid  score       City Gender  Age  Objects    Balance  Products  \\\n",
       "0  15677338    619  Ярославль      Ж   42        2        NaN         1   \n",
       "1  15690047    608    Рыбинск      Ж   41        1   83807.86         1   \n",
       "2  15662040    502  Ярославль      Ж   42        8  159660.80         3   \n",
       "3  15744090    699  Ярославль      Ж   39        1        NaN         2   \n",
       "4  15780624    850    Рыбинск      Ж   43        2  125510.82         1   \n",
       "\n",
       "   CreditCard  Loyalty  estimated_salary  Churn  \n",
       "0           1        1         101348.88      1  \n",
       "1           0        1         112542.58      0  \n",
       "2           1        0         113931.57      1  \n",
       "3           0        0          93826.63      0  \n",
       "4           1        1          79084.10      0  "
      ]
     },
     "execution_count": 4,
     "metadata": {},
     "output_type": "execute_result"
    }
   ],
   "source": [
    "print('Датасет клиентов банка:')\n",
    "bank_dataset.head()"
   ]
  },
  {
   "cell_type": "code",
   "execution_count": 5,
   "metadata": {},
   "outputs": [
    {
     "data": {
      "text/html": [
       "<div>\n",
       "<style scoped>\n",
       "    .dataframe tbody tr th:only-of-type {\n",
       "        vertical-align: middle;\n",
       "    }\n",
       "\n",
       "    .dataframe tbody tr th {\n",
       "        vertical-align: top;\n",
       "    }\n",
       "\n",
       "    .dataframe thead th {\n",
       "        text-align: right;\n",
       "    }\n",
       "</style>\n",
       "<table border=\"1\" class=\"dataframe\">\n",
       "  <thead>\n",
       "    <tr style=\"text-align: right;\">\n",
       "      <th></th>\n",
       "      <th>userid</th>\n",
       "      <th>score</th>\n",
       "      <th>City</th>\n",
       "      <th>Gender</th>\n",
       "      <th>Age</th>\n",
       "      <th>Objects</th>\n",
       "      <th>Balance</th>\n",
       "      <th>Products</th>\n",
       "      <th>CreditCard</th>\n",
       "      <th>Loyalty</th>\n",
       "      <th>estimated_salary</th>\n",
       "      <th>Churn</th>\n",
       "    </tr>\n",
       "  </thead>\n",
       "  <tbody>\n",
       "    <tr>\n",
       "      <th>0</th>\n",
       "      <td>15677338</td>\n",
       "      <td>619</td>\n",
       "      <td>Ярославль</td>\n",
       "      <td>Ж</td>\n",
       "      <td>42</td>\n",
       "      <td>2</td>\n",
       "      <td>NaN</td>\n",
       "      <td>1</td>\n",
       "      <td>1</td>\n",
       "      <td>1</td>\n",
       "      <td>101348.88</td>\n",
       "      <td>1</td>\n",
       "    </tr>\n",
       "    <tr>\n",
       "      <th>1</th>\n",
       "      <td>15690047</td>\n",
       "      <td>608</td>\n",
       "      <td>Рыбинск</td>\n",
       "      <td>Ж</td>\n",
       "      <td>41</td>\n",
       "      <td>1</td>\n",
       "      <td>83807.86</td>\n",
       "      <td>1</td>\n",
       "      <td>0</td>\n",
       "      <td>1</td>\n",
       "      <td>112542.58</td>\n",
       "      <td>0</td>\n",
       "    </tr>\n",
       "    <tr>\n",
       "      <th>2</th>\n",
       "      <td>15662040</td>\n",
       "      <td>502</td>\n",
       "      <td>Ярославль</td>\n",
       "      <td>Ж</td>\n",
       "      <td>42</td>\n",
       "      <td>8</td>\n",
       "      <td>159660.80</td>\n",
       "      <td>3</td>\n",
       "      <td>1</td>\n",
       "      <td>0</td>\n",
       "      <td>113931.57</td>\n",
       "      <td>1</td>\n",
       "    </tr>\n",
       "    <tr>\n",
       "      <th>3</th>\n",
       "      <td>15744090</td>\n",
       "      <td>699</td>\n",
       "      <td>Ярославль</td>\n",
       "      <td>Ж</td>\n",
       "      <td>39</td>\n",
       "      <td>1</td>\n",
       "      <td>NaN</td>\n",
       "      <td>2</td>\n",
       "      <td>0</td>\n",
       "      <td>0</td>\n",
       "      <td>93826.63</td>\n",
       "      <td>0</td>\n",
       "    </tr>\n",
       "    <tr>\n",
       "      <th>4</th>\n",
       "      <td>15780624</td>\n",
       "      <td>850</td>\n",
       "      <td>Рыбинск</td>\n",
       "      <td>Ж</td>\n",
       "      <td>43</td>\n",
       "      <td>2</td>\n",
       "      <td>125510.82</td>\n",
       "      <td>1</td>\n",
       "      <td>1</td>\n",
       "      <td>1</td>\n",
       "      <td>79084.10</td>\n",
       "      <td>0</td>\n",
       "    </tr>\n",
       "    <tr>\n",
       "      <th>...</th>\n",
       "      <td>...</td>\n",
       "      <td>...</td>\n",
       "      <td>...</td>\n",
       "      <td>...</td>\n",
       "      <td>...</td>\n",
       "      <td>...</td>\n",
       "      <td>...</td>\n",
       "      <td>...</td>\n",
       "      <td>...</td>\n",
       "      <td>...</td>\n",
       "      <td>...</td>\n",
       "      <td>...</td>\n",
       "    </tr>\n",
       "    <tr>\n",
       "      <th>9995</th>\n",
       "      <td>15648965</td>\n",
       "      <td>771</td>\n",
       "      <td>Ярославль</td>\n",
       "      <td>М</td>\n",
       "      <td>39</td>\n",
       "      <td>5</td>\n",
       "      <td>NaN</td>\n",
       "      <td>2</td>\n",
       "      <td>1</td>\n",
       "      <td>0</td>\n",
       "      <td>96270.64</td>\n",
       "      <td>0</td>\n",
       "    </tr>\n",
       "    <tr>\n",
       "      <th>9996</th>\n",
       "      <td>15612628</td>\n",
       "      <td>516</td>\n",
       "      <td>Ярославль</td>\n",
       "      <td>М</td>\n",
       "      <td>35</td>\n",
       "      <td>10</td>\n",
       "      <td>57369.61</td>\n",
       "      <td>1</td>\n",
       "      <td>1</td>\n",
       "      <td>1</td>\n",
       "      <td>101699.77</td>\n",
       "      <td>0</td>\n",
       "    </tr>\n",
       "    <tr>\n",
       "      <th>9997</th>\n",
       "      <td>15627268</td>\n",
       "      <td>709</td>\n",
       "      <td>Ярославль</td>\n",
       "      <td>Ж</td>\n",
       "      <td>36</td>\n",
       "      <td>7</td>\n",
       "      <td>NaN</td>\n",
       "      <td>1</td>\n",
       "      <td>0</td>\n",
       "      <td>1</td>\n",
       "      <td>42085.58</td>\n",
       "      <td>1</td>\n",
       "    </tr>\n",
       "    <tr>\n",
       "      <th>9998</th>\n",
       "      <td>15725091</td>\n",
       "      <td>772</td>\n",
       "      <td>Ростов Великий</td>\n",
       "      <td>М</td>\n",
       "      <td>42</td>\n",
       "      <td>3</td>\n",
       "      <td>75075.31</td>\n",
       "      <td>2</td>\n",
       "      <td>1</td>\n",
       "      <td>0</td>\n",
       "      <td>92888.52</td>\n",
       "      <td>1</td>\n",
       "    </tr>\n",
       "    <tr>\n",
       "      <th>9999</th>\n",
       "      <td>15671055</td>\n",
       "      <td>792</td>\n",
       "      <td>Ярославль</td>\n",
       "      <td>Ж</td>\n",
       "      <td>28</td>\n",
       "      <td>4</td>\n",
       "      <td>130142.79</td>\n",
       "      <td>1</td>\n",
       "      <td>1</td>\n",
       "      <td>0</td>\n",
       "      <td>38190.78</td>\n",
       "      <td>0</td>\n",
       "    </tr>\n",
       "  </tbody>\n",
       "</table>\n",
       "<p>10000 rows × 12 columns</p>\n",
       "</div>"
      ],
      "text/plain": [
       "        userid  score            City Gender  Age  Objects    Balance  \\\n",
       "0     15677338    619       Ярославль      Ж   42        2        NaN   \n",
       "1     15690047    608         Рыбинск      Ж   41        1   83807.86   \n",
       "2     15662040    502       Ярославль      Ж   42        8  159660.80   \n",
       "3     15744090    699       Ярославль      Ж   39        1        NaN   \n",
       "4     15780624    850         Рыбинск      Ж   43        2  125510.82   \n",
       "...        ...    ...             ...    ...  ...      ...        ...   \n",
       "9995  15648965    771       Ярославль      М   39        5        NaN   \n",
       "9996  15612628    516       Ярославль      М   35       10   57369.61   \n",
       "9997  15627268    709       Ярославль      Ж   36        7        NaN   \n",
       "9998  15725091    772  Ростов Великий      М   42        3   75075.31   \n",
       "9999  15671055    792       Ярославль      Ж   28        4  130142.79   \n",
       "\n",
       "      Products  CreditCard  Loyalty  estimated_salary  Churn  \n",
       "0            1           1        1         101348.88      1  \n",
       "1            1           0        1         112542.58      0  \n",
       "2            3           1        0         113931.57      1  \n",
       "3            2           0        0          93826.63      0  \n",
       "4            1           1        1          79084.10      0  \n",
       "...        ...         ...      ...               ...    ...  \n",
       "9995         2           1        0          96270.64      0  \n",
       "9996         1           1        1         101699.77      0  \n",
       "9997         1           0        1          42085.58      1  \n",
       "9998         2           1        0          92888.52      1  \n",
       "9999         1           1        0          38190.78      0  \n",
       "\n",
       "[10000 rows x 12 columns]"
      ]
     },
     "execution_count": 5,
     "metadata": {},
     "output_type": "execute_result"
    }
   ],
   "source": [
    "ban = pd.read_csv('https://code.s3.yandex.net/datasets/bank_dataset.csv')\n",
    "ban"
   ]
  },
  {
   "cell_type": "markdown",
   "metadata": {},
   "source": [
    "Посмотрим основную информацию по таблице."
   ]
  },
  {
   "cell_type": "code",
   "execution_count": 6,
   "metadata": {},
   "outputs": [
    {
     "name": "stdout",
     "output_type": "stream",
     "text": [
      "Информация о таблице 'bank_dataset': \n",
      "\n",
      "<class 'pandas.core.frame.DataFrame'>\n",
      "RangeIndex: 10000 entries, 0 to 9999\n",
      "Data columns (total 12 columns):\n",
      " #   Column            Non-Null Count  Dtype  \n",
      "---  ------            --------------  -----  \n",
      " 0   userid            10000 non-null  int64  \n",
      " 1   score             10000 non-null  int64  \n",
      " 2   City              10000 non-null  object \n",
      " 3   Gender            10000 non-null  object \n",
      " 4   Age               10000 non-null  int64  \n",
      " 5   Objects           10000 non-null  int64  \n",
      " 6   Balance           6383 non-null   float64\n",
      " 7   Products          10000 non-null  int64  \n",
      " 8   CreditCard        10000 non-null  int64  \n",
      " 9   Loyalty           10000 non-null  int64  \n",
      " 10  estimated_salary  10000 non-null  float64\n",
      " 11  Churn             10000 non-null  int64  \n",
      "dtypes: float64(2), int64(8), object(2)\n",
      "memory usage: 937.6+ KB\n"
     ]
    }
   ],
   "source": [
    "print('Информация о таблице {0!r}:'.format('bank_dataset'), '\\n')\n",
    "bank_dataset.info()"
   ]
  },
  {
   "cell_type": "markdown",
   "metadata": {},
   "source": [
    "Посмотрим основную информацию по таблице."
   ]
  },
  {
   "cell_type": "code",
   "execution_count": 7,
   "metadata": {},
   "outputs": [
    {
     "name": "stdout",
     "output_type": "stream",
     "text": [
      "Информация о данных таблицы 'bank_dataset': \n",
      "\n"
     ]
    },
    {
     "data": {
      "text/html": [
       "<div>\n",
       "<style scoped>\n",
       "    .dataframe tbody tr th:only-of-type {\n",
       "        vertical-align: middle;\n",
       "    }\n",
       "\n",
       "    .dataframe tbody tr th {\n",
       "        vertical-align: top;\n",
       "    }\n",
       "\n",
       "    .dataframe thead th {\n",
       "        text-align: right;\n",
       "    }\n",
       "</style>\n",
       "<table border=\"1\" class=\"dataframe\">\n",
       "  <thead>\n",
       "    <tr style=\"text-align: right;\">\n",
       "      <th></th>\n",
       "      <th>userid</th>\n",
       "      <th>score</th>\n",
       "      <th>Age</th>\n",
       "      <th>Objects</th>\n",
       "      <th>Balance</th>\n",
       "      <th>Products</th>\n",
       "      <th>CreditCard</th>\n",
       "      <th>Loyalty</th>\n",
       "      <th>estimated_salary</th>\n",
       "      <th>Churn</th>\n",
       "    </tr>\n",
       "  </thead>\n",
       "  <tbody>\n",
       "    <tr>\n",
       "      <th>count</th>\n",
       "      <td>1.000000e+04</td>\n",
       "      <td>10000.000000</td>\n",
       "      <td>10000.000000</td>\n",
       "      <td>10000.000000</td>\n",
       "      <td>6383.000000</td>\n",
       "      <td>10000.000000</td>\n",
       "      <td>10000.00000</td>\n",
       "      <td>10000.000000</td>\n",
       "      <td>10000.000000</td>\n",
       "      <td>10000.000000</td>\n",
       "    </tr>\n",
       "    <tr>\n",
       "      <th>mean</th>\n",
       "      <td>1.573368e+07</td>\n",
       "      <td>650.528800</td>\n",
       "      <td>38.921800</td>\n",
       "      <td>5.012800</td>\n",
       "      <td>119827.493793</td>\n",
       "      <td>1.530200</td>\n",
       "      <td>0.70550</td>\n",
       "      <td>0.515100</td>\n",
       "      <td>100090.239881</td>\n",
       "      <td>0.203700</td>\n",
       "    </tr>\n",
       "    <tr>\n",
       "      <th>std</th>\n",
       "      <td>7.193619e+04</td>\n",
       "      <td>96.653299</td>\n",
       "      <td>10.487806</td>\n",
       "      <td>2.892174</td>\n",
       "      <td>30095.056462</td>\n",
       "      <td>0.581654</td>\n",
       "      <td>0.45584</td>\n",
       "      <td>0.499797</td>\n",
       "      <td>57510.492818</td>\n",
       "      <td>0.402769</td>\n",
       "    </tr>\n",
       "    <tr>\n",
       "      <th>min</th>\n",
       "      <td>1.560844e+07</td>\n",
       "      <td>350.000000</td>\n",
       "      <td>18.000000</td>\n",
       "      <td>0.000000</td>\n",
       "      <td>3768.690000</td>\n",
       "      <td>1.000000</td>\n",
       "      <td>0.00000</td>\n",
       "      <td>0.000000</td>\n",
       "      <td>11.580000</td>\n",
       "      <td>0.000000</td>\n",
       "    </tr>\n",
       "    <tr>\n",
       "      <th>25%</th>\n",
       "      <td>1.567126e+07</td>\n",
       "      <td>584.000000</td>\n",
       "      <td>32.000000</td>\n",
       "      <td>3.000000</td>\n",
       "      <td>100181.975000</td>\n",
       "      <td>1.000000</td>\n",
       "      <td>0.00000</td>\n",
       "      <td>0.000000</td>\n",
       "      <td>51002.110000</td>\n",
       "      <td>0.000000</td>\n",
       "    </tr>\n",
       "    <tr>\n",
       "      <th>50%</th>\n",
       "      <td>1.573347e+07</td>\n",
       "      <td>652.000000</td>\n",
       "      <td>37.000000</td>\n",
       "      <td>5.000000</td>\n",
       "      <td>119839.690000</td>\n",
       "      <td>1.000000</td>\n",
       "      <td>1.00000</td>\n",
       "      <td>1.000000</td>\n",
       "      <td>100193.915000</td>\n",
       "      <td>0.000000</td>\n",
       "    </tr>\n",
       "    <tr>\n",
       "      <th>75%</th>\n",
       "      <td>1.579597e+07</td>\n",
       "      <td>718.000000</td>\n",
       "      <td>44.000000</td>\n",
       "      <td>7.000000</td>\n",
       "      <td>139512.290000</td>\n",
       "      <td>2.000000</td>\n",
       "      <td>1.00000</td>\n",
       "      <td>1.000000</td>\n",
       "      <td>149388.247500</td>\n",
       "      <td>0.000000</td>\n",
       "    </tr>\n",
       "    <tr>\n",
       "      <th>max</th>\n",
       "      <td>1.585843e+07</td>\n",
       "      <td>850.000000</td>\n",
       "      <td>92.000000</td>\n",
       "      <td>10.000000</td>\n",
       "      <td>250898.090000</td>\n",
       "      <td>4.000000</td>\n",
       "      <td>1.00000</td>\n",
       "      <td>1.000000</td>\n",
       "      <td>199992.480000</td>\n",
       "      <td>1.000000</td>\n",
       "    </tr>\n",
       "  </tbody>\n",
       "</table>\n",
       "</div>"
      ],
      "text/plain": [
       "             userid         score           Age       Objects        Balance  \\\n",
       "count  1.000000e+04  10000.000000  10000.000000  10000.000000    6383.000000   \n",
       "mean   1.573368e+07    650.528800     38.921800      5.012800  119827.493793   \n",
       "std    7.193619e+04     96.653299     10.487806      2.892174   30095.056462   \n",
       "min    1.560844e+07    350.000000     18.000000      0.000000    3768.690000   \n",
       "25%    1.567126e+07    584.000000     32.000000      3.000000  100181.975000   \n",
       "50%    1.573347e+07    652.000000     37.000000      5.000000  119839.690000   \n",
       "75%    1.579597e+07    718.000000     44.000000      7.000000  139512.290000   \n",
       "max    1.585843e+07    850.000000     92.000000     10.000000  250898.090000   \n",
       "\n",
       "           Products   CreditCard       Loyalty  estimated_salary         Churn  \n",
       "count  10000.000000  10000.00000  10000.000000      10000.000000  10000.000000  \n",
       "mean       1.530200      0.70550      0.515100     100090.239881      0.203700  \n",
       "std        0.581654      0.45584      0.499797      57510.492818      0.402769  \n",
       "min        1.000000      0.00000      0.000000         11.580000      0.000000  \n",
       "25%        1.000000      0.00000      0.000000      51002.110000      0.000000  \n",
       "50%        1.000000      1.00000      1.000000     100193.915000      0.000000  \n",
       "75%        2.000000      1.00000      1.000000     149388.247500      0.000000  \n",
       "max        4.000000      1.00000      1.000000     199992.480000      1.000000  "
      ]
     },
     "execution_count": 7,
     "metadata": {},
     "output_type": "execute_result"
    }
   ],
   "source": [
    "print('Информация о данных таблицы {0!r}:'.format('bank_dataset'), '\\n')\n",
    "bank_dataset.describe()"
   ]
  },
  {
   "cell_type": "markdown",
   "metadata": {},
   "source": [
    "Посмотрим основные значения в солбцах с текстовой информацией."
   ]
  },
  {
   "cell_type": "code",
   "execution_count": 8,
   "metadata": {},
   "outputs": [
    {
     "name": "stdout",
     "output_type": "stream",
     "text": [
      "['Ярославль' 'Рыбинск' 'Ростов Великий']\n",
      "['Ж' 'М']\n"
     ]
    }
   ],
   "source": [
    "print(bank_dataset['City'].unique())\n",
    "print(bank_dataset['Gender'].unique())"
   ]
  },
  {
   "cell_type": "markdown",
   "metadata": {},
   "source": [
    "### Краткий вывод\n"
   ]
  },
  {
   "cell_type": "markdown",
   "metadata": {},
   "source": [
    "\n",
    "Столбцы  `userid`,  `score`, `Age`, `Objects`, `Products` — хранят информацию количественного характера, записаны как `int`. \n",
    "\n",
    "Столбцы `City`и `Gender` — хранят информацию качественного характера, записаны как `object`. \n",
    "\n",
    "Не у всех заведений указаны рабочие часы.\n",
    " \n",
    "Столбцы `Balance` и `estimated_salary` - сумма денег, хранятся в формате `float`. Первый параметр есть у большей части строк (**6 383**) , второй - у всех строк.\n",
    "\n",
    "Столбцы `CreditCard`, `Loyalty`,  `Churn` - записаны как `int`, принимают значения **0** и **1**. \n",
    "\n",
    "Видим в таблице **10 000** записей до выделения дубликатов (пропусков).\n",
    "\n",
    "Стобец `score` — принимает значения от **350** до **850**. \n",
    "\n",
    "Стобец `City` — название города, значения - 'Ярославль' 'Рыбинск' 'Ростов Великий'.\n",
    "\n",
    "Стобец `Gender` — пол принимает значения 'Ж' 'М'.\n",
    "\n",
    "Стобец `Age` — возраст - от **18** до **92**.\n",
    "\n",
    "Стобец `Objects` — количество объектов в собственности, минимальное значение - **0**, максимальное значение - **10**.\n",
    "\n",
    "Стобец `Balance` — баланс на счёте, от **3 768** до **250 898**.\n",
    "\n",
    "Стобец `Products` — количество продуктов, которыми пользуется клиент, от **1** до **4**. \n",
    "\n",
    "Стобец `estimated_salary` — заработная плата, от **11** до **199 992**."
   ]
  },
  {
   "cell_type": "markdown",
   "metadata": {},
   "source": [
    "## Предобработка данных\n",
    "\n",
    "Выявление дубликатов, очистку и преобразование данных о клиентах, выявление закономерностей в пропусках (если есть), обработка пропущенных значений и подготовка данных для исследовательского анализа данных и сегментации."
   ]
  },
  {
   "cell_type": "markdown",
   "metadata": {},
   "source": [
    "### Обработка названий столбцов\n",
    "Приведём столбцы к нижнему регистру."
   ]
  },
  {
   "cell_type": "code",
   "execution_count": 9,
   "metadata": {},
   "outputs": [],
   "source": [
    "#приведём к нижнему регистру\n",
    "bank_dataset.rename(columns=lambda x: x.lower(), inplace=True)"
   ]
  },
  {
   "cell_type": "code",
   "execution_count": 10,
   "metadata": {},
   "outputs": [],
   "source": [
    "#переименуем столбцы\n",
    "bank_dataset = bank_dataset.rename(columns={'userid':'user_id', 'creditcard':'credit_card'})\n",
    "#смотрим результаты \n",
    "bank_dataset.head()\n",
    "#делаем оригинальную копию\n",
    "bank_dataset_copy = bank_dataset.copy()"
   ]
  },
  {
   "cell_type": "markdown",
   "metadata": {},
   "source": [
    "### Обработка дубликатов\n",
    "Найти дубликаты и очистить таблицу."
   ]
  },
  {
   "cell_type": "code",
   "execution_count": 11,
   "metadata": {},
   "outputs": [
    {
     "name": "stdout",
     "output_type": "stream",
     "text": [
      "Количество явных дубликатов в таблице - 0\n",
      "Количество явных дубликатов в стоблце клиентов - 0\n"
     ]
    }
   ],
   "source": [
    "print(f'Количество явных дубликатов в таблице - {bank_dataset.duplicated().sum()}')\n",
    "print(f'Количество явных дубликатов в стоблце клиентов - {bank_dataset[\"user_id\"].duplicated().sum()}')"
   ]
  },
  {
   "cell_type": "markdown",
   "metadata": {},
   "source": [
    "Видим, что дубликатов нет."
   ]
  },
  {
   "cell_type": "markdown",
   "metadata": {},
   "source": [
    "### Посмотрим странности\n",
    "Посмотри столбец с оценкой заработной платы.\n",
    "\n",
    "В этом году МРОТ будет установлен в размере 16 242 рубля (https://www.garant.ru/news/1591661/?ysclid=ldbpxbxaff90376676).\n",
    "\n",
    "Также прожиточный минимум  для трех категорий населения:\n",
    "трудоспособные граждане — 15 669 Р;\n",
    "пенсионеры — 12 363 Р;\n",
    "дети — 13 944 (нет в нашем датасете)\n",
    "(https://journal.tinkoff.ru/news/mrot-2023/?ysclid=ldbq1xy5a7149857202)\n",
    "\n",
    "Предположим, что в оценке заработной платы учитываются и пособия, тем не менее заработная плата не может быть ниже 5 000 рублей."
   ]
  },
  {
   "cell_type": "code",
   "execution_count": 12,
   "metadata": {},
   "outputs": [
    {
     "name": "stdout",
     "output_type": "stream",
     "text": [
      "Количество пользователей с оценкой зарплаты меньше МРОТ: 802\n",
      "Количество пользователей с оценкой зарплаты меньше 1000: 59\n",
      "Количество пользователей с оценкой зарплаты меньше 100: 4\n"
     ]
    }
   ],
   "source": [
    "mrot = 16242\n",
    "print(\n",
    "    'Количество пользователей с оценкой зарплаты меньше МРОТ:',\n",
    "    bank_dataset[bank_dataset['estimated_salary'] < mrot]['user_id'].nunique())\n",
    "print(\n",
    "    'Количество пользователей с оценкой зарплаты меньше 1000:',\n",
    "    bank_dataset[bank_dataset['estimated_salary'] < 1000]['user_id'].nunique())\n",
    "print(\n",
    "    'Количество пользователей с оценкой зарплаты меньше 100:',\n",
    "    bank_dataset[bank_dataset['estimated_salary'] < 100]['user_id'].nunique())"
   ]
  },
  {
   "cell_type": "markdown",
   "metadata": {},
   "source": [
    "Уточнения у клиента: это в том числе расчётный показатель, если у банка есть информация о реальном доходе, то используется эта информация, иначе отрабатывает модель которая оценивает зарплату. \n",
    "Предложить банку откалибровать модель, если это важный показатель: это может влиять на скоринг и приводить как к ошибкам первого,так и второго типа при выставлении скоринга и решении о выдаче кредита."
   ]
  },
  {
   "cell_type": "markdown",
   "metadata": {},
   "source": [
    "### Обработка пропусков\n",
    "Выявление закономерностей в пропусках (если есть), обработку пропущенных значений"
   ]
  },
  {
   "cell_type": "code",
   "execution_count": 13,
   "metadata": {},
   "outputs": [
    {
     "name": "stdout",
     "output_type": "stream",
     "text": [
      "Количество пропусков в таблице: \n",
      "\n",
      "user_id                0\n",
      "score                  0\n",
      "city                   0\n",
      "gender                 0\n",
      "age                    0\n",
      "objects                0\n",
      "balance             3617\n",
      "products               0\n",
      "credit_card            0\n",
      "loyalty                0\n",
      "estimated_salary       0\n",
      "churn                  0\n",
      "dtype: int64\n"
     ]
    }
   ],
   "source": [
    "print('Количество пропусков в таблице:','\\n')\n",
    "print(bank_dataset.isnull().sum())"
   ]
  },
  {
   "cell_type": "markdown",
   "metadata": {},
   "source": [
    "Как мы и видели на первом шаге, пропуски видим только в стоблце `balance` - этот параметр есть у большей части строк (**6 383**) , посмотрим у каких категорий они есть."
   ]
  },
  {
   "cell_type": "markdown",
   "metadata": {},
   "source": [
    "### Выявим закономерности\n",
    "Выявление закономерностей в пропусках (если есть), обработку пропущенных значений.\n",
    "Зададим столбец, который будет описывать заполнен баланс или нет."
   ]
  },
  {
   "cell_type": "code",
   "execution_count": 14,
   "metadata": {},
   "outputs": [
    {
     "name": "stdout",
     "output_type": "stream",
     "text": [
      "<class 'pandas.core.frame.DataFrame'>\n",
      "RangeIndex: 10000 entries, 0 to 9999\n",
      "Data columns (total 15 columns):\n",
      " #   Column            Non-Null Count  Dtype  \n",
      "---  ------            --------------  -----  \n",
      " 0   user_id           10000 non-null  int64  \n",
      " 1   score             10000 non-null  int64  \n",
      " 2   city              10000 non-null  object \n",
      " 3   gender            10000 non-null  object \n",
      " 4   age               10000 non-null  int64  \n",
      " 5   objects           10000 non-null  int64  \n",
      " 6   balance           6383 non-null   float64\n",
      " 7   products          10000 non-null  int64  \n",
      " 8   credit_card       10000 non-null  int64  \n",
      " 9   loyalty           10000 non-null  int64  \n",
      " 10  estimated_salary  10000 non-null  float64\n",
      " 11  churn             10000 non-null  int64  \n",
      " 12  nan_balance       10000 non-null  int64  \n",
      " 13  is_w              10000 non-null  int64  \n",
      " 14  city_num          10000 non-null  int64  \n",
      "dtypes: float64(2), int64(11), object(2)\n",
      "memory usage: 1.1+ MB\n"
     ]
    }
   ],
   "source": [
    "#создадим графу с пустым балансом\n",
    "bank_dataset['nan_balance'] = 0\n",
    "bank_dataset.loc[bank_dataset['balance'].isnull() , 'nan_balance'] = 1\n",
    "#создадим числовые переменные для гендера и города\n",
    "bank_dataset['is_w'] = bank_dataset['gender']\n",
    "bank_dataset.replace({'is_w': {'Ж':1, 'М':0}}, inplace = True)\n",
    "bank_dataset['city_num'] = bank_dataset['city']\n",
    "bank_dataset.replace({'city_num': {'Ярославль': 0, 'Рыбинск': 1, 'Ростов Великий': 2 }}, inplace = True)\n",
    "#смотрим\n",
    "bank_dataset.info()"
   ]
  },
  {
   "cell_type": "code",
   "execution_count": 15,
   "metadata": {},
   "outputs": [],
   "source": [
    "#создадим функцию для разбивку по группам по процентилям\n",
    "def create_groups(df, column_name, new_column_name):\n",
    "    gr_25 =  np.percentile(df[column_name], 25)\n",
    "    gr_50 = np.percentile(df[column_name], 50)\n",
    "    gr_75 = np.percentile(df[column_name], 75)\n",
    "    \n",
    "    percentiles = [0, gr_25, gr_50, gr_75, np.inf]\n",
    "    labels = [1, 2, 3, 4]\n",
    "    df[new_column_name] = pd.cut(df[column_name], bins=percentiles, labels=labels, right=False).astype(int)\n",
    "    \n",
    "    return df"
   ]
  },
  {
   "cell_type": "code",
   "execution_count": 16,
   "metadata": {},
   "outputs": [],
   "source": [
    "#разбиваем по группам по проццентилям возраст и заработную плату\n",
    "bank_dataset = create_groups(bank_dataset, 'age', 'age_gr')\n",
    "bank_dataset = create_groups(bank_dataset, 'estimated_salary', 'salary_group')\n"
   ]
  },
  {
   "cell_type": "markdown",
   "metadata": {},
   "source": [
    "Посмотрим корреляции для пустого баланса"
   ]
  },
  {
   "cell_type": "code",
   "execution_count": 17,
   "metadata": {},
   "outputs": [
    {
     "name": "stderr",
     "output_type": "stream",
     "text": [
      "C:\\Users\\ivano\\AppData\\Local\\Temp\\ipykernel_13096\\3338166083.py:1: FutureWarning: The default value of numeric_only in DataFrame.corr is deprecated. In a future version, it will default to False. Select only valid columns or specify the value of numeric_only to silence this warning.\n",
      "  bank_dataset.corr()[['nan_balance']].sort_values(by ='nan_balance')\n"
     ]
    },
    {
     "data": {
      "text/html": [
       "<div>\n",
       "<style scoped>\n",
       "    .dataframe tbody tr th:only-of-type {\n",
       "        vertical-align: middle;\n",
       "    }\n",
       "\n",
       "    .dataframe tbody tr th {\n",
       "        vertical-align: top;\n",
       "    }\n",
       "\n",
       "    .dataframe thead th {\n",
       "        text-align: right;\n",
       "    }\n",
       "</style>\n",
       "<table border=\"1\" class=\"dataframe\">\n",
       "  <thead>\n",
       "    <tr style=\"text-align: right;\">\n",
       "      <th></th>\n",
       "      <th>nan_balance</th>\n",
       "    </tr>\n",
       "  </thead>\n",
       "  <tbody>\n",
       "    <tr>\n",
       "      <th>city_num</th>\n",
       "      <td>-0.378936</td>\n",
       "    </tr>\n",
       "    <tr>\n",
       "      <th>churn</th>\n",
       "      <td>-0.122357</td>\n",
       "    </tr>\n",
       "    <tr>\n",
       "      <th>age_gr</th>\n",
       "      <td>-0.043231</td>\n",
       "    </tr>\n",
       "    <tr>\n",
       "      <th>age</th>\n",
       "      <td>-0.034950</td>\n",
       "    </tr>\n",
       "    <tr>\n",
       "      <th>estimated_salary</th>\n",
       "      <td>-0.014486</td>\n",
       "    </tr>\n",
       "    <tr>\n",
       "      <th>salary_group</th>\n",
       "      <td>-0.012565</td>\n",
       "    </tr>\n",
       "    <tr>\n",
       "      <th>score</th>\n",
       "      <td>-0.008380</td>\n",
       "    </tr>\n",
       "    <tr>\n",
       "      <th>loyalty</th>\n",
       "      <td>0.004116</td>\n",
       "    </tr>\n",
       "    <tr>\n",
       "      <th>is_w</th>\n",
       "      <td>0.004513</td>\n",
       "    </tr>\n",
       "    <tr>\n",
       "      <th>user_id</th>\n",
       "      <td>0.010559</td>\n",
       "    </tr>\n",
       "    <tr>\n",
       "      <th>objects</th>\n",
       "      <td>0.015235</td>\n",
       "    </tr>\n",
       "    <tr>\n",
       "      <th>credit_card</th>\n",
       "      <td>0.018358</td>\n",
       "    </tr>\n",
       "    <tr>\n",
       "      <th>products</th>\n",
       "      <td>0.329294</td>\n",
       "    </tr>\n",
       "    <tr>\n",
       "      <th>nan_balance</th>\n",
       "      <td>1.000000</td>\n",
       "    </tr>\n",
       "    <tr>\n",
       "      <th>balance</th>\n",
       "      <td>NaN</td>\n",
       "    </tr>\n",
       "  </tbody>\n",
       "</table>\n",
       "</div>"
      ],
      "text/plain": [
       "                  nan_balance\n",
       "city_num            -0.378936\n",
       "churn               -0.122357\n",
       "age_gr              -0.043231\n",
       "age                 -0.034950\n",
       "estimated_salary    -0.014486\n",
       "salary_group        -0.012565\n",
       "score               -0.008380\n",
       "loyalty              0.004116\n",
       "is_w                 0.004513\n",
       "user_id              0.010559\n",
       "objects              0.015235\n",
       "credit_card          0.018358\n",
       "products             0.329294\n",
       "nan_balance          1.000000\n",
       "balance                   NaN"
      ]
     },
     "execution_count": 17,
     "metadata": {},
     "output_type": "execute_result"
    }
   ],
   "source": [
    "bank_dataset.corr()[['nan_balance']].sort_values(by ='nan_balance')"
   ]
  },
  {
   "cell_type": "markdown",
   "metadata": {},
   "source": [
    "Нужно обратить внимание на город, продукты, показатель того, остался пользователь или нет."
   ]
  },
  {
   "cell_type": "code",
   "execution_count": 18,
   "metadata": {},
   "outputs": [],
   "source": [
    "#cоздадим функцию для нахождения процентов пропуска \n",
    "def group_and_sort(df, variables):\n",
    "    df_grouped = df.groupby(variables).agg({\n",
    "        'nan_balance': ['sum', 'count']\n",
    "     }).reset_index().set_axis(variables + ['nan_count', 'all'], axis='columns')\n",
    "    df_grouped['nan_%'] = df_grouped['nan_count'] / df_grouped['all']\n",
    "    df_grouped.sort_values(by='nan_%', ascending=False, inplace=True)\n",
    "    print('\\n', 'Процент пропусков в данных, сгрупированных по', ','.join(variables))\n",
    "\n",
    "    return df_grouped"
   ]
  },
  {
   "cell_type": "markdown",
   "metadata": {},
   "source": [
    "Построим долю пропусков для столбцов: город, продукты, показатель того, остался пользователь или нет."
   ]
  },
  {
   "cell_type": "code",
   "execution_count": 19,
   "metadata": {},
   "outputs": [
    {
     "name": "stdout",
     "output_type": "stream",
     "text": [
      "\n",
      " Процент пропусков в данных, сгрупированных по city\n"
     ]
    },
    {
     "data": {
      "text/html": [
       "<div>\n",
       "<style scoped>\n",
       "    .dataframe tbody tr th:only-of-type {\n",
       "        vertical-align: middle;\n",
       "    }\n",
       "\n",
       "    .dataframe tbody tr th {\n",
       "        vertical-align: top;\n",
       "    }\n",
       "\n",
       "    .dataframe thead th {\n",
       "        text-align: right;\n",
       "    }\n",
       "</style>\n",
       "<table border=\"1\" class=\"dataframe\">\n",
       "  <thead>\n",
       "    <tr style=\"text-align: right;\">\n",
       "      <th></th>\n",
       "      <th>city</th>\n",
       "      <th>nan_count</th>\n",
       "      <th>all</th>\n",
       "      <th>nan_%</th>\n",
       "    </tr>\n",
       "  </thead>\n",
       "  <tbody>\n",
       "    <tr>\n",
       "      <th>1</th>\n",
       "      <td>Рыбинск</td>\n",
       "      <td>1199</td>\n",
       "      <td>2477</td>\n",
       "      <td>0.484053</td>\n",
       "    </tr>\n",
       "    <tr>\n",
       "      <th>2</th>\n",
       "      <td>Ярославль</td>\n",
       "      <td>2418</td>\n",
       "      <td>5014</td>\n",
       "      <td>0.482250</td>\n",
       "    </tr>\n",
       "    <tr>\n",
       "      <th>0</th>\n",
       "      <td>Ростов Великий</td>\n",
       "      <td>0</td>\n",
       "      <td>2509</td>\n",
       "      <td>0.000000</td>\n",
       "    </tr>\n",
       "  </tbody>\n",
       "</table>\n",
       "</div>"
      ],
      "text/plain": [
       "             city  nan_count   all     nan_%\n",
       "1         Рыбинск       1199  2477  0.484053\n",
       "2       Ярославль       2418  5014  0.482250\n",
       "0  Ростов Великий          0  2509  0.000000"
      ]
     },
     "execution_count": 19,
     "metadata": {},
     "output_type": "execute_result"
    }
   ],
   "source": [
    "#вызываем функцию для нахождения процентов пропуска \n",
    "group_and_sort(bank_dataset, ['city'])"
   ]
  },
  {
   "cell_type": "markdown",
   "metadata": {},
   "source": [
    "Пропуски есть в Рыбинске и Ярославле, но нет в Ростове Великом."
   ]
  },
  {
   "cell_type": "code",
   "execution_count": 20,
   "metadata": {},
   "outputs": [
    {
     "name": "stdout",
     "output_type": "stream",
     "text": [
      "\n",
      " Процент пропусков в данных, сгрупированных по products\n"
     ]
    },
    {
     "data": {
      "text/html": [
       "<div>\n",
       "<style scoped>\n",
       "    .dataframe tbody tr th:only-of-type {\n",
       "        vertical-align: middle;\n",
       "    }\n",
       "\n",
       "    .dataframe tbody tr th {\n",
       "        vertical-align: top;\n",
       "    }\n",
       "\n",
       "    .dataframe thead th {\n",
       "        text-align: right;\n",
       "    }\n",
       "</style>\n",
       "<table border=\"1\" class=\"dataframe\">\n",
       "  <thead>\n",
       "    <tr style=\"text-align: right;\">\n",
       "      <th></th>\n",
       "      <th>products</th>\n",
       "      <th>nan_count</th>\n",
       "      <th>all</th>\n",
       "      <th>nan_%</th>\n",
       "    </tr>\n",
       "  </thead>\n",
       "  <tbody>\n",
       "    <tr>\n",
       "      <th>1</th>\n",
       "      <td>2</td>\n",
       "      <td>2600</td>\n",
       "      <td>4590</td>\n",
       "      <td>0.566449</td>\n",
       "    </tr>\n",
       "    <tr>\n",
       "      <th>2</th>\n",
       "      <td>3</td>\n",
       "      <td>98</td>\n",
       "      <td>266</td>\n",
       "      <td>0.368421</td>\n",
       "    </tr>\n",
       "    <tr>\n",
       "      <th>3</th>\n",
       "      <td>4</td>\n",
       "      <td>14</td>\n",
       "      <td>60</td>\n",
       "      <td>0.233333</td>\n",
       "    </tr>\n",
       "    <tr>\n",
       "      <th>0</th>\n",
       "      <td>1</td>\n",
       "      <td>905</td>\n",
       "      <td>5084</td>\n",
       "      <td>0.178009</td>\n",
       "    </tr>\n",
       "  </tbody>\n",
       "</table>\n",
       "</div>"
      ],
      "text/plain": [
       "   products  nan_count   all     nan_%\n",
       "1         2       2600  4590  0.566449\n",
       "2         3         98   266  0.368421\n",
       "3         4         14    60  0.233333\n",
       "0         1        905  5084  0.178009"
      ]
     },
     "execution_count": 20,
     "metadata": {},
     "output_type": "execute_result"
    }
   ],
   "source": [
    "#вызываем функцию для нахождения процентов пропуска \n",
    "group_and_sort(bank_dataset, ['products'])"
   ]
  },
  {
   "cell_type": "markdown",
   "metadata": {},
   "source": [
    "Пропуски есть в для клиентов с двумя и тремя продуктами, для четырх и 1го продукта пропусков меньше."
   ]
  },
  {
   "cell_type": "code",
   "execution_count": 21,
   "metadata": {},
   "outputs": [
    {
     "name": "stdout",
     "output_type": "stream",
     "text": [
      "\n",
      " Процент пропусков в данных, сгрупированных по churn\n"
     ]
    },
    {
     "data": {
      "text/html": [
       "<div>\n",
       "<style scoped>\n",
       "    .dataframe tbody tr th:only-of-type {\n",
       "        vertical-align: middle;\n",
       "    }\n",
       "\n",
       "    .dataframe tbody tr th {\n",
       "        vertical-align: top;\n",
       "    }\n",
       "\n",
       "    .dataframe thead th {\n",
       "        text-align: right;\n",
       "    }\n",
       "</style>\n",
       "<table border=\"1\" class=\"dataframe\">\n",
       "  <thead>\n",
       "    <tr style=\"text-align: right;\">\n",
       "      <th></th>\n",
       "      <th>churn</th>\n",
       "      <th>nan_count</th>\n",
       "      <th>all</th>\n",
       "      <th>nan_%</th>\n",
       "    </tr>\n",
       "  </thead>\n",
       "  <tbody>\n",
       "    <tr>\n",
       "      <th>0</th>\n",
       "      <td>0</td>\n",
       "      <td>3117</td>\n",
       "      <td>7963</td>\n",
       "      <td>0.391435</td>\n",
       "    </tr>\n",
       "    <tr>\n",
       "      <th>1</th>\n",
       "      <td>1</td>\n",
       "      <td>500</td>\n",
       "      <td>2037</td>\n",
       "      <td>0.245459</td>\n",
       "    </tr>\n",
       "  </tbody>\n",
       "</table>\n",
       "</div>"
      ],
      "text/plain": [
       "   churn  nan_count   all     nan_%\n",
       "0      0       3117  7963  0.391435\n",
       "1      1        500  2037  0.245459"
      ]
     },
     "execution_count": 21,
     "metadata": {},
     "output_type": "execute_result"
    }
   ],
   "source": [
    "#вызываем функцию для нахождения процентов пропуска \n",
    "group_and_sort(bank_dataset, ['churn'])"
   ]
  },
  {
   "cell_type": "code",
   "execution_count": 22,
   "metadata": {},
   "outputs": [
    {
     "name": "stdout",
     "output_type": "stream",
     "text": [
      "\n",
      " Процент пропусков в данных, сгрупированных по city,products,churn\n"
     ]
    },
    {
     "data": {
      "text/html": [
       "<div>\n",
       "<style scoped>\n",
       "    .dataframe tbody tr th:only-of-type {\n",
       "        vertical-align: middle;\n",
       "    }\n",
       "\n",
       "    .dataframe tbody tr th {\n",
       "        vertical-align: top;\n",
       "    }\n",
       "\n",
       "    .dataframe thead th {\n",
       "        text-align: right;\n",
       "    }\n",
       "</style>\n",
       "<table border=\"1\" class=\"dataframe\">\n",
       "  <thead>\n",
       "    <tr style=\"text-align: right;\">\n",
       "      <th></th>\n",
       "      <th>city</th>\n",
       "      <th>products</th>\n",
       "      <th>churn</th>\n",
       "      <th>nan_count</th>\n",
       "      <th>all</th>\n",
       "      <th>nan_%</th>\n",
       "    </tr>\n",
       "  </thead>\n",
       "  <tbody>\n",
       "    <tr>\n",
       "      <th>11</th>\n",
       "      <td>Рыбинск</td>\n",
       "      <td>3</td>\n",
       "      <td>0</td>\n",
       "      <td>14</td>\n",
       "      <td>14</td>\n",
       "      <td>1.000000</td>\n",
       "    </tr>\n",
       "    <tr>\n",
       "      <th>18</th>\n",
       "      <td>Ярославль</td>\n",
       "      <td>3</td>\n",
       "      <td>0</td>\n",
       "      <td>22</td>\n",
       "      <td>22</td>\n",
       "      <td>1.000000</td>\n",
       "    </tr>\n",
       "    <tr>\n",
       "      <th>9</th>\n",
       "      <td>Рыбинск</td>\n",
       "      <td>2</td>\n",
       "      <td>0</td>\n",
       "      <td>835</td>\n",
       "      <td>1096</td>\n",
       "      <td>0.761861</td>\n",
       "    </tr>\n",
       "    <tr>\n",
       "      <th>16</th>\n",
       "      <td>Ярославль</td>\n",
       "      <td>2</td>\n",
       "      <td>0</td>\n",
       "      <td>1679</td>\n",
       "      <td>2232</td>\n",
       "      <td>0.752240</td>\n",
       "    </tr>\n",
       "    <tr>\n",
       "      <th>12</th>\n",
       "      <td>Рыбинск</td>\n",
       "      <td>3</td>\n",
       "      <td>1</td>\n",
       "      <td>27</td>\n",
       "      <td>52</td>\n",
       "      <td>0.519231</td>\n",
       "    </tr>\n",
       "    <tr>\n",
       "      <th>17</th>\n",
       "      <td>Ярославль</td>\n",
       "      <td>2</td>\n",
       "      <td>1</td>\n",
       "      <td>60</td>\n",
       "      <td>135</td>\n",
       "      <td>0.444444</td>\n",
       "    </tr>\n",
       "    <tr>\n",
       "      <th>19</th>\n",
       "      <td>Ярославль</td>\n",
       "      <td>3</td>\n",
       "      <td>1</td>\n",
       "      <td>35</td>\n",
       "      <td>82</td>\n",
       "      <td>0.426829</td>\n",
       "    </tr>\n",
       "    <tr>\n",
       "      <th>20</th>\n",
       "      <td>Ярославль</td>\n",
       "      <td>4</td>\n",
       "      <td>1</td>\n",
       "      <td>12</td>\n",
       "      <td>29</td>\n",
       "      <td>0.413793</td>\n",
       "    </tr>\n",
       "    <tr>\n",
       "      <th>15</th>\n",
       "      <td>Ярославль</td>\n",
       "      <td>1</td>\n",
       "      <td>1</td>\n",
       "      <td>230</td>\n",
       "      <td>564</td>\n",
       "      <td>0.407801</td>\n",
       "    </tr>\n",
       "    <tr>\n",
       "      <th>8</th>\n",
       "      <td>Рыбинск</td>\n",
       "      <td>1</td>\n",
       "      <td>1</td>\n",
       "      <td>108</td>\n",
       "      <td>267</td>\n",
       "      <td>0.404494</td>\n",
       "    </tr>\n",
       "    <tr>\n",
       "      <th>10</th>\n",
       "      <td>Рыбинск</td>\n",
       "      <td>2</td>\n",
       "      <td>1</td>\n",
       "      <td>26</td>\n",
       "      <td>87</td>\n",
       "      <td>0.298851</td>\n",
       "    </tr>\n",
       "    <tr>\n",
       "      <th>13</th>\n",
       "      <td>Рыбинск</td>\n",
       "      <td>4</td>\n",
       "      <td>1</td>\n",
       "      <td>2</td>\n",
       "      <td>7</td>\n",
       "      <td>0.285714</td>\n",
       "    </tr>\n",
       "    <tr>\n",
       "      <th>7</th>\n",
       "      <td>Рыбинск</td>\n",
       "      <td>1</td>\n",
       "      <td>0</td>\n",
       "      <td>187</td>\n",
       "      <td>954</td>\n",
       "      <td>0.196017</td>\n",
       "    </tr>\n",
       "    <tr>\n",
       "      <th>14</th>\n",
       "      <td>Ярославль</td>\n",
       "      <td>1</td>\n",
       "      <td>0</td>\n",
       "      <td>380</td>\n",
       "      <td>1950</td>\n",
       "      <td>0.194872</td>\n",
       "    </tr>\n",
       "  </tbody>\n",
       "</table>\n",
       "</div>"
      ],
      "text/plain": [
       "         city  products  churn  nan_count   all     nan_%\n",
       "11    Рыбинск         3      0         14    14  1.000000\n",
       "18  Ярославль         3      0         22    22  1.000000\n",
       "9     Рыбинск         2      0        835  1096  0.761861\n",
       "16  Ярославль         2      0       1679  2232  0.752240\n",
       "12    Рыбинск         3      1         27    52  0.519231\n",
       "17  Ярославль         2      1         60   135  0.444444\n",
       "19  Ярославль         3      1         35    82  0.426829\n",
       "20  Ярославль         4      1         12    29  0.413793\n",
       "15  Ярославль         1      1        230   564  0.407801\n",
       "8     Рыбинск         1      1        108   267  0.404494\n",
       "10    Рыбинск         2      1         26    87  0.298851\n",
       "13    Рыбинск         4      1          2     7  0.285714\n",
       "7     Рыбинск         1      0        187   954  0.196017\n",
       "14  Ярославль         1      0        380  1950  0.194872"
      ]
     },
     "execution_count": 22,
     "metadata": {},
     "output_type": "execute_result"
    }
   ],
   "source": [
    "#вызываем функцию для нахождения процентов пропуска \n",
    "group_and_sort(bank_dataset, ['city','products','churn']).query('city !=\"Ростов Великий\"')"
   ]
  },
  {
   "cell_type": "markdown",
   "metadata": {},
   "source": [
    " Больше всего пропусков в Рыбинске и Ярославле, у клиентов с 2-мя и 3-мя продуктами, у клиентов, которые остались клиентами банка."
   ]
  },
  {
   "cell_type": "markdown",
   "metadata": {},
   "source": [
    "### Краткий вывод\n"
   ]
  },
  {
   "cell_type": "markdown",
   "metadata": {},
   "source": [
    "В таблице нет явных дубликатов.\n",
    "Столбец с оценкой заработной платы содержат значения заработной платы для всех категорий клиентов, при этом есть странные значения.\n",
    "\n",
    "Количество пользователей с оценкой зарплаты меньше МРОТ: 802\n",
    "Количество пользователей с оценкой зарплаты меньше 1000: 59\n",
    "Количество пользователей с оценкой зарплаты меньше 100: 4\n",
    "\n",
    "\n",
    "Пропуски есть только в стоблце `balance` - этот параметр есть у большей части строк (6 383 из 10 000).\n",
    "Корреляции для столбца обозначения пустого баланса указывает, что нужно обратить внимание на город, продукты, показатель того, остался пользователь или нет.\n",
    "\n",
    "Доля пропусков для столбцов - город, продукты, показатель того, остался пользователь или нет - показывают, что наиболее часто пропуски  Больше всего пропусков в Рыбинске и Ярославле, у клиентов с 2-мя и 3-мя продуктами, у клиентов, которые остались клиентами банка."
   ]
  },
  {
   "cell_type": "markdown",
   "metadata": {},
   "source": [
    "##  Исследовательский анализ данных\n",
    "\n",
    "Визуалиируем и обобщим данные о клиентах для выявим закономерности и тенденций, а также выбор соответствующих функций для сегментации клиентов."
   ]
  },
  {
   "cell_type": "markdown",
   "metadata": {},
   "source": [
    "### Зададим функцию построения гистограммы\n"
   ]
  },
  {
   "cell_type": "code",
   "execution_count": 23,
   "metadata": {},
   "outputs": [],
   "source": [
    "def column_hist(df, col_hist, col_hue,  name): #таблица, название колонны для значений, колонна для хью, название таблицы\n",
    "    #назначаем классический стиль для графика с помощью matplotlib\n",
    "    plt.figure(figsize=(8, 5))\n",
    "    sns.set_theme()\n",
    "    # устанавливаем стили\n",
    "    sns.set_style('ticks')\n",
    "    sns.set_context('notebook')\n",
    "    sns.set_palette('pastel')\n",
    "    # строим гистограмму для столбца total_income, добавив график кривой KDE\n",
    "    sns.histplot(x=col_hist, hue = col_hue, data=df, kde=True)\n",
    "    # убираем лишние линии\n",
    "    sns.despine(offset=10, trim=True)\n",
    "    # указываем заголовок графика и подписи осей средствами matplotlib\n",
    "    plt.title('Распределение {}'.format(name))\n",
    "    plt.xlabel('Значение')\n",
    "    plt.ylabel('Частота')\n",
    "    # отображаем график на экране\n",
    "    plt.show()"
   ]
  },
  {
   "cell_type": "markdown",
   "metadata": {},
   "source": [
    "### Распределение баланса с разбивкой по статусу оттока\n",
    "Ответим на вопрос об распределении баланса клиентов. Распределение лучше всего смотреть на гистограмме. "
   ]
  },
  {
   "cell_type": "code",
   "execution_count": 24,
   "metadata": {},
   "outputs": [
    {
     "data": {
      "image/png": "[encoded data removed]",
      "text/plain": [
       "<Figure size 800x500 with 1 Axes>"
      ]
     },
     "metadata": {},
     "output_type": "display_data"
    }
   ],
   "source": [
    "column_hist(bank_dataset, 'balance', 'churn',  'баланса с разбивкой по статусу')"
   ]
  },
  {
   "cell_type": "markdown",
   "metadata": {},
   "source": [
    "Видим, что баланс распределен нормально. С пиком значений частоты в 100 000 - 150 000 (с пиком 50-100 клиентов из статуса \"ушли\" и до 300 в статуск текущих клиентов)  "
   ]
  },
  {
   "cell_type": "markdown",
   "metadata": {},
   "source": [
    "### Распределение доходов с разбивкой по статусу оттока\n",
    "Ответим на вопрос об распределении баланса клиентов. Распределение посмоторим на гистограмме. \n"
   ]
  },
  {
   "cell_type": "code",
   "execution_count": 25,
   "metadata": {
    "scrolled": false
   },
   "outputs": [
    {
     "data": {
      "image/png": "[encoded data removed]",
      "text/plain": [
       "<Figure size 800x500 with 1 Axes>"
      ]
     },
     "metadata": {},
     "output_type": "display_data"
    }
   ],
   "source": [
    "column_hist(bank_dataset, 'estimated_salary', 'churn',  'заработной платы')"
   ]
  },
  {
   "cell_type": "markdown",
   "metadata": {},
   "source": [
    "Заработная плата распределена очень равномерно, без видимых пиков по обеим категориям."
   ]
  },
  {
   "cell_type": "markdown",
   "metadata": {},
   "source": [
    "### Распределение возраста с разбивкой по уходу\n",
    "Ответим на вопрос об распределении баланса клиентов. Распределение посмоторим на гистограмме. \n"
   ]
  },
  {
   "cell_type": "code",
   "execution_count": 26,
   "metadata": {
    "scrolled": false
   },
   "outputs": [
    {
     "data": {
      "image/png": "[encoded data removed]",
      "text/plain": [
       "<Figure size 800x500 with 1 Axes>"
      ]
     },
     "metadata": {},
     "output_type": "display_data"
    }
   ],
   "source": [
    "column_hist(bank_dataset, 'age', 'churn',  'заработной платы')"
   ]
  },
  {
   "cell_type": "markdown",
   "metadata": {},
   "source": [
    "Возраст распределен нормально, с видимым пиком в районе 30, 40  и 50 лет для тех, кто остаётся и более мягким пиком в 45-55 лет для тех, кто уходит.\n",
    "Выделяется десятки: возможно, это связано с коруглением."
   ]
  },
  {
   "cell_type": "markdown",
   "metadata": {},
   "source": [
    "### Зададим функцию построения коробчатой диаграммы\n"
   ]
  },
  {
   "cell_type": "code",
   "execution_count": 27,
   "metadata": {},
   "outputs": [],
   "source": [
    "def balance_boxplot(df, hue1, hue2, hue1_name, hue2_name): #таблица, название колоннок я хью, название таблиц  \n",
    "    sns.set_context('notebook')\n",
    "    fig, axes = plt.subplots(1, 2, figsize=(12,5))\n",
    "    # первый график\n",
    "    sns.boxplot(data=df,  x = 'city', y='balance', hue=hue1, ax=axes[0]).set(\n",
    "    xlabel=None,\n",
    "    ylabel=None)\n",
    "    axes[0].set_title('Распределение баланса по городу и по {}'.format(hue1_name))\n",
    "    axes[0].legend(loc=\"upper right\", title='{}'.format(hue1_name), title_fontsize=9)\n",
    "    \n",
    "    # второй график\n",
    "    sns.boxplot(data=df, x = 'city', y='balance', hue=hue2, ax=axes[1]).set(\n",
    "    xlabel=None,\n",
    "    ylabel=None)\n",
    "    axes[1].set_title('Распределение баланса по городу и по {}'.format(hue2_name))\n",
    "    axes[1].legend(loc=\"upper right\", title='{}'.format(hue2_name),title_fontsize=9)\n",
    "\n",
    "# отображаем график на экране\n",
    "plt.show()"
   ]
  },
  {
   "cell_type": "markdown",
   "metadata": {},
   "source": [
    "### Диаграмма о среднем балансе в зависимости от города, гендера и статуса оттока\n"
   ]
  },
  {
   "cell_type": "code",
   "execution_count": 28,
   "metadata": {},
   "outputs": [
    {
     "data": {
      "image/png": "[encoded data removed]",
      "text/plain": [
       "<Figure size 1200x500 with 2 Axes>"
      ]
     },
     "metadata": {},
     "output_type": "display_data"
    }
   ],
   "source": [
    "balance_boxplot(bank_dataset,'churn', 'gender', 'статусу оттока', 'гендеру')"
   ]
  },
  {
   "cell_type": "markdown",
   "metadata": {},
   "source": [
    "Средний баланс незначительно отличается по городам, гендеру и статусу оттока - медиана в районе 120 тысяч рублей."
   ]
  },
  {
   "cell_type": "markdown",
   "metadata": {},
   "source": [
    "### Диаграмма о среднем балансе в зависимости от города, лояльности и наличие кредитной карты\n"
   ]
  },
  {
   "cell_type": "code",
   "execution_count": 29,
   "metadata": {},
   "outputs": [
    {
     "data": {
      "image/png": "[encoded data removed]",
      "text/plain": [
       "<Figure size 1200x500 with 2 Axes>"
      ]
     },
     "metadata": {},
     "output_type": "display_data"
    }
   ],
   "source": [
    "balance_boxplot(bank_dataset,'loyalty', 'credit_card', 'лояльности', 'наличию кредитки')"
   ]
  },
  {
   "cell_type": "markdown",
   "metadata": {},
   "source": [
    "Средний баланс незначительно отличается по городам, лояльности и еналичию кредитной карты - медиана в районе 120 тысяч рублей."
   ]
  },
  {
   "cell_type": "markdown",
   "metadata": {},
   "source": [
    "Средний баланс незначительно отличается по городам, лояльности и еналичию кредитной карты - медиана в районе 120 тысяч рублей."
   ]
  },
  {
   "cell_type": "markdown",
   "metadata": {},
   "source": [
    "### Диаграмма количества клиентов в зависимости от числа используемых продуктов"
   ]
  },
  {
   "cell_type": "code",
   "execution_count": 30,
   "metadata": {},
   "outputs": [
    {
     "data": {
      "image/png": "[encoded data removed]",
      "text/plain": [
       "<Figure size 1000x600 with 1 Axes>"
      ]
     },
     "metadata": {},
     "output_type": "display_data"
    }
   ],
   "source": [
    "\n",
    "data_ed = bank_dataset.groupby(['products', 'city'], \\\n",
    "                        as_index = False)[['user_id']].nunique().sort_values(by = ['products','user_id'])\n",
    "# строим раззмер графика\n",
    "plt.figure(figsize=(10, 6))\n",
    "sns.set_theme()\n",
    "# устанавливаем стили\n",
    "sns.set_style('ticks')\n",
    "sns.set_context('paper')\n",
    "sns.set_palette('pastel')\n",
    "# строим график\n",
    "ax = sns.barplot(y='user_id', x='products', data=data_ed, hue='city')\n",
    "# добавим подписи\n",
    "for bars in ax.containers:\n",
    "        ax.bar_label(bars, fmt='%1.f')\n",
    "#for i in range(data_ed.shape[0]):\n",
    "#    os = [0,-0.33, 0.27 ,1, 0.66,1.27, 2, 1.66, 2.27, 3,2.66,3.27 ]\n",
    " #   ax.text(x = os[i],  y=data_ed.loc[i,'user_id'], s=data_ed.loc[i,'user_id'], ha='center', va='bottom')\n",
    "\n",
    "plt.legend(loc=\"upper right\", title=\"Город\")\n",
    "\n",
    "# убираем лишние линии\n",
    "sns.despine()\n",
    "# делаем отсуп и подписи\n",
    "plt.margins(y=0.1)\n",
    "plt.title(\n",
    "    'Диаграмма количества клиентов по количеству продуктов и городу',\n",
    "    fontsize=12)\n",
    "plt.ylabel('Количесвто клиентрв')\n",
    "plt.xlabel('Количество продуктов')\n",
    "plt.xticks(rotation=0)\n",
    "# отображаем график на экране\n",
    "plt.show()"
   ]
  },
  {
   "cell_type": "markdown",
   "metadata": {},
   "source": [
    "Больше всего клиентов находятся в городе Ярославле. При этом больше наиболее популярный портетр клиента - 1 ии 2 продукта, распределение очень похоже между разными городами. "
   ]
  },
  {
   "cell_type": "markdown",
   "metadata": {},
   "source": [
    "### Зададим функцию построения стобчатой диаграммы\n"
   ]
  },
  {
   "cell_type": "code",
   "execution_count": 31,
   "metadata": {},
   "outputs": [],
   "source": [
    "def column_barchart( col, name):\n",
    "    data_ch = bank_dataset.groupby([col, 'churn'], \\\n",
    "                        as_index = False)[['user_id']].nunique().sort_values(by = [col, 'user_id'],ascending=False)\n",
    "# строим раззмер графика\n",
    "    plt.figure(figsize=(8, 5))\n",
    "    sns.set_theme()\n",
    "\n",
    "# устанавливаем стили\n",
    "    sns.set_style('ticks')\n",
    "    sns.set_context('paper')\n",
    "    sns.set_palette('pastel')\n",
    "\n",
    "# строим график\n",
    "    ax =sns.barplot(x='user_id',y= data_ch[col], data=data_ch, hue ='churn',dodge=False)\n",
    "    for bars in ax.containers:\n",
    "            ax.bar_label(bars, fmt='%1.f')\n",
    "\n",
    "# добавим подписи\n",
    "    plt.legend( title=\"Cтатус оттока\")\n",
    "\n",
    "# убираем лишние линии\n",
    "#sns.despine()\n",
    "\n",
    "# делаем отсуп и подписи\n",
    "    plt.margins(y=0.1)\n",
    "    plt.title(\n",
    "    'Диаграмма количества клиентов -  {} и статус оттока'.format(name),\n",
    "    fontsize=12)\n",
    "    plt.xlabel('количество клиентов')\n",
    "    plt.ylabel('{}'.format(name))\n",
    "    plt.xticks(rotation=0)\n",
    "\n",
    "# отображаем график на экране\n",
    "    plt.show()"
   ]
  },
  {
   "cell_type": "markdown",
   "metadata": {},
   "source": [
    "### Диаграмма количества клиентов в зависимости от числа используемых продуктов"
   ]
  },
  {
   "cell_type": "code",
   "execution_count": 32,
   "metadata": {
    "scrolled": false
   },
   "outputs": [
    {
     "data": {
      "image/png": "[encoded data removed]",
      "text/plain": [
       "<Figure size 800x500 with 1 Axes>"
      ]
     },
     "metadata": {},
     "output_type": "display_data"
    }
   ],
   "source": [
    "bank_dataset['products_num']= bank_dataset['products']\n",
    "mapping = {1: '1 (один)', 2: '2 (два)', 3: '3 (три)', 4: '4 (четыре)'}\n",
    "bank_dataset['products_num'] = bank_dataset['products_num'].map(mapping)\n",
    "column_barchart( 'products_num', 'количество продуктов')"
   ]
  },
  {
   "cell_type": "markdown",
   "metadata": {},
   "source": [
    "Больше всего клиентов находятся в категории тех, у кого 1 или 2 продукта - при этом наибольший отток в категории одного продукта (1409), по проценту - наибольший отток в категории 3 и 4. \n",
    "\n",
    "Большая часть клиентов из этих категории уходят, в категории 4 продукта не остаётся клиентов."
   ]
  },
  {
   "cell_type": "markdown",
   "metadata": {},
   "source": [
    "### Диаграмма количества клиентов в зависимости от города"
   ]
  },
  {
   "cell_type": "code",
   "execution_count": 33,
   "metadata": {
    "scrolled": false
   },
   "outputs": [
    {
     "data": {
      "image/png": "[encoded data removed]",
      "text/plain": [
       "<Figure size 800x500 with 1 Axes>"
      ]
     },
     "metadata": {},
     "output_type": "display_data"
    }
   ],
   "source": [
    "column_barchart( 'city', 'город')"
   ]
  },
  {
   "cell_type": "markdown",
   "metadata": {},
   "source": [
    "Больше всего клиентов находятся в Ярославле. \n",
    "\n",
    "При этом отток - самый большой в ростове великом (по проценту)."
   ]
  },
  {
   "cell_type": "markdown",
   "metadata": {},
   "source": [
    "### Диаграмма количества клиентов в зависимости от возрастной группы"
   ]
  },
  {
   "cell_type": "code",
   "execution_count": 34,
   "metadata": {},
   "outputs": [
    {
     "data": {
      "text/plain": [
       "array([18., 27., 33., 37., 42., 53., 92.])"
      ]
     },
     "execution_count": 34,
     "metadata": {},
     "output_type": "execute_result"
    }
   ],
   "source": [
    "a = [0,10, 30, 50, 70,  90, 100]\n",
    "percentiles = np.percentile(bank_dataset['age'],a)\n",
    "percentiles"
   ]
  },
  {
   "cell_type": "markdown",
   "metadata": {},
   "source": [
    "Разобьём клиентов на категории по возрасту в соответсвии с процентилями:\n",
    " -    18 - 26, \n",
    " -    27 - 32,\n",
    " -    33 - 36,\n",
    " -    37 - 41,\n",
    " -    42 - 52,\n",
    " -  53 - 92.\n",
    " \n",
    "  "
   ]
  },
  {
   "cell_type": "code",
   "execution_count": 35,
   "metadata": {},
   "outputs": [],
   "source": [
    "labels = [ '18-26', '27-32', '33-36', '37-41', '42-52','53-92']\n",
    "bank_dataset['age_group'] = pd.cut(bank_dataset['age'], bins=percentiles, labels=labels, right=False)"
   ]
  },
  {
   "cell_type": "code",
   "execution_count": 36,
   "metadata": {
    "scrolled": false
   },
   "outputs": [
    {
     "data": {
      "image/png": "[encoded data removed]",
      "text/plain": [
       "<Figure size 800x500 with 1 Axes>"
      ]
     },
     "metadata": {},
     "output_type": "display_data"
    }
   ],
   "source": [
    "column_barchart( 'age_group', 'возраст')"
   ]
  },
  {
   "cell_type": "markdown",
   "metadata": {},
   "source": [
    "Больше всего оттока клиентов в категории свыше 42."
   ]
  },
  {
   "cell_type": "markdown",
   "metadata": {},
   "source": [
    "### Диаграмма количества клиентов в зависимости от города"
   ]
  },
  {
   "cell_type": "code",
   "execution_count": 37,
   "metadata": {
    "scrolled": false
   },
   "outputs": [
    {
     "data": {
      "image/png": "[encoded data removed]",
      "text/plain": [
       "<Figure size 800x500 with 1 Axes>"
      ]
     },
     "metadata": {},
     "output_type": "display_data"
    }
   ],
   "source": [
    "column_barchart( 'gender', 'гендер')"
   ]
  },
  {
   "cell_type": "markdown",
   "metadata": {},
   "source": [
    "Видим, что отток у женщин выше, чем отток у мужчин."
   ]
  },
  {
   "cell_type": "markdown",
   "metadata": {},
   "source": [
    "### Диаграмма количества клиентов в зависимости от города"
   ]
  },
  {
   "cell_type": "code",
   "execution_count": 38,
   "metadata": {},
   "outputs": [
    {
     "data": {
      "text/html": [
       "<div>\n",
       "<style scoped>\n",
       "    .dataframe tbody tr th:only-of-type {\n",
       "        vertical-align: middle;\n",
       "    }\n",
       "\n",
       "    .dataframe tbody tr th {\n",
       "        vertical-align: top;\n",
       "    }\n",
       "\n",
       "    .dataframe thead th {\n",
       "        text-align: right;\n",
       "    }\n",
       "</style>\n",
       "<table border=\"1\" class=\"dataframe\">\n",
       "  <thead>\n",
       "    <tr style=\"text-align: right;\">\n",
       "      <th></th>\n",
       "      <th>user_id</th>\n",
       "      <th>score</th>\n",
       "      <th>city</th>\n",
       "      <th>gender</th>\n",
       "      <th>age</th>\n",
       "      <th>objects</th>\n",
       "      <th>balance</th>\n",
       "      <th>products</th>\n",
       "      <th>credit_card</th>\n",
       "      <th>loyalty</th>\n",
       "      <th>...</th>\n",
       "      <th>nan_balance</th>\n",
       "      <th>is_w</th>\n",
       "      <th>city_num</th>\n",
       "      <th>age_gr</th>\n",
       "      <th>salary_group</th>\n",
       "      <th>products_num</th>\n",
       "      <th>age_group</th>\n",
       "      <th>is_Ростов Великий</th>\n",
       "      <th>is_Рыбинск</th>\n",
       "      <th>is_Ярославль</th>\n",
       "    </tr>\n",
       "  </thead>\n",
       "  <tbody>\n",
       "    <tr>\n",
       "      <th>0</th>\n",
       "      <td>15677338</td>\n",
       "      <td>619</td>\n",
       "      <td>Ярославль</td>\n",
       "      <td>Ж</td>\n",
       "      <td>42</td>\n",
       "      <td>2</td>\n",
       "      <td>NaN</td>\n",
       "      <td>1</td>\n",
       "      <td>1</td>\n",
       "      <td>1</td>\n",
       "      <td>...</td>\n",
       "      <td>1</td>\n",
       "      <td>1</td>\n",
       "      <td>0</td>\n",
       "      <td>3</td>\n",
       "      <td>3</td>\n",
       "      <td>1 (один)</td>\n",
       "      <td>42-52</td>\n",
       "      <td>0</td>\n",
       "      <td>0</td>\n",
       "      <td>1</td>\n",
       "    </tr>\n",
       "    <tr>\n",
       "      <th>1</th>\n",
       "      <td>15690047</td>\n",
       "      <td>608</td>\n",
       "      <td>Рыбинск</td>\n",
       "      <td>Ж</td>\n",
       "      <td>41</td>\n",
       "      <td>1</td>\n",
       "      <td>83807.86</td>\n",
       "      <td>1</td>\n",
       "      <td>0</td>\n",
       "      <td>1</td>\n",
       "      <td>...</td>\n",
       "      <td>0</td>\n",
       "      <td>1</td>\n",
       "      <td>1</td>\n",
       "      <td>3</td>\n",
       "      <td>3</td>\n",
       "      <td>1 (один)</td>\n",
       "      <td>37-41</td>\n",
       "      <td>0</td>\n",
       "      <td>1</td>\n",
       "      <td>0</td>\n",
       "    </tr>\n",
       "    <tr>\n",
       "      <th>2</th>\n",
       "      <td>15662040</td>\n",
       "      <td>502</td>\n",
       "      <td>Ярославль</td>\n",
       "      <td>Ж</td>\n",
       "      <td>42</td>\n",
       "      <td>8</td>\n",
       "      <td>159660.80</td>\n",
       "      <td>3</td>\n",
       "      <td>1</td>\n",
       "      <td>0</td>\n",
       "      <td>...</td>\n",
       "      <td>0</td>\n",
       "      <td>1</td>\n",
       "      <td>0</td>\n",
       "      <td>3</td>\n",
       "      <td>3</td>\n",
       "      <td>3 (три)</td>\n",
       "      <td>42-52</td>\n",
       "      <td>0</td>\n",
       "      <td>0</td>\n",
       "      <td>1</td>\n",
       "    </tr>\n",
       "    <tr>\n",
       "      <th>3</th>\n",
       "      <td>15744090</td>\n",
       "      <td>699</td>\n",
       "      <td>Ярославль</td>\n",
       "      <td>Ж</td>\n",
       "      <td>39</td>\n",
       "      <td>1</td>\n",
       "      <td>NaN</td>\n",
       "      <td>2</td>\n",
       "      <td>0</td>\n",
       "      <td>0</td>\n",
       "      <td>...</td>\n",
       "      <td>1</td>\n",
       "      <td>1</td>\n",
       "      <td>0</td>\n",
       "      <td>3</td>\n",
       "      <td>2</td>\n",
       "      <td>2 (два)</td>\n",
       "      <td>37-41</td>\n",
       "      <td>0</td>\n",
       "      <td>0</td>\n",
       "      <td>1</td>\n",
       "    </tr>\n",
       "    <tr>\n",
       "      <th>4</th>\n",
       "      <td>15780624</td>\n",
       "      <td>850</td>\n",
       "      <td>Рыбинск</td>\n",
       "      <td>Ж</td>\n",
       "      <td>43</td>\n",
       "      <td>2</td>\n",
       "      <td>125510.82</td>\n",
       "      <td>1</td>\n",
       "      <td>1</td>\n",
       "      <td>1</td>\n",
       "      <td>...</td>\n",
       "      <td>0</td>\n",
       "      <td>1</td>\n",
       "      <td>1</td>\n",
       "      <td>3</td>\n",
       "      <td>2</td>\n",
       "      <td>1 (один)</td>\n",
       "      <td>42-52</td>\n",
       "      <td>0</td>\n",
       "      <td>1</td>\n",
       "      <td>0</td>\n",
       "    </tr>\n",
       "    <tr>\n",
       "      <th>...</th>\n",
       "      <td>...</td>\n",
       "      <td>...</td>\n",
       "      <td>...</td>\n",
       "      <td>...</td>\n",
       "      <td>...</td>\n",
       "      <td>...</td>\n",
       "      <td>...</td>\n",
       "      <td>...</td>\n",
       "      <td>...</td>\n",
       "      <td>...</td>\n",
       "      <td>...</td>\n",
       "      <td>...</td>\n",
       "      <td>...</td>\n",
       "      <td>...</td>\n",
       "      <td>...</td>\n",
       "      <td>...</td>\n",
       "      <td>...</td>\n",
       "      <td>...</td>\n",
       "      <td>...</td>\n",
       "      <td>...</td>\n",
       "      <td>...</td>\n",
       "    </tr>\n",
       "    <tr>\n",
       "      <th>9995</th>\n",
       "      <td>15648965</td>\n",
       "      <td>771</td>\n",
       "      <td>Ярославль</td>\n",
       "      <td>М</td>\n",
       "      <td>39</td>\n",
       "      <td>5</td>\n",
       "      <td>NaN</td>\n",
       "      <td>2</td>\n",
       "      <td>1</td>\n",
       "      <td>0</td>\n",
       "      <td>...</td>\n",
       "      <td>1</td>\n",
       "      <td>0</td>\n",
       "      <td>0</td>\n",
       "      <td>3</td>\n",
       "      <td>2</td>\n",
       "      <td>2 (два)</td>\n",
       "      <td>37-41</td>\n",
       "      <td>0</td>\n",
       "      <td>0</td>\n",
       "      <td>1</td>\n",
       "    </tr>\n",
       "    <tr>\n",
       "      <th>9996</th>\n",
       "      <td>15612628</td>\n",
       "      <td>516</td>\n",
       "      <td>Ярославль</td>\n",
       "      <td>М</td>\n",
       "      <td>35</td>\n",
       "      <td>10</td>\n",
       "      <td>57369.61</td>\n",
       "      <td>1</td>\n",
       "      <td>1</td>\n",
       "      <td>1</td>\n",
       "      <td>...</td>\n",
       "      <td>0</td>\n",
       "      <td>0</td>\n",
       "      <td>0</td>\n",
       "      <td>2</td>\n",
       "      <td>3</td>\n",
       "      <td>1 (один)</td>\n",
       "      <td>33-36</td>\n",
       "      <td>0</td>\n",
       "      <td>0</td>\n",
       "      <td>1</td>\n",
       "    </tr>\n",
       "    <tr>\n",
       "      <th>9997</th>\n",
       "      <td>15627268</td>\n",
       "      <td>709</td>\n",
       "      <td>Ярославль</td>\n",
       "      <td>Ж</td>\n",
       "      <td>36</td>\n",
       "      <td>7</td>\n",
       "      <td>NaN</td>\n",
       "      <td>1</td>\n",
       "      <td>0</td>\n",
       "      <td>1</td>\n",
       "      <td>...</td>\n",
       "      <td>1</td>\n",
       "      <td>1</td>\n",
       "      <td>0</td>\n",
       "      <td>2</td>\n",
       "      <td>1</td>\n",
       "      <td>1 (один)</td>\n",
       "      <td>33-36</td>\n",
       "      <td>0</td>\n",
       "      <td>0</td>\n",
       "      <td>1</td>\n",
       "    </tr>\n",
       "    <tr>\n",
       "      <th>9998</th>\n",
       "      <td>15725091</td>\n",
       "      <td>772</td>\n",
       "      <td>Ростов Великий</td>\n",
       "      <td>М</td>\n",
       "      <td>42</td>\n",
       "      <td>3</td>\n",
       "      <td>75075.31</td>\n",
       "      <td>2</td>\n",
       "      <td>1</td>\n",
       "      <td>0</td>\n",
       "      <td>...</td>\n",
       "      <td>0</td>\n",
       "      <td>0</td>\n",
       "      <td>2</td>\n",
       "      <td>3</td>\n",
       "      <td>2</td>\n",
       "      <td>2 (два)</td>\n",
       "      <td>42-52</td>\n",
       "      <td>1</td>\n",
       "      <td>0</td>\n",
       "      <td>0</td>\n",
       "    </tr>\n",
       "    <tr>\n",
       "      <th>9999</th>\n",
       "      <td>15671055</td>\n",
       "      <td>792</td>\n",
       "      <td>Ярославль</td>\n",
       "      <td>Ж</td>\n",
       "      <td>28</td>\n",
       "      <td>4</td>\n",
       "      <td>130142.79</td>\n",
       "      <td>1</td>\n",
       "      <td>1</td>\n",
       "      <td>0</td>\n",
       "      <td>...</td>\n",
       "      <td>0</td>\n",
       "      <td>1</td>\n",
       "      <td>0</td>\n",
       "      <td>1</td>\n",
       "      <td>1</td>\n",
       "      <td>1 (один)</td>\n",
       "      <td>27-32</td>\n",
       "      <td>0</td>\n",
       "      <td>0</td>\n",
       "      <td>1</td>\n",
       "    </tr>\n",
       "  </tbody>\n",
       "</table>\n",
       "<p>10000 rows × 22 columns</p>\n",
       "</div>"
      ],
      "text/plain": [
       "       user_id  score            city gender  age  objects    balance  \\\n",
       "0     15677338    619       Ярославль      Ж   42        2        NaN   \n",
       "1     15690047    608         Рыбинск      Ж   41        1   83807.86   \n",
       "2     15662040    502       Ярославль      Ж   42        8  159660.80   \n",
       "3     15744090    699       Ярославль      Ж   39        1        NaN   \n",
       "4     15780624    850         Рыбинск      Ж   43        2  125510.82   \n",
       "...        ...    ...             ...    ...  ...      ...        ...   \n",
       "9995  15648965    771       Ярославль      М   39        5        NaN   \n",
       "9996  15612628    516       Ярославль      М   35       10   57369.61   \n",
       "9997  15627268    709       Ярославль      Ж   36        7        NaN   \n",
       "9998  15725091    772  Ростов Великий      М   42        3   75075.31   \n",
       "9999  15671055    792       Ярославль      Ж   28        4  130142.79   \n",
       "\n",
       "      products  credit_card  loyalty  ...  nan_balance  is_w  city_num  \\\n",
       "0            1            1        1  ...            1     1         0   \n",
       "1            1            0        1  ...            0     1         1   \n",
       "2            3            1        0  ...            0     1         0   \n",
       "3            2            0        0  ...            1     1         0   \n",
       "4            1            1        1  ...            0     1         1   \n",
       "...        ...          ...      ...  ...          ...   ...       ...   \n",
       "9995         2            1        0  ...            1     0         0   \n",
       "9996         1            1        1  ...            0     0         0   \n",
       "9997         1            0        1  ...            1     1         0   \n",
       "9998         2            1        0  ...            0     0         2   \n",
       "9999         1            1        0  ...            0     1         0   \n",
       "\n",
       "      age_gr  salary_group  products_num  age_group is_Ростов Великий  \\\n",
       "0          3             3      1 (один)      42-52                 0   \n",
       "1          3             3      1 (один)      37-41                 0   \n",
       "2          3             3       3 (три)      42-52                 0   \n",
       "3          3             2       2 (два)      37-41                 0   \n",
       "4          3             2      1 (один)      42-52                 0   \n",
       "...      ...           ...           ...        ...               ...   \n",
       "9995       3             2       2 (два)      37-41                 0   \n",
       "9996       2             3      1 (один)      33-36                 0   \n",
       "9997       2             1      1 (один)      33-36                 0   \n",
       "9998       3             2       2 (два)      42-52                 1   \n",
       "9999       1             1      1 (один)      27-32                 0   \n",
       "\n",
       "     is_Рыбинск  is_Ярославль  \n",
       "0             0             1  \n",
       "1             1             0  \n",
       "2             0             1  \n",
       "3             0             1  \n",
       "4             1             0  \n",
       "...         ...           ...  \n",
       "9995          0             1  \n",
       "9996          0             1  \n",
       "9997          0             1  \n",
       "9998          0             0  \n",
       "9999          0             1  \n",
       "\n",
       "[10000 rows x 22 columns]"
      ]
     },
     "execution_count": 38,
     "metadata": {},
     "output_type": "execute_result"
    }
   ],
   "source": [
    "city_dummies = pd.get_dummies(bank_dataset['city'], prefix='is')\n",
    "bank_dataset = pd.concat([bank_dataset, city_dummies], axis=1)\n",
    "bank_dataset"
   ]
  },
  {
   "cell_type": "code",
   "execution_count": 39,
   "metadata": {
    "scrolled": false
   },
   "outputs": [
    {
     "data": {
      "image/png": "[encoded data removed]",
      "text/plain": [
       "<Figure size 960x800 with 2 Axes>"
      ]
     },
     "metadata": {},
     "output_type": "display_data"
    }
   ],
   "source": [
    "df = bank_dataset[['score','city', 'age', 'objects', 'balance','products', 'credit_card',\n",
    "                    'loyalty', 'estimated_salary', 'churn','is_w', 'is_Ростов Великий','is_Рыбинск', 'is_Ярославль']]\n",
    "plt.figure(figsize=(12,10), dpi= 80)\n",
    "# строим раззмер графика\n",
    "sns.set_theme()\n",
    "# устанавливаем стили\n",
    "sns.set_style('ticks')\n",
    "sns.set_context('paper')\n",
    "\n",
    "\n",
    "numeric_cols = df.select_dtypes(include=np.number)\n",
    "corr_matrix = numeric_cols.corr()\n",
    "sns.heatmap(corr_matrix, xticklabels=corr_matrix.columns, cmap=sns.color_palette(\"blend:#ffffff,#4d7aac\", as_cmap=True),\n",
    "yticklabels=corr_matrix.columns, center=0, annot=True, fmt=\".2f\")\n",
    "\n",
    "# Decorations\n",
    "plt.title('Корреляции', fontsize=18)\n",
    "plt.xticks(fontsize=12, rotation =90)\n",
    "plt.yticks(fontsize=12, rotation =0)\n",
    "plt.show()"
   ]
  },
  {
   "cell_type": "markdown",
   "metadata": {},
   "source": [
    "Видим, что корреляция довольно высока с возрастом."
   ]
  },
  {
   "cell_type": "markdown",
   "metadata": {},
   "source": [
    "### Краткий вывод\n"
   ]
  },
  {
   "cell_type": "markdown",
   "metadata": {},
   "source": [
    "Видим, что баланс распределен нормально. С пиком значений частоты в 100 000 - 150 000 (с пиком 50-100 клиентов из статуса \"ушли\" и до 300 в статуск текущих клиентов).\n",
    "Заработная плата распределена очень равномерно, без видимых пиков по обеим категориям.\n",
    "Средний баланс незначительно отличается по городам, гендеру и статусу оттока - медиана в районе 120 тысяч рублей.\n",
    "Средний баланс незначительно отличается по городам, лояльности и еналичию кредитной карты - медиана в районе 120 тысяч рублей.\n",
    "Больше всего клиентов находятся в городе Ярославле. При этом больше наиболее популярный портетр клиента - 1 ии 2 продукта, распределение очень похоже между разными городами. \n",
    "\n",
    "Больше всего клиентов находятся в категории тех, у кого 1 или 2 продукта - при этом наибольший отток в категории одного продукта (1409), по проценту - наибольший отток в категории 3 и 4. \n",
    "Большая часть клиентов из этой категории уходят, в категории 4 продукта не остаётся клиентов.\n",
    "Больше всего клиентов находятся в Ярославле. \n",
    "\n",
    "При этом отток - самый большой в ростове великом (по проценту).\n",
    "Больше всего оттока клиентов в категории свыше 42.\n",
    "отток у женщин выше, чем отток мужчин"
   ]
  },
  {
   "cell_type": "markdown",
   "metadata": {},
   "source": [
    "##  Сегментация клиентов банка\n",
    "\n",
    "Проведем сегментацию клиентов банка в основные 4 или менее категорий на основе количества используемых продуктов и уровню оттока. \n",
    "\n",
    "При разбивки только по продуктоу получаес 4 кластера. Однако при добавлении други индикаторов, как, например, возраст, мы видим, что количество кластеров - 3 илли даже 2."
   ]
  },
  {
   "cell_type": "markdown",
   "metadata": {},
   "source": [
    "### Оценка оптимального числа кластеров"
   ]
  },
  {
   "cell_type": "code",
   "execution_count": 40,
   "metadata": {},
   "outputs": [
    {
     "data": {
      "image/png": "[encoded data removed]",
      "text/plain": [
       "<Figure size 640x480 with 1 Axes>"
      ]
     },
     "metadata": {},
     "output_type": "display_data"
    }
   ],
   "source": [
    "wcss = []\n",
    "\n",
    "for i in range(1, 11):\n",
    "    kmeans = KMeans(n_clusters=i, init='k-means++', max_iter=300, n_init=10, random_state=0)\n",
    "    kmeans.fit(bank_dataset[['products', 'age']])\n",
    "    wcss.append(kmeans.inertia_)\n",
    "    sns.set_theme()\n",
    "# устанавливаем стили\n",
    "sns.set_style('ticks')\n",
    "\n",
    "sns.set_palette('pastel')\n",
    "plt.plot(range(1, 11), wcss)\n",
    "plt.title('Метод локтя (кластеризация)')\n",
    "plt.xlabel('Количество кластеров')\n",
    "plt.ylabel('Внутрикластерная сумма кваратов')\n",
    "plt.show()\n"
   ]
  },
  {
   "cell_type": "markdown",
   "metadata": {},
   "source": [
    "Оптимальное число кластеров - 3 (или 4) кластера. Посмотьрим по другому методу."
   ]
  },
  {
   "cell_type": "code",
   "execution_count": 41,
   "metadata": {},
   "outputs": [
    {
     "name": "stdout",
     "output_type": "stream",
     "text": [
      "Для количества кластеров 2, оценка силуэта 0.579109815101214\n",
      "Для количества кластеров 3, оценка силуэта 0.534836164483973\n",
      "Для количества кластеров 4, оценка силуэта 0.5221648062664079\n",
      "Для количества кластеров 5, оценка силуэта 0.506976688590157\n",
      "Для количества кластеров 6, оценка силуэта 0.5065594164723901\n"
     ]
    }
   ],
   "source": [
    "X = bank_dataset[['products','age']]\n",
    "   \n",
    "for n_cluster in range(2, 7):\n",
    "    kmeans = KMeans(n_clusters=n_cluster, n_init=10).fit(X)\n",
    "    label = kmeans.labels_\n",
    "    sil_coeff = silhouette_score(X, label, metric='euclidean')\n",
    "    print(\"Для количества кластеров {}, оценка силуэта {}\".format(n_cluster, sil_coeff))\n"
   ]
  },
  {
   "cell_type": "markdown",
   "metadata": {},
   "source": [
    "Наибольший коэффициент - у разбивки по двум кластерам. \n",
    "Постараемся сделать разбивку по 3 кластерам. "
   ]
  },
  {
   "cell_type": "markdown",
   "metadata": {},
   "source": [
    "### Разбивка по числу продуктов"
   ]
  },
  {
   "cell_type": "markdown",
   "metadata": {},
   "source": [
    "Разобьем на кластеры по числу продуктов."
   ]
  },
  {
   "cell_type": "code",
   "execution_count": 42,
   "metadata": {},
   "outputs": [],
   "source": [
    "# число кластеров = 3\n",
    "kmeans = KMeans(n_clusters=3, n_init=10)\n",
    "\n",
    "# применим KMeans к данным\n",
    "kmeans.fit( bank_dataset[['products']])\n",
    "\n",
    "# лейблы для кластеров\n",
    "labels = kmeans.labels_\n",
    "\n",
    "bank_dataset['cluster_products'] = labels\n"
   ]
  },
  {
   "cell_type": "code",
   "execution_count": 43,
   "metadata": {},
   "outputs": [
    {
     "name": "stdout",
     "output_type": "stream",
     "text": [
      "В кластере 0 содержатся клиенты с количеством продуктов [1].\n",
      "В кластере 1 содержатся клиенты с количеством продуктов [3 4].\n",
      "В кластере 2 содержатся клиенты с количеством продуктов [2].\n"
     ]
    }
   ],
   "source": [
    "for i in range(0, 3):\n",
    "    print(\n",
    "        'В кластере {} содержатся клиенты с количеством продуктов {}.'.format(\n",
    "            i,\n",
    "            bank_dataset[bank_dataset['cluster_products'] == i]['products'].unique()))"
   ]
  },
  {
   "cell_type": "markdown",
   "metadata": {},
   "source": [
    "В кластер с разбивкой по продуктам попадают клиенты по трём категориям: \n",
    "- 0 кластер - 1 продукт,\n",
    "- 1 кластер - 2 продукта,\n",
    "- 3 кластер - 3 продукта.\n",
    "\n",
    "Посмотртим на характеристики сегментов."
   ]
  },
  {
   "cell_type": "code",
   "execution_count": 44,
   "metadata": {},
   "outputs": [
    {
     "data": {
      "text/html": [
       "<div>\n",
       "<style scoped>\n",
       "    .dataframe tbody tr th:only-of-type {\n",
       "        vertical-align: middle;\n",
       "    }\n",
       "\n",
       "    .dataframe tbody tr th {\n",
       "        vertical-align: top;\n",
       "    }\n",
       "\n",
       "    .dataframe thead th {\n",
       "        text-align: right;\n",
       "    }\n",
       "</style>\n",
       "<table border=\"1\" class=\"dataframe\">\n",
       "  <thead>\n",
       "    <tr style=\"text-align: right;\">\n",
       "      <th></th>\n",
       "      <th>cluster_products</th>\n",
       "      <th>user_id</th>\n",
       "      <th>age</th>\n",
       "      <th>is_w</th>\n",
       "      <th>credit_card</th>\n",
       "      <th>churn</th>\n",
       "      <th>products</th>\n",
       "      <th>%W</th>\n",
       "      <th>%churn</th>\n",
       "    </tr>\n",
       "  </thead>\n",
       "  <tbody>\n",
       "    <tr>\n",
       "      <th>0</th>\n",
       "      <td>0</td>\n",
       "      <td>5084</td>\n",
       "      <td>38.0</td>\n",
       "      <td>2296</td>\n",
       "      <td>3578</td>\n",
       "      <td>1409</td>\n",
       "      <td>1.0</td>\n",
       "      <td>45.2</td>\n",
       "      <td>27.7</td>\n",
       "    </tr>\n",
       "    <tr>\n",
       "      <th>1</th>\n",
       "      <td>1</td>\n",
       "      <td>326</td>\n",
       "      <td>43.0</td>\n",
       "      <td>187</td>\n",
       "      <td>231</td>\n",
       "      <td>280</td>\n",
       "      <td>3.0</td>\n",
       "      <td>57.4</td>\n",
       "      <td>85.9</td>\n",
       "    </tr>\n",
       "    <tr>\n",
       "      <th>2</th>\n",
       "      <td>2</td>\n",
       "      <td>4590</td>\n",
       "      <td>36.0</td>\n",
       "      <td>2060</td>\n",
       "      <td>3246</td>\n",
       "      <td>348</td>\n",
       "      <td>2.0</td>\n",
       "      <td>44.9</td>\n",
       "      <td>7.6</td>\n",
       "    </tr>\n",
       "  </tbody>\n",
       "</table>\n",
       "</div>"
      ],
      "text/plain": [
       "   cluster_products  user_id   age  is_w  credit_card  churn  products    %W  \\\n",
       "0                 0     5084  38.0  2296         3578   1409       1.0  45.2   \n",
       "1                 1      326  43.0   187          231    280       3.0  57.4   \n",
       "2                 2     4590  36.0  2060         3246    348       2.0  44.9   \n",
       "\n",
       "   %churn  \n",
       "0    27.7  \n",
       "1    85.9  \n",
       "2     7.6  "
      ]
     },
     "execution_count": 44,
     "metadata": {},
     "output_type": "execute_result"
    }
   ],
   "source": [
    "cluster = bank_dataset.groupby('cluster_products').agg({\n",
    "    'user_id': 'nunique',\n",
    "    'age': 'median',\n",
    "    'is_w': 'sum',\n",
    "    'credit_card': 'sum',\n",
    "    'churn': 'sum',\n",
    "    'products': 'median'\n",
    "}).reset_index()\n",
    "cluster['%W'] =round(100*cluster ['is_w'] /cluster ['user_id'],1)\n",
    "cluster['%churn'] =round(100*cluster ['churn'] /cluster ['user_id'],1)\n",
    "cluster"
   ]
  },
  {
   "cell_type": "markdown",
   "metadata": {},
   "source": [
    "Разбивка по кластерам неравномерна, в 0 и 1 кластере - значительно большее количество клиентов, чем в кластере 2. \n",
    "\n",
    "В кластерах примерно одинаковое количество распределения по гендерному признаку, немного больше в кластрее 2. \n",
    "45% для кластера 0 и 1, 57% для кластера 2.\n",
    "Отток значительно больше у кластера 2. - 85 %, у кластера 0 и 1 показатель - соответственно 27 и 8%."
   ]
  },
  {
   "cell_type": "markdown",
   "metadata": {},
   "source": [
    "### Разбивка по возрасту"
   ]
  },
  {
   "cell_type": "markdown",
   "metadata": {},
   "source": [
    "Разобьем на кластеры по возрасту."
   ]
  },
  {
   "cell_type": "code",
   "execution_count": 45,
   "metadata": {},
   "outputs": [],
   "source": [
    "# число кластеров = 2\n",
    "kmeans = KMeans(n_clusters=2, n_init=10)\n",
    "\n",
    "# применим KMeans к данным\n",
    "kmeans.fit( bank_dataset[['age']])\n",
    "\n",
    "# лейблы для кластеров\n",
    "labels = kmeans.labels_\n",
    "\n",
    "bank_dataset['cluster_age'] = labels\n"
   ]
  },
  {
   "cell_type": "code",
   "execution_count": 46,
   "metadata": {
    "scrolled": true
   },
   "outputs": [
    {
     "name": "stdout",
     "output_type": "stream",
     "text": [
      "В кластере 0 содержатся клиенты с возрастом [43 44 45 46 47 48 49 50 51 52 53 54 55 56 57 58 59 60 61 62 63 64 65 66\n",
      " 67 68 69 70 71 72 73 74 75 76 77 78 79 80 81 82 83 84 85 88 92].\n",
      "В кластере 1 содержатся клиенты с возрастом [18 19 20 21 22 23 24 25 26 27 28 29 30 31 32 33 34 35 36 37 38 39 40 41\n",
      " 42].\n"
     ]
    }
   ],
   "source": [
    "for i in range(0, 2):\n",
    "    print(\n",
    "        'В кластере {} содержатся клиенты с возрастом {}.'.format(\n",
    "            i,\n",
    "            bank_dataset[bank_dataset['cluster_age'] == i]['age'].sort_values().unique()))\n",
    "    "
   ]
  },
  {
   "cell_type": "markdown",
   "metadata": {},
   "source": [
    "В кластер с разбивкой по продуктам попадают клиенты по трём категориям: \n",
    "- 0 кластер - 44 - 92 года,\n",
    "- 1 кластер - 18 - 43 года,\n",
    "\n",
    "\n",
    "Посмотртим на характеристики сегментов."
   ]
  },
  {
   "cell_type": "code",
   "execution_count": 47,
   "metadata": {},
   "outputs": [
    {
     "data": {
      "text/html": [
       "<div>\n",
       "<style scoped>\n",
       "    .dataframe tbody tr th:only-of-type {\n",
       "        vertical-align: middle;\n",
       "    }\n",
       "\n",
       "    .dataframe tbody tr th {\n",
       "        vertical-align: top;\n",
       "    }\n",
       "\n",
       "    .dataframe thead th {\n",
       "        text-align: right;\n",
       "    }\n",
       "</style>\n",
       "<table border=\"1\" class=\"dataframe\">\n",
       "  <thead>\n",
       "    <tr style=\"text-align: right;\">\n",
       "      <th></th>\n",
       "      <th>cluster_age</th>\n",
       "      <th>user_id</th>\n",
       "      <th>age</th>\n",
       "      <th>is_w</th>\n",
       "      <th>credit_card</th>\n",
       "      <th>churn</th>\n",
       "      <th>products</th>\n",
       "      <th>%W</th>\n",
       "      <th>%churn</th>\n",
       "    </tr>\n",
       "  </thead>\n",
       "  <tbody>\n",
       "    <tr>\n",
       "      <th>0</th>\n",
       "      <td>0</td>\n",
       "      <td>2894</td>\n",
       "      <td>49.0</td>\n",
       "      <td>1393</td>\n",
       "      <td>2009</td>\n",
       "      <td>1205</td>\n",
       "      <td>1.0</td>\n",
       "      <td>48.1</td>\n",
       "      <td>41.6</td>\n",
       "    </tr>\n",
       "    <tr>\n",
       "      <th>1</th>\n",
       "      <td>1</td>\n",
       "      <td>7106</td>\n",
       "      <td>34.0</td>\n",
       "      <td>3150</td>\n",
       "      <td>5046</td>\n",
       "      <td>832</td>\n",
       "      <td>2.0</td>\n",
       "      <td>44.3</td>\n",
       "      <td>11.7</td>\n",
       "    </tr>\n",
       "  </tbody>\n",
       "</table>\n",
       "</div>"
      ],
      "text/plain": [
       "   cluster_age  user_id   age  is_w  credit_card  churn  products    %W  \\\n",
       "0            0     2894  49.0  1393         2009   1205       1.0  48.1   \n",
       "1            1     7106  34.0  3150         5046    832       2.0  44.3   \n",
       "\n",
       "   %churn  \n",
       "0    41.6  \n",
       "1    11.7  "
      ]
     },
     "execution_count": 47,
     "metadata": {},
     "output_type": "execute_result"
    }
   ],
   "source": [
    "cluster = bank_dataset.groupby('cluster_age').agg({\n",
    "    'user_id': 'nunique',\n",
    "    'age': 'median',\n",
    "    'is_w': 'sum',\n",
    "    'credit_card': 'sum',\n",
    "    'churn': 'sum',\n",
    "    'products': 'median'\n",
    "}).reset_index()\n",
    "cluster['%W'] =round(100*cluster ['is_w'] /cluster ['user_id'],1)\n",
    "cluster['%churn'] =round(100*cluster ['churn'] /cluster ['user_id'],1)\n",
    "\n",
    "cluster"
   ]
  },
  {
   "cell_type": "markdown",
   "metadata": {},
   "source": [
    "Разбивка по кластерам по возрасту на два кластера также неравномерна, в 1 кластере (до 43 лет включительно) - в 3 раза большее количество клиентов, чем в кластере 0 (старше 44 включительно). \n",
    "\n",
    "В кластерах примерно одинаковое количество распределения по гендерному признаку, немного больше в кластрее 0. \n",
    "49% для кластера 0 , 44% для кластера 1.\n",
    "Отток значительно больше у кластера 0 - 43 %, у кластера  1 показатель - 12%."
   ]
  },
  {
   "cell_type": "markdown",
   "metadata": {},
   "source": [
    "### Разбивка по продуктам и  возрасту"
   ]
  },
  {
   "cell_type": "markdown",
   "metadata": {},
   "source": [
    "Сделаем смешанную таблицу по ддвум группам кластеров."
   ]
  },
  {
   "cell_type": "code",
   "execution_count": 48,
   "metadata": {},
   "outputs": [
    {
     "data": {
      "text/html": [
       "<div>\n",
       "<style scoped>\n",
       "    .dataframe tbody tr th:only-of-type {\n",
       "        vertical-align: middle;\n",
       "    }\n",
       "\n",
       "    .dataframe tbody tr th {\n",
       "        vertical-align: top;\n",
       "    }\n",
       "\n",
       "    .dataframe thead th {\n",
       "        text-align: right;\n",
       "    }\n",
       "</style>\n",
       "<table border=\"1\" class=\"dataframe\">\n",
       "  <thead>\n",
       "    <tr style=\"text-align: right;\">\n",
       "      <th></th>\n",
       "      <th>cluster_products</th>\n",
       "      <th>cluster_age</th>\n",
       "      <th>user_id</th>\n",
       "      <th>age</th>\n",
       "      <th>is_w</th>\n",
       "      <th>credit_card</th>\n",
       "      <th>churn</th>\n",
       "      <th>products</th>\n",
       "      <th>%W</th>\n",
       "      <th>%churn</th>\n",
       "      <th>%credit_card</th>\n",
       "    </tr>\n",
       "  </thead>\n",
       "  <tbody>\n",
       "    <tr>\n",
       "      <th>0</th>\n",
       "      <td>0</td>\n",
       "      <td>0</td>\n",
       "      <td>1648</td>\n",
       "      <td>49.0</td>\n",
       "      <td>787</td>\n",
       "      <td>1136</td>\n",
       "      <td>847</td>\n",
       "      <td>1.0</td>\n",
       "      <td>47.8</td>\n",
       "      <td>51.4</td>\n",
       "      <td>68.9</td>\n",
       "    </tr>\n",
       "    <tr>\n",
       "      <th>1</th>\n",
       "      <td>0</td>\n",
       "      <td>1</td>\n",
       "      <td>3436</td>\n",
       "      <td>34.0</td>\n",
       "      <td>1509</td>\n",
       "      <td>2442</td>\n",
       "      <td>562</td>\n",
       "      <td>1.0</td>\n",
       "      <td>43.9</td>\n",
       "      <td>16.4</td>\n",
       "      <td>71.1</td>\n",
       "    </tr>\n",
       "    <tr>\n",
       "      <th>2</th>\n",
       "      <td>1</td>\n",
       "      <td>0</td>\n",
       "      <td>166</td>\n",
       "      <td>50.0</td>\n",
       "      <td>99</td>\n",
       "      <td>115</td>\n",
       "      <td>161</td>\n",
       "      <td>3.0</td>\n",
       "      <td>59.6</td>\n",
       "      <td>97.0</td>\n",
       "      <td>69.3</td>\n",
       "    </tr>\n",
       "    <tr>\n",
       "      <th>3</th>\n",
       "      <td>1</td>\n",
       "      <td>1</td>\n",
       "      <td>160</td>\n",
       "      <td>37.0</td>\n",
       "      <td>88</td>\n",
       "      <td>116</td>\n",
       "      <td>119</td>\n",
       "      <td>3.0</td>\n",
       "      <td>55.0</td>\n",
       "      <td>74.4</td>\n",
       "      <td>72.5</td>\n",
       "    </tr>\n",
       "    <tr>\n",
       "      <th>4</th>\n",
       "      <td>2</td>\n",
       "      <td>0</td>\n",
       "      <td>1080</td>\n",
       "      <td>48.0</td>\n",
       "      <td>507</td>\n",
       "      <td>758</td>\n",
       "      <td>197</td>\n",
       "      <td>2.0</td>\n",
       "      <td>46.9</td>\n",
       "      <td>18.2</td>\n",
       "      <td>70.2</td>\n",
       "    </tr>\n",
       "    <tr>\n",
       "      <th>5</th>\n",
       "      <td>2</td>\n",
       "      <td>1</td>\n",
       "      <td>3510</td>\n",
       "      <td>34.0</td>\n",
       "      <td>1553</td>\n",
       "      <td>2488</td>\n",
       "      <td>151</td>\n",
       "      <td>2.0</td>\n",
       "      <td>44.2</td>\n",
       "      <td>4.3</td>\n",
       "      <td>70.9</td>\n",
       "    </tr>\n",
       "  </tbody>\n",
       "</table>\n",
       "</div>"
      ],
      "text/plain": [
       "   cluster_products  cluster_age  user_id   age  is_w  credit_card  churn  \\\n",
       "0                 0            0     1648  49.0   787         1136    847   \n",
       "1                 0            1     3436  34.0  1509         2442    562   \n",
       "2                 1            0      166  50.0    99          115    161   \n",
       "3                 1            1      160  37.0    88          116    119   \n",
       "4                 2            0     1080  48.0   507          758    197   \n",
       "5                 2            1     3510  34.0  1553         2488    151   \n",
       "\n",
       "   products    %W  %churn  %credit_card  \n",
       "0       1.0  47.8    51.4          68.9  \n",
       "1       1.0  43.9    16.4          71.1  \n",
       "2       3.0  59.6    97.0          69.3  \n",
       "3       3.0  55.0    74.4          72.5  \n",
       "4       2.0  46.9    18.2          70.2  \n",
       "5       2.0  44.2     4.3          70.9  "
      ]
     },
     "execution_count": 48,
     "metadata": {},
     "output_type": "execute_result"
    }
   ],
   "source": [
    "cluster = bank_dataset.groupby(['cluster_products','cluster_age']).agg({\n",
    "    'user_id': 'nunique',\n",
    "    'age': 'median',\n",
    "    'is_w': 'sum',\n",
    "    'credit_card': 'sum',\n",
    "    'churn': 'sum',\n",
    "    'products': 'median'\n",
    "}).reset_index()\n",
    "cluster['%W'] =round(100*cluster ['is_w'] /cluster ['user_id'],1)\n",
    "cluster['%churn'] =round(100*cluster ['churn'] /cluster ['user_id'],1)\n",
    "cluster['%credit_card'] =round(100*cluster ['credit_card'] /cluster ['user_id'],1)\n",
    "cluster"
   ]
  },
  {
   "cell_type": "code",
   "execution_count": 49,
   "metadata": {},
   "outputs": [],
   "source": [
    "bank_dataset['cluster'] = bank_dataset['cluster_age']\n",
    "bank_dataset.loc[bank_dataset['cluster_products'] == 2, 'cluster'] = 2 \n"
   ]
  },
  {
   "cell_type": "code",
   "execution_count": 50,
   "metadata": {},
   "outputs": [
    {
     "name": "stdout",
     "output_type": "stream",
     "text": [
      "В кластере 0 содержатся клиенты с возрастом [43 44 45 46 47 48 49 50 51 52 53 54 55 56 57 58 59 60 61 62 63 64 65 66\n",
      " 67 68 69 70 71 72 73 74 75 76 77 78 79 80 81 83 84 92] и продуктами [1 3 4].\n",
      "В кластере 1 содержатся клиенты с возрастом [18 19 20 21 22 23 24 25 26 27 28 29 30 31 32 33 34 35 36 37 38 39 40 41\n",
      " 42] и продуктами [1 3 4].\n",
      "В кластере 2 содержатся клиенты с возрастом [18 19 20 21 22 23 24 25 26 27 28 29 30 31 32 33 34 35 36 37 38 39 40 41\n",
      " 42 43 44 45 46 47 48 49 50 51 52 53 54 55 56 57 58 59 60 61 62 63 64 65\n",
      " 66 67 68 69 70 71 72 73 74 75 76 77 78 79 80 81 82 85 88 92] и продуктами [2].\n"
     ]
    }
   ],
   "source": [
    "for i in range(0, 3):\n",
    "    print(\n",
    "        'В кластере {} содержатся клиенты с возрастом {} и продуктами {}.'.format(\n",
    "            i,\n",
    "            bank_dataset[bank_dataset['cluster'] == i]['age'].sort_values().unique(),\n",
    "            bank_dataset[bank_dataset['cluster'] == i]['products'].sort_values().unique()))\n",
    "    "
   ]
  },
  {
   "cell_type": "code",
   "execution_count": 51,
   "metadata": {},
   "outputs": [
    {
     "data": {
      "text/html": [
       "<div>\n",
       "<style scoped>\n",
       "    .dataframe tbody tr th:only-of-type {\n",
       "        vertical-align: middle;\n",
       "    }\n",
       "\n",
       "    .dataframe tbody tr th {\n",
       "        vertical-align: top;\n",
       "    }\n",
       "\n",
       "    .dataframe thead th {\n",
       "        text-align: right;\n",
       "    }\n",
       "</style>\n",
       "<table border=\"1\" class=\"dataframe\">\n",
       "  <thead>\n",
       "    <tr style=\"text-align: right;\">\n",
       "      <th></th>\n",
       "      <th>cluster</th>\n",
       "      <th>user_id</th>\n",
       "      <th>age</th>\n",
       "      <th>is_w</th>\n",
       "      <th>credit_card</th>\n",
       "      <th>churn</th>\n",
       "      <th>products</th>\n",
       "      <th>objects</th>\n",
       "      <th>estimated_salary</th>\n",
       "      <th>balance</th>\n",
       "      <th>%W</th>\n",
       "      <th>%churn</th>\n",
       "      <th>%credit_card</th>\n",
       "    </tr>\n",
       "  </thead>\n",
       "  <tbody>\n",
       "    <tr>\n",
       "      <th>0</th>\n",
       "      <td>0</td>\n",
       "      <td>1814</td>\n",
       "      <td>50.0</td>\n",
       "      <td>886</td>\n",
       "      <td>1251</td>\n",
       "      <td>1008</td>\n",
       "      <td>1.0</td>\n",
       "      <td>5.0</td>\n",
       "      <td>96945.120</td>\n",
       "      <td>119852.010</td>\n",
       "      <td>48.8</td>\n",
       "      <td>55.6</td>\n",
       "      <td>69.0</td>\n",
       "    </tr>\n",
       "    <tr>\n",
       "      <th>1</th>\n",
       "      <td>1</td>\n",
       "      <td>3596</td>\n",
       "      <td>34.0</td>\n",
       "      <td>1597</td>\n",
       "      <td>2558</td>\n",
       "      <td>681</td>\n",
       "      <td>1.0</td>\n",
       "      <td>5.0</td>\n",
       "      <td>100582.895</td>\n",
       "      <td>119966.080</td>\n",
       "      <td>44.4</td>\n",
       "      <td>18.9</td>\n",
       "      <td>71.1</td>\n",
       "    </tr>\n",
       "    <tr>\n",
       "      <th>2</th>\n",
       "      <td>2</td>\n",
       "      <td>4590</td>\n",
       "      <td>36.0</td>\n",
       "      <td>2060</td>\n",
       "      <td>3246</td>\n",
       "      <td>348</td>\n",
       "      <td>2.0</td>\n",
       "      <td>5.0</td>\n",
       "      <td>100738.855</td>\n",
       "      <td>119762.245</td>\n",
       "      <td>44.9</td>\n",
       "      <td>7.6</td>\n",
       "      <td>70.7</td>\n",
       "    </tr>\n",
       "  </tbody>\n",
       "</table>\n",
       "</div>"
      ],
      "text/plain": [
       "   cluster  user_id   age  is_w  credit_card  churn  products  objects  \\\n",
       "0        0     1814  50.0   886         1251   1008       1.0      5.0   \n",
       "1        1     3596  34.0  1597         2558    681       1.0      5.0   \n",
       "2        2     4590  36.0  2060         3246    348       2.0      5.0   \n",
       "\n",
       "   estimated_salary     balance    %W  %churn  %credit_card  \n",
       "0         96945.120  119852.010  48.8    55.6          69.0  \n",
       "1        100582.895  119966.080  44.4    18.9          71.1  \n",
       "2        100738.855  119762.245  44.9     7.6          70.7  "
      ]
     },
     "execution_count": 51,
     "metadata": {},
     "output_type": "execute_result"
    }
   ],
   "source": [
    "cluster = bank_dataset.groupby('cluster').agg({\n",
    "    'user_id': 'nunique',\n",
    "    'age': 'median',\n",
    "    'is_w': 'sum',\n",
    "    'credit_card': 'sum',\n",
    "    'churn': 'sum',\n",
    "    'products': 'median',\n",
    "    'objects': 'median',\n",
    "    'estimated_salary':'median',\n",
    "    'balance':'median'\n",
    "}).reset_index()\n",
    "cluster['%W'] =round(100*cluster ['is_w'] /cluster ['user_id'],1)\n",
    "cluster['%churn'] =round(100*cluster ['churn'] /cluster ['user_id'],1)\n",
    "cluster['%credit_card'] =round(100*cluster ['credit_card'] /cluster ['user_id'],1)\n",
    "\n",
    "cluster"
   ]
  },
  {
   "cell_type": "markdown",
   "metadata": {},
   "source": [
    "Отличия по 3м сегментам:\n",
    "\n",
    "- 0 -  клиенты с 1 или 2 продуктами до 43 лет включительно,\n",
    "- 1 -клиенты с 1 или 2 продуктами старше 44 лет включительно\n",
    "- 2 -  клиенты с количеством продуктов более 2. \n",
    "Разница в оттоке между группами клиентов - самый низкий в группе с 1 или 2 продуктами до 43 лет включительно, 11%.\n",
    "Далее, группа с с 1 или 2 продуктами старше 44 лет включительно, 40%.\n",
    "И самый высокий процент оттока - у группы с количеством продуктов более 2, 86%. Тем не менее, эта группа малочисленная. "
   ]
  },
  {
   "cell_type": "markdown",
   "metadata": {},
   "source": [
    "### Краткий вывод\n",
    "Из различий в проценте оттока разных клиентов можо предложить разбивку по 3м сегментам:\n",
    "\n",
    "- 0 -  клиенты с 1 или 2 продуктами до 43 лет включительно,\n",
    "- 1 - клиенты с 1 или 2 продуктами старше 44 лет включительно\n",
    "- 2 -  клиенты с количеством продуктов более 2. \n",
    "Разница в оттоке между группами клиентов - самый низкий в группе с 1 или 2 продуктами до 43 лет включительно, 11%.\n",
    "Далее, группа с с 1 или 2 продуктами старше 44 лет включительно, 40%.\n",
    "И самый высокий процент оттока - у группы с количеством продуктов более 2, 86%. Тем не менее, эта группа малочисленная. "
   ]
  },
  {
   "cell_type": "markdown",
   "metadata": {},
   "source": [
    "##   Статистическое исследование данных\n",
    "\n",
    "Применение статистических методов для дальнейшего изучения и проверки сегментов, полученных на этапе сегментации.\n"
   ]
  },
  {
   "cell_type": "markdown",
   "metadata": {},
   "source": [
    "### Гипотеза различия дохода между сегментом c 1 и 2 продуктами\n",
    "Проверка гипотезу различия дохода между теми клиентами, которые пользуются двумя продуктами банка, и теми, которые пользуются одним.\n"
   ]
  },
  {
   "cell_type": "markdown",
   "metadata": {},
   "source": [
    "Сформулируем гипотезы.\n",
    "- **Н0:** Нулевая гипотеза - различий в распределении дохода между теми клиентами, которые пользуются двумя продуктами банка, и теми, которые пользуются одним, нет. \n",
    "- **Н1:** Альтернативная гипотеза -  различия в распределении доходе между группами есть.\n",
    "\n",
    "Уровень alpha устанавливаем как `0.05`, проверяем гипотезы  критерием «U-критерий Манна-Уитни»."
   ]
  },
  {
   "cell_type": "code",
   "execution_count": 52,
   "metadata": {
    "scrolled": true
   },
   "outputs": [
    {
     "name": "stdout",
     "output_type": "stream",
     "text": [
      "p-value: 0.41\n",
      "Не получилось отвергнуть нулевую гипотезу. Распределение дохода клиентов 0 кластера не отличается от распределения дохода 1 кластера.\n",
      "Pазличиe в среднем доходе между группами: 0.0097\n"
     ]
    }
   ],
   "source": [
    "alpha = 0.05 \n",
    "sampleA = bank_dataset[bank_dataset['products'] == 1]['estimated_salary']\n",
    "sampleB= bank_dataset[bank_dataset['products'] == 2]['estimated_salary']\n",
    "result = stats.mannwhitneyu(sampleA,sampleB)[1]\n",
    "\n",
    "print('p-value:', \"{0:.2f}\".format(result))\n",
    "if (result < alpha):\n",
    "    print('Отвергаем нулевую гипотезу. Распределение дохода клиентов 0 кластера отличается от дохода 1 кластера')\n",
    "else:\n",
    "    print('Не получилось отвергнуть нулевую гипотезу. Распределение дохода клиентов 0 кластера не отличается от распределения дохода 1 кластера.')\n",
    "\n",
    "print('Pазличиe в среднем доходе между группами:',\"{0:.4f}\".format(sampleB.mean()/sampleA.mean()-1))\n"
   ]
  },
  {
   "cell_type": "markdown",
   "metadata": {},
   "source": [
    "Не получилось отвергнуть нулевую гипотезу. p-value: 0.41 Распределение дохода клиентов 0 кластера с 1 продуком не отличается от дохода 1 кластера с 2мя продуктами, при этом различия в среднем доходе между группами минимально: 0.0097. Не можем говорить о том, что есть различия."
   ]
  },
  {
   "cell_type": "markdown",
   "metadata": {},
   "source": [
    "### Гипотеза различия баланса между сегментом c 1 и 2 продуктами\n",
    "\n",
    "Проверка гипотезу различия баланса между теми клиентами, которые пользуются двумя продуктами банка, и теми, которые пользуются одним.\n"
   ]
  },
  {
   "cell_type": "markdown",
   "metadata": {},
   "source": [
    "Сформулируем гипотезы.\n",
    "- **Н0:** Нулевая гипотеза - различий в распределении баланса между теми клиентами, которые пользуются двумя продуктами банка, и теми, которые пользуются одним, нет. \n",
    "- **Н1:** Альтернативная гипотеза -  различия в распределении баласна между группами есть.\n",
    "\n",
    "Уровень alpha устанавливаем как `0.05`, проверяем гипотезы  критерием «U-критерий Манна-Уитни»."
   ]
  },
  {
   "cell_type": "code",
   "execution_count": 53,
   "metadata": {
    "scrolled": false
   },
   "outputs": [
    {
     "name": "stdout",
     "output_type": "stream",
     "text": [
      "p-value: 0.62\n",
      "Не получилось отвергнуть нулевую гипотезу. Распределение баланса клиентов 0 кластера не отличается от баланса 1 кластера\n",
      "Pазличиe в среднем доходе между группами: -0.0019\n"
     ]
    }
   ],
   "source": [
    "alpha = 0.05 \n",
    "sampleA = bank_dataset[(~bank_dataset['balance'].isna())&(bank_dataset['products'] == 1)]['balance']\n",
    "sampleB = bank_dataset[(~bank_dataset['balance'].isna())&(bank_dataset['products'] == 2)]['balance']\n",
    "result = stats.mannwhitneyu(sampleA,sampleB)[1]\n",
    "\n",
    "print('p-value:', \"{0:.2f}\".format(result))\n",
    "if (result < alpha):\n",
    "    print('Отвергаем нулевую гипотезу. Распределение баланса клиентов 0 кластера отличается от баланса 1 кластера')\n",
    "else:\n",
    "    print('Не получилось отвергнуть нулевую гипотезу. Распределение баланса клиентов 0 кластера не отличается от баланса 1 кластера')\n",
    "\n",
    "print('Pазличиe в среднем доходе между группами:',\"{0:.4f}\".format(sampleB.mean()/sampleA.mean()-1))\n"
   ]
  },
  {
   "cell_type": "markdown",
   "metadata": {},
   "source": [
    "Не получилось отвергнуть нулевую гипотезу. \n",
    "p-value: 0.62\n",
    " Распределение баланса клиентов 0 кластера не отличается от баланса 1 кластера\n",
    "Pазличиe в среднем доходе между группами: -0.0019"
   ]
  },
  {
   "cell_type": "markdown",
   "metadata": {},
   "source": [
    "### Предложения по новым продуктам\n",
    "\n",
    "Категория 0 -  клиенты с 1 или 2 продуктами до 43 лет включительно:\n",
    "\n",
    "1. «Метанпром» Top Savings  - накопительный счёт с высоким процентом\n",
    "2. «Метанпром» Refinance  - Рефинансирование студенческого кредита\n",
    "3. «Метанпром» Bonus - карта с бонусной программой  \n",
    "\n",
    "\n",
    "Категория 1 - клиенты с 1 или 2 продуктами старше 44 лет включительно:\n",
    "\n",
    "1. «Метанпром» Confidence  - cтрахование на случай длительного ухода\n",
    "2. «Метанпром» Capital  - платформа для онлайн-торговли акциями и портфель ETF\n",
    "3. «Метанпром» Home Insurance  - страхование недвижимости\n",
    "\n",
    "\n",
    "Категория 2 -  клиенты с количеством продуктов более 2:\n",
    "\n",
    "\n",
    "1. «Метанпром» Private - услуги по управлению активами. Консультация и индивидуальный план управдения активами. \n",
    "2. «Метанпром» Mobile - удобный интерфейс управления активами \n",
    "3. «Метанпром» Страхование вкладов - возможность страховать свои активы от рисков \n"
   ]
  },
  {
   "cell_type": "markdown",
   "metadata": {},
   "source": [
    "### Краткий вывод\n"
   ]
  },
  {
   "cell_type": "markdown",
   "metadata": {},
   "source": [
    "Не получается  гипотезу о разнице дохода или баланса между клиентами с 1 и 2мя продуктами. Видим, что разница между этими клиенами с точки зрения баланса и заработной платы не значима статистически.\n",
    "\n",
    "Формулируем предложения по новым продуктам:\n",
    "\n",
    "\n",
    "`Категория 0 -  клиенты с 1 или 2 продуктами до 43 лет включительно:`\n",
    "\n",
    "1. «Метанпром» Top Savings  - накопительный счёт с высоким процентом\n",
    "2. «Метанпром» Refinance  - Рефинансирование студенческого кредита\n",
    "3. «Метанпром» Bonus - карта с бонусной программой  \n",
    "\n",
    "\n",
    "`Категория 1 - клиенты с 1 или 2 продуктами старше 44 лет включительно:`\n",
    "\n",
    "1. «Метанпром» Confidence  - cтрахование на случай длительного ухода\n",
    "2. «Метанпром» Capital  - платформа для онлайн-торговли акциями и портфель ETF\n",
    "3. «Метанпром» Home Insurance  - страхование недвижимости\n",
    "\n",
    "\n",
    "`Категория 2 -  клиенты с количеством продуктов более 2:`\n",
    "\n",
    "\n",
    "1. «Метанпром» Private - услуги по управлению активами. Консультация и индивидуальный план управдения активами. \n",
    "2. «Метанпром» Mobile - удобный интерфейс управления активами \n",
    "3. «Метанпром» Страхование вкладов - возможность страховать свои активы от рисков\n",
    "\n",
    "\n",
    "`Дополнительная рекомендация:`\n",
    "Количество пользователей с оценкой зарплаты меньше МРОТ в таблице: 802. Дополнительная рекомендация - откалибровать метод оценки клиента. Возможно из-зп неверной оценки клиент получает низкий рейтинг и с большей вероятностью уходит.\n"
   ]
  },
  {
   "cell_type": "markdown",
   "metadata": {},
   "source": [
    "<a id='section_id'></a>\n",
    "\n",
    "\n",
    "##   Подготовка презентации\n",
    "\n",
    "Построение дашборда.\n"
   ]
  },
  {
   "cell_type": "markdown",
   "metadata": {},
   "source": [
    "Дашборд: <https://public.tableau.com/views/Metanprom_16752050184820/MetanpromDash?:language=en-US&publish=yes&:display_count=n&:origin=viz_share_link> \n"
   ]
  },
  {
   "cell_type": "markdown",
   "metadata": {},
   "source": [
    "Подготовка презентации."
   ]
  },
  {
   "cell_type": "markdown",
   "metadata": {},
   "source": [
    "Презентация: <https://pitch.com/public/3e35f09d-7263-4e73-944f-b5f4e92a974c> \n"
   ]
  },
  {
   "cell_type": "markdown",
   "metadata": {},
   "source": [
    "## Вывод\n"
   ]
  },
  {
   "cell_type": "markdown",
   "metadata": {},
   "source": [
    "Столбцы  `userid`,  `score`, `Age`, `Objects`, `Products` — хранят информацию количественного характера, записаны как `int`. \n",
    "\n",
    "Столбцы `City`и `Gender` — хранят информацию качественного характера, записаны как `object`. \n",
    "\n",
    "Не у всех заведений указаны рабочие часы.\n",
    " \n",
    "Столбцы `Balance` и `estimated_salary` - сумма денег, хранятся в формате `float`. Первый параметр есть у большей части строк (**6 383**) , второй - у всех строк.\n",
    "\n",
    "Столбцы `CreditCard`, `Loyalty`,  `Churn` - записаны как `int`, принимают значения **0** и **1**. \n",
    "\n",
    "Видим в таблице **10 000** записей до выделения дубликатов (пропусков).\n",
    "\n",
    "Стобец `score` — принимает значения от **350** до **850**. \n",
    "\n",
    "Стобец `City` — название города, значения - 'Ярославль' 'Рыбинск' 'Ростов Великий'.\n",
    "\n",
    "Стобец `Gender` — пол принимает значения 'Ж' 'М'.\n",
    "\n",
    "Стобец `Age` — возраст - от **18** до **92**.\n",
    "\n",
    "Стобец `Objects` — количество объектов в собственности, минимальное значение - **0**, максимальное значение - **10**.\n",
    "\n",
    "Стобец `Balance` — баланс на счёте, от **3 768** до **250 898**.\n",
    "\n",
    "Стобец `Products` — количество продуктов, которыми пользуется клиент, от **1** до **4**. \n",
    "\n",
    "Стобец `estimated_salary` — заработная плата, от **11** до **199 992**.\n",
    "\n",
    "В таблице нет явных дубликатов.\n",
    "Столбец с оценкой заработной платы содержат значения заработной платы для всех категорий клиентов, при этом есть странные значения.\n",
    "\n",
    "Количество пользователей с оценкой зарплаты меньше МРОТ: 802\n",
    "\n",
    "Количество пользователей с оценкой зарплаты меньше 1000: 59\n",
    "\n",
    "\n",
    "Количество пользователей с оценкой зарплаты меньше 100: 4\n",
    "\n",
    "\n",
    "Пропуски есть только в стоблце `balance` - этот параметр есть у большей части строк (6 383 из 10 000).\n",
    "Корреляции для столбца обозначения пустого баланса указывает, что нужно обратить внимание на город, продукты, показатель того, остался пользователь или нет.\n",
    "\n",
    "Доля пропусков для столбцов - город, продукты, показатель того, остался пользователь или нет - показывают, что наиболее часто пропуски  Больше всего пропусков в Рыбинске и Ярославле, у клиентов с 2-мя и 3-мя продуктами, у клиентов, которые остались клиентами банка.\n",
    "\n",
    "\n",
    "Баланс распределен нормально. С пиком значений частоты в 100 000 - 150 000 (с пиком 50-100 клиентов из статуса \"ушли\" и до 300 в статуск текущих клиентов).\n",
    "Заработная плата распределена очень равномерно, без видимых пиков по обеим категориям.\n",
    "Средний баланс незначительно отличается по городам, гендеру и статусу оттока - медиана в районе 120 тысяч рублей.\n",
    "Средний баланс незначительно отличается по городам, лояльности и еналичию кредитной карты - медиана в районе 120 тысяч рублей.\n",
    "Больше всего клиентов находятся в городе Ярославле. При этом больше наиболее популярный портетр клиента - 1 ии 2 продукта, распределение очень похоже между разными городами. \n",
    "\n",
    "Больше всего клиентов находятся в категории тех, у кого 1 или 2 продукта - при этом наибольший отток в категории одного продукта (1409), по проценту - наибольший отток в категории 3 и 4. \n",
    "Большая часть клиентов из этой категории уходят, в категории 4 продукта не остаётся клиентов.\n",
    "Больше всего клиентов находятся в Ярославле. \n",
    "\n",
    "При этом отток - самый большой в ростове великом (по проценту).\n",
    "Больше всего оттока клиентов в категории свыше 42.\n",
    "отток у женщин выше, чем отток мужчин.\n",
    "\n",
    "Из различий в проценте оттока разных клиентов можо предложить разбивку по 3м сегментам:\n",
    "\n",
    "- 0 -  клиенты с 1 или 2 продуктами до 43 лет включительно,\n",
    "- 1 - клиенты с 1 или 2 продуктами старше 44 лет включительно\n",
    "- 2 -  клиенты с количеством продуктов более 2. \n",
    "Разница в оттоке между группами клиентов - самый низкий в группе с 1 или 2 продуктами до 43 лет включительно, 11%.\n",
    "Далее, группа с с 1 или 2 продуктами старше 44 лет включительно, 40%.\n",
    "И самый высокий процент оттока - у группы с количеством продуктов более 2, 86%. Тем не менее, эта группа малочисленная. \n",
    "\n",
    "Не получается  гипотезу о разнице дохода или баланса между клиентами с 1 и 2мя продуктами. Видим, что разница между этими клиенами с точки зрения баланса и заработной платы не значима статистически.\n",
    "\n",
    "Формулируем предложения по новым продуктам:\n",
    "\n",
    "\n",
    "`Категория 0 -  клиенты с 1 или 2 продуктами до 43 лет включительно:`\n",
    "\n",
    "1. «Метанпром» Top Savings  - накопительный счёт с высоким процентом\n",
    "2. «Метанпром» Refinance  - Рефинансирование студенческого кредита\n",
    "3. «Метанпром» Bonus - карта с бонусной программой  \n",
    "\n",
    "\n",
    "`Категория 1 - клиенты с 1 или 2 продуктами старше 44 лет включительно:`\n",
    "\n",
    "1. «Метанпром» Confidence  - cтрахование на случай длительного ухода\n",
    "2. «Метанпром» Capital  - платформа для онлайн-торговли акциями и портфель ETF\n",
    "3. «Метанпром» Home Insurance  - страхование недвижимости\n",
    "\n",
    "\n",
    "`Категория 2 -  клиенты с количеством продуктов более 2:`\n",
    "\n",
    "\n",
    "1. «Метанпром» Private - услуги по управлению активами. Консультация и индивидуальный план управдения активами. \n",
    "2. «Метанпром» Mobile - удобный интерфейс управления активами \n",
    "3. «Метанпром» Страхование вкладов - возможность страховать свои активы от рисков \n"
   ]
  },
  {
   "cell_type": "markdown",
   "metadata": {},
   "source": []
  }
 ],
 "metadata": {
  "ExecuteTimeLog": [
   {
    "duration": 1209,
    "start_time": "2022-09-15T06:32:17.647Z"
   },
   {
    "duration": 1820,
    "start_time": "2022-09-15T06:32:18.858Z"
   },
   {
    "duration": 12,
    "start_time": "2022-09-15T06:32:20.679Z"
   },
   {
    "duration": 29,
    "start_time": "2022-09-15T06:32:20.692Z"
   },
   {
    "duration": 37,
    "start_time": "2022-09-15T06:32:20.723Z"
   },
   {
    "duration": 64,
    "start_time": "2022-09-15T06:32:20.761Z"
   },
   {
    "duration": 4,
    "start_time": "2022-09-15T06:32:20.826Z"
   },
   {
    "duration": 16,
    "start_time": "2022-09-15T06:32:20.831Z"
   },
   {
    "duration": 31,
    "start_time": "2022-09-15T06:32:20.848Z"
   },
   {
    "duration": 56,
    "start_time": "2022-09-15T06:32:20.881Z"
   },
   {
    "duration": 232,
    "start_time": "2022-09-15T06:32:20.938Z"
   },
   {
    "duration": 50,
    "start_time": "2022-09-15T06:32:21.171Z"
   },
   {
    "duration": 117,
    "start_time": "2022-09-15T06:32:21.222Z"
   },
   {
    "duration": 6,
    "start_time": "2022-09-15T06:32:21.340Z"
   },
   {
    "duration": 25,
    "start_time": "2022-09-15T06:32:21.348Z"
   },
   {
    "duration": 29,
    "start_time": "2022-09-15T06:32:21.374Z"
   },
   {
    "duration": 12,
    "start_time": "2022-09-15T06:32:21.404Z"
   },
   {
    "duration": 16,
    "start_time": "2022-09-15T06:32:21.417Z"
   },
   {
    "duration": 15,
    "start_time": "2022-09-15T06:32:21.434Z"
   },
   {
    "duration": 13,
    "start_time": "2022-09-15T06:32:21.451Z"
   },
   {
    "duration": 11,
    "start_time": "2022-09-15T06:32:21.465Z"
   },
   {
    "duration": 391,
    "start_time": "2022-09-15T06:32:21.477Z"
   },
   {
    "duration": 9,
    "start_time": "2022-09-15T06:32:21.870Z"
   },
   {
    "duration": 25,
    "start_time": "2022-09-15T06:32:21.880Z"
   },
   {
    "duration": 10,
    "start_time": "2022-09-15T06:32:21.907Z"
   },
   {
    "duration": 10,
    "start_time": "2022-09-15T06:32:21.918Z"
   },
   {
    "duration": 13,
    "start_time": "2022-09-15T06:32:21.930Z"
   },
   {
    "duration": 11,
    "start_time": "2022-09-15T06:32:21.947Z"
   },
   {
    "duration": 86,
    "start_time": "2022-09-15T06:32:21.959Z"
   },
   {
    "duration": 33,
    "start_time": "2022-09-15T06:32:22.047Z"
   },
   {
    "duration": 51,
    "start_time": "2022-09-15T06:32:22.081Z"
   },
   {
    "duration": 3,
    "start_time": "2022-09-15T06:32:22.134Z"
   },
   {
    "duration": 15,
    "start_time": "2022-09-15T06:32:22.139Z"
   },
   {
    "duration": 22,
    "start_time": "2022-09-15T06:32:22.155Z"
   },
   {
    "duration": 26,
    "start_time": "2022-09-15T06:32:22.178Z"
   },
   {
    "duration": 15,
    "start_time": "2022-09-15T06:32:22.206Z"
   },
   {
    "duration": 581,
    "start_time": "2022-09-15T06:32:22.222Z"
   },
   {
    "duration": 497,
    "start_time": "2022-09-15T06:32:22.805Z"
   },
   {
    "duration": 42,
    "start_time": "2022-09-15T06:32:23.304Z"
   },
   {
    "duration": 1321,
    "start_time": "2022-09-15T06:32:23.348Z"
   },
   {
    "duration": 559,
    "start_time": "2022-09-15T06:32:24.670Z"
   },
   {
    "duration": 989,
    "start_time": "2022-09-15T06:32:25.230Z"
   },
   {
    "duration": 1458,
    "start_time": "2022-09-15T06:32:26.221Z"
   },
   {
    "duration": 767,
    "start_time": "2022-09-15T06:32:27.680Z"
   },
   {
    "duration": 1157,
    "start_time": "2022-09-15T06:32:28.449Z"
   },
   {
    "duration": 1494,
    "start_time": "2022-09-15T06:32:29.607Z"
   },
   {
    "duration": 723,
    "start_time": "2022-09-15T06:32:31.102Z"
   },
   {
    "duration": 1133,
    "start_time": "2022-09-15T06:32:31.826Z"
   },
   {
    "duration": 2071,
    "start_time": "2022-09-15T06:32:32.960Z"
   },
   {
    "duration": 824,
    "start_time": "2022-09-15T06:32:35.033Z"
   },
   {
    "duration": 1543,
    "start_time": "2022-09-15T06:32:35.859Z"
   },
   {
    "duration": 10,
    "start_time": "2022-09-15T06:32:37.403Z"
   },
   {
    "duration": 1089,
    "start_time": "2022-09-15T06:32:37.414Z"
   },
   {
    "duration": 1629,
    "start_time": "2022-09-15T06:32:38.504Z"
   },
   {
    "duration": 714,
    "start_time": "2022-09-15T06:32:40.135Z"
   },
   {
    "duration": 1252,
    "start_time": "2022-09-15T06:32:40.851Z"
   },
   {
    "duration": 1069,
    "start_time": "2022-09-15T06:32:42.105Z"
   },
   {
    "duration": 540,
    "start_time": "2022-09-15T06:32:43.176Z"
   },
   {
    "duration": 1003,
    "start_time": "2022-09-15T06:32:43.718Z"
   },
   {
    "duration": 1196,
    "start_time": "2022-11-27T23:08:36.572Z"
   },
   {
    "duration": 281,
    "start_time": "2022-11-27T23:08:37.770Z"
   },
   {
    "duration": 11,
    "start_time": "2022-11-27T23:08:38.053Z"
   },
   {
    "duration": 7,
    "start_time": "2022-11-27T23:08:38.066Z"
   },
   {
    "duration": 8,
    "start_time": "2022-11-27T23:08:38.075Z"
   },
   {
    "duration": 25,
    "start_time": "2022-11-27T23:08:38.084Z"
   },
   {
    "duration": 7,
    "start_time": "2022-11-27T23:08:38.110Z"
   },
   {
    "duration": 11,
    "start_time": "2022-11-27T23:08:38.118Z"
   },
   {
    "duration": 9,
    "start_time": "2022-11-27T23:08:38.131Z"
   },
   {
    "duration": 7,
    "start_time": "2022-11-27T23:08:38.143Z"
   },
   {
    "duration": 12,
    "start_time": "2022-11-27T23:08:38.151Z"
   },
   {
    "duration": 271,
    "start_time": "2022-11-27T23:08:38.164Z"
   },
   {
    "duration": 11,
    "start_time": "2022-11-27T23:08:38.437Z"
   },
   {
    "duration": 238,
    "start_time": "2022-11-27T23:08:38.449Z"
   },
   {
    "duration": 273,
    "start_time": "2022-11-27T23:08:38.689Z"
   },
   {
    "duration": 251,
    "start_time": "2022-11-27T23:08:38.964Z"
   },
   {
    "duration": 181,
    "start_time": "2022-11-27T23:08:39.220Z"
   },
   {
    "duration": 348,
    "start_time": "2022-11-27T23:08:39.402Z"
   },
   {
    "duration": 192,
    "start_time": "2022-11-27T23:08:39.752Z"
   },
   {
    "duration": 266,
    "start_time": "2022-11-27T23:08:39.946Z"
   },
   {
    "duration": 188,
    "start_time": "2022-11-27T23:08:40.214Z"
   },
   {
    "duration": 3,
    "start_time": "2022-11-27T23:08:40.404Z"
   },
   {
    "duration": 16,
    "start_time": "2022-11-27T23:08:40.409Z"
   },
   {
    "duration": 135,
    "start_time": "2022-11-27T23:08:40.426Z"
   },
   {
    "duration": 4,
    "start_time": "2022-11-27T23:08:40.563Z"
   },
   {
    "duration": 10,
    "start_time": "2022-11-27T23:08:40.569Z"
   },
   {
    "duration": 95,
    "start_time": "2022-11-27T23:08:40.580Z"
   },
   {
    "duration": 117,
    "start_time": "2022-11-27T23:08:40.678Z"
   },
   {
    "duration": 151,
    "start_time": "2022-11-27T23:08:40.796Z"
   },
   {
    "duration": 10,
    "start_time": "2022-11-27T23:08:40.948Z"
   },
   {
    "duration": 9,
    "start_time": "2022-11-27T23:08:40.960Z"
   },
   {
    "duration": 25,
    "start_time": "2022-11-27T23:08:40.970Z"
   },
   {
    "duration": 34,
    "start_time": "2022-11-27T23:08:40.997Z"
   },
   {
    "duration": 104,
    "start_time": "2022-11-27T23:39:28.118Z"
   },
   {
    "duration": 166,
    "start_time": "2022-11-27T23:39:47.516Z"
   },
   {
    "duration": 139,
    "start_time": "2022-11-27T23:40:42.163Z"
   },
   {
    "duration": 5,
    "start_time": "2022-11-27T23:41:39.730Z"
   },
   {
    "duration": 4,
    "start_time": "2022-11-27T23:44:08.125Z"
   },
   {
    "duration": 10,
    "start_time": "2022-11-27T23:52:08.287Z"
   },
   {
    "duration": 26,
    "start_time": "2022-11-27T23:52:19.752Z"
   },
   {
    "duration": 28,
    "start_time": "2022-11-27T23:52:56.879Z"
   },
   {
    "duration": 1353,
    "start_time": "2022-11-29T14:40:09.763Z"
   },
   {
    "duration": 334,
    "start_time": "2022-11-29T14:40:11.118Z"
   },
   {
    "duration": 14,
    "start_time": "2022-11-29T14:40:11.454Z"
   },
   {
    "duration": 9,
    "start_time": "2022-11-29T14:40:11.470Z"
   },
   {
    "duration": 8,
    "start_time": "2022-11-29T14:40:11.481Z"
   },
   {
    "duration": 25,
    "start_time": "2022-11-29T14:40:11.491Z"
   },
   {
    "duration": 6,
    "start_time": "2022-11-29T14:40:11.518Z"
   },
   {
    "duration": 9,
    "start_time": "2022-11-29T14:40:11.526Z"
   },
   {
    "duration": 9,
    "start_time": "2022-11-29T14:40:11.537Z"
   },
   {
    "duration": 9,
    "start_time": "2022-11-29T14:40:11.549Z"
   },
   {
    "duration": 6,
    "start_time": "2022-11-29T14:40:11.560Z"
   },
   {
    "duration": 53,
    "start_time": "2022-11-29T14:40:11.568Z"
   },
   {
    "duration": 4,
    "start_time": "2022-11-29T14:40:11.623Z"
   },
   {
    "duration": 10,
    "start_time": "2022-11-29T14:40:11.629Z"
   },
   {
    "duration": 12,
    "start_time": "2022-11-29T14:40:11.641Z"
   },
   {
    "duration": 9,
    "start_time": "2022-11-29T14:40:11.655Z"
   },
   {
    "duration": 15,
    "start_time": "2022-11-29T14:40:11.665Z"
   },
   {
    "duration": 291,
    "start_time": "2022-11-29T14:40:11.682Z"
   },
   {
    "duration": 13,
    "start_time": "2022-11-29T14:40:11.975Z"
   },
   {
    "duration": 254,
    "start_time": "2022-11-29T14:40:11.990Z"
   },
   {
    "duration": 282,
    "start_time": "2022-11-29T14:40:12.246Z"
   },
   {
    "duration": 269,
    "start_time": "2022-11-29T14:40:12.530Z"
   },
   {
    "duration": 216,
    "start_time": "2022-11-29T14:40:12.801Z"
   },
   {
    "duration": 329,
    "start_time": "2022-11-29T14:40:13.019Z"
   },
   {
    "duration": 201,
    "start_time": "2022-11-29T14:40:13.350Z"
   },
   {
    "duration": 274,
    "start_time": "2022-11-29T14:40:13.553Z"
   },
   {
    "duration": 228,
    "start_time": "2022-11-29T14:40:13.828Z"
   },
   {
    "duration": 5,
    "start_time": "2022-11-29T14:40:14.059Z"
   },
   {
    "duration": 10,
    "start_time": "2022-11-29T14:40:14.065Z"
   },
   {
    "duration": 150,
    "start_time": "2022-11-29T14:40:14.077Z"
   },
   {
    "duration": 148,
    "start_time": "2022-11-29T14:40:14.229Z"
   },
   {
    "duration": 5,
    "start_time": "2022-11-29T14:40:14.378Z"
   },
   {
    "duration": 12,
    "start_time": "2022-11-29T14:40:14.384Z"
   },
   {
    "duration": 115,
    "start_time": "2022-11-29T14:40:14.398Z"
   },
   {
    "duration": 136,
    "start_time": "2022-11-29T14:40:14.515Z"
   },
   {
    "duration": 186,
    "start_time": "2022-11-29T14:40:14.653Z"
   },
   {
    "duration": 11,
    "start_time": "2022-11-29T14:40:14.841Z"
   },
   {
    "duration": 10,
    "start_time": "2022-11-29T14:40:14.853Z"
   },
   {
    "duration": 54,
    "start_time": "2022-11-29T14:40:14.865Z"
   },
   {
    "duration": 15,
    "start_time": "2022-11-29T14:40:14.921Z"
   },
   {
    "duration": 4,
    "start_time": "2022-11-29T15:04:31.231Z"
   },
   {
    "duration": 4,
    "start_time": "2022-11-29T15:31:33.745Z"
   },
   {
    "duration": 48,
    "start_time": "2022-11-29T17:08:08.107Z"
   },
   {
    "duration": 1322,
    "start_time": "2022-11-29T17:08:12.668Z"
   },
   {
    "duration": 290,
    "start_time": "2022-11-29T17:08:13.992Z"
   },
   {
    "duration": 11,
    "start_time": "2022-11-29T17:08:14.284Z"
   },
   {
    "duration": 14,
    "start_time": "2022-11-29T17:08:14.296Z"
   },
   {
    "duration": 9,
    "start_time": "2022-11-29T17:08:14.312Z"
   },
   {
    "duration": 28,
    "start_time": "2022-11-29T17:08:14.323Z"
   },
   {
    "duration": 7,
    "start_time": "2022-11-29T17:08:14.353Z"
   },
   {
    "duration": 14,
    "start_time": "2022-11-29T17:08:14.362Z"
   },
   {
    "duration": 13,
    "start_time": "2022-11-29T17:08:14.378Z"
   },
   {
    "duration": 19,
    "start_time": "2022-11-29T17:08:14.392Z"
   },
   {
    "duration": 7,
    "start_time": "2022-11-29T17:08:14.413Z"
   },
   {
    "duration": 39,
    "start_time": "2022-11-29T17:08:14.421Z"
   },
   {
    "duration": 3,
    "start_time": "2022-11-29T17:08:14.462Z"
   },
   {
    "duration": 14,
    "start_time": "2022-11-29T17:08:14.467Z"
   },
   {
    "duration": 12,
    "start_time": "2022-11-29T17:08:14.482Z"
   },
   {
    "duration": 14,
    "start_time": "2022-11-29T17:08:14.495Z"
   },
   {
    "duration": 18,
    "start_time": "2022-11-29T17:08:14.510Z"
   },
   {
    "duration": 349,
    "start_time": "2022-11-29T17:08:14.530Z"
   },
   {
    "duration": 14,
    "start_time": "2022-11-29T17:08:14.881Z"
   },
   {
    "duration": 270,
    "start_time": "2022-11-29T17:08:14.897Z"
   },
   {
    "duration": 285,
    "start_time": "2022-11-29T17:08:15.169Z"
   },
   {
    "duration": 256,
    "start_time": "2022-11-29T17:08:15.456Z"
   },
   {
    "duration": 203,
    "start_time": "2022-11-29T17:08:15.714Z"
   },
   {
    "duration": 376,
    "start_time": "2022-11-29T17:08:15.918Z"
   },
   {
    "duration": 63,
    "start_time": "2022-11-29T17:08:18.901Z"
   },
   {
    "duration": 198,
    "start_time": "2022-11-29T17:08:23.951Z"
   },
   {
    "duration": 13,
    "start_time": "2022-11-29T17:08:26.179Z"
   },
   {
    "duration": 4,
    "start_time": "2022-11-29T17:08:47.638Z"
   },
   {
    "duration": 4,
    "start_time": "2022-11-29T17:16:11.371Z"
   },
   {
    "duration": 6,
    "start_time": "2022-11-29T17:16:16.279Z"
   },
   {
    "duration": 14,
    "start_time": "2022-11-29T17:16:36.569Z"
   },
   {
    "duration": 11,
    "start_time": "2022-11-29T17:16:43.830Z"
   },
   {
    "duration": 11,
    "start_time": "2022-11-29T17:17:22.421Z"
   },
   {
    "duration": 11,
    "start_time": "2022-11-29T17:18:19.033Z"
   },
   {
    "duration": 10,
    "start_time": "2022-11-29T17:19:20.259Z"
   },
   {
    "duration": 14,
    "start_time": "2022-11-29T17:19:33.402Z"
   },
   {
    "duration": 11,
    "start_time": "2022-11-29T17:19:36.467Z"
   },
   {
    "duration": 11,
    "start_time": "2022-11-29T17:19:37.033Z"
   },
   {
    "duration": 11,
    "start_time": "2022-11-29T17:19:47.280Z"
   },
   {
    "duration": 12,
    "start_time": "2022-11-29T17:20:11.982Z"
   },
   {
    "duration": 6,
    "start_time": "2022-11-29T17:20:17.806Z"
   },
   {
    "duration": 6,
    "start_time": "2022-11-29T17:20:22.121Z"
   },
   {
    "duration": 6,
    "start_time": "2022-11-29T17:20:51.466Z"
   },
   {
    "duration": 7,
    "start_time": "2022-11-29T17:22:26.735Z"
   },
   {
    "duration": 12,
    "start_time": "2022-11-29T17:23:26.640Z"
   },
   {
    "duration": 12,
    "start_time": "2022-11-29T17:23:31.042Z"
   },
   {
    "duration": 70,
    "start_time": "2022-11-29T17:23:49.394Z"
   },
   {
    "duration": 205,
    "start_time": "2022-11-29T17:25:09.279Z"
   },
   {
    "duration": 216,
    "start_time": "2022-11-29T17:25:49.191Z"
   },
   {
    "duration": 217,
    "start_time": "2022-11-29T17:26:12.873Z"
   },
   {
    "duration": 1110,
    "start_time": "2022-12-11T07:51:57.863Z"
   },
   {
    "duration": 518,
    "start_time": "2022-12-11T07:51:58.975Z"
   },
   {
    "duration": 20,
    "start_time": "2022-12-11T07:51:59.494Z"
   },
   {
    "duration": 18,
    "start_time": "2022-12-11T07:51:59.516Z"
   },
   {
    "duration": 15,
    "start_time": "2022-12-11T07:51:59.536Z"
   },
   {
    "duration": 13,
    "start_time": "2022-12-11T07:51:59.553Z"
   },
   {
    "duration": 86,
    "start_time": "2022-12-11T07:51:59.567Z"
   },
   {
    "duration": 61,
    "start_time": "2022-12-11T07:51:59.655Z"
   },
   {
    "duration": 77,
    "start_time": "2022-12-11T07:51:59.718Z"
   },
   {
    "duration": 57,
    "start_time": "2022-12-11T07:51:59.798Z"
   },
   {
    "duration": 57,
    "start_time": "2022-12-11T07:51:59.857Z"
   },
   {
    "duration": 8,
    "start_time": "2022-12-11T07:51:59.916Z"
   },
   {
    "duration": 31,
    "start_time": "2022-12-11T07:51:59.926Z"
   },
   {
    "duration": 26,
    "start_time": "2022-12-11T07:51:59.958Z"
   },
   {
    "duration": 593,
    "start_time": "2022-12-11T07:51:59.986Z"
   },
   {
    "duration": 274,
    "start_time": "2022-12-11T07:52:00.581Z"
   },
   {
    "duration": 1071,
    "start_time": "2022-12-11T07:52:00.856Z"
   },
   {
    "duration": 121,
    "start_time": "2022-12-11T07:52:01.929Z"
   },
   {
    "duration": 37,
    "start_time": "2022-12-11T07:52:02.051Z"
   },
   {
    "duration": 60,
    "start_time": "2022-12-11T07:52:02.089Z"
   },
   {
    "duration": 7,
    "start_time": "2022-12-11T07:52:02.151Z"
   },
   {
    "duration": 15,
    "start_time": "2022-12-11T07:52:02.160Z"
   },
   {
    "duration": 38,
    "start_time": "2022-12-11T07:52:02.176Z"
   },
   {
    "duration": 82,
    "start_time": "2022-12-11T07:52:02.215Z"
   },
   {
    "duration": 91,
    "start_time": "2022-12-11T07:52:02.299Z"
   },
   {
    "duration": 25,
    "start_time": "2022-12-11T07:52:02.392Z"
   },
   {
    "duration": 220,
    "start_time": "2022-12-11T07:52:02.419Z"
   },
   {
    "duration": 72,
    "start_time": "2022-12-11T07:52:02.644Z"
   },
   {
    "duration": 6,
    "start_time": "2022-12-11T07:52:02.718Z"
   },
   {
    "duration": 8,
    "start_time": "2022-12-11T07:52:02.726Z"
   },
   {
    "duration": 136,
    "start_time": "2022-12-11T07:52:02.736Z"
   },
   {
    "duration": 5,
    "start_time": "2022-12-11T07:52:02.874Z"
   },
   {
    "duration": 79,
    "start_time": "2022-12-11T07:52:02.881Z"
   },
   {
    "duration": 5,
    "start_time": "2022-12-11T07:52:02.962Z"
   },
   {
    "duration": 17,
    "start_time": "2022-12-11T07:52:02.969Z"
   },
   {
    "duration": 10,
    "start_time": "2022-12-11T07:52:02.988Z"
   },
   {
    "duration": 22,
    "start_time": "2022-12-11T07:52:03.000Z"
   },
   {
    "duration": 7,
    "start_time": "2022-12-11T07:52:03.023Z"
   },
   {
    "duration": 23,
    "start_time": "2022-12-11T07:52:03.031Z"
   },
   {
    "duration": 24,
    "start_time": "2022-12-11T07:52:03.056Z"
   },
   {
    "duration": 42,
    "start_time": "2022-12-11T07:52:03.081Z"
   },
   {
    "duration": 25,
    "start_time": "2022-12-11T07:52:03.125Z"
   },
   {
    "duration": 17,
    "start_time": "2022-12-11T07:52:03.151Z"
   },
   {
    "duration": 47,
    "start_time": "2022-12-11T07:52:03.170Z"
   },
   {
    "duration": 24,
    "start_time": "2022-12-11T07:52:03.219Z"
   },
   {
    "duration": 22,
    "start_time": "2022-12-11T07:52:03.244Z"
   },
   {
    "duration": 1757,
    "start_time": "2022-12-27T05:09:41.409Z"
   },
   {
    "duration": 206,
    "start_time": "2022-12-27T05:09:43.169Z"
   },
   {
    "duration": 20,
    "start_time": "2022-12-27T05:09:43.377Z"
   },
   {
    "duration": 26,
    "start_time": "2022-12-27T05:09:43.398Z"
   },
   {
    "duration": 10,
    "start_time": "2022-12-27T05:09:43.426Z"
   },
   {
    "duration": 37,
    "start_time": "2022-12-27T05:09:43.438Z"
   },
   {
    "duration": 14,
    "start_time": "2022-12-27T05:09:43.477Z"
   },
   {
    "duration": 39,
    "start_time": "2022-12-27T05:09:43.493Z"
   },
   {
    "duration": 49,
    "start_time": "2022-12-27T05:09:43.534Z"
   },
   {
    "duration": 15,
    "start_time": "2022-12-27T05:09:43.584Z"
   },
   {
    "duration": 51,
    "start_time": "2022-12-27T05:09:43.601Z"
   },
   {
    "duration": 29,
    "start_time": "2022-12-27T05:09:43.654Z"
   },
   {
    "duration": 20,
    "start_time": "2022-12-27T05:09:43.685Z"
   },
   {
    "duration": 8,
    "start_time": "2022-12-27T05:09:43.708Z"
   },
   {
    "duration": 14,
    "start_time": "2022-12-27T05:09:43.717Z"
   },
   {
    "duration": 14,
    "start_time": "2022-12-27T05:09:43.732Z"
   },
   {
    "duration": 40,
    "start_time": "2022-12-27T05:09:43.748Z"
   },
   {
    "duration": 24,
    "start_time": "2022-12-27T05:09:43.790Z"
   },
   {
    "duration": 16,
    "start_time": "2022-12-27T05:09:43.816Z"
   },
   {
    "duration": 48,
    "start_time": "2022-12-27T05:09:43.835Z"
   },
   {
    "duration": 14,
    "start_time": "2022-12-27T05:09:43.884Z"
   },
   {
    "duration": 15,
    "start_time": "2022-12-27T05:09:43.900Z"
   },
   {
    "duration": 12,
    "start_time": "2022-12-27T05:09:43.917Z"
   },
   {
    "duration": 12,
    "start_time": "2022-12-27T05:09:43.930Z"
   },
   {
    "duration": 39,
    "start_time": "2022-12-27T05:09:43.943Z"
   },
   {
    "duration": 286,
    "start_time": "2022-12-27T05:09:43.985Z"
   },
   {
    "duration": 0,
    "start_time": "2022-12-27T05:09:44.278Z"
   },
   {
    "duration": 0,
    "start_time": "2022-12-27T05:09:44.279Z"
   },
   {
    "duration": 0,
    "start_time": "2022-12-27T05:09:44.280Z"
   },
   {
    "duration": 0,
    "start_time": "2022-12-27T05:09:44.282Z"
   },
   {
    "duration": 0,
    "start_time": "2022-12-27T05:09:44.283Z"
   },
   {
    "duration": 0,
    "start_time": "2022-12-27T05:09:44.285Z"
   },
   {
    "duration": 0,
    "start_time": "2022-12-27T05:09:44.286Z"
   },
   {
    "duration": 0,
    "start_time": "2022-12-27T05:09:44.287Z"
   },
   {
    "duration": 0,
    "start_time": "2022-12-27T05:09:44.288Z"
   },
   {
    "duration": 0,
    "start_time": "2022-12-27T05:09:44.289Z"
   },
   {
    "duration": 0,
    "start_time": "2022-12-27T05:09:44.290Z"
   },
   {
    "duration": 0,
    "start_time": "2022-12-27T05:09:44.292Z"
   },
   {
    "duration": 0,
    "start_time": "2022-12-27T05:09:44.293Z"
   },
   {
    "duration": 0,
    "start_time": "2022-12-27T05:09:44.294Z"
   },
   {
    "duration": 0,
    "start_time": "2022-12-27T05:09:44.295Z"
   },
   {
    "duration": 0,
    "start_time": "2022-12-27T05:09:44.296Z"
   },
   {
    "duration": 0,
    "start_time": "2022-12-27T05:09:44.297Z"
   },
   {
    "duration": 0,
    "start_time": "2022-12-27T05:09:44.298Z"
   },
   {
    "duration": 0,
    "start_time": "2022-12-27T05:09:44.300Z"
   },
   {
    "duration": 0,
    "start_time": "2022-12-27T05:09:44.301Z"
   },
   {
    "duration": 0,
    "start_time": "2022-12-27T05:09:44.302Z"
   },
   {
    "duration": 0,
    "start_time": "2022-12-27T05:09:44.303Z"
   },
   {
    "duration": 0,
    "start_time": "2022-12-27T05:09:44.304Z"
   },
   {
    "duration": 0,
    "start_time": "2022-12-27T05:09:44.305Z"
   },
   {
    "duration": 0,
    "start_time": "2022-12-27T05:09:44.306Z"
   },
   {
    "duration": 0,
    "start_time": "2022-12-27T05:09:44.307Z"
   },
   {
    "duration": 0,
    "start_time": "2022-12-27T05:09:44.308Z"
   },
   {
    "duration": 0,
    "start_time": "2022-12-27T05:09:44.309Z"
   },
   {
    "duration": 1,
    "start_time": "2022-12-27T05:09:44.310Z"
   },
   {
    "duration": 0,
    "start_time": "2022-12-27T05:09:44.311Z"
   },
   {
    "duration": 0,
    "start_time": "2022-12-27T05:09:44.312Z"
   },
   {
    "duration": 0,
    "start_time": "2022-12-27T05:09:44.314Z"
   },
   {
    "duration": 0,
    "start_time": "2022-12-27T05:09:44.315Z"
   },
   {
    "duration": 0,
    "start_time": "2022-12-27T05:09:44.316Z"
   },
   {
    "duration": 0,
    "start_time": "2022-12-27T05:09:44.378Z"
   },
   {
    "duration": 0,
    "start_time": "2022-12-27T05:09:44.379Z"
   },
   {
    "duration": 0,
    "start_time": "2022-12-27T05:09:44.381Z"
   },
   {
    "duration": 0,
    "start_time": "2022-12-27T05:09:44.382Z"
   },
   {
    "duration": 0,
    "start_time": "2022-12-27T05:09:44.384Z"
   },
   {
    "duration": 0,
    "start_time": "2022-12-27T05:09:44.385Z"
   },
   {
    "duration": 0,
    "start_time": "2022-12-27T05:09:44.386Z"
   },
   {
    "duration": 0,
    "start_time": "2022-12-27T05:09:44.388Z"
   },
   {
    "duration": 0,
    "start_time": "2022-12-27T05:09:44.389Z"
   },
   {
    "duration": 0,
    "start_time": "2022-12-27T05:09:44.391Z"
   },
   {
    "duration": 0,
    "start_time": "2022-12-27T05:09:44.392Z"
   },
   {
    "duration": 0,
    "start_time": "2022-12-27T05:09:44.393Z"
   },
   {
    "duration": 0,
    "start_time": "2022-12-27T05:09:44.395Z"
   },
   {
    "duration": 0,
    "start_time": "2022-12-27T05:09:44.396Z"
   },
   {
    "duration": 0,
    "start_time": "2022-12-27T05:09:44.397Z"
   },
   {
    "duration": 0,
    "start_time": "2022-12-27T05:09:44.398Z"
   },
   {
    "duration": 266,
    "start_time": "2022-12-27T05:10:09.344Z"
   },
   {
    "duration": 353,
    "start_time": "2022-12-27T05:10:09.612Z"
   },
   {
    "duration": 19,
    "start_time": "2022-12-27T05:10:09.967Z"
   },
   {
    "duration": 12,
    "start_time": "2022-12-27T05:10:09.988Z"
   },
   {
    "duration": 611,
    "start_time": "2022-12-27T05:10:10.002Z"
   },
   {
    "duration": 393,
    "start_time": "2022-12-27T05:10:10.614Z"
   },
   {
    "duration": 0,
    "start_time": "2022-12-27T05:10:11.012Z"
   },
   {
    "duration": 0,
    "start_time": "2022-12-27T05:10:11.014Z"
   },
   {
    "duration": 0,
    "start_time": "2022-12-27T05:10:11.014Z"
   },
   {
    "duration": 0,
    "start_time": "2022-12-27T05:10:11.016Z"
   },
   {
    "duration": 0,
    "start_time": "2022-12-27T05:10:11.018Z"
   },
   {
    "duration": 0,
    "start_time": "2022-12-27T05:10:11.020Z"
   },
   {
    "duration": 0,
    "start_time": "2022-12-27T05:10:11.021Z"
   },
   {
    "duration": 0,
    "start_time": "2022-12-27T05:10:11.023Z"
   },
   {
    "duration": 0,
    "start_time": "2022-12-27T05:10:11.024Z"
   },
   {
    "duration": 0,
    "start_time": "2022-12-27T05:10:11.025Z"
   },
   {
    "duration": 0,
    "start_time": "2022-12-27T05:10:11.026Z"
   },
   {
    "duration": 0,
    "start_time": "2022-12-27T05:10:11.027Z"
   },
   {
    "duration": 0,
    "start_time": "2022-12-27T05:10:11.028Z"
   },
   {
    "duration": 0,
    "start_time": "2022-12-27T05:10:11.029Z"
   },
   {
    "duration": 0,
    "start_time": "2022-12-27T05:10:11.030Z"
   },
   {
    "duration": 0,
    "start_time": "2022-12-27T05:10:11.031Z"
   },
   {
    "duration": 0,
    "start_time": "2022-12-27T05:10:11.033Z"
   },
   {
    "duration": 0,
    "start_time": "2022-12-27T05:10:11.034Z"
   },
   {
    "duration": 0,
    "start_time": "2022-12-27T05:10:11.035Z"
   },
   {
    "duration": 0,
    "start_time": "2022-12-27T05:10:11.036Z"
   },
   {
    "duration": 0,
    "start_time": "2022-12-27T05:10:11.078Z"
   },
   {
    "duration": 0,
    "start_time": "2022-12-27T05:10:11.079Z"
   },
   {
    "duration": 0,
    "start_time": "2022-12-27T05:10:11.081Z"
   },
   {
    "duration": 0,
    "start_time": "2022-12-27T05:10:11.082Z"
   },
   {
    "duration": 0,
    "start_time": "2022-12-27T05:10:11.083Z"
   },
   {
    "duration": 0,
    "start_time": "2022-12-27T05:10:11.084Z"
   },
   {
    "duration": 0,
    "start_time": "2022-12-27T05:10:11.085Z"
   },
   {
    "duration": 0,
    "start_time": "2022-12-27T05:10:11.086Z"
   },
   {
    "duration": 0,
    "start_time": "2022-12-27T05:10:11.088Z"
   },
   {
    "duration": 0,
    "start_time": "2022-12-27T05:10:11.089Z"
   },
   {
    "duration": 0,
    "start_time": "2022-12-27T05:10:11.090Z"
   },
   {
    "duration": 0,
    "start_time": "2022-12-27T05:10:11.091Z"
   },
   {
    "duration": 0,
    "start_time": "2022-12-27T05:10:11.092Z"
   },
   {
    "duration": 0,
    "start_time": "2022-12-27T05:10:11.094Z"
   },
   {
    "duration": 0,
    "start_time": "2022-12-27T05:10:11.095Z"
   },
   {
    "duration": 0,
    "start_time": "2022-12-27T05:10:11.096Z"
   },
   {
    "duration": 0,
    "start_time": "2022-12-27T05:10:11.098Z"
   },
   {
    "duration": 0,
    "start_time": "2022-12-27T05:10:11.099Z"
   },
   {
    "duration": 0,
    "start_time": "2022-12-27T05:10:11.100Z"
   },
   {
    "duration": 0,
    "start_time": "2022-12-27T05:10:11.101Z"
   },
   {
    "duration": 0,
    "start_time": "2022-12-27T05:10:11.102Z"
   },
   {
    "duration": 0,
    "start_time": "2022-12-27T05:10:11.103Z"
   },
   {
    "duration": 0,
    "start_time": "2022-12-27T05:10:11.104Z"
   },
   {
    "duration": 0,
    "start_time": "2022-12-27T05:10:11.105Z"
   },
   {
    "duration": 20,
    "start_time": "2022-12-27T05:10:28.009Z"
   },
   {
    "duration": 238,
    "start_time": "2022-12-27T05:10:28.888Z"
   },
   {
    "duration": 15,
    "start_time": "2022-12-27T05:10:29.936Z"
   },
   {
    "duration": 15,
    "start_time": "2022-12-27T05:10:30.138Z"
   },
   {
    "duration": 17,
    "start_time": "2022-12-27T05:10:31.019Z"
   },
   {
    "duration": 15,
    "start_time": "2022-12-27T05:10:31.414Z"
   },
   {
    "duration": 380,
    "start_time": "2022-12-27T05:10:31.617Z"
   },
   {
    "duration": 224,
    "start_time": "2022-12-27T05:10:32.368Z"
   },
   {
    "duration": 300,
    "start_time": "2022-12-27T05:10:33.034Z"
   },
   {
    "duration": 115,
    "start_time": "2022-12-27T05:10:33.633Z"
   },
   {
    "duration": 15,
    "start_time": "2022-12-27T05:10:34.021Z"
   },
   {
    "duration": 21,
    "start_time": "2022-12-27T05:10:34.793Z"
   },
   {
    "duration": 10461,
    "start_time": "2022-12-27T05:10:45.482Z"
   },
   {
    "duration": 42,
    "start_time": "2022-12-27T05:10:55.945Z"
   },
   {
    "duration": 343,
    "start_time": "2022-12-27T05:10:55.989Z"
   },
   {
    "duration": 113,
    "start_time": "2022-12-27T05:10:56.335Z"
   },
   {
    "duration": 39,
    "start_time": "2022-12-27T05:10:56.450Z"
   },
   {
    "duration": 17,
    "start_time": "2022-12-27T05:10:56.492Z"
   },
   {
    "duration": 22,
    "start_time": "2022-12-27T05:10:56.511Z"
   },
   {
    "duration": 47,
    "start_time": "2022-12-27T05:10:56.534Z"
   },
   {
    "duration": 25,
    "start_time": "2022-12-27T05:10:56.582Z"
   },
   {
    "duration": 0,
    "start_time": "2022-12-27T05:10:56.610Z"
   },
   {
    "duration": 0,
    "start_time": "2022-12-27T05:10:56.611Z"
   },
   {
    "duration": 0,
    "start_time": "2022-12-27T05:10:56.612Z"
   },
   {
    "duration": 0,
    "start_time": "2022-12-27T05:10:56.613Z"
   },
   {
    "duration": 0,
    "start_time": "2022-12-27T05:10:56.614Z"
   },
   {
    "duration": 0,
    "start_time": "2022-12-27T05:10:56.616Z"
   },
   {
    "duration": 0,
    "start_time": "2022-12-27T05:10:56.617Z"
   },
   {
    "duration": 0,
    "start_time": "2022-12-27T05:10:56.618Z"
   },
   {
    "duration": 0,
    "start_time": "2022-12-27T05:10:56.619Z"
   },
   {
    "duration": 0,
    "start_time": "2022-12-27T05:10:56.620Z"
   },
   {
    "duration": 0,
    "start_time": "2022-12-27T05:10:56.621Z"
   },
   {
    "duration": 0,
    "start_time": "2022-12-27T05:10:56.622Z"
   },
   {
    "duration": 0,
    "start_time": "2022-12-27T05:10:56.624Z"
   },
   {
    "duration": 0,
    "start_time": "2022-12-27T05:10:56.625Z"
   },
   {
    "duration": 18,
    "start_time": "2022-12-27T05:10:59.001Z"
   },
   {
    "duration": 17,
    "start_time": "2022-12-27T05:11:02.410Z"
   },
   {
    "duration": 13,
    "start_time": "2022-12-27T05:11:03.497Z"
   },
   {
    "duration": 17,
    "start_time": "2022-12-27T05:11:04.785Z"
   },
   {
    "duration": 18,
    "start_time": "2022-12-27T05:11:13.041Z"
   },
   {
    "duration": 21,
    "start_time": "2022-12-27T05:11:13.698Z"
   },
   {
    "duration": 18,
    "start_time": "2022-12-27T05:11:14.199Z"
   },
   {
    "duration": 20,
    "start_time": "2022-12-27T05:11:20.913Z"
   },
   {
    "duration": 13,
    "start_time": "2022-12-27T05:11:22.705Z"
   },
   {
    "duration": 245,
    "start_time": "2022-12-27T05:11:24.050Z"
   },
   {
    "duration": 12,
    "start_time": "2022-12-27T05:11:25.377Z"
   },
   {
    "duration": 244,
    "start_time": "2022-12-27T05:11:25.865Z"
   },
   {
    "duration": 11,
    "start_time": "2022-12-27T05:11:26.753Z"
   },
   {
    "duration": 15,
    "start_time": "2022-12-27T05:11:26.945Z"
   },
   {
    "duration": 16,
    "start_time": "2022-12-27T05:11:27.329Z"
   },
   {
    "duration": 1620,
    "start_time": "2022-12-27T05:11:28.945Z"
   },
   {
    "duration": 69,
    "start_time": "2022-12-27T05:14:37.276Z"
   },
   {
    "duration": 717,
    "start_time": "2022-12-27T05:43:49.701Z"
   },
   {
    "duration": 123,
    "start_time": "2022-12-27T05:43:50.724Z"
   },
   {
    "duration": 9,
    "start_time": "2022-12-27T05:43:51.412Z"
   },
   {
    "duration": 16,
    "start_time": "2022-12-27T05:43:52.203Z"
   },
   {
    "duration": 7,
    "start_time": "2022-12-27T05:43:52.716Z"
   },
   {
    "duration": 15,
    "start_time": "2022-12-27T05:43:53.315Z"
   },
   {
    "duration": 79,
    "start_time": "2022-12-27T05:43:53.636Z"
   },
   {
    "duration": 82,
    "start_time": "2022-12-27T05:43:54.564Z"
   },
   {
    "duration": 207,
    "start_time": "2022-12-27T05:43:55.757Z"
   },
   {
    "duration": 229,
    "start_time": "2022-12-27T05:43:57.771Z"
   },
   {
    "duration": 780,
    "start_time": "2022-12-27T05:43:58.643Z"
   },
   {
    "duration": 17,
    "start_time": "2022-12-27T05:58:05.021Z"
   },
   {
    "duration": 20,
    "start_time": "2022-12-27T05:58:05.468Z"
   },
   {
    "duration": 182,
    "start_time": "2022-12-27T05:58:05.924Z"
   },
   {
    "duration": 161,
    "start_time": "2022-12-27T05:58:10.195Z"
   },
   {
    "duration": 5,
    "start_time": "2022-12-27T05:58:10.709Z"
   },
   {
    "duration": 239,
    "start_time": "2022-12-27T05:58:12.181Z"
   },
   {
    "duration": 11,
    "start_time": "2022-12-27T05:58:13.315Z"
   },
   {
    "duration": 248,
    "start_time": "2022-12-27T05:58:13.788Z"
   },
   {
    "duration": 13,
    "start_time": "2022-12-27T05:58:14.827Z"
   },
   {
    "duration": 15,
    "start_time": "2022-12-27T05:58:15.020Z"
   },
   {
    "duration": 18,
    "start_time": "2022-12-27T05:58:15.635Z"
   },
   {
    "duration": 1606,
    "start_time": "2022-12-27T05:58:19.391Z"
   },
   {
    "duration": 1504,
    "start_time": "2023-02-01T01:58:36.020Z"
   },
   {
    "duration": 128,
    "start_time": "2023-02-01T01:58:37.526Z"
   },
   {
    "duration": 16,
    "start_time": "2023-02-01T01:58:37.655Z"
   },
   {
    "duration": 65,
    "start_time": "2023-02-01T01:58:37.674Z"
   },
   {
    "duration": 12,
    "start_time": "2023-02-01T01:58:37.741Z"
   },
   {
    "duration": 41,
    "start_time": "2023-02-01T01:58:37.755Z"
   },
   {
    "duration": 4,
    "start_time": "2023-02-01T01:58:37.797Z"
   },
   {
    "duration": 5,
    "start_time": "2023-02-01T01:58:37.803Z"
   },
   {
    "duration": 9,
    "start_time": "2023-02-01T01:58:37.809Z"
   },
   {
    "duration": 11,
    "start_time": "2023-02-01T01:58:37.820Z"
   },
   {
    "duration": 9,
    "start_time": "2023-02-01T01:58:37.833Z"
   },
   {
    "duration": 7,
    "start_time": "2023-02-01T01:58:37.843Z"
   },
   {
    "duration": 56,
    "start_time": "2023-02-01T01:58:37.851Z"
   },
   {
    "duration": 4,
    "start_time": "2023-02-01T01:58:37.909Z"
   },
   {
    "duration": 12,
    "start_time": "2023-02-01T01:58:37.914Z"
   },
   {
    "duration": 16,
    "start_time": "2023-02-01T01:58:37.928Z"
   },
   {
    "duration": 4,
    "start_time": "2023-02-01T01:58:37.945Z"
   },
   {
    "duration": 15,
    "start_time": "2023-02-01T01:58:37.951Z"
   },
   {
    "duration": 14,
    "start_time": "2023-02-01T01:58:37.992Z"
   },
   {
    "duration": 12,
    "start_time": "2023-02-01T01:58:38.008Z"
   },
   {
    "duration": 20,
    "start_time": "2023-02-01T01:58:38.021Z"
   },
   {
    "duration": 3,
    "start_time": "2023-02-01T01:58:38.043Z"
   },
   {
    "duration": 390,
    "start_time": "2023-02-01T01:58:38.048Z"
   },
   {
    "duration": 393,
    "start_time": "2023-02-01T01:58:38.440Z"
   },
   {
    "duration": 384,
    "start_time": "2023-02-01T01:58:38.835Z"
   },
   {
    "duration": 5,
    "start_time": "2023-02-01T01:58:39.220Z"
   },
   {
    "duration": 312,
    "start_time": "2023-02-01T01:58:39.227Z"
   },
   {
    "duration": 326,
    "start_time": "2023-02-01T01:58:39.543Z"
   },
   {
    "duration": 289,
    "start_time": "2023-02-01T01:58:39.870Z"
   },
   {
    "duration": 0,
    "start_time": "2023-02-01T01:58:40.161Z"
   },
   {
    "duration": 0,
    "start_time": "2023-02-01T01:58:40.162Z"
   },
   {
    "duration": 0,
    "start_time": "2023-02-01T01:58:40.163Z"
   },
   {
    "duration": 0,
    "start_time": "2023-02-01T01:58:40.164Z"
   },
   {
    "duration": 0,
    "start_time": "2023-02-01T01:58:40.165Z"
   },
   {
    "duration": 0,
    "start_time": "2023-02-01T01:58:40.166Z"
   },
   {
    "duration": 0,
    "start_time": "2023-02-01T01:58:40.167Z"
   },
   {
    "duration": 0,
    "start_time": "2023-02-01T01:58:40.168Z"
   },
   {
    "duration": 0,
    "start_time": "2023-02-01T01:58:40.169Z"
   },
   {
    "duration": 0,
    "start_time": "2023-02-01T01:58:40.170Z"
   },
   {
    "duration": 0,
    "start_time": "2023-02-01T01:58:40.171Z"
   },
   {
    "duration": 0,
    "start_time": "2023-02-01T01:58:40.191Z"
   },
   {
    "duration": 0,
    "start_time": "2023-02-01T01:58:40.193Z"
   },
   {
    "duration": 0,
    "start_time": "2023-02-01T01:58:40.194Z"
   },
   {
    "duration": 0,
    "start_time": "2023-02-01T01:58:40.195Z"
   },
   {
    "duration": 0,
    "start_time": "2023-02-01T01:58:40.196Z"
   },
   {
    "duration": 0,
    "start_time": "2023-02-01T01:58:40.197Z"
   },
   {
    "duration": 0,
    "start_time": "2023-02-01T01:58:40.198Z"
   },
   {
    "duration": 0,
    "start_time": "2023-02-01T01:58:40.199Z"
   },
   {
    "duration": 0,
    "start_time": "2023-02-01T01:58:40.200Z"
   },
   {
    "duration": 0,
    "start_time": "2023-02-01T01:58:40.201Z"
   },
   {
    "duration": 0,
    "start_time": "2023-02-01T01:58:40.202Z"
   },
   {
    "duration": 6,
    "start_time": "2023-02-01T02:00:51.175Z"
   },
   {
    "duration": 185,
    "start_time": "2023-02-01T02:00:51.183Z"
   },
   {
    "duration": 0,
    "start_time": "2023-02-01T02:00:51.370Z"
   },
   {
    "duration": 0,
    "start_time": "2023-02-01T02:00:51.371Z"
   },
   {
    "duration": 0,
    "start_time": "2023-02-01T02:00:51.372Z"
   },
   {
    "duration": 0,
    "start_time": "2023-02-01T02:00:51.373Z"
   },
   {
    "duration": 0,
    "start_time": "2023-02-01T02:00:51.374Z"
   },
   {
    "duration": 0,
    "start_time": "2023-02-01T02:00:51.375Z"
   },
   {
    "duration": 0,
    "start_time": "2023-02-01T02:00:51.376Z"
   },
   {
    "duration": 0,
    "start_time": "2023-02-01T02:00:51.392Z"
   },
   {
    "duration": 0,
    "start_time": "2023-02-01T02:00:51.393Z"
   },
   {
    "duration": 0,
    "start_time": "2023-02-01T02:00:51.395Z"
   },
   {
    "duration": 0,
    "start_time": "2023-02-01T02:00:51.396Z"
   },
   {
    "duration": 0,
    "start_time": "2023-02-01T02:00:51.397Z"
   },
   {
    "duration": 0,
    "start_time": "2023-02-01T02:00:51.399Z"
   },
   {
    "duration": 0,
    "start_time": "2023-02-01T02:00:51.400Z"
   },
   {
    "duration": 0,
    "start_time": "2023-02-01T02:00:51.402Z"
   },
   {
    "duration": 0,
    "start_time": "2023-02-01T02:00:51.403Z"
   },
   {
    "duration": 0,
    "start_time": "2023-02-01T02:00:51.405Z"
   },
   {
    "duration": 0,
    "start_time": "2023-02-01T02:00:51.407Z"
   },
   {
    "duration": 0,
    "start_time": "2023-02-01T02:00:51.408Z"
   },
   {
    "duration": 0,
    "start_time": "2023-02-01T02:00:51.410Z"
   },
   {
    "duration": 233,
    "start_time": "2023-02-01T02:05:22.506Z"
   },
   {
    "duration": 328,
    "start_time": "2023-02-01T02:05:40.638Z"
   },
   {
    "duration": 167,
    "start_time": "2023-02-01T02:05:48.620Z"
   },
   {
    "duration": 221,
    "start_time": "2023-02-01T02:06:06.307Z"
   },
   {
    "duration": 234,
    "start_time": "2023-02-01T02:07:26.811Z"
   },
   {
    "duration": 178,
    "start_time": "2023-02-01T02:10:19.318Z"
   },
   {
    "duration": 231,
    "start_time": "2023-02-01T02:13:20.949Z"
   },
   {
    "duration": 234,
    "start_time": "2023-02-01T02:13:49.604Z"
   },
   {
    "duration": 237,
    "start_time": "2023-02-01T02:14:09.232Z"
   },
   {
    "duration": 241,
    "start_time": "2023-02-01T02:14:15.582Z"
   },
   {
    "duration": 215,
    "start_time": "2023-02-01T02:14:36.136Z"
   },
   {
    "duration": 48,
    "start_time": "2023-02-01T02:16:34.510Z"
   },
   {
    "duration": 173,
    "start_time": "2023-02-01T02:16:41.896Z"
   },
   {
    "duration": 292,
    "start_time": "2023-02-01T02:17:32.626Z"
   },
   {
    "duration": 145,
    "start_time": "2023-02-01T02:18:07.767Z"
   },
   {
    "duration": 95,
    "start_time": "2023-02-01T02:18:27.772Z"
   },
   {
    "duration": 94,
    "start_time": "2023-02-01T02:18:36.040Z"
   },
   {
    "duration": 207,
    "start_time": "2023-02-01T02:19:00.827Z"
   },
   {
    "duration": 4,
    "start_time": "2023-02-01T02:19:32.280Z"
   },
   {
    "duration": 182,
    "start_time": "2023-02-01T02:20:03.656Z"
   },
   {
    "duration": 191,
    "start_time": "2023-02-01T02:20:09.585Z"
   },
   {
    "duration": 196,
    "start_time": "2023-02-01T02:20:37.267Z"
   },
   {
    "duration": 231,
    "start_time": "2023-02-01T02:22:58.574Z"
   },
   {
    "duration": 216,
    "start_time": "2023-02-01T02:23:11.172Z"
   },
   {
    "duration": 196,
    "start_time": "2023-02-01T02:23:25.616Z"
   },
   {
    "duration": 335,
    "start_time": "2023-02-01T02:23:43.531Z"
   },
   {
    "duration": 208,
    "start_time": "2023-02-01T02:25:14.076Z"
   },
   {
    "duration": 200,
    "start_time": "2023-02-01T02:25:25.067Z"
   },
   {
    "duration": 11,
    "start_time": "2023-02-01T02:27:03.613Z"
   },
   {
    "duration": 237,
    "start_time": "2023-02-01T02:28:32.922Z"
   },
   {
    "duration": 211,
    "start_time": "2023-02-01T02:28:41.929Z"
   },
   {
    "duration": 198,
    "start_time": "2023-02-01T02:28:46.728Z"
   },
   {
    "duration": 11,
    "start_time": "2023-02-01T02:33:33.025Z"
   },
   {
    "duration": 46,
    "start_time": "2023-02-01T02:34:33.714Z"
   },
   {
    "duration": 50,
    "start_time": "2023-02-01T02:34:39.373Z"
   },
   {
    "duration": 48,
    "start_time": "2023-02-01T02:34:54.349Z"
   },
   {
    "duration": 67,
    "start_time": "2023-02-01T02:34:59.566Z"
   },
   {
    "duration": 11,
    "start_time": "2023-02-01T02:35:14.719Z"
   },
   {
    "duration": 14,
    "start_time": "2023-02-01T02:36:05.741Z"
   },
   {
    "duration": 11,
    "start_time": "2023-02-01T02:36:19.611Z"
   },
   {
    "duration": 8,
    "start_time": "2023-02-01T02:36:38.866Z"
   },
   {
    "duration": 10,
    "start_time": "2023-02-01T02:37:09.040Z"
   },
   {
    "duration": 12,
    "start_time": "2023-02-01T02:38:12.176Z"
   },
   {
    "duration": 213,
    "start_time": "2023-02-01T02:39:18.372Z"
   },
   {
    "duration": 14,
    "start_time": "2023-02-01T02:43:46.428Z"
   },
   {
    "duration": 20,
    "start_time": "2023-02-01T02:43:57.073Z"
   },
   {
    "duration": 15,
    "start_time": "2023-02-01T02:44:09.350Z"
   },
   {
    "duration": 14,
    "start_time": "2023-02-01T02:44:18.704Z"
   },
   {
    "duration": 14,
    "start_time": "2023-02-01T02:44:24.345Z"
   },
   {
    "duration": 203,
    "start_time": "2023-02-01T02:44:58.445Z"
   },
   {
    "duration": 204,
    "start_time": "2023-02-01T02:45:17.053Z"
   },
   {
    "duration": 307,
    "start_time": "2023-02-01T02:45:27.547Z"
   },
   {
    "duration": 193,
    "start_time": "2023-02-01T02:45:54.703Z"
   },
   {
    "duration": 197,
    "start_time": "2023-02-01T02:46:01.982Z"
   },
   {
    "duration": 209,
    "start_time": "2023-02-01T02:46:08.369Z"
   },
   {
    "duration": 209,
    "start_time": "2023-02-01T02:46:29.865Z"
   },
   {
    "duration": 7,
    "start_time": "2023-02-01T02:47:36.317Z"
   },
   {
    "duration": 189,
    "start_time": "2023-02-01T02:47:38.086Z"
   },
   {
    "duration": 58,
    "start_time": "2023-02-01T02:48:51.676Z"
   },
   {
    "duration": 6,
    "start_time": "2023-02-01T02:49:05.046Z"
   },
   {
    "duration": 85,
    "start_time": "2023-02-01T02:49:07.022Z"
   },
   {
    "duration": 6,
    "start_time": "2023-02-01T02:49:32.008Z"
   },
   {
    "duration": 129,
    "start_time": "2023-02-01T02:49:33.868Z"
   },
   {
    "duration": 6,
    "start_time": "2023-02-01T02:49:52.097Z"
   },
   {
    "duration": 133,
    "start_time": "2023-02-01T02:49:54.269Z"
   },
   {
    "duration": 7,
    "start_time": "2023-02-01T02:50:16.313Z"
   },
   {
    "duration": 159,
    "start_time": "2023-02-01T02:50:17.665Z"
   },
   {
    "duration": 4,
    "start_time": "2023-02-01T02:52:35.238Z"
   },
   {
    "duration": 7697,
    "start_time": "2023-02-01T02:52:50.913Z"
   },
   {
    "duration": 3,
    "start_time": "2023-02-01T02:53:05.889Z"
   },
   {
    "duration": 3,
    "start_time": "2023-02-01T02:53:07.365Z"
   },
   {
    "duration": 3,
    "start_time": "2023-02-01T02:53:13.520Z"
   },
   {
    "duration": 186,
    "start_time": "2023-02-01T02:53:18.711Z"
   },
   {
    "duration": 1437,
    "start_time": "2023-02-01T02:53:47.393Z"
   },
   {
    "duration": 95,
    "start_time": "2023-02-01T02:53:48.832Z"
   },
   {
    "duration": 20,
    "start_time": "2023-02-01T02:53:48.929Z"
   },
   {
    "duration": 68,
    "start_time": "2023-02-01T02:53:48.951Z"
   },
   {
    "duration": 13,
    "start_time": "2023-02-01T02:53:49.021Z"
   },
   {
    "duration": 42,
    "start_time": "2023-02-01T02:53:49.036Z"
   },
   {
    "duration": 4,
    "start_time": "2023-02-01T02:53:49.092Z"
   },
   {
    "duration": 14,
    "start_time": "2023-02-01T02:53:49.097Z"
   },
   {
    "duration": 9,
    "start_time": "2023-02-01T02:53:49.113Z"
   },
   {
    "duration": 14,
    "start_time": "2023-02-01T02:53:49.124Z"
   },
   {
    "duration": 10,
    "start_time": "2023-02-01T02:53:49.139Z"
   },
   {
    "duration": 13,
    "start_time": "2023-02-01T02:53:49.150Z"
   },
   {
    "duration": 33,
    "start_time": "2023-02-01T02:53:49.164Z"
   },
   {
    "duration": 4,
    "start_time": "2023-02-01T02:53:49.199Z"
   },
   {
    "duration": 11,
    "start_time": "2023-02-01T02:53:49.204Z"
   },
   {
    "duration": 16,
    "start_time": "2023-02-01T02:53:49.216Z"
   },
   {
    "duration": 3,
    "start_time": "2023-02-01T02:53:49.233Z"
   },
   {
    "duration": 19,
    "start_time": "2023-02-01T02:53:49.237Z"
   },
   {
    "duration": 34,
    "start_time": "2023-02-01T02:53:49.257Z"
   },
   {
    "duration": 11,
    "start_time": "2023-02-01T02:53:49.293Z"
   },
   {
    "duration": 21,
    "start_time": "2023-02-01T02:53:49.305Z"
   },
   {
    "duration": 4,
    "start_time": "2023-02-01T02:53:49.327Z"
   },
   {
    "duration": 533,
    "start_time": "2023-02-01T02:53:49.332Z"
   },
   {
    "duration": 419,
    "start_time": "2023-02-01T02:53:49.867Z"
   },
   {
    "duration": 593,
    "start_time": "2023-02-01T02:53:50.287Z"
   },
   {
    "duration": 9,
    "start_time": "2023-02-01T02:53:50.882Z"
   },
   {
    "duration": 500,
    "start_time": "2023-02-01T02:53:50.893Z"
   },
   {
    "duration": 505,
    "start_time": "2023-02-01T02:53:51.396Z"
   },
   {
    "duration": 302,
    "start_time": "2023-02-01T02:53:51.903Z"
   },
   {
    "duration": 6,
    "start_time": "2023-02-01T02:53:52.208Z"
   },
   {
    "duration": 321,
    "start_time": "2023-02-01T02:53:52.215Z"
   },
   {
    "duration": 3,
    "start_time": "2023-02-01T02:53:52.538Z"
   },
   {
    "duration": 2737,
    "start_time": "2023-02-01T02:53:52.543Z"
   },
   {
    "duration": 342,
    "start_time": "2023-02-01T02:53:55.283Z"
   },
   {
    "duration": 5,
    "start_time": "2023-02-01T02:53:55.627Z"
   },
   {
    "duration": 10,
    "start_time": "2023-02-01T02:53:55.634Z"
   },
   {
    "duration": 397,
    "start_time": "2023-02-01T02:53:55.645Z"
   },
   {
    "duration": 311,
    "start_time": "2023-02-01T02:53:56.044Z"
   },
   {
    "duration": 802,
    "start_time": "2023-02-01T02:53:56.357Z"
   },
   {
    "duration": 8592,
    "start_time": "2023-02-01T02:53:57.160Z"
   },
   {
    "duration": 16586,
    "start_time": "2023-02-01T02:54:05.754Z"
   },
   {
    "duration": 32,
    "start_time": "2023-02-01T02:54:22.342Z"
   },
   {
    "duration": 19,
    "start_time": "2023-02-01T02:54:22.376Z"
   },
   {
    "duration": 23,
    "start_time": "2023-02-01T02:54:22.397Z"
   },
   {
    "duration": 37,
    "start_time": "2023-02-01T02:54:22.422Z"
   },
   {
    "duration": 8,
    "start_time": "2023-02-01T02:54:22.461Z"
   },
   {
    "duration": 42,
    "start_time": "2023-02-01T02:54:22.470Z"
   },
   {
    "duration": 22,
    "start_time": "2023-02-01T02:54:22.513Z"
   },
   {
    "duration": 4,
    "start_time": "2023-02-01T02:54:22.536Z"
   },
   {
    "duration": 20,
    "start_time": "2023-02-01T02:54:22.542Z"
   },
   {
    "duration": 43,
    "start_time": "2023-02-01T02:54:22.564Z"
   },
   {
    "duration": 14,
    "start_time": "2023-02-01T02:54:22.608Z"
   },
   {
    "duration": 13,
    "start_time": "2023-02-01T02:54:22.624Z"
   },
   {
    "duration": 2566,
    "start_time": "2023-02-01T02:54:49.407Z"
   },
   {
    "duration": 1383,
    "start_time": "2023-02-01T02:55:14.438Z"
   },
   {
    "duration": 2536,
    "start_time": "2023-02-01T02:55:15.823Z"
   },
   {
    "duration": 83,
    "start_time": "2023-02-01T02:55:18.361Z"
   },
   {
    "duration": 24,
    "start_time": "2023-02-01T02:55:18.446Z"
   },
   {
    "duration": 80,
    "start_time": "2023-02-01T02:55:18.471Z"
   },
   {
    "duration": 12,
    "start_time": "2023-02-01T02:55:18.553Z"
   },
   {
    "duration": 33,
    "start_time": "2023-02-01T02:55:18.566Z"
   },
   {
    "duration": 3,
    "start_time": "2023-02-01T02:55:18.601Z"
   },
   {
    "duration": 9,
    "start_time": "2023-02-01T02:55:18.605Z"
   },
   {
    "duration": 12,
    "start_time": "2023-02-01T02:55:18.616Z"
   },
   {
    "duration": 15,
    "start_time": "2023-02-01T02:55:18.629Z"
   },
   {
    "duration": 8,
    "start_time": "2023-02-01T02:55:18.645Z"
   },
   {
    "duration": 17,
    "start_time": "2023-02-01T02:55:18.655Z"
   },
   {
    "duration": 27,
    "start_time": "2023-02-01T02:55:18.673Z"
   },
   {
    "duration": 4,
    "start_time": "2023-02-01T02:55:18.702Z"
   },
   {
    "duration": 17,
    "start_time": "2023-02-01T02:55:18.708Z"
   },
   {
    "duration": 17,
    "start_time": "2023-02-01T02:55:18.727Z"
   },
   {
    "duration": 9,
    "start_time": "2023-02-01T02:55:18.746Z"
   },
   {
    "duration": 28,
    "start_time": "2023-02-01T02:55:18.757Z"
   },
   {
    "duration": 16,
    "start_time": "2023-02-01T02:55:18.786Z"
   },
   {
    "duration": 16,
    "start_time": "2023-02-01T02:55:18.803Z"
   },
   {
    "duration": 34,
    "start_time": "2023-02-01T02:55:18.821Z"
   },
   {
    "duration": 8,
    "start_time": "2023-02-01T02:55:18.856Z"
   },
   {
    "duration": 544,
    "start_time": "2023-02-01T02:55:18.866Z"
   },
   {
    "duration": 427,
    "start_time": "2023-02-01T02:55:19.412Z"
   },
   {
    "duration": 610,
    "start_time": "2023-02-01T02:55:19.841Z"
   },
   {
    "duration": 5,
    "start_time": "2023-02-01T02:55:20.453Z"
   },
   {
    "duration": 501,
    "start_time": "2023-02-01T02:55:20.460Z"
   },
   {
    "duration": 508,
    "start_time": "2023-02-01T02:55:20.962Z"
   },
   {
    "duration": 306,
    "start_time": "2023-02-01T02:55:21.471Z"
   },
   {
    "duration": 13,
    "start_time": "2023-02-01T02:55:21.779Z"
   },
   {
    "duration": 325,
    "start_time": "2023-02-01T02:55:21.793Z"
   },
   {
    "duration": 301,
    "start_time": "2023-02-01T02:55:22.119Z"
   },
   {
    "duration": 5,
    "start_time": "2023-02-01T02:55:22.422Z"
   },
   {
    "duration": 10,
    "start_time": "2023-02-01T02:55:22.428Z"
   },
   {
    "duration": 361,
    "start_time": "2023-02-01T02:55:22.439Z"
   },
   {
    "duration": 254,
    "start_time": "2023-02-01T02:55:22.802Z"
   },
   {
    "duration": 667,
    "start_time": "2023-02-01T02:55:23.057Z"
   },
   {
    "duration": 8419,
    "start_time": "2023-02-01T02:55:23.726Z"
   },
   {
    "duration": 15487,
    "start_time": "2023-02-01T02:55:32.147Z"
   },
   {
    "duration": 31,
    "start_time": "2023-02-01T02:55:47.636Z"
   },
   {
    "duration": 22,
    "start_time": "2023-02-01T02:55:47.669Z"
   },
   {
    "duration": 20,
    "start_time": "2023-02-01T02:55:47.693Z"
   },
   {
    "duration": 41,
    "start_time": "2023-02-01T02:55:47.714Z"
   },
   {
    "duration": 8,
    "start_time": "2023-02-01T02:55:47.756Z"
   },
   {
    "duration": 37,
    "start_time": "2023-02-01T02:55:47.766Z"
   },
   {
    "duration": 26,
    "start_time": "2023-02-01T02:55:47.804Z"
   },
   {
    "duration": 5,
    "start_time": "2023-02-01T02:55:47.832Z"
   },
   {
    "duration": 24,
    "start_time": "2023-02-01T02:55:47.838Z"
   },
   {
    "duration": 35,
    "start_time": "2023-02-01T02:55:47.863Z"
   },
   {
    "duration": 14,
    "start_time": "2023-02-01T02:55:47.899Z"
   },
   {
    "duration": 12,
    "start_time": "2023-02-01T02:55:47.915Z"
   },
   {
    "duration": 348,
    "start_time": "2023-02-01T02:55:58.145Z"
   },
   {
    "duration": 53,
    "start_time": "2023-02-02T02:22:12.783Z"
   },
   {
    "duration": 47,
    "start_time": "2023-02-02T02:23:08.177Z"
   },
   {
    "duration": 44,
    "start_time": "2023-02-02T02:23:43.793Z"
   },
   {
    "duration": 43,
    "start_time": "2023-02-02T02:23:50.875Z"
   },
   {
    "duration": 48,
    "start_time": "2023-02-02T02:24:22.923Z"
   },
   {
    "duration": 46,
    "start_time": "2023-02-02T02:25:43.893Z"
   },
   {
    "duration": 61,
    "start_time": "2023-02-02T02:26:51.944Z"
   },
   {
    "duration": 48,
    "start_time": "2023-02-02T02:28:11.441Z"
   },
   {
    "duration": 42,
    "start_time": "2023-02-02T02:29:35.354Z"
   },
   {
    "duration": 37,
    "start_time": "2023-02-02T02:30:08.075Z"
   },
   {
    "duration": 56,
    "start_time": "2023-02-02T09:08:13.046Z"
   },
   {
    "duration": 1777,
    "start_time": "2023-02-02T09:08:19.340Z"
   },
   {
    "duration": 8704,
    "start_time": "2023-02-02T09:08:21.120Z"
   },
   {
    "duration": 101,
    "start_time": "2023-02-02T09:08:29.826Z"
   },
   {
    "duration": 23,
    "start_time": "2023-02-02T09:08:29.929Z"
   },
   {
    "duration": 74,
    "start_time": "2023-02-02T09:08:29.954Z"
   },
   {
    "duration": 14,
    "start_time": "2023-02-02T09:08:30.030Z"
   },
   {
    "duration": 39,
    "start_time": "2023-02-02T09:08:30.046Z"
   },
   {
    "duration": 6,
    "start_time": "2023-02-02T09:08:30.088Z"
   },
   {
    "duration": 21,
    "start_time": "2023-02-02T09:08:30.096Z"
   },
   {
    "duration": 26,
    "start_time": "2023-02-02T09:08:30.119Z"
   },
   {
    "duration": 39,
    "start_time": "2023-02-02T09:08:30.147Z"
   },
   {
    "duration": 25,
    "start_time": "2023-02-02T09:08:30.188Z"
   },
   {
    "duration": 11,
    "start_time": "2023-02-02T09:08:30.215Z"
   },
   {
    "duration": 38,
    "start_time": "2023-02-02T09:08:30.229Z"
   },
   {
    "duration": 18,
    "start_time": "2023-02-02T09:08:30.269Z"
   },
   {
    "duration": 26,
    "start_time": "2023-02-02T09:08:30.289Z"
   },
   {
    "duration": 33,
    "start_time": "2023-02-02T09:08:30.316Z"
   },
   {
    "duration": 4,
    "start_time": "2023-02-02T09:08:30.351Z"
   },
   {
    "duration": 42,
    "start_time": "2023-02-02T09:08:30.356Z"
   },
   {
    "duration": 28,
    "start_time": "2023-02-02T09:08:30.400Z"
   },
   {
    "duration": 32,
    "start_time": "2023-02-02T09:08:30.429Z"
   },
   {
    "duration": 44,
    "start_time": "2023-02-02T09:08:30.463Z"
   },
   {
    "duration": 5,
    "start_time": "2023-02-02T09:08:30.509Z"
   },
   {
    "duration": 447,
    "start_time": "2023-02-02T09:08:30.516Z"
   },
   {
    "duration": 428,
    "start_time": "2023-02-02T09:08:30.964Z"
   },
   {
    "duration": 458,
    "start_time": "2023-02-02T09:08:31.393Z"
   },
   {
    "duration": 6,
    "start_time": "2023-02-02T09:08:31.852Z"
   },
   {
    "duration": 357,
    "start_time": "2023-02-02T09:08:31.859Z"
   },
   {
    "duration": 360,
    "start_time": "2023-02-02T09:08:32.217Z"
   },
   {
    "duration": 326,
    "start_time": "2023-02-02T09:08:32.579Z"
   },
   {
    "duration": 60,
    "start_time": "2023-02-02T09:08:35.943Z"
   },
   {
    "duration": 55,
    "start_time": "2023-02-02T09:08:42.891Z"
   },
   {
    "duration": 8,
    "start_time": "2023-02-02T09:09:02.338Z"
   },
   {
    "duration": 8,
    "start_time": "2023-02-02T09:09:18.093Z"
   },
   {
    "duration": 281,
    "start_time": "2023-02-02T09:09:20.463Z"
   },
   {
    "duration": 7,
    "start_time": "2023-02-02T09:09:39.063Z"
   },
   {
    "duration": 195,
    "start_time": "2023-02-02T09:09:41.238Z"
   },
   {
    "duration": 5,
    "start_time": "2023-02-02T09:10:03.299Z"
   },
   {
    "duration": 342,
    "start_time": "2023-02-02T09:10:05.676Z"
   },
   {
    "duration": 9,
    "start_time": "2023-02-02T09:10:14.086Z"
   },
   {
    "duration": 254,
    "start_time": "2023-02-02T09:10:29.387Z"
   },
   {
    "duration": 186,
    "start_time": "2023-02-02T09:10:56.842Z"
   },
   {
    "duration": 17,
    "start_time": "2023-02-02T09:11:03.182Z"
   },
   {
    "duration": 10,
    "start_time": "2023-02-02T09:11:10.573Z"
   },
   {
    "duration": 5,
    "start_time": "2023-02-02T09:11:14.537Z"
   },
   {
    "duration": 6,
    "start_time": "2023-02-02T09:11:15.640Z"
   },
   {
    "duration": 198,
    "start_time": "2023-02-02T09:11:16.736Z"
   },
   {
    "duration": 3555,
    "start_time": "2023-02-02T09:11:26.603Z"
   },
   {
    "duration": 1456,
    "start_time": "2023-02-02T09:11:39.591Z"
   },
   {
    "duration": 2766,
    "start_time": "2023-02-02T09:11:41.049Z"
   },
   {
    "duration": 259,
    "start_time": "2023-02-02T09:11:43.819Z"
   },
   {
    "duration": 20,
    "start_time": "2023-02-02T09:11:44.080Z"
   },
   {
    "duration": 62,
    "start_time": "2023-02-02T09:11:44.102Z"
   },
   {
    "duration": 13,
    "start_time": "2023-02-02T09:11:44.166Z"
   },
   {
    "duration": 47,
    "start_time": "2023-02-02T09:11:44.181Z"
   },
   {
    "duration": 23,
    "start_time": "2023-02-02T09:11:44.230Z"
   },
   {
    "duration": 7,
    "start_time": "2023-02-02T09:11:44.255Z"
   },
   {
    "duration": 9,
    "start_time": "2023-02-02T09:11:44.266Z"
   },
   {
    "duration": 18,
    "start_time": "2023-02-02T09:11:44.277Z"
   },
   {
    "duration": 11,
    "start_time": "2023-02-02T09:11:44.298Z"
   },
   {
    "duration": 6,
    "start_time": "2023-02-02T09:11:44.311Z"
   },
   {
    "duration": 49,
    "start_time": "2023-02-02T09:11:44.319Z"
   },
   {
    "duration": 4,
    "start_time": "2023-02-02T09:11:44.369Z"
   },
   {
    "duration": 12,
    "start_time": "2023-02-02T09:11:44.375Z"
   },
   {
    "duration": 20,
    "start_time": "2023-02-02T09:11:44.389Z"
   },
   {
    "duration": 4,
    "start_time": "2023-02-02T09:11:44.410Z"
   },
   {
    "duration": 42,
    "start_time": "2023-02-02T09:11:44.416Z"
   },
   {
    "duration": 14,
    "start_time": "2023-02-02T09:11:44.459Z"
   },
   {
    "duration": 14,
    "start_time": "2023-02-02T09:11:44.474Z"
   },
   {
    "duration": 21,
    "start_time": "2023-02-02T09:11:44.490Z"
   },
   {
    "duration": 4,
    "start_time": "2023-02-02T09:11:44.513Z"
   },
   {
    "duration": 626,
    "start_time": "2023-02-02T09:11:44.549Z"
   },
   {
    "duration": 462,
    "start_time": "2023-02-02T09:11:45.176Z"
   },
   {
    "duration": 665,
    "start_time": "2023-02-02T09:11:45.641Z"
   },
   {
    "duration": 9,
    "start_time": "2023-02-02T09:11:46.308Z"
   },
   {
    "duration": 577,
    "start_time": "2023-02-02T09:11:46.322Z"
   },
   {
    "duration": 555,
    "start_time": "2023-02-02T09:11:46.901Z"
   },
   {
    "duration": 324,
    "start_time": "2023-02-02T09:11:47.458Z"
   },
   {
    "duration": 7,
    "start_time": "2023-02-02T09:11:47.784Z"
   },
   {
    "duration": 378,
    "start_time": "2023-02-02T09:11:47.793Z"
   },
   {
    "duration": 296,
    "start_time": "2023-02-02T09:11:48.173Z"
   },
   {
    "duration": 7,
    "start_time": "2023-02-02T09:11:48.471Z"
   },
   {
    "duration": 11,
    "start_time": "2023-02-02T09:11:48.480Z"
   },
   {
    "duration": 370,
    "start_time": "2023-02-02T09:11:48.493Z"
   },
   {
    "duration": 259,
    "start_time": "2023-02-02T09:11:48.866Z"
   },
   {
    "duration": 777,
    "start_time": "2023-02-02T09:11:49.128Z"
   },
   {
    "duration": 8843,
    "start_time": "2023-02-02T09:11:49.907Z"
   },
   {
    "duration": 17058,
    "start_time": "2023-02-02T09:11:58.752Z"
   },
   {
    "duration": 41,
    "start_time": "2023-02-02T09:12:15.812Z"
   },
   {
    "duration": 10,
    "start_time": "2023-02-02T09:12:15.855Z"
   },
   {
    "duration": 29,
    "start_time": "2023-02-02T09:12:15.867Z"
   },
   {
    "duration": 61,
    "start_time": "2023-02-02T09:12:15.898Z"
   },
   {
    "duration": 9,
    "start_time": "2023-02-02T09:12:15.961Z"
   },
   {
    "duration": 21,
    "start_time": "2023-02-02T09:12:15.972Z"
   },
   {
    "duration": 28,
    "start_time": "2023-02-02T09:12:15.994Z"
   },
   {
    "duration": 28,
    "start_time": "2023-02-02T09:12:16.023Z"
   },
   {
    "duration": 18,
    "start_time": "2023-02-02T09:12:16.053Z"
   },
   {
    "duration": 24,
    "start_time": "2023-02-02T09:12:16.073Z"
   },
   {
    "duration": 17,
    "start_time": "2023-02-02T09:12:16.098Z"
   },
   {
    "duration": 41,
    "start_time": "2023-02-02T09:12:16.117Z"
   },
   {
    "duration": 354,
    "start_time": "2023-02-02T09:20:03.329Z"
   },
   {
    "duration": 394,
    "start_time": "2023-02-02T09:20:23.097Z"
   },
   {
    "duration": 362,
    "start_time": "2023-02-02T09:20:30.508Z"
   },
   {
    "duration": 7,
    "start_time": "2023-02-02T09:20:58.739Z"
   },
   {
    "duration": 472,
    "start_time": "2023-02-02T09:21:04.113Z"
   },
   {
    "duration": 348,
    "start_time": "2023-02-02T09:21:25.544Z"
   },
   {
    "duration": 311,
    "start_time": "2023-02-02T09:21:35.992Z"
   },
   {
    "duration": 6,
    "start_time": "2023-02-02T09:21:45.928Z"
   },
   {
    "duration": 361,
    "start_time": "2023-02-02T09:21:47.813Z"
   },
   {
    "duration": 322,
    "start_time": "2023-02-02T09:21:50.612Z"
   },
   {
    "duration": 386,
    "start_time": "2023-02-02T09:22:43.787Z"
   },
   {
    "duration": 359,
    "start_time": "2023-02-02T09:22:54.205Z"
   },
   {
    "duration": 48,
    "start_time": "2023-02-02T09:30:22.605Z"
   },
   {
    "duration": 41,
    "start_time": "2023-02-02T09:31:03.342Z"
   },
   {
    "duration": 4,
    "start_time": "2023-02-02T09:31:37.428Z"
   },
   {
    "duration": 2803,
    "start_time": "2023-02-02T09:31:37.435Z"
   },
   {
    "duration": 86,
    "start_time": "2023-02-02T09:31:40.241Z"
   },
   {
    "duration": 14,
    "start_time": "2023-02-02T09:31:40.330Z"
   },
   {
    "duration": 70,
    "start_time": "2023-02-02T09:31:40.347Z"
   },
   {
    "duration": 12,
    "start_time": "2023-02-02T09:31:40.419Z"
   },
   {
    "duration": 42,
    "start_time": "2023-02-02T09:31:40.433Z"
   },
   {
    "duration": 5,
    "start_time": "2023-02-02T09:31:40.477Z"
   },
   {
    "duration": 6,
    "start_time": "2023-02-02T09:31:40.484Z"
   },
   {
    "duration": 8,
    "start_time": "2023-02-02T09:31:40.492Z"
   },
   {
    "duration": 18,
    "start_time": "2023-02-02T09:31:40.502Z"
   },
   {
    "duration": 37,
    "start_time": "2023-02-02T09:31:40.522Z"
   },
   {
    "duration": 8,
    "start_time": "2023-02-02T09:31:40.561Z"
   },
   {
    "duration": 30,
    "start_time": "2023-02-02T09:31:40.573Z"
   },
   {
    "duration": 4,
    "start_time": "2023-02-02T09:31:40.605Z"
   },
   {
    "duration": 42,
    "start_time": "2023-02-02T09:31:40.610Z"
   },
   {
    "duration": 19,
    "start_time": "2023-02-02T09:31:40.654Z"
   },
   {
    "duration": 5,
    "start_time": "2023-02-02T09:31:40.674Z"
   },
   {
    "duration": 21,
    "start_time": "2023-02-02T09:31:40.680Z"
   },
   {
    "duration": 46,
    "start_time": "2023-02-02T09:31:40.702Z"
   },
   {
    "duration": 19,
    "start_time": "2023-02-02T09:31:40.751Z"
   },
   {
    "duration": 22,
    "start_time": "2023-02-02T09:31:40.771Z"
   },
   {
    "duration": 4,
    "start_time": "2023-02-02T09:31:40.794Z"
   },
   {
    "duration": 582,
    "start_time": "2023-02-02T09:31:40.800Z"
   },
   {
    "duration": 592,
    "start_time": "2023-02-02T09:31:41.384Z"
   },
   {
    "duration": 599,
    "start_time": "2023-02-02T09:31:41.978Z"
   },
   {
    "duration": 6,
    "start_time": "2023-02-02T09:31:42.579Z"
   },
   {
    "duration": 553,
    "start_time": "2023-02-02T09:31:42.587Z"
   },
   {
    "duration": 585,
    "start_time": "2023-02-02T09:31:43.142Z"
   },
   {
    "duration": 360,
    "start_time": "2023-02-02T09:31:43.728Z"
   },
   {
    "duration": 6,
    "start_time": "2023-02-02T09:31:44.090Z"
   },
   {
    "duration": 388,
    "start_time": "2023-02-02T09:31:44.098Z"
   },
   {
    "duration": 318,
    "start_time": "2023-02-02T09:31:44.489Z"
   },
   {
    "duration": 6,
    "start_time": "2023-02-02T09:31:44.809Z"
   },
   {
    "duration": 17,
    "start_time": "2023-02-02T09:31:44.816Z"
   },
   {
    "duration": 356,
    "start_time": "2023-02-02T09:31:44.835Z"
   },
   {
    "duration": 318,
    "start_time": "2023-02-02T09:31:45.193Z"
   },
   {
    "duration": 32,
    "start_time": "2023-02-02T09:32:08.928Z"
   },
   {
    "duration": 31,
    "start_time": "2023-02-02T09:32:53.272Z"
   },
   {
    "duration": 841,
    "start_time": "2023-02-02T09:33:27.291Z"
   },
   {
    "duration": 4,
    "start_time": "2023-02-02T09:34:03.435Z"
   },
   {
    "duration": 2844,
    "start_time": "2023-02-02T09:34:03.442Z"
   },
   {
    "duration": 126,
    "start_time": "2023-02-02T09:34:06.289Z"
   },
   {
    "duration": 17,
    "start_time": "2023-02-02T09:34:06.418Z"
   },
   {
    "duration": 193,
    "start_time": "2023-02-02T09:34:06.437Z"
   },
   {
    "duration": 21,
    "start_time": "2023-02-02T09:34:06.632Z"
   },
   {
    "duration": 67,
    "start_time": "2023-02-02T09:34:06.655Z"
   },
   {
    "duration": 8,
    "start_time": "2023-02-02T09:34:06.724Z"
   },
   {
    "duration": 14,
    "start_time": "2023-02-02T09:34:06.734Z"
   },
   {
    "duration": 16,
    "start_time": "2023-02-02T09:34:06.750Z"
   },
   {
    "duration": 18,
    "start_time": "2023-02-02T09:34:06.768Z"
   },
   {
    "duration": 12,
    "start_time": "2023-02-02T09:34:06.789Z"
   },
   {
    "duration": 22,
    "start_time": "2023-02-02T09:34:06.803Z"
   },
   {
    "duration": 40,
    "start_time": "2023-02-02T09:34:06.829Z"
   },
   {
    "duration": 5,
    "start_time": "2023-02-02T09:34:06.871Z"
   },
   {
    "duration": 20,
    "start_time": "2023-02-02T09:34:06.878Z"
   },
   {
    "duration": 26,
    "start_time": "2023-02-02T09:34:06.900Z"
   },
   {
    "duration": 20,
    "start_time": "2023-02-02T09:34:06.929Z"
   },
   {
    "duration": 25,
    "start_time": "2023-02-02T09:34:06.951Z"
   },
   {
    "duration": 14,
    "start_time": "2023-02-02T09:34:06.978Z"
   },
   {
    "duration": 14,
    "start_time": "2023-02-02T09:34:06.993Z"
   },
   {
    "duration": 53,
    "start_time": "2023-02-02T09:34:07.009Z"
   },
   {
    "duration": 6,
    "start_time": "2023-02-02T09:34:07.064Z"
   },
   {
    "duration": 589,
    "start_time": "2023-02-02T09:34:07.072Z"
   },
   {
    "duration": 476,
    "start_time": "2023-02-02T09:34:07.663Z"
   },
   {
    "duration": 567,
    "start_time": "2023-02-02T09:34:08.141Z"
   },
   {
    "duration": 6,
    "start_time": "2023-02-02T09:34:08.710Z"
   },
   {
    "duration": 557,
    "start_time": "2023-02-02T09:34:08.718Z"
   },
   {
    "duration": 696,
    "start_time": "2023-02-02T09:34:09.276Z"
   },
   {
    "duration": 380,
    "start_time": "2023-02-02T09:34:09.974Z"
   },
   {
    "duration": 7,
    "start_time": "2023-02-02T09:34:10.358Z"
   },
   {
    "duration": 343,
    "start_time": "2023-02-02T09:34:10.367Z"
   },
   {
    "duration": 328,
    "start_time": "2023-02-02T09:34:10.712Z"
   },
   {
    "duration": 5,
    "start_time": "2023-02-02T09:34:11.048Z"
   },
   {
    "duration": 12,
    "start_time": "2023-02-02T09:34:11.054Z"
   },
   {
    "duration": 383,
    "start_time": "2023-02-02T09:34:11.067Z"
   },
   {
    "duration": 264,
    "start_time": "2023-02-02T09:34:11.452Z"
   },
   {
    "duration": 39,
    "start_time": "2023-02-02T09:34:11.717Z"
   },
   {
    "duration": 748,
    "start_time": "2023-02-02T09:34:17.208Z"
   },
   {
    "duration": 17,
    "start_time": "2023-02-02T09:40:46.682Z"
   },
   {
    "duration": 17,
    "start_time": "2023-02-02T09:41:14.463Z"
   },
   {
    "duration": 16,
    "start_time": "2023-02-02T09:43:18.089Z"
   },
   {
    "duration": 1530,
    "start_time": "2023-02-02T09:45:51.200Z"
   },
   {
    "duration": 2909,
    "start_time": "2023-02-02T09:45:52.732Z"
   },
   {
    "duration": 101,
    "start_time": "2023-02-02T09:45:55.643Z"
   },
   {
    "duration": 23,
    "start_time": "2023-02-02T09:45:55.746Z"
   },
   {
    "duration": 87,
    "start_time": "2023-02-02T09:45:55.771Z"
   },
   {
    "duration": 17,
    "start_time": "2023-02-02T09:45:55.860Z"
   },
   {
    "duration": 71,
    "start_time": "2023-02-02T09:45:55.879Z"
   },
   {
    "duration": 7,
    "start_time": "2023-02-02T09:45:55.952Z"
   },
   {
    "duration": 36,
    "start_time": "2023-02-02T09:45:55.961Z"
   },
   {
    "duration": 66,
    "start_time": "2023-02-02T09:45:56.001Z"
   },
   {
    "duration": 20,
    "start_time": "2023-02-02T09:45:56.069Z"
   },
   {
    "duration": 23,
    "start_time": "2023-02-02T09:45:56.091Z"
   },
   {
    "duration": 33,
    "start_time": "2023-02-02T09:45:56.115Z"
   },
   {
    "duration": 52,
    "start_time": "2023-02-02T09:45:56.150Z"
   },
   {
    "duration": 21,
    "start_time": "2023-02-02T09:45:56.203Z"
   },
   {
    "duration": 46,
    "start_time": "2023-02-02T09:45:56.225Z"
   },
   {
    "duration": 46,
    "start_time": "2023-02-02T09:45:56.273Z"
   },
   {
    "duration": 28,
    "start_time": "2023-02-02T09:45:56.321Z"
   },
   {
    "duration": 46,
    "start_time": "2023-02-02T09:45:56.351Z"
   },
   {
    "duration": 58,
    "start_time": "2023-02-02T09:45:56.400Z"
   },
   {
    "duration": 25,
    "start_time": "2023-02-02T09:45:56.461Z"
   },
   {
    "duration": 57,
    "start_time": "2023-02-02T09:45:56.488Z"
   },
   {
    "duration": 5,
    "start_time": "2023-02-02T09:45:56.548Z"
   },
   {
    "duration": 641,
    "start_time": "2023-02-02T09:45:56.555Z"
   },
   {
    "duration": 472,
    "start_time": "2023-02-02T09:45:57.197Z"
   },
   {
    "duration": 707,
    "start_time": "2023-02-02T09:45:57.671Z"
   },
   {
    "duration": 5,
    "start_time": "2023-02-02T09:45:58.379Z"
   },
   {
    "duration": 585,
    "start_time": "2023-02-02T09:45:58.387Z"
   },
   {
    "duration": 612,
    "start_time": "2023-02-02T09:45:58.975Z"
   },
   {
    "duration": 377,
    "start_time": "2023-02-02T09:45:59.589Z"
   },
   {
    "duration": 6,
    "start_time": "2023-02-02T09:45:59.967Z"
   },
   {
    "duration": 379,
    "start_time": "2023-02-02T09:45:59.974Z"
   },
   {
    "duration": 310,
    "start_time": "2023-02-02T09:46:00.354Z"
   },
   {
    "duration": 6,
    "start_time": "2023-02-02T09:46:00.666Z"
   },
   {
    "duration": 41,
    "start_time": "2023-02-02T09:46:00.673Z"
   },
   {
    "duration": 388,
    "start_time": "2023-02-02T09:46:00.716Z"
   },
   {
    "duration": 319,
    "start_time": "2023-02-02T09:46:01.106Z"
   },
   {
    "duration": 40,
    "start_time": "2023-02-02T09:46:01.428Z"
   },
   {
    "duration": 887,
    "start_time": "2023-02-02T09:46:01.470Z"
   },
   {
    "duration": 9049,
    "start_time": "2023-02-02T09:46:02.358Z"
   },
   {
    "duration": 17165,
    "start_time": "2023-02-02T09:46:11.410Z"
   },
   {
    "duration": 34,
    "start_time": "2023-02-02T09:46:28.576Z"
   },
   {
    "duration": 10,
    "start_time": "2023-02-02T09:46:28.612Z"
   },
   {
    "duration": 40,
    "start_time": "2023-02-02T09:46:28.623Z"
   },
   {
    "duration": 87,
    "start_time": "2023-02-02T09:46:28.665Z"
   },
   {
    "duration": 10,
    "start_time": "2023-02-02T09:46:28.754Z"
   },
   {
    "duration": 24,
    "start_time": "2023-02-02T09:46:28.765Z"
   },
   {
    "duration": 23,
    "start_time": "2023-02-02T09:46:28.790Z"
   },
   {
    "duration": 5,
    "start_time": "2023-02-02T09:46:28.814Z"
   },
   {
    "duration": 35,
    "start_time": "2023-02-02T09:46:28.820Z"
   },
   {
    "duration": 25,
    "start_time": "2023-02-02T09:46:28.856Z"
   },
   {
    "duration": 17,
    "start_time": "2023-02-02T09:46:28.883Z"
   },
   {
    "duration": 17,
    "start_time": "2023-02-02T09:46:28.902Z"
   },
   {
    "duration": 79,
    "start_time": "2023-02-03T01:41:46.187Z"
   },
   {
    "duration": 65,
    "start_time": "2023-02-03T01:42:26.928Z"
   }
  ],
  "colab": {
   "provenance": []
  },
  "kernelspec": {
   "display_name": "Python 3 (ipykernel)",
   "language": "python",
   "name": "python3"
  },
  "language_info": {
   "codemirror_mode": {
    "name": "ipython",
    "version": 3
   },
   "file_extension": ".py",
   "mimetype": "text/x-python",
   "name": "python",
   "nbconvert_exporter": "python",
   "pygments_lexer": "ipython3",
   "version": "3.9.15"
  },
  "toc": {
   "base_numbering": "0",
   "nav_menu": {},
   "number_sections": true,
   "sideBar": false,
   "skip_h1_title": true,
   "title_cell": "Table of Contents",
   "title_sidebar": "Contents",
   "toc_cell": false,
   "toc_position": {
    "height": "807.778px",
    "left": "183px",
    "top": "111.129px",
    "width": "280px"
   },
   "toc_section_display": true,
   "toc_window_display": false
  }
 },
 "nbformat": 4,
 "nbformat_minor": 1
}
