{
 "cells": [
  {
   "cell_type": "markdown",
   "metadata": {
    "id": "E0vqbgi9ay0H"
   },
   "source": [
    "# Яндекс.Музыка"
   ]
  },
  {
   "cell_type": "markdown",
   "metadata": {
    "id": "VUC88oWjTJw2"
   },
   "source": [
    "Сравнение Москвы и Петербурга окружено мифами. Например:\n",
    " * Москва — мегаполис, подчинённый жёсткому ритму рабочей недели;\n",
    " * Петербург — культурная столица, со своими вкусами.\n",
    "\n",
    "На данных Яндекс.Музыки вы сравните поведение пользователей двух столиц.\n",
    "\n",
    "**Цель исследования** — проверьте три гипотезы:\n",
    "1. Активность пользователей зависит от дня недели. Причём в Москве и Петербурге это проявляется по-разному.\n",
    "2. В понедельник утром в Москве преобладают одни жанры, а в Петербурге — другие. Так же и вечером пятницы преобладают разные жанры — в зависимости от города. \n",
    "3. Москва и Петербург предпочитают разные жанры музыки. В Москве чаще слушают поп-музыку, в Петербурге — русский рэп.\n",
    "\n",
    "**Ход исследования**\n",
    "\n",
    "Данные о поведении пользователей вы получите из файла `yandex_music_project.csv`. О качестве данных ничего не известно. Поэтому перед проверкой гипотез понадобится обзор данных. \n",
    "\n",
    "Вы проверите данные на ошибки и оцените их влияние на исследование. Затем, на этапе предобработки вы поищете возможность исправить самые критичные ошибки данных.\n",
    " \n",
    "Таким образом, исследование пройдёт в три этапа:\n",
    " 1. Обзор данных.\n",
    " 2. Предобработка данных.\n",
    " 3. Проверка гипотез.\n",
    "\n"
   ]
  },
  {
   "cell_type": "markdown",
   "metadata": {
    "id": "Ml1hmfXC_Zcs"
   },
   "source": [
    "## Обзор данных\n",
    "\n",
    "Составьте первое представление о данных Яндекс.Музыки.\n",
    "\n",
    "\n"
   ]
  },
  {
   "cell_type": "markdown",
   "metadata": {
    "id": "57eAOGIz_Zcs"
   },
   "source": [
    "Основной инструмент аналитика — `pandas`. Импортируйте эту библиотеку."
   ]
  },
  {
   "cell_type": "code",
   "execution_count": 5,
   "metadata": {
    "id": "AXN7PHPN_Zcs"
   },
   "outputs": [],
   "source": [
    "import pandas as pd #импорт библиотеки pandas"
   ]
  },
  {
   "cell_type": "markdown",
   "metadata": {},
   "source": [
    "<div class=\"alert alert-success\">\n",
    "<b>✔️ Комментарий ревьюера v1:</b> \n",
    "<br>Очень здорово, что ты используешь сокращение pd для Pandas, это общепринятое сокращение для этой библиотеки для удобной дальнейшей работы.\n",
    "</div>\n",
    "\n"
   ]
  },
  {
   "cell_type": "markdown",
   "metadata": {
    "id": "SG23P8tt_Zcs"
   },
   "source": [
    "Прочитайте файл `yandex_music_project.csv` из папки `/datasets` и сохраните его в переменной `df`:"
   ]
  },
  {
   "cell_type": "code",
   "execution_count": 6,
   "metadata": {
    "id": "fFVu7vqh_Zct"
   },
   "outputs": [
    {
     "data": {
      "text/html": [
       "<div>\n",
       "<style scoped>\n",
       "    .dataframe tbody tr th:only-of-type {\n",
       "        vertical-align: middle;\n",
       "    }\n",
       "\n",
       "    .dataframe tbody tr th {\n",
       "        vertical-align: top;\n",
       "    }\n",
       "\n",
       "    .dataframe thead th {\n",
       "        text-align: right;\n",
       "    }\n",
       "</style>\n",
       "<table border=\"1\" class=\"dataframe\">\n",
       "  <thead>\n",
       "    <tr style=\"text-align: right;\">\n",
       "      <th></th>\n",
       "      <th>userID</th>\n",
       "      <th>Track</th>\n",
       "      <th>artist</th>\n",
       "      <th>genre</th>\n",
       "      <th>City</th>\n",
       "      <th>time</th>\n",
       "      <th>Day</th>\n",
       "    </tr>\n",
       "  </thead>\n",
       "  <tbody>\n",
       "    <tr>\n",
       "      <th>0</th>\n",
       "      <td>FFB692EC</td>\n",
       "      <td>Kamigata To Boots</td>\n",
       "      <td>The Mass Missile</td>\n",
       "      <td>rock</td>\n",
       "      <td>Saint-Petersburg</td>\n",
       "      <td>20:28:33</td>\n",
       "      <td>Wednesday</td>\n",
       "    </tr>\n",
       "    <tr>\n",
       "      <th>1</th>\n",
       "      <td>55204538</td>\n",
       "      <td>Delayed Because of Accident</td>\n",
       "      <td>Andreas Rönnberg</td>\n",
       "      <td>rock</td>\n",
       "      <td>Moscow</td>\n",
       "      <td>14:07:09</td>\n",
       "      <td>Friday</td>\n",
       "    </tr>\n",
       "    <tr>\n",
       "      <th>2</th>\n",
       "      <td>20EC38</td>\n",
       "      <td>Funiculì funiculà</td>\n",
       "      <td>Mario Lanza</td>\n",
       "      <td>pop</td>\n",
       "      <td>Saint-Petersburg</td>\n",
       "      <td>20:58:07</td>\n",
       "      <td>Wednesday</td>\n",
       "    </tr>\n",
       "    <tr>\n",
       "      <th>3</th>\n",
       "      <td>A3DD03C9</td>\n",
       "      <td>Dragons in the Sunset</td>\n",
       "      <td>Fire + Ice</td>\n",
       "      <td>folk</td>\n",
       "      <td>Saint-Petersburg</td>\n",
       "      <td>08:37:09</td>\n",
       "      <td>Monday</td>\n",
       "    </tr>\n",
       "    <tr>\n",
       "      <th>4</th>\n",
       "      <td>E2DC1FAE</td>\n",
       "      <td>Soul People</td>\n",
       "      <td>Space Echo</td>\n",
       "      <td>dance</td>\n",
       "      <td>Moscow</td>\n",
       "      <td>08:34:34</td>\n",
       "      <td>Monday</td>\n",
       "    </tr>\n",
       "    <tr>\n",
       "      <th>...</th>\n",
       "      <td>...</td>\n",
       "      <td>...</td>\n",
       "      <td>...</td>\n",
       "      <td>...</td>\n",
       "      <td>...</td>\n",
       "      <td>...</td>\n",
       "      <td>...</td>\n",
       "    </tr>\n",
       "    <tr>\n",
       "      <th>65074</th>\n",
       "      <td>729CBB09</td>\n",
       "      <td>My Name</td>\n",
       "      <td>McLean</td>\n",
       "      <td>rnb</td>\n",
       "      <td>Moscow</td>\n",
       "      <td>13:32:28</td>\n",
       "      <td>Wednesday</td>\n",
       "    </tr>\n",
       "    <tr>\n",
       "      <th>65075</th>\n",
       "      <td>D08D4A55</td>\n",
       "      <td>Maybe One Day (feat. Black Spade)</td>\n",
       "      <td>Blu &amp; Exile</td>\n",
       "      <td>hip</td>\n",
       "      <td>Saint-Petersburg</td>\n",
       "      <td>10:00:00</td>\n",
       "      <td>Monday</td>\n",
       "    </tr>\n",
       "    <tr>\n",
       "      <th>65076</th>\n",
       "      <td>C5E3A0D5</td>\n",
       "      <td>Jalopiina</td>\n",
       "      <td>NaN</td>\n",
       "      <td>industrial</td>\n",
       "      <td>Moscow</td>\n",
       "      <td>20:09:26</td>\n",
       "      <td>Friday</td>\n",
       "    </tr>\n",
       "    <tr>\n",
       "      <th>65077</th>\n",
       "      <td>321D0506</td>\n",
       "      <td>Freight Train</td>\n",
       "      <td>Chas McDevitt</td>\n",
       "      <td>rock</td>\n",
       "      <td>Moscow</td>\n",
       "      <td>21:43:59</td>\n",
       "      <td>Friday</td>\n",
       "    </tr>\n",
       "    <tr>\n",
       "      <th>65078</th>\n",
       "      <td>3A64EF84</td>\n",
       "      <td>Tell Me Sweet Little Lies</td>\n",
       "      <td>Monica Lopez</td>\n",
       "      <td>country</td>\n",
       "      <td>Moscow</td>\n",
       "      <td>21:59:46</td>\n",
       "      <td>Friday</td>\n",
       "    </tr>\n",
       "  </tbody>\n",
       "</table>\n",
       "<p>65079 rows × 7 columns</p>\n",
       "</div>"
      ],
      "text/plain": [
       "         userID                              Track            artist  \\\n",
       "0      FFB692EC                  Kamigata To Boots  The Mass Missile   \n",
       "1      55204538        Delayed Because of Accident  Andreas Rönnberg   \n",
       "2        20EC38                  Funiculì funiculà       Mario Lanza   \n",
       "3      A3DD03C9              Dragons in the Sunset        Fire + Ice   \n",
       "4      E2DC1FAE                        Soul People        Space Echo   \n",
       "...         ...                                ...               ...   \n",
       "65074  729CBB09                            My Name            McLean   \n",
       "65075  D08D4A55  Maybe One Day (feat. Black Spade)       Blu & Exile   \n",
       "65076  C5E3A0D5                          Jalopiina               NaN   \n",
       "65077  321D0506                      Freight Train     Chas McDevitt   \n",
       "65078  3A64EF84          Tell Me Sweet Little Lies      Monica Lopez   \n",
       "\n",
       "            genre            City        time        Day  \n",
       "0            rock  Saint-Petersburg  20:28:33  Wednesday  \n",
       "1            rock            Moscow  14:07:09     Friday  \n",
       "2             pop  Saint-Petersburg  20:58:07  Wednesday  \n",
       "3            folk  Saint-Petersburg  08:37:09     Monday  \n",
       "4           dance            Moscow  08:34:34     Monday  \n",
       "...           ...               ...       ...        ...  \n",
       "65074         rnb            Moscow  13:32:28  Wednesday  \n",
       "65075         hip  Saint-Petersburg  10:00:00     Monday  \n",
       "65076  industrial            Moscow  20:09:26     Friday  \n",
       "65077        rock            Moscow  21:43:59     Friday  \n",
       "65078     country            Moscow  21:59:46     Friday  \n",
       "\n",
       "[65079 rows x 7 columns]"
      ]
     },
     "metadata": {},
     "output_type": "display_data"
    }
   ],
   "source": [
    "# чтение файла с данными и сохранение в df\n",
    "df = pd.read_csv('/datasets/yandex_music_project.csv')\n",
    "display (df)"
   ]
  },
  {
   "cell_type": "markdown",
   "metadata": {
    "id": "rDoOMd3uTqnZ"
   },
   "source": [
    "Выведите на экран первые десять строк таблицы:"
   ]
  },
  {
   "cell_type": "code",
   "execution_count": 7,
   "metadata": {
    "id": "oWTVX3gW_Zct"
   },
   "outputs": [
    {
     "data": {
      "text/html": [
       "<div>\n",
       "<style scoped>\n",
       "    .dataframe tbody tr th:only-of-type {\n",
       "        vertical-align: middle;\n",
       "    }\n",
       "\n",
       "    .dataframe tbody tr th {\n",
       "        vertical-align: top;\n",
       "    }\n",
       "\n",
       "    .dataframe thead th {\n",
       "        text-align: right;\n",
       "    }\n",
       "</style>\n",
       "<table border=\"1\" class=\"dataframe\">\n",
       "  <thead>\n",
       "    <tr style=\"text-align: right;\">\n",
       "      <th></th>\n",
       "      <th>userID</th>\n",
       "      <th>Track</th>\n",
       "      <th>artist</th>\n",
       "      <th>genre</th>\n",
       "      <th>City</th>\n",
       "      <th>time</th>\n",
       "      <th>Day</th>\n",
       "    </tr>\n",
       "  </thead>\n",
       "  <tbody>\n",
       "    <tr>\n",
       "      <th>0</th>\n",
       "      <td>FFB692EC</td>\n",
       "      <td>Kamigata To Boots</td>\n",
       "      <td>The Mass Missile</td>\n",
       "      <td>rock</td>\n",
       "      <td>Saint-Petersburg</td>\n",
       "      <td>20:28:33</td>\n",
       "      <td>Wednesday</td>\n",
       "    </tr>\n",
       "    <tr>\n",
       "      <th>1</th>\n",
       "      <td>55204538</td>\n",
       "      <td>Delayed Because of Accident</td>\n",
       "      <td>Andreas Rönnberg</td>\n",
       "      <td>rock</td>\n",
       "      <td>Moscow</td>\n",
       "      <td>14:07:09</td>\n",
       "      <td>Friday</td>\n",
       "    </tr>\n",
       "    <tr>\n",
       "      <th>2</th>\n",
       "      <td>20EC38</td>\n",
       "      <td>Funiculì funiculà</td>\n",
       "      <td>Mario Lanza</td>\n",
       "      <td>pop</td>\n",
       "      <td>Saint-Petersburg</td>\n",
       "      <td>20:58:07</td>\n",
       "      <td>Wednesday</td>\n",
       "    </tr>\n",
       "    <tr>\n",
       "      <th>3</th>\n",
       "      <td>A3DD03C9</td>\n",
       "      <td>Dragons in the Sunset</td>\n",
       "      <td>Fire + Ice</td>\n",
       "      <td>folk</td>\n",
       "      <td>Saint-Petersburg</td>\n",
       "      <td>08:37:09</td>\n",
       "      <td>Monday</td>\n",
       "    </tr>\n",
       "    <tr>\n",
       "      <th>4</th>\n",
       "      <td>E2DC1FAE</td>\n",
       "      <td>Soul People</td>\n",
       "      <td>Space Echo</td>\n",
       "      <td>dance</td>\n",
       "      <td>Moscow</td>\n",
       "      <td>08:34:34</td>\n",
       "      <td>Monday</td>\n",
       "    </tr>\n",
       "    <tr>\n",
       "      <th>5</th>\n",
       "      <td>842029A1</td>\n",
       "      <td>Преданная</td>\n",
       "      <td>IMPERVTOR</td>\n",
       "      <td>rusrap</td>\n",
       "      <td>Saint-Petersburg</td>\n",
       "      <td>13:09:41</td>\n",
       "      <td>Friday</td>\n",
       "    </tr>\n",
       "    <tr>\n",
       "      <th>6</th>\n",
       "      <td>4CB90AA5</td>\n",
       "      <td>True</td>\n",
       "      <td>Roman Messer</td>\n",
       "      <td>dance</td>\n",
       "      <td>Moscow</td>\n",
       "      <td>13:00:07</td>\n",
       "      <td>Wednesday</td>\n",
       "    </tr>\n",
       "    <tr>\n",
       "      <th>7</th>\n",
       "      <td>F03E1C1F</td>\n",
       "      <td>Feeling This Way</td>\n",
       "      <td>Polina Griffith</td>\n",
       "      <td>dance</td>\n",
       "      <td>Moscow</td>\n",
       "      <td>20:47:49</td>\n",
       "      <td>Wednesday</td>\n",
       "    </tr>\n",
       "    <tr>\n",
       "      <th>8</th>\n",
       "      <td>8FA1D3BE</td>\n",
       "      <td>И вновь продолжается бой</td>\n",
       "      <td>NaN</td>\n",
       "      <td>ruspop</td>\n",
       "      <td>Moscow</td>\n",
       "      <td>09:17:40</td>\n",
       "      <td>Friday</td>\n",
       "    </tr>\n",
       "    <tr>\n",
       "      <th>9</th>\n",
       "      <td>E772D5C0</td>\n",
       "      <td>Pessimist</td>\n",
       "      <td>NaN</td>\n",
       "      <td>dance</td>\n",
       "      <td>Saint-Petersburg</td>\n",
       "      <td>21:20:49</td>\n",
       "      <td>Wednesday</td>\n",
       "    </tr>\n",
       "  </tbody>\n",
       "</table>\n",
       "</div>"
      ],
      "text/plain": [
       "     userID                        Track            artist   genre  \\\n",
       "0  FFB692EC            Kamigata To Boots  The Mass Missile    rock   \n",
       "1  55204538  Delayed Because of Accident  Andreas Rönnberg    rock   \n",
       "2    20EC38            Funiculì funiculà       Mario Lanza     pop   \n",
       "3  A3DD03C9        Dragons in the Sunset        Fire + Ice    folk   \n",
       "4  E2DC1FAE                  Soul People        Space Echo   dance   \n",
       "5  842029A1                    Преданная         IMPERVTOR  rusrap   \n",
       "6  4CB90AA5                         True      Roman Messer   dance   \n",
       "7  F03E1C1F             Feeling This Way   Polina Griffith   dance   \n",
       "8  8FA1D3BE     И вновь продолжается бой               NaN  ruspop   \n",
       "9  E772D5C0                    Pessimist               NaN   dance   \n",
       "\n",
       "             City        time        Day  \n",
       "0  Saint-Petersburg  20:28:33  Wednesday  \n",
       "1            Moscow  14:07:09     Friday  \n",
       "2  Saint-Petersburg  20:58:07  Wednesday  \n",
       "3  Saint-Petersburg  08:37:09     Monday  \n",
       "4            Moscow  08:34:34     Monday  \n",
       "5  Saint-Petersburg  13:09:41     Friday  \n",
       "6            Moscow  13:00:07  Wednesday  \n",
       "7            Moscow  20:47:49  Wednesday  \n",
       "8            Moscow  09:17:40     Friday  \n",
       "9  Saint-Petersburg  21:20:49  Wednesday  "
      ]
     },
     "metadata": {},
     "output_type": "display_data"
    }
   ],
   "source": [
    "display(df.head(10)) # получение первых 10 строк таблицы df"
   ]
  },
  {
   "cell_type": "markdown",
   "metadata": {
    "id": "EO73Kwic_Zct"
   },
   "source": [
    "Одной командой получить общую информацию о таблице:"
   ]
  },
  {
   "cell_type": "code",
   "execution_count": 8,
   "metadata": {
    "id": "DSf2kIb-_Zct"
   },
   "outputs": [
    {
     "name": "stdout",
     "output_type": "stream",
     "text": [
      "<class 'pandas.core.frame.DataFrame'>\n",
      "RangeIndex: 65079 entries, 0 to 65078\n",
      "Data columns (total 7 columns):\n",
      " #   Column    Non-Null Count  Dtype \n",
      "---  ------    --------------  ----- \n",
      " 0     userID  65079 non-null  object\n",
      " 1   Track     63848 non-null  object\n",
      " 2   artist    57876 non-null  object\n",
      " 3   genre     63881 non-null  object\n",
      " 4     City    65079 non-null  object\n",
      " 5   time      65079 non-null  object\n",
      " 6   Day       65079 non-null  object\n",
      "dtypes: object(7)\n",
      "memory usage: 3.5+ MB\n",
      "None\n"
     ]
    }
   ],
   "source": [
    "print(df.info())# получение общей информации о данных в таблице df"
   ]
  },
  {
   "cell_type": "markdown",
   "metadata": {
    "id": "TaQ2Iwbr_Zct"
   },
   "source": [
    "Итак, в таблице семь столбцов. Тип данных во всех столбцах — `object`.\n",
    "\n",
    "Согласно документации к данным:\n",
    "* `userID` — идентификатор пользователя;\n",
    "* `Track` — название трека;  \n",
    "* `artist` — имя исполнителя;\n",
    "* `genre` — название жанра;\n",
    "* `City` — город пользователя;\n",
    "* `time` — время начала прослушивания;\n",
    "* `Day` — день недели.\n",
    "\n",
    "В названиях колонок видны три нарушения стиля:\n",
    "1. Строчные буквы сочетаются с прописными.\n",
    "2. Встречаются пробелы.\n",
    "3. Найдите ещё одну проблему в названии колонок и опишите её в этом пункте.\n",
    "\n",
    "\n",
    "\n",
    "Количество значений в столбцах различается. Значит, в данных есть пропущенные значения.\n"
   ]
  },
  {
   "cell_type": "markdown",
   "metadata": {
    "id": "MCB6-dXG_Zct"
   },
   "source": [
    "**Выводы**\n",
    "\n",
    "В каждой строке таблицы — данные о прослушанном треке. Часть колонок описывает саму композицию: название, исполнителя и жанр. Остальные данные рассказывают о пользователе: из какого он города, когда он слушал музыку. \n",
    "\n",
    "Предварительно можно утверждать, что, данных достаточно для проверки гипотез. Но встречаются пропуски в данных, а в названиях колонок — расхождения с хорошим стилем.\n",
    "\n",
    "Чтобы двигаться дальше, нужно устранить проблемы в данных."
   ]
  },
  {
   "cell_type": "markdown",
   "metadata": {
    "id": "SjYF6Ub9_Zct"
   },
   "source": [
    "## Предобработка данных\n",
    "Исправьте стиль в заголовках столбцов, исключите пропуски. Затем проверьте данные на дубликаты."
   ]
  },
  {
   "cell_type": "markdown",
   "metadata": {
    "id": "dIaKXr29_Zct"
   },
   "source": [
    "### Стиль заголовков\n",
    "Выведите на экран названия столбцов:"
   ]
  },
  {
   "cell_type": "code",
   "execution_count": 9,
   "metadata": {
    "id": "oKOTdF_Q_Zct"
   },
   "outputs": [
    {
     "name": "stdout",
     "output_type": "stream",
     "text": [
      "Index(['  userID', 'Track', 'artist', 'genre', '  City  ', 'time', 'Day'], dtype='object')\n"
     ]
    }
   ],
   "source": [
    "print(df.columns)# перечень названий столбцов таблицы df"
   ]
  },
  {
   "cell_type": "markdown",
   "metadata": {
    "id": "zj5534cv_Zct"
   },
   "source": [
    "Приведите названия в соответствие с хорошим стилем:\n",
    "* несколько слов в названии запишите в «змеином_регистре»,\n",
    "* все символы сделайте строчными,\n",
    "* устраните пробелы.\n",
    "\n",
    "Для этого переименуйте колонки так:\n",
    "* `'  userID'` → `'user_id'`;\n",
    "* `'Track'` → `'track'`;\n",
    "* `'  City  '` → `'city'`;\n",
    "* `'Day'` → `'day'`."
   ]
  },
  {
   "cell_type": "code",
   "execution_count": 10,
   "metadata": {
    "id": "ISlFqs5y_Zct"
   },
   "outputs": [],
   "source": [
    "df=df.rename(columns={'  userID':'user_id', 'Track':'track', '  City  ':'city', 'Day':'day'})# переименование столбцов"
   ]
  },
  {
   "cell_type": "markdown",
   "metadata": {
    "id": "1dqbh00J_Zct"
   },
   "source": [
    "Проверьте результат. Для этого ещё раз выведите на экран названия столбцов:"
   ]
  },
  {
   "cell_type": "code",
   "execution_count": 11,
   "metadata": {
    "id": "d4NOAmTW_Zct"
   },
   "outputs": [
    {
     "name": "stdout",
     "output_type": "stream",
     "text": [
      "Index(['user_id', 'track', 'artist', 'genre', 'city', 'time', 'day'], dtype='object')\n"
     ]
    }
   ],
   "source": [
    "print(df.columns)# проверка результатов - перечень названий столбцов"
   ]
  },
  {
   "cell_type": "markdown",
   "metadata": {
    "id": "5ISfbcfY_Zct"
   },
   "source": [
    "### Пропуски значений\n",
    "Сначала посчитайте, сколько в таблице пропущенных значений. Для этого достаточно двух методов `pandas`:"
   ]
  },
  {
   "cell_type": "code",
   "execution_count": 12,
   "metadata": {
    "id": "RskX29qr_Zct"
   },
   "outputs": [
    {
     "name": "stdout",
     "output_type": "stream",
     "text": [
      "user_id       0\n",
      "track      1231\n",
      "artist     7203\n",
      "genre      1198\n",
      "city          0\n",
      "time          0\n",
      "day           0\n",
      "dtype: int64\n"
     ]
    }
   ],
   "source": [
    "print(df.isna().sum())# подсчёт пропусков"
   ]
  },
  {
   "cell_type": "markdown",
   "metadata": {
    "id": "qubhgnlO_Zct"
   },
   "source": [
    "Не все пропущенные значения влияют на исследование. Так в `track` и `artist` пропуски не важны для вашей работы. Достаточно заменить их явными обозначениями.\n",
    "\n",
    "Но пропуски в `genre` могут помешать сравнению музыкальных вкусов в Москве и Санкт-Петербурге. На практике было бы правильно установить причину пропусков и восстановить данные. Такой возможности нет в учебном проекте. Придётся:\n",
    "* заполнить и эти пропуски явными обозначениями,\n",
    "* оценить, насколько они повредят расчётам. "
   ]
  },
  {
   "cell_type": "markdown",
   "metadata": {
    "id": "fSv2laPA_Zct"
   },
   "source": [
    "Замените пропущенные значения в столбцах `track`, `artist` и `genre` на строку `'unknown'`. Для этого создайте список `columns_to_replace`, переберите его элементы циклом `for` и для каждого столбца выполните замену пропущенных значений:"
   ]
  },
  {
   "cell_type": "code",
   "execution_count": 13,
   "metadata": {
    "id": "KplB5qWs_Zct"
   },
   "outputs": [],
   "source": [
    "# перебор названий столбцов в цикле и замена пропущенных значений на 'unknown'\n",
    "columns_to_replace = ['track', 'artist','genre'] \n",
    "for item in columns_to_replace:\n",
    "    df[item]=df[item].fillna('unknown')"
   ]
  },
  {
   "cell_type": "markdown",
   "metadata": {
    "id": "Ilsm-MZo_Zct"
   },
   "source": [
    "Убедитесь, что в таблице не осталось пропусков. Для этого ещё раз посчитайте пропущенные значения."
   ]
  },
  {
   "cell_type": "code",
   "execution_count": 14,
   "metadata": {
    "id": "Tq4nYRX4_Zct"
   },
   "outputs": [
    {
     "name": "stdout",
     "output_type": "stream",
     "text": [
      "user_id    0\n",
      "track      0\n",
      "artist     0\n",
      "genre      0\n",
      "city       0\n",
      "time       0\n",
      "day        0\n",
      "dtype: int64\n"
     ]
    }
   ],
   "source": [
    "print(df.isna().sum())# подсчёт пропусков"
   ]
  },
  {
   "cell_type": "markdown",
   "metadata": {
    "id": "BWKRtBJ3_Zct"
   },
   "source": [
    "### Дубликаты\n",
    "Посчитайте явные дубликаты в таблице одной командой:"
   ]
  },
  {
   "cell_type": "code",
   "execution_count": 15,
   "metadata": {
    "id": "36eES_S0_Zct"
   },
   "outputs": [
    {
     "name": "stdout",
     "output_type": "stream",
     "text": [
      "3826\n"
     ]
    }
   ],
   "source": [
    "print(df.duplicated().sum())# подсчёт явных дубликатов"
   ]
  },
  {
   "cell_type": "markdown",
   "metadata": {
    "id": "Ot25h6XR_Zct"
   },
   "source": [
    "Вызовите специальный метод `pandas`, чтобы удалить явные дубликаты:"
   ]
  },
  {
   "cell_type": "code",
   "execution_count": 16,
   "metadata": {
    "id": "exFHq6tt_Zct"
   },
   "outputs": [],
   "source": [
    "df = df.drop_duplicates().reset_index(drop=True)# удаление явных дубликатов (с удалением старых индексов и формированием новых)"
   ]
  },
  {
   "cell_type": "markdown",
   "metadata": {
    "id": "Im2YwBEG_Zct"
   },
   "source": [
    "Ещё раз посчитайте явные дубликаты в таблице — убедитесь, что полностью от них избавились:"
   ]
  },
  {
   "cell_type": "code",
   "execution_count": 17,
   "metadata": {
    "id": "-8PuNWQ0_Zct"
   },
   "outputs": [
    {
     "name": "stdout",
     "output_type": "stream",
     "text": [
      "0\n"
     ]
    }
   ],
   "source": [
    "print(df.duplicated().sum())# проверка на отсутствие дубликатов"
   ]
  },
  {
   "cell_type": "markdown",
   "metadata": {
    "id": "QlFBsxAr_Zct"
   },
   "source": [
    "Теперь избавьтесь от неявных дубликатов в колонке `genre`. Например, название одного и того же жанра может быть записано немного по-разному. Такие ошибки тоже повлияют на результат исследования."
   ]
  },
  {
   "cell_type": "markdown",
   "metadata": {
    "id": "eSjWwsOh_Zct"
   },
   "source": [
    "Выведите на экран список уникальных названий жанров, отсортированный в алфавитном порядке. Для этого:\n",
    "* извлеките нужный столбец датафрейма, \n",
    "* примените к нему метод сортировки,\n",
    "* для отсортированного столбца вызовите метод, который вернёт уникальные значения из столбца."
   ]
  },
  {
   "cell_type": "code",
   "execution_count": 18,
   "metadata": {
    "id": "JIUcqzZN_Zct"
   },
   "outputs": [
    {
     "name": "stdout",
     "output_type": "stream",
     "text": [
      "['acid' 'acoustic' 'action' 'adult' 'africa' 'afrikaans' 'alternative'\n",
      " 'alternativepunk' 'ambient' 'americana' 'animated' 'anime' 'arabesk'\n",
      " 'arabic' 'arena' 'argentinetango' 'art' 'audiobook' 'author' 'avantgarde'\n",
      " 'axé' 'baile' 'balkan' 'beats' 'bigroom' 'black' 'bluegrass' 'blues'\n",
      " 'bollywood' 'bossa' 'brazilian' 'breakbeat' 'breaks' 'broadway'\n",
      " 'cantautori' 'cantopop' 'canzone' 'caribbean' 'caucasian' 'celtic'\n",
      " 'chamber' 'chanson' 'children' 'chill' 'chinese' 'choral' 'christian'\n",
      " 'christmas' 'classical' 'classicmetal' 'club' 'colombian' 'comedy'\n",
      " 'conjazz' 'contemporary' 'country' 'cuban' 'dance' 'dancehall' 'dancepop'\n",
      " 'dark' 'death' 'deep' 'deutschrock' 'deutschspr' 'dirty' 'disco' 'dnb'\n",
      " 'documentary' 'downbeat' 'downtempo' 'drum' 'dub' 'dubstep' 'eastern'\n",
      " 'easy' 'electronic' 'electropop' 'emo' 'entehno' 'epicmetal' 'estrada'\n",
      " 'ethnic' 'eurofolk' 'european' 'experimental' 'extrememetal' 'fado'\n",
      " 'fairytail' 'film' 'fitness' 'flamenco' 'folk' 'folklore' 'folkmetal'\n",
      " 'folkrock' 'folktronica' 'forró' 'frankreich' 'französisch' 'french'\n",
      " 'funk' 'future' 'gangsta' 'garage' 'german' 'ghazal' 'gitarre' 'glitch'\n",
      " 'gospel' 'gothic' 'grime' 'grunge' 'gypsy' 'handsup' \"hard'n'heavy\"\n",
      " 'hardcore' 'hardstyle' 'hardtechno' 'hip' 'hip-hop' 'hiphop' 'historisch'\n",
      " 'holiday' 'hop' 'horror' 'house' 'hymn' 'idm' 'independent' 'indian'\n",
      " 'indie' 'indipop' 'industrial' 'inspirational' 'instrumental'\n",
      " 'international' 'irish' 'jam' 'japanese' 'jazz' 'jewish' 'jpop' 'jungle'\n",
      " 'k-pop' 'karadeniz' 'karaoke' 'kayokyoku' 'korean' 'laiko' 'latin'\n",
      " 'latino' 'leftfield' 'local' 'lounge' 'loungeelectronic' 'lovers'\n",
      " 'malaysian' 'mandopop' 'marschmusik' 'meditative' 'mediterranean'\n",
      " 'melodic' 'metal' 'metalcore' 'mexican' 'middle' 'minimal'\n",
      " 'miscellaneous' 'modern' 'mood' 'mpb' 'muslim' 'native' 'neoklassik'\n",
      " 'neue' 'new' 'newage' 'newwave' 'nu' 'nujazz' 'numetal' 'oceania' 'old'\n",
      " 'opera' 'orchestral' 'other' 'piano' 'podcasts' 'pop' 'popdance'\n",
      " 'popelectronic' 'popeurodance' 'poprussian' 'post' 'posthardcore'\n",
      " 'postrock' 'power' 'progmetal' 'progressive' 'psychedelic' 'punjabi'\n",
      " 'punk' 'quebecois' 'ragga' 'ram' 'rancheras' 'rap' 'rave' 'reggae'\n",
      " 'reggaeton' 'regional' 'relax' 'religious' 'retro' 'rhythm' 'rnb' 'rnr'\n",
      " 'rock' 'rockabilly' 'rockalternative' 'rockindie' 'rockother' 'romance'\n",
      " 'roots' 'ruspop' 'rusrap' 'rusrock' 'russian' 'salsa' 'samba' 'scenic'\n",
      " 'schlager' 'self' 'sertanejo' 'shanson' 'shoegazing' 'showtunes' 'singer'\n",
      " 'ska' 'skarock' 'slow' 'smooth' 'soft' 'soul' 'soulful' 'sound'\n",
      " 'soundtrack' 'southern' 'specialty' 'speech' 'spiritual' 'sport'\n",
      " 'stonerrock' 'surf' 'swing' 'synthpop' 'synthrock' 'sängerportrait'\n",
      " 'tango' 'tanzorchester' 'taraftar' 'tatar' 'tech' 'techno' 'teen'\n",
      " 'thrash' 'top' 'traditional' 'tradjazz' 'trance' 'tribal' 'trip'\n",
      " 'triphop' 'tropical' 'türk' 'türkçe' 'ukrrock' 'unknown' 'urban' 'uzbek'\n",
      " 'variété' 'vi' 'videogame' 'vocal' 'western' 'world' 'worldbeat' 'ïîï'\n",
      " 'электроника']\n"
     ]
    }
   ],
   "source": [
    "print(df['genre'].sort_values().unique())# Просмотр уникальных названий жанров"
   ]
  },
  {
   "cell_type": "markdown",
   "metadata": {
    "id": "qej-Qmuo_Zct"
   },
   "source": [
    "Просмотрите список и найдите неявные дубликаты названия `hiphop`. Это могут быть названия с ошибками или альтернативные названия того же жанра.\n",
    "\n",
    "Вы увидите следующие неявные дубликаты:\n",
    "* *hip*,\n",
    "* *hop*,\n",
    "* *hip-hop*.\n",
    "\n",
    "Чтобы очистить от них таблицу, напишите функцию `replace_wrong_genres()` с двумя параметрами: \n",
    "* `wrong_genres` — список дубликатов,\n",
    "* `correct_genre` — строка с правильным значением.\n",
    "\n",
    "Функция должна исправить колонку `genre` в таблице `df`: заменить каждое значение из списка `wrong_genres` на значение из `correct_genre`."
   ]
  },
  {
   "cell_type": "code",
   "execution_count": 19,
   "metadata": {
    "id": "ErNDkmns_Zct"
   },
   "outputs": [],
   "source": [
    "# Функция для замены неявных дубликатов\n",
    "def replace_wrong_genres(wrong_genres,correct_genre):\n",
    "    for genre in wrong_genres:\n",
    "        df['genre']=df['genre'].replace(wrong_genres,correct_genre)\n",
    "       "
   ]
  },
  {
   "cell_type": "markdown",
   "metadata": {
    "id": "aDoBJxbA_Zct"
   },
   "source": [
    "Вызовите `replace_wrong_genres()` и передайте ей такие аргументы, чтобы она устранила неявные дубликаты: вместо `hip`, `hop` и `hip-hop` в таблице должно быть значение `hiphop`:"
   ]
  },
  {
   "cell_type": "code",
   "execution_count": 20,
   "metadata": {
    "id": "YN5i2hpmSo09"
   },
   "outputs": [],
   "source": [
    "# Устранение неявных дубликатов\n",
    "duplicates = ['hip','hop','hip-hop'] \n",
    "hiphop = 'hiphop'\n",
    "replace_wrong_genres(duplicates,hiphop)\n"
   ]
  },
  {
   "cell_type": "markdown",
   "metadata": {
    "id": "zQKF16_RG15m"
   },
   "source": [
    "Проверьте, что заменили неправильные названия:\n",
    "\n",
    "*   hip\n",
    "*   hop\n",
    "*   hip-hop\n",
    "\n",
    "Выведите отсортированный список уникальных значений столбца `genre`:"
   ]
  },
  {
   "cell_type": "code",
   "execution_count": 21,
   "metadata": {
    "id": "wvixALnFG15m"
   },
   "outputs": [
    {
     "name": "stdout",
     "output_type": "stream",
     "text": [
      "['acid' 'acoustic' 'action' 'adult' 'africa' 'afrikaans' 'alternative'\n",
      " 'alternativepunk' 'ambient' 'americana' 'animated' 'anime' 'arabesk'\n",
      " 'arabic' 'arena' 'argentinetango' 'art' 'audiobook' 'author' 'avantgarde'\n",
      " 'axé' 'baile' 'balkan' 'beats' 'bigroom' 'black' 'bluegrass' 'blues'\n",
      " 'bollywood' 'bossa' 'brazilian' 'breakbeat' 'breaks' 'broadway'\n",
      " 'cantautori' 'cantopop' 'canzone' 'caribbean' 'caucasian' 'celtic'\n",
      " 'chamber' 'chanson' 'children' 'chill' 'chinese' 'choral' 'christian'\n",
      " 'christmas' 'classical' 'classicmetal' 'club' 'colombian' 'comedy'\n",
      " 'conjazz' 'contemporary' 'country' 'cuban' 'dance' 'dancehall' 'dancepop'\n",
      " 'dark' 'death' 'deep' 'deutschrock' 'deutschspr' 'dirty' 'disco' 'dnb'\n",
      " 'documentary' 'downbeat' 'downtempo' 'drum' 'dub' 'dubstep' 'eastern'\n",
      " 'easy' 'electronic' 'electropop' 'emo' 'entehno' 'epicmetal' 'estrada'\n",
      " 'ethnic' 'eurofolk' 'european' 'experimental' 'extrememetal' 'fado'\n",
      " 'fairytail' 'film' 'fitness' 'flamenco' 'folk' 'folklore' 'folkmetal'\n",
      " 'folkrock' 'folktronica' 'forró' 'frankreich' 'französisch' 'french'\n",
      " 'funk' 'future' 'gangsta' 'garage' 'german' 'ghazal' 'gitarre' 'glitch'\n",
      " 'gospel' 'gothic' 'grime' 'grunge' 'gypsy' 'handsup' \"hard'n'heavy\"\n",
      " 'hardcore' 'hardstyle' 'hardtechno' 'hiphop' 'historisch' 'holiday'\n",
      " 'horror' 'house' 'hymn' 'idm' 'independent' 'indian' 'indie' 'indipop'\n",
      " 'industrial' 'inspirational' 'instrumental' 'international' 'irish' 'jam'\n",
      " 'japanese' 'jazz' 'jewish' 'jpop' 'jungle' 'k-pop' 'karadeniz' 'karaoke'\n",
      " 'kayokyoku' 'korean' 'laiko' 'latin' 'latino' 'leftfield' 'local'\n",
      " 'lounge' 'loungeelectronic' 'lovers' 'malaysian' 'mandopop' 'marschmusik'\n",
      " 'meditative' 'mediterranean' 'melodic' 'metal' 'metalcore' 'mexican'\n",
      " 'middle' 'minimal' 'miscellaneous' 'modern' 'mood' 'mpb' 'muslim'\n",
      " 'native' 'neoklassik' 'neue' 'new' 'newage' 'newwave' 'nu' 'nujazz'\n",
      " 'numetal' 'oceania' 'old' 'opera' 'orchestral' 'other' 'piano' 'podcasts'\n",
      " 'pop' 'popdance' 'popelectronic' 'popeurodance' 'poprussian' 'post'\n",
      " 'posthardcore' 'postrock' 'power' 'progmetal' 'progressive' 'psychedelic'\n",
      " 'punjabi' 'punk' 'quebecois' 'ragga' 'ram' 'rancheras' 'rap' 'rave'\n",
      " 'reggae' 'reggaeton' 'regional' 'relax' 'religious' 'retro' 'rhythm'\n",
      " 'rnb' 'rnr' 'rock' 'rockabilly' 'rockalternative' 'rockindie' 'rockother'\n",
      " 'romance' 'roots' 'ruspop' 'rusrap' 'rusrock' 'russian' 'salsa' 'samba'\n",
      " 'scenic' 'schlager' 'self' 'sertanejo' 'shanson' 'shoegazing' 'showtunes'\n",
      " 'singer' 'ska' 'skarock' 'slow' 'smooth' 'soft' 'soul' 'soulful' 'sound'\n",
      " 'soundtrack' 'southern' 'specialty' 'speech' 'spiritual' 'sport'\n",
      " 'stonerrock' 'surf' 'swing' 'synthpop' 'synthrock' 'sängerportrait'\n",
      " 'tango' 'tanzorchester' 'taraftar' 'tatar' 'tech' 'techno' 'teen'\n",
      " 'thrash' 'top' 'traditional' 'tradjazz' 'trance' 'tribal' 'trip'\n",
      " 'triphop' 'tropical' 'türk' 'türkçe' 'ukrrock' 'unknown' 'urban' 'uzbek'\n",
      " 'variété' 'vi' 'videogame' 'vocal' 'western' 'world' 'worldbeat' 'ïîï'\n",
      " 'электроника']\n"
     ]
    }
   ],
   "source": [
    "print(df['genre'].sort_values().unique()) # Проверка на неявные дубликаты"
   ]
  },
  {
   "cell_type": "markdown",
   "metadata": {
    "id": "jz6a9-7HQUDd"
   },
   "source": [
    "**Выводы**\n",
    "\n",
    "Предобработка обнаружила три проблемы в данных:\n",
    "\n",
    "- нарушения в стиле заголовков,\n",
    "- пропущенные значения,\n",
    "- дубликаты — явные и неявные.\n",
    "\n",
    "Вы исправили заголовки, чтобы упростить работу с таблицей. Без дубликатов исследование станет более точным.\n",
    "\n",
    "Пропущенные значения вы заменили на `'unknown'`. Ещё предстоит увидеть, не повредят ли исследованию пропуски в колонке `genre`.\n",
    "\n",
    "Теперь можно перейти к проверке гипотез. "
   ]
  },
  {
   "cell_type": "markdown",
   "metadata": {
    "id": "WttZHXH0SqKk"
   },
   "source": [
    "## Проверка гипотез"
   ]
  },
  {
   "cell_type": "markdown",
   "metadata": {
    "id": "Im936VVi_Zcu"
   },
   "source": [
    "### Сравнение поведения пользователей двух столиц"
   ]
  },
  {
   "cell_type": "markdown",
   "metadata": {
    "id": "nwt_MuaL_Zcu"
   },
   "source": [
    "Первая гипотеза утверждает, что пользователи по-разному слушают музыку в Москве и Санкт-Петербурге. Проверьте это предположение по данным о трёх днях недели — понедельнике, среде и пятнице. Для этого:\n",
    "\n",
    "* Разделите пользователей Москвы и Санкт-Петербурга\n",
    "* Сравните, сколько треков послушала каждая группа пользователей в понедельник, среду и пятницу.\n"
   ]
  },
  {
   "cell_type": "markdown",
   "metadata": {
    "id": "8Dw_YMmT_Zcu"
   },
   "source": [
    "Для тренировки сначала выполните каждый из расчётов по отдельности. \n",
    "\n",
    "Оцените активность пользователей в каждом городе. Сгруппируйте данные по городу и посчитайте прослушивания в каждой группе.\n",
    "\n"
   ]
  },
  {
   "cell_type": "code",
   "execution_count": 22,
   "metadata": {
    "id": "0_Qs96oh_Zcu",
    "scrolled": false
   },
   "outputs": [
    {
     "name": "stdout",
     "output_type": "stream",
     "text": [
      "city\n",
      "Moscow              42741\n",
      "Saint-Petersburg    18512\n",
      "Name: time, dtype: int64\n"
     ]
    }
   ],
   "source": [
    "print(df.groupby('city')['time'].count()) # Подсчёт прослушиваний в каждом городе"
   ]
  },
  {
   "cell_type": "markdown",
   "metadata": {
    "id": "dzli3w8o_Zcu"
   },
   "source": [
    "В Москве прослушиваний больше, чем в Петербурге. Из этого не следует, что московские пользователи чаще слушают музыку. Просто самих пользователей в Москве больше.\n",
    "\n",
    "Теперь сгруппируйте данные по дню недели и подсчитайте прослушивания в понедельник, среду и пятницу. Учтите, что в данных есть информация о прослушиваниях только за эти дни.\n"
   ]
  },
  {
   "cell_type": "code",
   "execution_count": 23,
   "metadata": {
    "id": "uZMKjiJz_Zcu"
   },
   "outputs": [
    {
     "name": "stdout",
     "output_type": "stream",
     "text": [
      "day\n",
      "Friday       21840\n",
      "Monday       21354\n",
      "Wednesday    18059\n",
      "Name: time, dtype: int64\n"
     ]
    }
   ],
   "source": [
    "print(df.groupby('day')['time'].count())  # Подсчёт прослушиваний в каждый из трёх дней"
   ]
  },
  {
   "cell_type": "markdown",
   "metadata": {
    "id": "cC2tNrlL_Zcu"
   },
   "source": [
    "В среднем пользователи из двух городов менее активны по средам. Но картина может измениться, если рассмотреть каждый город в отдельности."
   ]
  },
  {
   "cell_type": "markdown",
   "metadata": {
    "id": "POzs8bGa_Zcu"
   },
   "source": [
    "Вы видели, как работает группировка по городу и по дням недели. Теперь напишите функцию, которая объединит два эти расчёта.\n",
    "\n",
    "Создайте функцию `number_tracks()`, которая посчитает прослушивания для заданного дня и города. Ей понадобятся два параметра:\n",
    "* день недели,\n",
    "* название города.\n",
    "\n",
    "В функции сохраните в переменную строки исходной таблицы, у которых значение:\n",
    "  * в колонке `day` равно параметру `day`,\n",
    "  * в колонке `city` равно параметру `city`.\n",
    "\n",
    "Для этого примените последовательную фильтрацию с логической индексацией.\n",
    "\n",
    "Затем посчитайте значения в столбце `user_id` получившейся таблицы. Результат сохраните в новую переменную. Верните эту переменную из функции."
   ]
  },
  {
   "cell_type": "code",
   "execution_count": 24,
   "metadata": {
    "id": "Nz3GdQB1_Zcu"
   },
   "outputs": [],
   "source": [
    "# <создание функции number_tracks()>\n",
    "# Объявляется функция с двумя параметрами: day, city.\n",
    "# В переменной track_list сохраняются те строки таблицы df, для которых \n",
    "# значение в столбце 'day' равно параметру day и одновременно значение\n",
    "# в столбце 'city' равно параметру city (используйте последовательную фильтрацию\n",
    "# с помощью логической индексации).\n",
    "# В переменной track_list_count сохраняется число значений столбца 'user_id',\n",
    "# рассчитанное методом count() для таблицы track_list.\n",
    "# Функция возвращает число - значение track_list_count.\n",
    "\n",
    "# Функция для подсчёта прослушиваний для конкретного города и дня.\n",
    "# С помощью последовательной фильтрации с логической индексацией она \n",
    "# сначала получит из исходной таблицы строки с нужным днём,\n",
    "# затем из результата отфильтрует строки с нужным городом,\n",
    "# методом count() посчитает количество значений в колонке user_id. \n",
    "# Это количество функция вернёт в качестве результата\n",
    "\n",
    "def number_tracks(day, city):\n",
    "    track_list = df[df['day']==day]\n",
    "    track_list = track_list[track_list['city']==city]\n",
    "    track_list_count = track_list['user_id'].count()    \n",
    "    return track_list_count "
   ]
  },
  {
   "cell_type": "markdown",
   "metadata": {
    "id": "ytf7xFrFJQ2r"
   },
   "source": [
    "Вызовите `number_tracks()` шесть раз, меняя значение параметров — так, чтобы получить данные для каждого города в каждый из трёх дней."
   ]
  },
  {
   "cell_type": "code",
   "execution_count": 25,
   "metadata": {
    "id": "rJcRATNQ_Zcu"
   },
   "outputs": [
    {
     "data": {
      "text/plain": [
       "15740"
      ]
     },
     "execution_count": 25,
     "metadata": {},
     "output_type": "execute_result"
    }
   ],
   "source": [
    "number_tracks('Monday','Moscow') # количество прослушиваний в Москве по понедельникам"
   ]
  },
  {
   "cell_type": "code",
   "execution_count": 26,
   "metadata": {
    "id": "hq_ncZ5T_Zcu"
   },
   "outputs": [
    {
     "data": {
      "text/plain": [
       "5614"
      ]
     },
     "execution_count": 26,
     "metadata": {},
     "output_type": "execute_result"
    }
   ],
   "source": [
    "number_tracks('Monday','Saint-Petersburg')# количество прослушиваний в Санкт-Петербурге по понедельникам"
   ]
  },
  {
   "cell_type": "code",
   "execution_count": 27,
   "metadata": {
    "id": "_NTy2VPU_Zcu"
   },
   "outputs": [
    {
     "data": {
      "text/plain": [
       "11056"
      ]
     },
     "execution_count": 27,
     "metadata": {},
     "output_type": "execute_result"
    }
   ],
   "source": [
    "number_tracks('Wednesday','Moscow')# количество прослушиваний в Москве по средам"
   ]
  },
  {
   "cell_type": "code",
   "execution_count": 28,
   "metadata": {
    "id": "j2y3TAwo_Zcu"
   },
   "outputs": [
    {
     "data": {
      "text/plain": [
       "7003"
      ]
     },
     "execution_count": 28,
     "metadata": {},
     "output_type": "execute_result"
    }
   ],
   "source": [
    "number_tracks('Wednesday','Saint-Petersburg')# количество прослушиваний в Санкт-Петербурге по средам"
   ]
  },
  {
   "cell_type": "code",
   "execution_count": 29,
   "metadata": {
    "id": "vYDw5u_K_Zcu"
   },
   "outputs": [
    {
     "data": {
      "text/plain": [
       "15945"
      ]
     },
     "execution_count": 29,
     "metadata": {},
     "output_type": "execute_result"
    }
   ],
   "source": [
    "number_tracks('Friday','Moscow')# количество прослушиваний в Москве по пятницам"
   ]
  },
  {
   "cell_type": "code",
   "execution_count": 30,
   "metadata": {
    "id": "8_yzFtW3_Zcu"
   },
   "outputs": [
    {
     "data": {
      "text/plain": [
       "5895"
      ]
     },
     "execution_count": 30,
     "metadata": {},
     "output_type": "execute_result"
    }
   ],
   "source": [
    "number_tracks('Friday','Saint-Petersburg')# количество прослушиваний в Санкт-Петербурге по пятницам"
   ]
  },
  {
   "cell_type": "markdown",
   "metadata": {
    "id": "7QXffbO-_Zcu"
   },
   "source": [
    "Создайте c помощью конструктора `pd.DataFrame` таблицу, где\n",
    "* названия колонок — `['city', 'monday', 'wednesday', 'friday']`;\n",
    "* данные — результаты, которые вы получили с помощью `number_tracks`."
   ]
  },
  {
   "cell_type": "code",
   "execution_count": 31,
   "metadata": {
    "id": "APAcLpOr_Zcu"
   },
   "outputs": [
    {
     "data": {
      "text/html": [
       "<div>\n",
       "<style scoped>\n",
       "    .dataframe tbody tr th:only-of-type {\n",
       "        vertical-align: middle;\n",
       "    }\n",
       "\n",
       "    .dataframe tbody tr th {\n",
       "        vertical-align: top;\n",
       "    }\n",
       "\n",
       "    .dataframe thead th {\n",
       "        text-align: right;\n",
       "    }\n",
       "</style>\n",
       "<table border=\"1\" class=\"dataframe\">\n",
       "  <thead>\n",
       "    <tr style=\"text-align: right;\">\n",
       "      <th></th>\n",
       "      <th>city</th>\n",
       "      <th>monday</th>\n",
       "      <th>wednesday</th>\n",
       "      <th>friday</th>\n",
       "    </tr>\n",
       "  </thead>\n",
       "  <tbody>\n",
       "    <tr>\n",
       "      <th>0</th>\n",
       "      <td>Moscow</td>\n",
       "      <td>15740</td>\n",
       "      <td>11056</td>\n",
       "      <td>15945</td>\n",
       "    </tr>\n",
       "    <tr>\n",
       "      <th>1</th>\n",
       "      <td>Saint-Petersburg</td>\n",
       "      <td>5614</td>\n",
       "      <td>7003</td>\n",
       "      <td>5895</td>\n",
       "    </tr>\n",
       "  </tbody>\n",
       "</table>\n",
       "</div>"
      ],
      "text/plain": [
       "               city  monday  wednesday  friday\n",
       "0            Moscow   15740      11056   15945\n",
       "1  Saint-Petersburg    5614       7003    5895"
      ]
     },
     "execution_count": 31,
     "metadata": {},
     "output_type": "execute_result"
    }
   ],
   "source": [
    "# Таблица с результатами\n",
    "data=[['Moscow',15740,11056,15945],\n",
    "['Saint-Petersburg', 5614,7003,5895 ]]\n",
    "\n",
    "pd.DataFrame(data=data, columns = ['city', 'monday', 'wednesday', 'friday']) "
   ]
  },
  {
   "cell_type": "markdown",
   "metadata": {
    "id": "-EgPIHYu_Zcu"
   },
   "source": [
    "**Выводы**\n",
    "\n",
    "Данные показывают разницу поведения пользователей:\n",
    "\n",
    "- В Москве пик прослушиваний приходится на понедельник и пятницу, а в среду заметен спад.\n",
    "- В Петербурге, наоборот, больше слушают музыку по средам. Активность в понедельник и пятницу здесь почти в равной мере уступает среде.\n",
    "\n",
    "Значит, данные говорят в пользу первой гипотезы."
   ]
  },
  {
   "cell_type": "markdown",
   "metadata": {
    "id": "atZAxtq4_Zcu"
   },
   "source": [
    "### Музыка в начале и в конце недели"
   ]
  },
  {
   "cell_type": "markdown",
   "metadata": {
    "id": "eXrQqXFH_Zcu"
   },
   "source": [
    "Согласно второй гипотезе, утром в понедельник в Москве преобладают одни жанры, а в Петербурге — другие. Так же и вечером пятницы преобладают разные жанры — в зависимости от города."
   ]
  },
  {
   "cell_type": "markdown",
   "metadata": {
    "id": "S8UcW6Hw_Zcu"
   },
   "source": [
    "Сохраните таблицы с данными в две переменные:\n",
    "* по Москве — в `moscow_general`;\n",
    "* по Санкт-Петербургу — в `spb_general`."
   ]
  },
  {
   "cell_type": "code",
   "execution_count": 32,
   "metadata": {
    "id": "qeaFfM_P_Zcu"
   },
   "outputs": [],
   "source": [
    "# получение таблицы moscow_general из тех строк таблицы df, \n",
    "# для которых значение в столбце 'city' равно 'Moscow'\n",
    "moscow_general = df[df['city']=='Moscow']"
   ]
  },
  {
   "cell_type": "code",
   "execution_count": 33,
   "metadata": {
    "id": "ORaVRKto_Zcu"
   },
   "outputs": [],
   "source": [
    "# получение таблицы spb_general из тех строк таблицы df,\n",
    "# для которых значение в столбце 'city' равно 'Saint-Petersburg'\n",
    "spb_general = df[df['city']=='Saint-Petersburg']"
   ]
  },
  {
   "cell_type": "markdown",
   "metadata": {
    "id": "MEJV-CX2_Zcu"
   },
   "source": [
    "Создайте функцию `genre_weekday()` с четырьмя параметрами:\n",
    "* таблица (датафрейм) с данными,\n",
    "* день недели,\n",
    "* начальная временная метка в формате 'hh:mm', \n",
    "* последняя временная метка в формате 'hh:mm'.\n",
    "\n",
    "Функция должна вернуть информацию о топ-10 жанров тех треков, которые прослушивали в указанный день, в промежутке между двумя отметками времени."
   ]
  },
  {
   "cell_type": "code",
   "execution_count": 34,
   "metadata": {
    "id": "laJT9BYl_Zcu"
   },
   "outputs": [],
   "source": [
    "# Объявление функции genre_weekday() с параметрами table, day, time1, time2,\n",
    "# которая возвращает информацию о самых популярных жанрах в указанный день в\n",
    "# заданное время:\n",
    "# 1) в переменную genre_df сохраняются те строки переданного датафрейма table, для\n",
    "#    которых одновременно:\n",
    "#    - значение в столбце day равно значению аргумента day\n",
    "#    - значение в столбце time больше значения аргумента time1\n",
    "#    - значение в столбце time меньше значения аргумента time2\n",
    "#    Используйте последовательную фильтрацию с помощью логической индексации.\n",
    "# 2) сгруппировать датафрейм genre_df по столбцу genre, взять один из его\n",
    "#    столбцов и посчитать методом count() количество записей для каждого из\n",
    "#    присутствующих жанров, получившийся Series записать в переменную\n",
    "#    genre_df_count\n",
    "# 3) отсортировать genre_df_count по убыванию встречаемости и сохранить\n",
    "#    в переменную genre_df_sorted\n",
    "# 4) вернуть Series из 10 первых значений genre_df_sorted, это будут топ-10\n",
    "#    популярных жанров (в указанный день, в заданное время)\n",
    "\n",
    "def genre_weekday(table, day, time1, time2):\n",
    "    genre_df = table[table['day']==day]\n",
    "    genre_df = genre_df[genre_df['time']>time1]\n",
    "    genre_df = genre_df[genre_df['time']<time2]\n",
    "    genre_df = genre_df[genre_df['time']<time2]\n",
    "    genre_df_count = genre_df.groupby('genre')['track'].count()\n",
    "    genre_df_sorted = genre_df_count.sort_values(ascending=False)\n",
    "    return genre_df_sorted[:10]\n"
   ]
  },
  {
   "cell_type": "markdown",
   "metadata": {
    "id": "la2s2_PF_Zcu"
   },
   "source": [
    "Cравните результаты функции `genre_weekday()` для Москвы и Санкт-Петербурга в понедельник утром (с 7:00 до 11:00) и в пятницу вечером (с 17:00 до 23:00):"
   ]
  },
  {
   "cell_type": "code",
   "execution_count": 35,
   "metadata": {
    "id": "yz7itPUQ_Zcu"
   },
   "outputs": [
    {
     "data": {
      "text/plain": [
       "genre\n",
       "pop            781\n",
       "dance          549\n",
       "electronic     480\n",
       "rock           474\n",
       "hiphop         286\n",
       "ruspop         186\n",
       "world          181\n",
       "rusrap         175\n",
       "alternative    164\n",
       "unknown        161\n",
       "Name: track, dtype: int64"
      ]
     },
     "execution_count": 35,
     "metadata": {},
     "output_type": "execute_result"
    }
   ],
   "source": [
    "# вызов функции для утра понедельника в Москве (вместо df — таблица moscow_general)\n",
    "# объекты, хранящие время, я вляются строками и сравниваются как строки\n",
    "# пример вызова: genre_weekday(moscow_general, 'Monday', '07:00', '11:00')\n",
    "genre_weekday(moscow_general, 'Monday', '07:00', '11:00') "
   ]
  },
  {
   "cell_type": "code",
   "execution_count": 36,
   "metadata": {
    "id": "kwUcHPdy_Zcu"
   },
   "outputs": [
    {
     "data": {
      "text/plain": [
       "genre\n",
       "pop            218\n",
       "dance          182\n",
       "rock           162\n",
       "electronic     147\n",
       "hiphop          80\n",
       "ruspop          64\n",
       "alternative     58\n",
       "rusrap          55\n",
       "jazz            44\n",
       "classical       40\n",
       "Name: track, dtype: int64"
      ]
     },
     "execution_count": 36,
     "metadata": {},
     "output_type": "execute_result"
    }
   ],
   "source": [
    "# вызов функции для утра понедельника в Петербурге (вместо df — таблица spb_general)\n",
    "genre_weekday(spb_general, 'Monday', '07:00', '11:00') "
   ]
  },
  {
   "cell_type": "code",
   "execution_count": 37,
   "metadata": {
    "id": "EzXVRE1o_Zcu"
   },
   "outputs": [
    {
     "data": {
      "text/plain": [
       "genre\n",
       "pop            713\n",
       "rock           517\n",
       "dance          495\n",
       "electronic     482\n",
       "hiphop         273\n",
       "world          208\n",
       "ruspop         170\n",
       "alternative    163\n",
       "classical      163\n",
       "rusrap         142\n",
       "Name: track, dtype: int64"
      ]
     },
     "execution_count": 37,
     "metadata": {},
     "output_type": "execute_result"
    }
   ],
   "source": [
    "# вызов функции для вечера пятницы в Москве\n",
    "genre_weekday(moscow_general, 'Friday', '17:00', '23:00') "
   ]
  },
  {
   "cell_type": "code",
   "execution_count": 38,
   "metadata": {
    "id": "JZaEKu5v_Zcu"
   },
   "outputs": [
    {
     "data": {
      "text/plain": [
       "genre\n",
       "pop            256\n",
       "electronic     216\n",
       "rock           216\n",
       "dance          210\n",
       "hiphop          97\n",
       "alternative     63\n",
       "jazz            61\n",
       "classical       60\n",
       "rusrap          59\n",
       "world           54\n",
       "Name: track, dtype: int64"
      ]
     },
     "execution_count": 38,
     "metadata": {},
     "output_type": "execute_result"
    }
   ],
   "source": [
    "# вызов функции для вечера пятницы в Петербурге\n",
    "genre_weekday(spb_general, 'Friday', '17:00', '23:00') "
   ]
  },
  {
   "cell_type": "markdown",
   "metadata": {
    "id": "wrCe4MNX_Zcu"
   },
   "source": [
    "**Выводы**\n",
    "\n",
    "Если сравнить топ-10 жанров в понедельник утром, можно сделать такие выводы:\n",
    "\n",
    "1. В Москве и Петербурге слушают похожую музыку. Единственное отличие — в московский рейтинг вошёл жанр “world”, а в петербургский — джаз и классика.\n",
    "\n",
    "2. В Москве пропущенных значений оказалось так много, что значение `'unknown'` заняло десятое место среди самых популярных жанров. Значит, пропущенные значения занимают существенную долю в данных и угрожают достоверности исследования.\n",
    "\n",
    "Вечер пятницы не меняет эту картину. Некоторые жанры поднимаются немного выше, другие спускаются, но в целом топ-10 остаётся тем же самым.\n",
    "\n",
    "Таким образом, вторая гипотеза подтвердилась лишь частично:\n",
    "* Пользователи слушают похожую музыку в начале недели и в конце.\n",
    "* Разница между Москвой и Петербургом не слишком выражена. В Москве чаще слушают русскую популярную музыку, в Петербурге — джаз.\n",
    "\n",
    "Однако пропуски в данных ставят под сомнение этот результат. В Москве их так много, что рейтинг топ-10 мог бы выглядеть иначе, если бы не утерянные  данные о жанрах."
   ]
  },
  {
   "cell_type": "markdown",
   "metadata": {
    "id": "JolODAqr_Zcu"
   },
   "source": [
    "### Жанровые предпочтения в Москве и Петербурге\n",
    "\n",
    "Гипотеза: Петербург — столица рэпа, музыку этого жанра там слушают чаще, чем в Москве.  А Москва — город контрастов, в котором, тем не менее, преобладает поп-музыка."
   ]
  },
  {
   "cell_type": "markdown",
   "metadata": {
    "id": "DlegSvaT_Zcu"
   },
   "source": [
    "Сгруппируйте таблицу `moscow_general` по жанру и посчитайте прослушивания треков каждого жанра методом `count()`. Затем отсортируйте результат в порядке убывания и сохраните его в таблице `moscow_genres`."
   ]
  },
  {
   "cell_type": "code",
   "execution_count": 39,
   "metadata": {
    "id": "r19lIPke_Zcu"
   },
   "outputs": [],
   "source": [
    "# одной строкой: группировка таблицы moscow_general по столбцу 'genre', \n",
    "# подсчёт числа значений 'genre' в этой группировке методом count(), \n",
    "# сортировка получившегося Series в порядке убывания и сохранение в moscow_genre\n",
    "moscow_genres = moscow_general.groupby('genre')['track'].count().sort_values(ascending=False)"
   ]
  },
  {
   "cell_type": "markdown",
   "metadata": {
    "id": "6kMuomxTiIr8"
   },
   "source": [
    "Выведите на экран первые десять строк `moscow_genres`:"
   ]
  },
  {
   "cell_type": "code",
   "execution_count": 40,
   "metadata": {
    "id": "WhCSooF8_Zcv"
   },
   "outputs": [
    {
     "name": "stdout",
     "output_type": "stream",
     "text": [
      "genre\n",
      "pop            5892\n",
      "dance          4435\n",
      "rock           3965\n",
      "electronic     3786\n",
      "hiphop         2096\n",
      "classical      1616\n",
      "world          1432\n",
      "alternative    1379\n",
      "ruspop         1372\n",
      "rusrap         1161\n",
      "Name: track, dtype: int64\n"
     ]
    }
   ],
   "source": [
    "# просмотр первых 10 строк moscow_genres\n",
    "print(moscow_genres.head(10))"
   ]
  },
  {
   "cell_type": "markdown",
   "metadata": {
    "id": "cnPG2vnN_Zcv"
   },
   "source": [
    "Теперь повторите то же и для Петербурга.\n",
    "\n",
    "Сгруппируйте таблицу `spb_general` по жанру. Посчитайте прослушивания треков каждого жанра. Результат отсортируйте в порядке убывания и сохраните в таблице `spb_genres`:\n"
   ]
  },
  {
   "cell_type": "code",
   "execution_count": 41,
   "metadata": {
    "id": "gluLIpE7_Zcv"
   },
   "outputs": [],
   "source": [
    "# одной строкой: группировка таблицы spb_general по столбцу 'genre', \n",
    "# подсчёт числа значений 'genre' в этой группировке методом count(), \n",
    "# сортировка получившегося Series в порядке убывания и сохранение в spb_genres\n",
    "spb_genres = spb_general.groupby('genre')['track'].count().sort_values(ascending=False)"
   ]
  },
  {
   "cell_type": "markdown",
   "metadata": {
    "id": "5Doha_ODgyQ8"
   },
   "source": [
    "Выведите на экран первые десять строк `spb_genres`:"
   ]
  },
  {
   "cell_type": "code",
   "execution_count": 42,
   "metadata": {
    "id": "uaGJHjVU_Zcv"
   },
   "outputs": [
    {
     "name": "stdout",
     "output_type": "stream",
     "text": [
      "genre\n",
      "pop            2431\n",
      "dance          1932\n",
      "rock           1879\n",
      "electronic     1736\n",
      "hiphop          960\n",
      "alternative     649\n",
      "classical       646\n",
      "rusrap          564\n",
      "ruspop          538\n",
      "world           515\n",
      "Name: track, dtype: int64\n"
     ]
    }
   ],
   "source": [
    "# просмотр первых 10 строк spb_genres\n",
    "print(spb_genres.head(10))"
   ]
  },
  {
   "cell_type": "markdown",
   "metadata": {
    "id": "RY51YJYu_Zcv"
   },
   "source": [
    "**Выводы**"
   ]
  },
  {
   "cell_type": "markdown",
   "metadata": {
    "id": "nVhnJEm__Zcv"
   },
   "source": [
    "Гипотеза частично подтвердилась:\n",
    "* Поп-музыка — самый популярный жанр в Москве, как и предполагала гипотеза. Более того, в топ-10 жанров встречается близкий жанр — русская популярная музыка.\n",
    "* Вопреки ожиданиям, рэп одинаково популярен в Москве и Петербурге. \n"
   ]
  },
  {
   "cell_type": "markdown",
   "metadata": {
    "id": "ykKQ0N65_Zcv"
   },
   "source": [
    "## Итоги исследования"
   ]
  },
  {
   "cell_type": "markdown",
   "metadata": {
    "id": "tjUwbHb3_Zcv"
   },
   "source": [
    "Вы проверили три гипотезы и установили:\n",
    "\n",
    "1. День недели по-разному влияет на активность пользователей в Москве и Петербурге. \n",
    "\n",
    "Первая гипотеза полностью подтвердилась.\n",
    "\n",
    "2. Музыкальные предпочтения не сильно меняются в течение недели — будь то Москва или Петербург. Небольшие различия заметны в начале недели, по понедельникам:\n",
    "* в Москве слушают музыку жанра “world”,\n",
    "* в Петербурге — джаз и классику.\n",
    "\n",
    "Таким образом, вторая гипотеза подтвердилась лишь отчасти. Этот результат мог оказаться иным, если бы не пропуски в данных.\n",
    "\n",
    "3. Во вкусах пользователей Москвы и Петербурга больше общего чем различий. Вопреки ожиданиям, предпочтения жанров в Петербурге напоминают московские.\n",
    "\n",
    "Третья гипотеза не подтвердилась. Если различия в предпочтениях и существуют, на основной массе пользователей они незаметны.\n",
    "\n",
    "**На практике исследования содержат проверки статистических гипотез.**\n",
    "Из данных одного сервиса не всегда можно сделать вывод о всех жителях города.\n",
    "Проверки статистических гипотез покажут, насколько они достоверны, исходя из имеющихся данных. \n",
    "С методами проверок гипотез вы ещё познакомитесь в следующих темах."
   ]
  }
 ],
 "metadata": {
  "ExecuteTimeLog": [
   {
    "duration": 70,
    "start_time": "2022-05-05T14:48:16.168Z"
   },
   {
    "duration": 10,
    "start_time": "2022-05-05T14:48:41.291Z"
   },
   {
    "duration": 10,
    "start_time": "2022-05-05T14:49:15.737Z"
   },
   {
    "duration": 11,
    "start_time": "2022-05-05T14:52:21.619Z"
   },
   {
    "duration": 8,
    "start_time": "2022-05-05T14:52:31.286Z"
   },
   {
    "duration": 8,
    "start_time": "2022-05-05T14:55:26.112Z"
   },
   {
    "duration": 8,
    "start_time": "2022-05-05T14:56:34.566Z"
   },
   {
    "duration": 73,
    "start_time": "2022-05-05T14:58:14.230Z"
   },
   {
    "duration": 563,
    "start_time": "2022-05-05T14:58:36.069Z"
   },
   {
    "duration": 106,
    "start_time": "2022-05-05T14:58:39.313Z"
   },
   {
    "duration": 4,
    "start_time": "2022-05-05T14:58:43.803Z"
   },
   {
    "duration": 501,
    "start_time": "2022-05-05T14:59:12.291Z"
   },
   {
    "duration": 146,
    "start_time": "2022-05-05T14:59:12.795Z"
   },
   {
    "duration": 0,
    "start_time": "2022-05-05T14:59:12.945Z"
   },
   {
    "duration": 0,
    "start_time": "2022-05-05T14:59:12.948Z"
   },
   {
    "duration": 0,
    "start_time": "2022-05-05T14:59:12.949Z"
   },
   {
    "duration": 0,
    "start_time": "2022-05-05T14:59:12.950Z"
   },
   {
    "duration": 0,
    "start_time": "2022-05-05T14:59:12.951Z"
   },
   {
    "duration": 0,
    "start_time": "2022-05-05T14:59:12.953Z"
   },
   {
    "duration": 0,
    "start_time": "2022-05-05T14:59:12.954Z"
   },
   {
    "duration": 0,
    "start_time": "2022-05-05T14:59:12.955Z"
   },
   {
    "duration": 0,
    "start_time": "2022-05-05T14:59:12.956Z"
   },
   {
    "duration": 0,
    "start_time": "2022-05-05T14:59:12.982Z"
   },
   {
    "duration": 0,
    "start_time": "2022-05-05T14:59:12.984Z"
   },
   {
    "duration": 0,
    "start_time": "2022-05-05T14:59:12.985Z"
   },
   {
    "duration": 0,
    "start_time": "2022-05-05T14:59:12.987Z"
   },
   {
    "duration": 0,
    "start_time": "2022-05-05T14:59:12.988Z"
   },
   {
    "duration": 0,
    "start_time": "2022-05-05T14:59:12.990Z"
   },
   {
    "duration": 0,
    "start_time": "2022-05-05T14:59:12.992Z"
   },
   {
    "duration": 0,
    "start_time": "2022-05-05T14:59:12.993Z"
   },
   {
    "duration": 0,
    "start_time": "2022-05-05T14:59:12.995Z"
   },
   {
    "duration": 0,
    "start_time": "2022-05-05T14:59:12.996Z"
   },
   {
    "duration": 0,
    "start_time": "2022-05-05T14:59:12.997Z"
   },
   {
    "duration": 0,
    "start_time": "2022-05-05T14:59:12.999Z"
   },
   {
    "duration": 0,
    "start_time": "2022-05-05T14:59:13.000Z"
   },
   {
    "duration": 0,
    "start_time": "2022-05-05T14:59:13.001Z"
   },
   {
    "duration": 0,
    "start_time": "2022-05-05T14:59:13.002Z"
   },
   {
    "duration": 0,
    "start_time": "2022-05-05T14:59:13.003Z"
   },
   {
    "duration": 0,
    "start_time": "2022-05-05T14:59:13.005Z"
   },
   {
    "duration": 0,
    "start_time": "2022-05-05T14:59:13.006Z"
   },
   {
    "duration": 0,
    "start_time": "2022-05-05T14:59:13.008Z"
   },
   {
    "duration": 0,
    "start_time": "2022-05-05T14:59:13.009Z"
   },
   {
    "duration": 0,
    "start_time": "2022-05-05T14:59:13.011Z"
   },
   {
    "duration": 0,
    "start_time": "2022-05-05T14:59:13.013Z"
   },
   {
    "duration": 0,
    "start_time": "2022-05-05T14:59:13.014Z"
   },
   {
    "duration": 0,
    "start_time": "2022-05-05T14:59:13.016Z"
   },
   {
    "duration": 0,
    "start_time": "2022-05-05T14:59:13.018Z"
   },
   {
    "duration": 0,
    "start_time": "2022-05-05T14:59:13.019Z"
   },
   {
    "duration": 0,
    "start_time": "2022-05-05T14:59:13.082Z"
   },
   {
    "duration": 493,
    "start_time": "2022-05-05T14:59:54.792Z"
   },
   {
    "duration": 178,
    "start_time": "2022-05-05T15:00:08.107Z"
   },
   {
    "duration": 207,
    "start_time": "2022-05-05T15:00:50.515Z"
   },
   {
    "duration": 211,
    "start_time": "2022-05-05T15:01:28.590Z"
   },
   {
    "duration": 229,
    "start_time": "2022-05-05T15:03:30.320Z"
   },
   {
    "duration": 289,
    "start_time": "2022-05-05T15:03:45.241Z"
   },
   {
    "duration": 9,
    "start_time": "2022-05-05T15:07:35.980Z"
   },
   {
    "duration": 16,
    "start_time": "2022-05-05T15:07:49.672Z"
   },
   {
    "duration": 10,
    "start_time": "2022-05-05T15:08:17.671Z"
   },
   {
    "duration": 4,
    "start_time": "2022-05-05T15:08:22.645Z"
   },
   {
    "duration": 5,
    "start_time": "2022-05-05T15:08:32.332Z"
   },
   {
    "duration": 4,
    "start_time": "2022-05-05T15:08:55.590Z"
   },
   {
    "duration": 5,
    "start_time": "2022-05-05T15:09:37.637Z"
   },
   {
    "duration": 5,
    "start_time": "2022-05-05T15:09:43.819Z"
   },
   {
    "duration": 5,
    "start_time": "2022-05-05T15:09:50.748Z"
   },
   {
    "duration": 12,
    "start_time": "2022-05-05T15:10:24.525Z"
   },
   {
    "duration": 13,
    "start_time": "2022-05-05T15:12:24.637Z"
   },
   {
    "duration": 12,
    "start_time": "2022-05-05T15:12:34.300Z"
   },
   {
    "duration": 12,
    "start_time": "2022-05-05T15:13:07.731Z"
   },
   {
    "duration": 13,
    "start_time": "2022-05-05T15:13:16.153Z"
   },
   {
    "duration": 43,
    "start_time": "2022-05-05T15:14:30.770Z"
   },
   {
    "duration": 41,
    "start_time": "2022-05-05T15:14:41.590Z"
   },
   {
    "duration": 69,
    "start_time": "2022-05-05T15:16:28.603Z"
   },
   {
    "duration": 8,
    "start_time": "2022-05-05T15:16:33.024Z"
   },
   {
    "duration": 509,
    "start_time": "2022-05-05T15:16:46.241Z"
   },
   {
    "duration": 238,
    "start_time": "2022-05-05T15:16:48.033Z"
   },
   {
    "duration": 16,
    "start_time": "2022-05-05T15:16:54.409Z"
   },
   {
    "duration": 39,
    "start_time": "2022-05-05T15:16:57.803Z"
   },
   {
    "duration": 41,
    "start_time": "2022-05-05T15:27:19.926Z"
   },
   {
    "duration": 4,
    "start_time": "2022-05-05T15:28:25.610Z"
   },
   {
    "duration": 17,
    "start_time": "2022-05-05T15:32:29.593Z"
   },
   {
    "duration": 5,
    "start_time": "2022-05-05T15:32:32.427Z"
   },
   {
    "duration": 34,
    "start_time": "2022-05-05T15:33:41.962Z"
   },
   {
    "duration": 16,
    "start_time": "2022-05-05T15:34:28.096Z"
   },
   {
    "duration": 5,
    "start_time": "2022-05-05T15:34:29.021Z"
   },
   {
    "duration": 122,
    "start_time": "2022-05-05T15:49:40.482Z"
   },
   {
    "duration": 1828,
    "start_time": "2022-05-05T15:49:56.178Z"
   },
   {
    "duration": 1541,
    "start_time": "2022-05-05T15:49:58.545Z"
   },
   {
    "duration": 0,
    "start_time": "2022-05-05T15:52:09.979Z"
   },
   {
    "duration": 2201,
    "start_time": "2022-05-05T15:52:10.983Z"
   },
   {
    "duration": 31,
    "start_time": "2022-05-05T15:52:41.568Z"
   },
   {
    "duration": 53,
    "start_time": "2022-05-05T15:53:11.294Z"
   },
   {
    "duration": 35,
    "start_time": "2022-05-05T15:53:23.049Z"
   },
   {
    "duration": 34,
    "start_time": "2022-05-05T15:53:49.046Z"
   },
   {
    "duration": 101,
    "start_time": "2022-05-05T15:54:30.694Z"
   },
   {
    "duration": 45,
    "start_time": "2022-05-05T17:41:48.198Z"
   },
   {
    "duration": 5,
    "start_time": "2022-05-05T17:42:45.792Z"
   },
   {
    "duration": 6,
    "start_time": "2022-05-05T17:42:53.244Z"
   },
   {
    "duration": 2,
    "start_time": "2022-05-05T17:43:00.129Z"
   },
   {
    "duration": 360,
    "start_time": "2022-05-05T17:43:16.909Z"
   },
   {
    "duration": 173,
    "start_time": "2022-05-05T17:43:17.271Z"
   },
   {
    "duration": 10,
    "start_time": "2022-05-05T17:43:17.446Z"
   },
   {
    "duration": 29,
    "start_time": "2022-05-05T17:43:17.458Z"
   },
   {
    "duration": 3,
    "start_time": "2022-05-05T17:43:17.490Z"
   },
   {
    "duration": 17,
    "start_time": "2022-05-05T17:43:17.494Z"
   },
   {
    "duration": 7,
    "start_time": "2022-05-05T17:43:17.513Z"
   },
   {
    "duration": 65,
    "start_time": "2022-05-05T17:43:17.521Z"
   },
   {
    "duration": 18,
    "start_time": "2022-05-05T17:43:17.588Z"
   },
   {
    "duration": 23,
    "start_time": "2022-05-05T17:43:17.608Z"
   },
   {
    "duration": 62,
    "start_time": "2022-05-05T17:43:17.647Z"
   },
   {
    "duration": 74,
    "start_time": "2022-05-05T17:44:12.797Z"
   },
   {
    "duration": 55,
    "start_time": "2022-05-05T17:44:35.870Z"
   },
   {
    "duration": 8,
    "start_time": "2022-05-05T17:45:34.021Z"
   },
   {
    "duration": 38,
    "start_time": "2022-05-05T17:54:33.583Z"
   },
   {
    "duration": 3,
    "start_time": "2022-05-05T18:05:40.947Z"
   },
   {
    "duration": 28,
    "start_time": "2022-05-05T18:08:36.554Z"
   },
   {
    "duration": 9,
    "start_time": "2022-05-05T18:09:14.030Z"
   },
   {
    "duration": 2,
    "start_time": "2022-05-05T18:09:16.678Z"
   },
   {
    "duration": 26,
    "start_time": "2022-05-05T18:09:18.080Z"
   },
   {
    "duration": 36,
    "start_time": "2022-05-05T18:10:10.629Z"
   },
   {
    "duration": 52,
    "start_time": "2022-05-06T10:46:42.065Z"
   },
   {
    "duration": 468,
    "start_time": "2022-05-06T10:47:11.520Z"
   },
   {
    "duration": 171,
    "start_time": "2022-05-06T10:47:11.990Z"
   },
   {
    "duration": 10,
    "start_time": "2022-05-06T10:47:12.163Z"
   },
   {
    "duration": 43,
    "start_time": "2022-05-06T10:47:12.175Z"
   },
   {
    "duration": 4,
    "start_time": "2022-05-06T10:47:12.220Z"
   },
   {
    "duration": 13,
    "start_time": "2022-05-06T10:47:12.226Z"
   },
   {
    "duration": 6,
    "start_time": "2022-05-06T10:47:12.241Z"
   },
   {
    "duration": 44,
    "start_time": "2022-05-06T10:47:12.248Z"
   },
   {
    "duration": 24,
    "start_time": "2022-05-06T10:47:12.294Z"
   },
   {
    "duration": 23,
    "start_time": "2022-05-06T10:47:12.319Z"
   },
   {
    "duration": 74,
    "start_time": "2022-05-06T10:47:12.344Z"
   },
   {
    "duration": 85,
    "start_time": "2022-05-06T10:47:12.420Z"
   },
   {
    "duration": 61,
    "start_time": "2022-05-06T10:47:12.507Z"
   },
   {
    "duration": 78,
    "start_time": "2022-05-06T10:47:12.571Z"
   },
   {
    "duration": 2,
    "start_time": "2022-05-06T10:47:12.651Z"
   },
   {
    "duration": 43,
    "start_time": "2022-05-06T10:47:12.655Z"
   },
   {
    "duration": 68,
    "start_time": "2022-05-06T10:47:12.700Z"
   },
   {
    "duration": 34,
    "start_time": "2022-05-06T10:47:14.462Z"
   },
   {
    "duration": 11,
    "start_time": "2022-05-06T10:49:04.477Z"
   },
   {
    "duration": 79,
    "start_time": "2022-05-06T10:50:46.194Z"
   },
   {
    "duration": 152,
    "start_time": "2022-05-06T10:52:11.273Z"
   },
   {
    "duration": 133,
    "start_time": "2022-05-06T10:52:52.965Z"
   },
   {
    "duration": 9,
    "start_time": "2022-05-06T10:52:59.835Z"
   },
   {
    "duration": 10,
    "start_time": "2022-05-06T10:53:14.101Z"
   },
   {
    "duration": 175,
    "start_time": "2022-05-06T11:01:41.990Z"
   },
   {
    "duration": 28,
    "start_time": "2022-05-06T11:01:59.544Z"
   },
   {
    "duration": 32,
    "start_time": "2022-05-06T11:02:08.517Z"
   },
   {
    "duration": 30,
    "start_time": "2022-05-06T11:02:30.542Z"
   },
   {
    "duration": 40,
    "start_time": "2022-05-06T11:03:08.906Z"
   },
   {
    "duration": 40,
    "start_time": "2022-05-06T11:03:42.459Z"
   },
   {
    "duration": 106,
    "start_time": "2022-05-06T15:49:22.241Z"
   },
   {
    "duration": 43,
    "start_time": "2022-05-06T15:49:35.288Z"
   },
   {
    "duration": 341,
    "start_time": "2022-05-06T15:49:42.401Z"
   },
   {
    "duration": 161,
    "start_time": "2022-05-06T15:49:42.744Z"
   },
   {
    "duration": 10,
    "start_time": "2022-05-06T15:49:42.906Z"
   },
   {
    "duration": 39,
    "start_time": "2022-05-06T15:49:42.918Z"
   },
   {
    "duration": 3,
    "start_time": "2022-05-06T15:49:42.959Z"
   },
   {
    "duration": 14,
    "start_time": "2022-05-06T15:49:42.964Z"
   },
   {
    "duration": 4,
    "start_time": "2022-05-06T15:49:42.980Z"
   },
   {
    "duration": 23,
    "start_time": "2022-05-06T15:49:42.986Z"
   },
   {
    "duration": 42,
    "start_time": "2022-05-06T15:49:43.011Z"
   },
   {
    "duration": 23,
    "start_time": "2022-05-06T15:49:43.055Z"
   },
   {
    "duration": 77,
    "start_time": "2022-05-06T15:49:43.080Z"
   },
   {
    "duration": 74,
    "start_time": "2022-05-06T15:49:43.159Z"
   },
   {
    "duration": 63,
    "start_time": "2022-05-06T15:49:43.235Z"
   },
   {
    "duration": 48,
    "start_time": "2022-05-06T15:49:43.301Z"
   },
   {
    "duration": 3,
    "start_time": "2022-05-06T15:49:43.351Z"
   },
   {
    "duration": 24,
    "start_time": "2022-05-06T15:49:43.355Z"
   },
   {
    "duration": 35,
    "start_time": "2022-05-06T15:49:43.381Z"
   },
   {
    "duration": 41,
    "start_time": "2022-05-06T15:49:45.426Z"
   },
   {
    "duration": 10,
    "start_time": "2022-05-06T15:50:07.185Z"
   },
   {
    "duration": 98,
    "start_time": "2022-05-06T16:18:12.754Z"
   },
   {
    "duration": 108,
    "start_time": "2022-05-06T16:22:38.297Z"
   },
   {
    "duration": 3,
    "start_time": "2022-05-06T16:22:46.112Z"
   },
   {
    "duration": 157,
    "start_time": "2022-05-06T16:22:46.136Z"
   },
   {
    "duration": 9,
    "start_time": "2022-05-06T16:22:46.295Z"
   },
   {
    "duration": 32,
    "start_time": "2022-05-06T16:22:46.306Z"
   },
   {
    "duration": 9,
    "start_time": "2022-05-06T16:22:46.339Z"
   },
   {
    "duration": 9,
    "start_time": "2022-05-06T16:22:46.350Z"
   },
   {
    "duration": 3,
    "start_time": "2022-05-06T16:22:46.361Z"
   },
   {
    "duration": 23,
    "start_time": "2022-05-06T16:22:46.366Z"
   },
   {
    "duration": 17,
    "start_time": "2022-05-06T16:22:46.390Z"
   },
   {
    "duration": 55,
    "start_time": "2022-05-06T16:22:46.408Z"
   },
   {
    "duration": 60,
    "start_time": "2022-05-06T16:22:46.465Z"
   },
   {
    "duration": 86,
    "start_time": "2022-05-06T16:22:46.527Z"
   },
   {
    "duration": 65,
    "start_time": "2022-05-06T16:22:46.614Z"
   },
   {
    "duration": 36,
    "start_time": "2022-05-06T16:22:46.681Z"
   },
   {
    "duration": 2,
    "start_time": "2022-05-06T16:22:46.720Z"
   },
   {
    "duration": 44,
    "start_time": "2022-05-06T16:22:46.724Z"
   },
   {
    "duration": 36,
    "start_time": "2022-05-06T16:22:46.770Z"
   },
   {
    "duration": 61,
    "start_time": "2022-05-06T16:22:46.807Z"
   },
   {
    "duration": 10,
    "start_time": "2022-05-06T16:22:46.870Z"
   },
   {
    "duration": 102,
    "start_time": "2022-05-06T16:22:48.944Z"
   },
   {
    "duration": 3,
    "start_time": "2022-05-06T16:22:57.330Z"
   },
   {
    "duration": 26,
    "start_time": "2022-05-06T16:23:34.954Z"
   },
   {
    "duration": 16,
    "start_time": "2022-05-06T16:23:53.933Z"
   },
   {
    "duration": 16,
    "start_time": "2022-05-06T16:24:21.847Z"
   },
   {
    "duration": 4,
    "start_time": "2022-05-06T16:25:23.964Z"
   },
   {
    "duration": 154,
    "start_time": "2022-05-06T16:25:23.969Z"
   },
   {
    "duration": 9,
    "start_time": "2022-05-06T16:25:24.125Z"
   },
   {
    "duration": 30,
    "start_time": "2022-05-06T16:25:24.147Z"
   },
   {
    "duration": 4,
    "start_time": "2022-05-06T16:25:24.179Z"
   },
   {
    "duration": 14,
    "start_time": "2022-05-06T16:25:24.184Z"
   },
   {
    "duration": 4,
    "start_time": "2022-05-06T16:25:24.200Z"
   },
   {
    "duration": 47,
    "start_time": "2022-05-06T16:25:24.208Z"
   },
   {
    "duration": 19,
    "start_time": "2022-05-06T16:25:24.257Z"
   },
   {
    "duration": 25,
    "start_time": "2022-05-06T16:25:24.278Z"
   },
   {
    "duration": 77,
    "start_time": "2022-05-06T16:25:24.304Z"
   },
   {
    "duration": 72,
    "start_time": "2022-05-06T16:25:24.383Z"
   },
   {
    "duration": 52,
    "start_time": "2022-05-06T16:25:24.457Z"
   },
   {
    "duration": 48,
    "start_time": "2022-05-06T16:25:24.510Z"
   },
   {
    "duration": 2,
    "start_time": "2022-05-06T16:25:24.560Z"
   },
   {
    "duration": 26,
    "start_time": "2022-05-06T16:25:24.564Z"
   },
   {
    "duration": 36,
    "start_time": "2022-05-06T16:25:24.591Z"
   },
   {
    "duration": 66,
    "start_time": "2022-05-06T16:25:24.628Z"
   },
   {
    "duration": 11,
    "start_time": "2022-05-06T16:25:24.696Z"
   },
   {
    "duration": 4,
    "start_time": "2022-05-06T16:25:24.709Z"
   },
   {
    "duration": 41,
    "start_time": "2022-05-06T16:25:24.714Z"
   },
   {
    "duration": 15,
    "start_time": "2022-05-06T16:25:24.757Z"
   },
   {
    "duration": 14,
    "start_time": "2022-05-06T16:25:24.773Z"
   },
   {
    "duration": 13,
    "start_time": "2022-05-06T16:25:24.788Z"
   },
   {
    "duration": 44,
    "start_time": "2022-05-06T16:25:24.803Z"
   },
   {
    "duration": 15,
    "start_time": "2022-05-06T16:25:26.828Z"
   },
   {
    "duration": 103,
    "start_time": "2022-05-06T16:40:59.709Z"
   },
   {
    "duration": 8,
    "start_time": "2022-05-06T16:46:52.960Z"
   },
   {
    "duration": 9,
    "start_time": "2022-05-06T16:47:41.153Z"
   },
   {
    "duration": 11,
    "start_time": "2022-05-06T16:50:04.823Z"
   },
   {
    "duration": 482,
    "start_time": "2022-05-07T22:34:14.434Z"
   },
   {
    "duration": 241,
    "start_time": "2022-05-07T22:34:14.919Z"
   },
   {
    "duration": 30,
    "start_time": "2022-05-07T22:34:15.163Z"
   },
   {
    "duration": 48,
    "start_time": "2022-05-07T22:34:15.198Z"
   },
   {
    "duration": 5,
    "start_time": "2022-05-07T22:34:15.248Z"
   },
   {
    "duration": 45,
    "start_time": "2022-05-07T22:34:15.255Z"
   },
   {
    "duration": 6,
    "start_time": "2022-05-07T22:34:15.303Z"
   },
   {
    "duration": 36,
    "start_time": "2022-05-07T22:34:15.311Z"
   },
   {
    "duration": 55,
    "start_time": "2022-05-07T22:34:15.349Z"
   },
   {
    "duration": 32,
    "start_time": "2022-05-07T22:34:15.409Z"
   },
   {
    "duration": 122,
    "start_time": "2022-05-07T22:34:15.444Z"
   },
   {
    "duration": 140,
    "start_time": "2022-05-07T22:34:15.569Z"
   },
   {
    "duration": 113,
    "start_time": "2022-05-07T22:34:15.711Z"
   },
   {
    "duration": 67,
    "start_time": "2022-05-07T22:34:15.826Z"
   },
   {
    "duration": 4,
    "start_time": "2022-05-07T22:34:15.898Z"
   },
   {
    "duration": 39,
    "start_time": "2022-05-07T22:34:15.905Z"
   },
   {
    "duration": 81,
    "start_time": "2022-05-07T22:34:15.947Z"
   },
   {
    "duration": 19,
    "start_time": "2022-05-07T22:34:16.031Z"
   },
   {
    "duration": 40,
    "start_time": "2022-05-07T22:34:16.053Z"
   },
   {
    "duration": 6,
    "start_time": "2022-05-07T22:34:16.096Z"
   },
   {
    "duration": 40,
    "start_time": "2022-05-07T22:34:16.105Z"
   },
   {
    "duration": 53,
    "start_time": "2022-05-07T22:34:16.147Z"
   },
   {
    "duration": 33,
    "start_time": "2022-05-07T22:34:16.203Z"
   },
   {
    "duration": 45,
    "start_time": "2022-05-07T22:34:16.238Z"
   },
   {
    "duration": 28,
    "start_time": "2022-05-07T22:34:16.286Z"
   },
   {
    "duration": 20,
    "start_time": "2022-05-07T22:34:16.316Z"
   },
   {
    "duration": 49,
    "start_time": "2022-05-07T22:34:16.339Z"
   },
   {
    "duration": 22,
    "start_time": "2022-05-07T22:34:16.394Z"
   },
   {
    "duration": 19,
    "start_time": "2022-05-07T22:34:16.419Z"
   },
   {
    "duration": 107,
    "start_time": "2022-05-07T23:13:45.207Z"
   },
   {
    "duration": 99,
    "start_time": "2022-05-07T23:31:39.477Z"
   },
   {
    "duration": 6,
    "start_time": "2022-05-07T23:31:54.486Z"
   },
   {
    "duration": 121,
    "start_time": "2022-05-07T23:38:11.228Z"
   },
   {
    "duration": 6,
    "start_time": "2022-05-07T23:41:04.215Z"
   },
   {
    "duration": 38,
    "start_time": "2022-05-07T23:41:07.819Z"
   },
   {
    "duration": 7,
    "start_time": "2022-05-07T23:42:24.586Z"
   },
   {
    "duration": 38,
    "start_time": "2022-05-07T23:42:25.720Z"
   },
   {
    "duration": 8,
    "start_time": "2022-05-07T23:43:21.501Z"
   },
   {
    "duration": 1715,
    "start_time": "2022-05-07T23:43:22.822Z"
   },
   {
    "duration": 7,
    "start_time": "2022-05-07T23:44:23.170Z"
   },
   {
    "duration": 33,
    "start_time": "2022-05-07T23:44:24.091Z"
   },
   {
    "duration": 32,
    "start_time": "2022-05-07T23:46:53.141Z"
   },
   {
    "duration": 29,
    "start_time": "2022-05-07T23:48:27.322Z"
   },
   {
    "duration": 29,
    "start_time": "2022-05-07T23:48:46.669Z"
   },
   {
    "duration": 32,
    "start_time": "2022-05-07T23:55:46.500Z"
   },
   {
    "duration": 34,
    "start_time": "2022-05-07T23:55:49.201Z"
   },
   {
    "duration": 14,
    "start_time": "2022-05-07T23:55:58.343Z"
   },
   {
    "duration": 4,
    "start_time": "2022-05-07T23:56:13.458Z"
   },
   {
    "duration": 234,
    "start_time": "2022-05-07T23:56:13.465Z"
   },
   {
    "duration": 15,
    "start_time": "2022-05-07T23:56:13.702Z"
   },
   {
    "duration": 63,
    "start_time": "2022-05-07T23:56:13.719Z"
   },
   {
    "duration": 4,
    "start_time": "2022-05-07T23:56:13.785Z"
   },
   {
    "duration": 14,
    "start_time": "2022-05-07T23:56:13.792Z"
   },
   {
    "duration": 4,
    "start_time": "2022-05-07T23:56:13.808Z"
   },
   {
    "duration": 35,
    "start_time": "2022-05-07T23:56:13.814Z"
   },
   {
    "duration": 25,
    "start_time": "2022-05-07T23:56:13.883Z"
   },
   {
    "duration": 34,
    "start_time": "2022-05-07T23:56:13.910Z"
   },
   {
    "duration": 133,
    "start_time": "2022-05-07T23:56:13.947Z"
   },
   {
    "duration": 125,
    "start_time": "2022-05-07T23:56:14.082Z"
   },
   {
    "duration": 98,
    "start_time": "2022-05-07T23:56:14.209Z"
   },
   {
    "duration": 54,
    "start_time": "2022-05-07T23:56:14.310Z"
   },
   {
    "duration": 5,
    "start_time": "2022-05-07T23:56:14.382Z"
   },
   {
    "duration": 37,
    "start_time": "2022-05-07T23:56:14.389Z"
   },
   {
    "duration": 69,
    "start_time": "2022-05-07T23:56:14.428Z"
   },
   {
    "duration": 17,
    "start_time": "2022-05-07T23:56:14.499Z"
   },
   {
    "duration": 16,
    "start_time": "2022-05-07T23:56:14.519Z"
   },
   {
    "duration": 5,
    "start_time": "2022-05-07T23:56:14.537Z"
   },
   {
    "duration": 56,
    "start_time": "2022-05-07T23:56:14.545Z"
   },
   {
    "duration": 19,
    "start_time": "2022-05-07T23:56:14.603Z"
   },
   {
    "duration": 19,
    "start_time": "2022-05-07T23:56:14.625Z"
   },
   {
    "duration": 51,
    "start_time": "2022-05-07T23:56:14.647Z"
   },
   {
    "duration": 22,
    "start_time": "2022-05-07T23:56:14.700Z"
   },
   {
    "duration": 20,
    "start_time": "2022-05-07T23:56:14.724Z"
   },
   {
    "duration": 40,
    "start_time": "2022-05-07T23:56:14.746Z"
   },
   {
    "duration": 16,
    "start_time": "2022-05-07T23:56:14.788Z"
   },
   {
    "duration": 16,
    "start_time": "2022-05-07T23:56:14.808Z"
   },
   {
    "duration": 6,
    "start_time": "2022-05-07T23:56:14.827Z"
   },
   {
    "duration": 34,
    "start_time": "2022-05-07T23:56:17.080Z"
   },
   {
    "duration": 33,
    "start_time": "2022-05-07T23:56:19.236Z"
   },
   {
    "duration": 30,
    "start_time": "2022-05-07T23:56:21.786Z"
   },
   {
    "duration": 31,
    "start_time": "2022-05-07T23:56:23.768Z"
   },
   {
    "duration": 6,
    "start_time": "2022-05-07T23:57:09.537Z"
   },
   {
    "duration": 27,
    "start_time": "2022-05-07T23:57:13.756Z"
   },
   {
    "duration": 19,
    "start_time": "2022-05-07T23:57:16.277Z"
   },
   {
    "duration": 26,
    "start_time": "2022-05-07T23:57:18.192Z"
   },
   {
    "duration": 18,
    "start_time": "2022-05-07T23:57:20.499Z"
   },
   {
    "duration": 39,
    "start_time": "2022-05-08T00:14:34.760Z"
   },
   {
    "duration": 14,
    "start_time": "2022-05-08T00:15:28.786Z"
   },
   {
    "duration": 14,
    "start_time": "2022-05-08T00:15:30.965Z"
   },
   {
    "duration": 5,
    "start_time": "2022-05-08T00:16:03.474Z"
   },
   {
    "duration": 10,
    "start_time": "2022-05-08T00:16:41.041Z"
   },
   {
    "duration": 7,
    "start_time": "2022-05-08T00:17:09.365Z"
   },
   {
    "duration": 7,
    "start_time": "2022-05-08T00:17:10.716Z"
   },
   {
    "duration": 5,
    "start_time": "2022-05-08T00:17:18.970Z"
   },
   {
    "duration": 6,
    "start_time": "2022-05-08T00:17:41.647Z"
   },
   {
    "duration": 365,
    "start_time": "2022-05-09T09:21:42.273Z"
   },
   {
    "duration": 257,
    "start_time": "2022-05-09T09:21:42.640Z"
   },
   {
    "duration": 23,
    "start_time": "2022-05-09T09:21:42.899Z"
   },
   {
    "duration": 55,
    "start_time": "2022-05-09T09:21:42.925Z"
   },
   {
    "duration": 4,
    "start_time": "2022-05-09T09:21:42.982Z"
   },
   {
    "duration": 39,
    "start_time": "2022-05-09T09:21:42.988Z"
   },
   {
    "duration": 5,
    "start_time": "2022-05-09T09:21:43.029Z"
   },
   {
    "duration": 27,
    "start_time": "2022-05-09T09:21:43.035Z"
   },
   {
    "duration": 19,
    "start_time": "2022-05-09T09:21:43.064Z"
   },
   {
    "duration": 40,
    "start_time": "2022-05-09T09:21:43.086Z"
   },
   {
    "duration": 63,
    "start_time": "2022-05-09T09:21:43.129Z"
   },
   {
    "duration": 100,
    "start_time": "2022-05-09T09:21:43.194Z"
   },
   {
    "duration": 67,
    "start_time": "2022-05-09T09:21:43.296Z"
   },
   {
    "duration": 39,
    "start_time": "2022-05-09T09:21:43.365Z"
   },
   {
    "duration": 17,
    "start_time": "2022-05-09T09:21:43.406Z"
   },
   {
    "duration": 23,
    "start_time": "2022-05-09T09:21:43.425Z"
   },
   {
    "duration": 37,
    "start_time": "2022-05-09T09:21:43.450Z"
   },
   {
    "duration": 34,
    "start_time": "2022-05-09T09:21:43.489Z"
   },
   {
    "duration": 12,
    "start_time": "2022-05-09T09:21:43.525Z"
   },
   {
    "duration": 3,
    "start_time": "2022-05-09T09:21:43.539Z"
   },
   {
    "duration": 20,
    "start_time": "2022-05-09T09:21:43.544Z"
   },
   {
    "duration": 22,
    "start_time": "2022-05-09T09:21:43.565Z"
   },
   {
    "duration": 51,
    "start_time": "2022-05-09T09:21:43.589Z"
   },
   {
    "duration": 20,
    "start_time": "2022-05-09T09:21:43.642Z"
   },
   {
    "duration": 17,
    "start_time": "2022-05-09T09:21:43.664Z"
   },
   {
    "duration": 14,
    "start_time": "2022-05-09T09:21:43.683Z"
   },
   {
    "duration": 9,
    "start_time": "2022-05-09T09:21:43.723Z"
   },
   {
    "duration": 11,
    "start_time": "2022-05-09T09:21:43.735Z"
   },
   {
    "duration": 8,
    "start_time": "2022-05-09T09:21:43.748Z"
   },
   {
    "duration": 4,
    "start_time": "2022-05-09T09:21:43.758Z"
   },
   {
    "duration": 22,
    "start_time": "2022-05-09T09:21:43.764Z"
   },
   {
    "duration": 46,
    "start_time": "2022-05-09T09:21:43.787Z"
   },
   {
    "duration": 17,
    "start_time": "2022-05-09T09:21:43.835Z"
   },
   {
    "duration": 11,
    "start_time": "2022-05-09T09:21:43.854Z"
   },
   {
    "duration": 9,
    "start_time": "2022-05-09T09:21:43.867Z"
   },
   {
    "duration": 4,
    "start_time": "2022-05-09T09:21:43.877Z"
   },
   {
    "duration": 40,
    "start_time": "2022-05-09T09:21:43.883Z"
   },
   {
    "duration": 7,
    "start_time": "2022-05-09T09:21:43.925Z"
   },
   {
    "duration": 58,
    "start_time": "2022-05-26T12:47:51.981Z"
   },
   {
    "duration": 6,
    "start_time": "2022-05-26T12:48:31.474Z"
   },
   {
    "duration": 0,
    "start_time": "2022-05-26T12:48:31.481Z"
   },
   {
    "duration": 0,
    "start_time": "2022-05-26T12:48:31.483Z"
   },
   {
    "duration": 0,
    "start_time": "2022-05-26T12:48:31.484Z"
   },
   {
    "duration": 0,
    "start_time": "2022-05-26T12:48:31.485Z"
   },
   {
    "duration": 0,
    "start_time": "2022-05-26T12:48:31.486Z"
   },
   {
    "duration": 0,
    "start_time": "2022-05-26T12:48:31.487Z"
   },
   {
    "duration": 0,
    "start_time": "2022-05-26T12:48:31.487Z"
   },
   {
    "duration": 9,
    "start_time": "2022-05-26T12:48:31.490Z"
   },
   {
    "duration": 0,
    "start_time": "2022-05-26T12:48:31.501Z"
   },
   {
    "duration": 0,
    "start_time": "2022-05-26T12:48:31.502Z"
   },
   {
    "duration": 0,
    "start_time": "2022-05-26T12:48:31.503Z"
   },
   {
    "duration": 1,
    "start_time": "2022-05-26T12:48:31.504Z"
   },
   {
    "duration": 0,
    "start_time": "2022-05-26T12:48:31.506Z"
   },
   {
    "duration": 0,
    "start_time": "2022-05-26T12:48:31.507Z"
   },
   {
    "duration": 0,
    "start_time": "2022-05-26T12:48:31.509Z"
   },
   {
    "duration": 0,
    "start_time": "2022-05-26T12:48:31.510Z"
   },
   {
    "duration": 0,
    "start_time": "2022-05-26T12:48:31.511Z"
   },
   {
    "duration": 55,
    "start_time": "2022-05-26T12:48:31.524Z"
   },
   {
    "duration": 0,
    "start_time": "2022-05-26T12:48:31.580Z"
   },
   {
    "duration": 0,
    "start_time": "2022-05-26T12:48:31.581Z"
   },
   {
    "duration": 0,
    "start_time": "2022-05-26T12:48:31.582Z"
   },
   {
    "duration": 0,
    "start_time": "2022-05-26T12:48:31.583Z"
   },
   {
    "duration": 726,
    "start_time": "2022-05-26T12:54:26.694Z"
   },
   {
    "duration": 447,
    "start_time": "2022-05-26T12:54:27.422Z"
   },
   {
    "duration": 10,
    "start_time": "2022-05-26T12:54:27.870Z"
   },
   {
    "duration": 29,
    "start_time": "2022-05-26T12:54:27.882Z"
   },
   {
    "duration": 3,
    "start_time": "2022-05-26T12:54:27.912Z"
   },
   {
    "duration": 16,
    "start_time": "2022-05-26T12:54:27.916Z"
   },
   {
    "duration": 5,
    "start_time": "2022-05-26T12:54:27.934Z"
   },
   {
    "duration": 38,
    "start_time": "2022-05-26T12:54:27.940Z"
   },
   {
    "duration": 29,
    "start_time": "2022-05-26T12:54:27.980Z"
   },
   {
    "duration": 20,
    "start_time": "2022-05-26T12:54:28.012Z"
   },
   {
    "duration": 68,
    "start_time": "2022-05-26T12:54:28.034Z"
   },
   {
    "duration": 71,
    "start_time": "2022-05-26T12:54:28.104Z"
   },
   {
    "duration": 57,
    "start_time": "2022-05-26T12:54:28.176Z"
   },
   {
    "duration": 55,
    "start_time": "2022-05-26T12:54:28.234Z"
   },
   {
    "duration": 3,
    "start_time": "2022-05-26T12:54:28.290Z"
   },
   {
    "duration": 37,
    "start_time": "2022-05-26T12:54:28.294Z"
   },
   {
    "duration": 36,
    "start_time": "2022-05-26T12:54:28.332Z"
   },
   {
    "duration": 12,
    "start_time": "2022-05-26T12:54:28.369Z"
   },
   {
    "duration": 31,
    "start_time": "2022-05-26T12:54:28.382Z"
   },
   {
    "duration": 28,
    "start_time": "2022-05-26T12:54:28.414Z"
   },
   {
    "duration": 41,
    "start_time": "2022-05-26T12:54:28.443Z"
   },
   {
    "duration": 15,
    "start_time": "2022-05-26T12:54:28.485Z"
   },
   {
    "duration": 24,
    "start_time": "2022-05-26T12:54:28.501Z"
   },
   {
    "duration": 34,
    "start_time": "2022-05-26T12:54:28.527Z"
   },
   {
    "duration": 21,
    "start_time": "2022-05-26T12:54:28.563Z"
   },
   {
    "duration": 17,
    "start_time": "2022-05-26T12:54:28.585Z"
   },
   {
    "duration": 14,
    "start_time": "2022-05-26T12:54:28.604Z"
   },
   {
    "duration": 21,
    "start_time": "2022-05-26T12:54:28.622Z"
   },
   {
    "duration": 32,
    "start_time": "2022-05-26T12:54:28.645Z"
   },
   {
    "duration": 13,
    "start_time": "2022-05-26T12:54:28.680Z"
   },
   {
    "duration": 36,
    "start_time": "2022-05-26T12:54:28.694Z"
   },
   {
    "duration": 28,
    "start_time": "2022-05-26T12:54:28.731Z"
   },
   {
    "duration": 26,
    "start_time": "2022-05-26T12:54:28.761Z"
   },
   {
    "duration": 12,
    "start_time": "2022-05-26T12:54:28.789Z"
   },
   {
    "duration": 31,
    "start_time": "2022-05-26T12:54:28.802Z"
   },
   {
    "duration": 12,
    "start_time": "2022-05-26T12:54:28.835Z"
   },
   {
    "duration": 23,
    "start_time": "2022-05-26T12:54:28.849Z"
   },
   {
    "duration": 13,
    "start_time": "2022-05-26T12:54:28.873Z"
   }
  ],
  "colab": {
   "collapsed_sections": [
    "E0vqbgi9ay0H",
    "VUC88oWjTJw2"
   ],
   "name": "yandex_music_project.ipynb",
   "provenance": []
  },
  "kernelspec": {
   "display_name": "Python 3 (ipykernel)",
   "language": "python",
   "name": "python3"
  },
  "language_info": {
   "codemirror_mode": {
    "name": "ipython",
    "version": 3
   },
   "file_extension": ".py",
   "mimetype": "text/x-python",
   "name": "python",
   "nbconvert_exporter": "python",
   "pygments_lexer": "ipython3",
   "version": "3.9.7"
  },
  "toc": {
   "base_numbering": 1,
   "nav_menu": {},
   "number_sections": true,
   "sideBar": true,
   "skip_h1_title": true,
   "title_cell": "Table of Contents",
   "title_sidebar": "Contents",
   "toc_cell": false,
   "toc_position": {},
   "toc_section_display": true,
   "toc_window_display": true
  }
 },
 "nbformat": 4,
 "nbformat_minor": 1
}
