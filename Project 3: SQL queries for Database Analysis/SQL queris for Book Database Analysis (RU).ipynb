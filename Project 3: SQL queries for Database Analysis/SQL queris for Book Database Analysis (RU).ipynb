{
 "cells": [
  {
   "cell_type": "markdown",
   "metadata": {},
   "source": [
    "## Введение \n",
    "\n",
    "\n",
    "\n",
    "Проект - анализ базы данных с использованием запросов **SQL**.\n",
    "### Описание проекта\n",
    "\n",
    "**Постановка задачи**\n",
    "\n",
    "Коронавирус застал мир врасплох, изменив привычный порядок вещей. В свободное время жители городов больше не выходят на улицу, не посещают кафе и торговые центры. Зато стало больше времени для книг. Это заметили стартаперы — и бросились создавать приложения для тех, кто любит читать.\n",
    "\n",
    "Ваша компания решила быть на волне и купила крупный сервис для чтения книг по подписке. Ваша первая задача как аналитика — проанализировать базу данных.\n",
    "В ней — информация о книгах, издательствах, авторах, а также пользовательские обзоры книг. Эти данные помогут сформулировать ценностное предложение для нового продукта.\n",
    "\n",
    "\n",
    "### Декомпозиция проекта\n",
    "\n",
    "**Цель проекта:** проанализировать базу данных и сформулировать ценностное предложение для нового продукта .\n",
    "\n",
    "\n",
    "\n",
    "**Задания**\n",
    "\n",
    "- Посчитайте, сколько книг вышло после 1 января 2000 года;\n",
    "- Для каждой книги посчитайте количество обзоров и среднюю оценку;\n",
    "- Определите издательство, которое выпустило наибольшее число книг толще 50 страниц — так вы исключите из анализа брошюры;\n",
    "- Определите автора с самой высокой средней оценкой книг — учитывайте только книги с 50 и более оценками;\n",
    "- Посчитайте среднее количество обзоров от пользователей, которые поставили больше 50 оценок.\n",
    "\n",
    "**Описание выполнения шагов**\n",
    "\n",
    "**Шаг 1. Цели исследования**\n",
    "\n",
    "**Шаг 2. Исследование таблицы — первые строки**\n",
    "\n",
    "**Шаг 3. SQL-запрос для решения каждого задания**\n",
    "\n",
    "**Шаг 4. Выведите результат каждого запроса в тетрадке**\n",
    "\n",
    "**Шаг 5. Выводы по каждой из решённых задач**\n"
   ]
  },
  {
   "cell_type": "markdown",
   "metadata": {},
   "source": [
    "### Описание данных\n",
    "\n",
    "**Данные**\n",
    "\n",
    "\n",
    "**Таблица `books`**\n",
    "\n",
    "Содержит данные о книгах:\n",
    "\n",
    "- `book_id` — идентификатор книги;\n",
    "- `author_id` — идентификатор автора;\n",
    "- `title` — название книги;\n",
    "- `num_pages` — количество страниц;\n",
    "- `publication_date` — дата публикации книги;\n",
    "- `publisher_id` — идентификатор издателя.\n",
    "\n",
    "**Таблица `authors`**\n",
    "\n",
    "Содержит данные об авторах:\n",
    "\n",
    "- `author_id` — идентификатор автора;\n",
    "- `author` — имя автора.\n",
    "\n",
    "**Таблица `publishers`**\n",
    "\n",
    "Содержит данные об издательствах:\n",
    "\n",
    "- `publisher_id` — идентификатор издательства;\n",
    "- `publisher` — название издательства;\n",
    "\n",
    "**Таблица `ratings`**\n",
    "\n",
    "Содержит данные о пользовательских оценках книг:\n",
    "\n",
    "- `rating_id` — идентификатор оценки;\n",
    "- `book_id` — идентификатор книги;\n",
    "- `username` — имя пользователя, оставившего оценку;\n",
    "- `rating` — оценка книги.\n",
    "\n",
    "**Таблица `reviews`**\n",
    "\n",
    "Содержит данные о пользовательских обзорах на книги:\n",
    "\n",
    "- `review_id` — идентификатор обзора;\n",
    "- `book_id` — идентификатор книги;\n",
    "- `username` — имя пользователя, написавшего обзор;\n",
    "- `text` — текст обзора.\n"
   ]
  },
  {
   "cell_type": "markdown",
   "metadata": {},
   "source": [
    "## Сформулировать ели исследования\n",
    "\n",
    "**Цель проекта:** проанализировать базу данных и сформулировать ценностное предложение для нового продукта.\n",
    "### Загрузка библиотек и подключение"
   ]
  },
  {
   "cell_type": "code",
   "execution_count": 1,
   "metadata": {},
   "outputs": [],
   "source": [
    "# импортируем библиотеки\n",
    "import pandas as pd \n",
    "from sqlalchemy import create_engine "
   ]
  },
  {
   "cell_type": "code",
   "execution_count": 2,
   "metadata": {},
   "outputs": [],
   "source": [
    "password = ''"
   ]
  },
  {
   "cell_type": "code",
   "execution_count": 3,
   "metadata": {},
   "outputs": [],
   "source": [
    "\n",
    "# устанавливаем параметры\n",
    "db_config = {'user': 'praktikum_student', # имя пользователя\n",
    "'pwd': password, # пароль\n",
    "'host': 'rc1b-wcoijxj3yxfsf3fs.mdb.yandexcloud.net', \n",
    "'port': 6432, # порт подключения\n",
    "'db': 'data-analyst-final-project-db'} # название базы данных\n",
    "connection_string = 'postgresql://{}:{}@{}:{}/{}'.format(db_config['user'], \n",
    " db_config['pwd'], \n",
    " db_config['host'], \n",
    " db_config['port'], \n",
    " db_config['db']) \n",
    "# сохраняем коннектор\n",
    "engine = create_engine(connection_string, connect_args={'sslmode':'require'})"
   ]
  },
  {
   "cell_type": "markdown",
   "metadata": {},
   "source": [
    "##  Исследование таблицы — выведите первые строки\n",
    "\n",
    "\n",
    "### Посмотрим схему таблицы"
   ]
  },
  {
   "cell_type": "markdown",
   "metadata": {},
   "source": [
    "\n",
    "\n",
    "![Image of dataftrames](https://concrete-web-bad.notion.site/image/https%3A%2F%2Fs3-us-west-2.amazonaws.com%2Fsecure.notion-static.com%2F069818d1-0e5c-4d87-a461-0de584ab9c33%2FUntitled_(33).png?id=bd53c8db-b4fd-49eb-8cc9-572ebb3c9163&table=block&spaceId=9e4bd47b-c6e6-4ca3-bcee-279794b47315&width=2000&userId=&cache=v2)"
   ]
  },
  {
   "cell_type": "markdown",
   "metadata": {},
   "source": [
    "##  Исследование таблицы — выведите первые строки\n",
    "### Таблица `books`\n",
    "Выведем первые несколько строчек датафреймов `books`на экран."
   ]
  },
  {
   "cell_type": "code",
   "execution_count": 4,
   "metadata": {},
   "outputs": [],
   "source": [
    "pd.set_option('display.max_colwidth', 0)\n"
   ]
  },
  {
   "cell_type": "code",
   "execution_count": 5,
   "metadata": {},
   "outputs": [],
   "source": [
    "def show_sql(query):\n",
    "    df = pd.read_sql_query(query, con = engine)\n",
    "    return df"
   ]
  },
  {
   "cell_type": "code",
   "execution_count": 6,
   "metadata": {},
   "outputs": [],
   "source": [
    "query_books = '''\n",
    "SELECT *\n",
    "FROM books b\n",
    "'''"
   ]
  },
  {
   "cell_type": "code",
   "execution_count": 7,
   "metadata": {},
   "outputs": [
    {
     "data": {
      "text/html": [
       "<div>\n",
       "<style scoped>\n",
       "    .dataframe tbody tr th:only-of-type {\n",
       "        vertical-align: middle;\n",
       "    }\n",
       "\n",
       "    .dataframe tbody tr th {\n",
       "        vertical-align: top;\n",
       "    }\n",
       "\n",
       "    .dataframe thead th {\n",
       "        text-align: right;\n",
       "    }\n",
       "</style>\n",
       "<table border=\"1\" class=\"dataframe\">\n",
       "  <thead>\n",
       "    <tr style=\"text-align: right;\">\n",
       "      <th></th>\n",
       "      <th>book_id</th>\n",
       "      <th>author_id</th>\n",
       "      <th>title</th>\n",
       "      <th>num_pages</th>\n",
       "      <th>publication_date</th>\n",
       "      <th>publisher_id</th>\n",
       "    </tr>\n",
       "  </thead>\n",
       "  <tbody>\n",
       "    <tr>\n",
       "      <th>0</th>\n",
       "      <td>1</td>\n",
       "      <td>546</td>\n",
       "      <td>'Salem's Lot</td>\n",
       "      <td>594</td>\n",
       "      <td>2005-11-01</td>\n",
       "      <td>93</td>\n",
       "    </tr>\n",
       "    <tr>\n",
       "      <th>1</th>\n",
       "      <td>2</td>\n",
       "      <td>465</td>\n",
       "      <td>1 000 Places to See Before You Die</td>\n",
       "      <td>992</td>\n",
       "      <td>2003-05-22</td>\n",
       "      <td>336</td>\n",
       "    </tr>\n",
       "    <tr>\n",
       "      <th>2</th>\n",
       "      <td>3</td>\n",
       "      <td>407</td>\n",
       "      <td>13 Little Blue Envelopes (Little Blue Envelope  #1)</td>\n",
       "      <td>322</td>\n",
       "      <td>2010-12-21</td>\n",
       "      <td>135</td>\n",
       "    </tr>\n",
       "    <tr>\n",
       "      <th>3</th>\n",
       "      <td>4</td>\n",
       "      <td>82</td>\n",
       "      <td>1491: New Revelations of the Americas Before Columbus</td>\n",
       "      <td>541</td>\n",
       "      <td>2006-10-10</td>\n",
       "      <td>309</td>\n",
       "    </tr>\n",
       "    <tr>\n",
       "      <th>4</th>\n",
       "      <td>5</td>\n",
       "      <td>125</td>\n",
       "      <td>1776</td>\n",
       "      <td>386</td>\n",
       "      <td>2006-07-04</td>\n",
       "      <td>268</td>\n",
       "    </tr>\n",
       "    <tr>\n",
       "      <th>...</th>\n",
       "      <td>...</td>\n",
       "      <td>...</td>\n",
       "      <td>...</td>\n",
       "      <td>...</td>\n",
       "      <td>...</td>\n",
       "      <td>...</td>\n",
       "    </tr>\n",
       "    <tr>\n",
       "      <th>995</th>\n",
       "      <td>996</td>\n",
       "      <td>571</td>\n",
       "      <td>Wyrd Sisters (Discworld  #6; Witches #2)</td>\n",
       "      <td>265</td>\n",
       "      <td>2001-02-06</td>\n",
       "      <td>147</td>\n",
       "    </tr>\n",
       "    <tr>\n",
       "      <th>996</th>\n",
       "      <td>997</td>\n",
       "      <td>454</td>\n",
       "      <td>Xenocide (Ender's Saga  #3)</td>\n",
       "      <td>592</td>\n",
       "      <td>1996-07-15</td>\n",
       "      <td>297</td>\n",
       "    </tr>\n",
       "    <tr>\n",
       "      <th>997</th>\n",
       "      <td>998</td>\n",
       "      <td>201</td>\n",
       "      <td>Year of Wonders</td>\n",
       "      <td>358</td>\n",
       "      <td>2002-04-30</td>\n",
       "      <td>212</td>\n",
       "    </tr>\n",
       "    <tr>\n",
       "      <th>998</th>\n",
       "      <td>999</td>\n",
       "      <td>94</td>\n",
       "      <td>You Suck (A Love Story  #2)</td>\n",
       "      <td>328</td>\n",
       "      <td>2007-01-16</td>\n",
       "      <td>331</td>\n",
       "    </tr>\n",
       "    <tr>\n",
       "      <th>999</th>\n",
       "      <td>1000</td>\n",
       "      <td>509</td>\n",
       "      <td>Zen and the Art of Motorcycle Maintenance: An Inquiry Into Values (Phaedrus  #1)</td>\n",
       "      <td>540</td>\n",
       "      <td>2006-04-25</td>\n",
       "      <td>143</td>\n",
       "    </tr>\n",
       "  </tbody>\n",
       "</table>\n",
       "<p>1000 rows × 6 columns</p>\n",
       "</div>"
      ],
      "text/plain": [
       "     book_id  author_id  \\\n",
       "0    1        546         \n",
       "1    2        465         \n",
       "2    3        407         \n",
       "3    4        82          \n",
       "4    5        125         \n",
       "..  ..        ...         \n",
       "995  996      571         \n",
       "996  997      454         \n",
       "997  998      201         \n",
       "998  999      94          \n",
       "999  1000     509         \n",
       "\n",
       "                                                                                title  \\\n",
       "0    'Salem's Lot                                                                       \n",
       "1    1 000 Places to See Before You Die                                                 \n",
       "2    13 Little Blue Envelopes (Little Blue Envelope  #1)                                \n",
       "3    1491: New Revelations of the Americas Before Columbus                              \n",
       "4    1776                                                                               \n",
       "..    ...                                                                               \n",
       "995  Wyrd Sisters (Discworld  #6; Witches #2)                                           \n",
       "996  Xenocide (Ender's Saga  #3)                                                        \n",
       "997  Year of Wonders                                                                    \n",
       "998  You Suck (A Love Story  #2)                                                        \n",
       "999  Zen and the Art of Motorcycle Maintenance: An Inquiry Into Values (Phaedrus  #1)   \n",
       "\n",
       "     num_pages publication_date  publisher_id  \n",
       "0    594        2005-11-01       93            \n",
       "1    992        2003-05-22       336           \n",
       "2    322        2010-12-21       135           \n",
       "3    541        2006-10-10       309           \n",
       "4    386        2006-07-04       268           \n",
       "..   ...               ...       ...           \n",
       "995  265        2001-02-06       147           \n",
       "996  592        1996-07-15       297           \n",
       "997  358        2002-04-30       212           \n",
       "998  328        2007-01-16       331           \n",
       "999  540        2006-04-25       143           \n",
       "\n",
       "[1000 rows x 6 columns]"
      ]
     },
     "execution_count": 7,
     "metadata": {},
     "output_type": "execute_result"
    }
   ],
   "source": [
    "show_sql(query_books)"
   ]
  },
  {
   "cell_type": "code",
   "execution_count": 8,
   "metadata": {
    "scrolled": true
   },
   "outputs": [
    {
     "name": "stdout",
     "output_type": "stream",
     "text": [
      "<class 'pandas.core.frame.DataFrame'>\n",
      "RangeIndex: 1000 entries, 0 to 999\n",
      "Data columns (total 6 columns):\n",
      " #   Column            Non-Null Count  Dtype \n",
      "---  ------            --------------  ----- \n",
      " 0   book_id           1000 non-null   int64 \n",
      " 1   author_id         1000 non-null   int64 \n",
      " 2   title             1000 non-null   object\n",
      " 3   num_pages         1000 non-null   int64 \n",
      " 4   publication_date  1000 non-null   object\n",
      " 5   publisher_id      1000 non-null   int64 \n",
      "dtypes: int64(4), object(2)\n",
      "memory usage: 47.0+ KB\n"
     ]
    }
   ],
   "source": [
    "show_sql(query_books).info()"
   ]
  },
  {
   "cell_type": "markdown",
   "metadata": {},
   "source": [
    "Содержит данные о книгах:\n",
    "\n",
    "- `book_id` — идентификатор книги - в числовом формате - `int64`\n",
    "- `author_id` — идентификатор автора - в числовом формате - `int64`\n",
    "- `title` — название книги - текст в формате - `object`\n",
    "- `num_pages` — количество страниц - в числовом формате - `int64`\n",
    "- `publication_date` — дата публикации книги - текст в формате - `object`\n",
    "- `publisher_id` — идентификатор издателя - в числовом формате - `int64`\n",
    "\n",
    "### Таблица `authors`  \n",
    "Выведем первые несколько строчек датафреймов `authors`на экран."
   ]
  },
  {
   "cell_type": "code",
   "execution_count": 9,
   "metadata": {},
   "outputs": [],
   "source": [
    "query_authors = '''\n",
    "SELECT *\n",
    "FROM authors a\n",
    "'''"
   ]
  },
  {
   "cell_type": "code",
   "execution_count": 10,
   "metadata": {
    "scrolled": false
   },
   "outputs": [
    {
     "data": {
      "text/html": [
       "<div>\n",
       "<style scoped>\n",
       "    .dataframe tbody tr th:only-of-type {\n",
       "        vertical-align: middle;\n",
       "    }\n",
       "\n",
       "    .dataframe tbody tr th {\n",
       "        vertical-align: top;\n",
       "    }\n",
       "\n",
       "    .dataframe thead th {\n",
       "        text-align: right;\n",
       "    }\n",
       "</style>\n",
       "<table border=\"1\" class=\"dataframe\">\n",
       "  <thead>\n",
       "    <tr style=\"text-align: right;\">\n",
       "      <th></th>\n",
       "      <th>author_id</th>\n",
       "      <th>author</th>\n",
       "    </tr>\n",
       "  </thead>\n",
       "  <tbody>\n",
       "    <tr>\n",
       "      <th>0</th>\n",
       "      <td>1</td>\n",
       "      <td>A.S. Byatt</td>\n",
       "    </tr>\n",
       "    <tr>\n",
       "      <th>1</th>\n",
       "      <td>2</td>\n",
       "      <td>Aesop/Laura Harris/Laura Gibbs</td>\n",
       "    </tr>\n",
       "    <tr>\n",
       "      <th>2</th>\n",
       "      <td>3</td>\n",
       "      <td>Agatha Christie</td>\n",
       "    </tr>\n",
       "    <tr>\n",
       "      <th>3</th>\n",
       "      <td>4</td>\n",
       "      <td>Alan Brennert</td>\n",
       "    </tr>\n",
       "    <tr>\n",
       "      <th>4</th>\n",
       "      <td>5</td>\n",
       "      <td>Alan Moore/David   Lloyd</td>\n",
       "    </tr>\n",
       "    <tr>\n",
       "      <th>...</th>\n",
       "      <td>...</td>\n",
       "      <td>...</td>\n",
       "    </tr>\n",
       "    <tr>\n",
       "      <th>631</th>\n",
       "      <td>632</td>\n",
       "      <td>William Strunk Jr./E.B. White</td>\n",
       "    </tr>\n",
       "    <tr>\n",
       "      <th>632</th>\n",
       "      <td>633</td>\n",
       "      <td>Zadie Smith</td>\n",
       "    </tr>\n",
       "    <tr>\n",
       "      <th>633</th>\n",
       "      <td>634</td>\n",
       "      <td>Zilpha Keatley Snyder</td>\n",
       "    </tr>\n",
       "    <tr>\n",
       "      <th>634</th>\n",
       "      <td>635</td>\n",
       "      <td>Zora Neale Hurston</td>\n",
       "    </tr>\n",
       "    <tr>\n",
       "      <th>635</th>\n",
       "      <td>636</td>\n",
       "      <td>Åsne Seierstad/Ingrid Christopherson</td>\n",
       "    </tr>\n",
       "  </tbody>\n",
       "</table>\n",
       "<p>636 rows × 2 columns</p>\n",
       "</div>"
      ],
      "text/plain": [
       "     author_id                                author\n",
       "0    1          A.S. Byatt                          \n",
       "1    2          Aesop/Laura Harris/Laura Gibbs      \n",
       "2    3          Agatha Christie                     \n",
       "3    4          Alan Brennert                       \n",
       "4    5          Alan Moore/David   Lloyd            \n",
       "..  ..                               ...            \n",
       "631  632        William Strunk Jr./E.B. White       \n",
       "632  633        Zadie Smith                         \n",
       "633  634        Zilpha Keatley Snyder               \n",
       "634  635        Zora Neale Hurston                  \n",
       "635  636        Åsne Seierstad/Ingrid Christopherson\n",
       "\n",
       "[636 rows x 2 columns]"
      ]
     },
     "execution_count": 10,
     "metadata": {},
     "output_type": "execute_result"
    }
   ],
   "source": [
    "show_sql(query_authors)"
   ]
  },
  {
   "cell_type": "code",
   "execution_count": 11,
   "metadata": {
    "scrolled": false
   },
   "outputs": [
    {
     "name": "stdout",
     "output_type": "stream",
     "text": [
      "<class 'pandas.core.frame.DataFrame'>\n",
      "RangeIndex: 636 entries, 0 to 635\n",
      "Data columns (total 2 columns):\n",
      " #   Column     Non-Null Count  Dtype \n",
      "---  ------     --------------  ----- \n",
      " 0   author_id  636 non-null    int64 \n",
      " 1   author     636 non-null    object\n",
      "dtypes: int64(1), object(1)\n",
      "memory usage: 10.1+ KB\n"
     ]
    }
   ],
   "source": [
    "show_sql(query_authors).info()"
   ]
  },
  {
   "cell_type": "markdown",
   "metadata": {},
   "source": [
    "Содержит данные об авторах:\n",
    "\n",
    "- `author_id` — идентификатор автора - в числовом формате - `int64`\n",
    "- `author` — имя автора - текст в формате - `object`\n",
    "\n",
    "### Таблица `publishers`  \n",
    "\n",
    "Выведем первые несколько строчек датафреймов `publishers`на экран."
   ]
  },
  {
   "cell_type": "code",
   "execution_count": 12,
   "metadata": {},
   "outputs": [],
   "source": [
    "query_publishers = '''\n",
    "SELECT *\n",
    "FROM publishers p\n",
    "'''"
   ]
  },
  {
   "cell_type": "code",
   "execution_count": 13,
   "metadata": {
    "scrolled": false
   },
   "outputs": [
    {
     "data": {
      "text/html": [
       "<div>\n",
       "<style scoped>\n",
       "    .dataframe tbody tr th:only-of-type {\n",
       "        vertical-align: middle;\n",
       "    }\n",
       "\n",
       "    .dataframe tbody tr th {\n",
       "        vertical-align: top;\n",
       "    }\n",
       "\n",
       "    .dataframe thead th {\n",
       "        text-align: right;\n",
       "    }\n",
       "</style>\n",
       "<table border=\"1\" class=\"dataframe\">\n",
       "  <thead>\n",
       "    <tr style=\"text-align: right;\">\n",
       "      <th></th>\n",
       "      <th>publisher_id</th>\n",
       "      <th>publisher</th>\n",
       "    </tr>\n",
       "  </thead>\n",
       "  <tbody>\n",
       "    <tr>\n",
       "      <th>0</th>\n",
       "      <td>1</td>\n",
       "      <td>Ace</td>\n",
       "    </tr>\n",
       "    <tr>\n",
       "      <th>1</th>\n",
       "      <td>2</td>\n",
       "      <td>Ace Book</td>\n",
       "    </tr>\n",
       "    <tr>\n",
       "      <th>2</th>\n",
       "      <td>3</td>\n",
       "      <td>Ace Books</td>\n",
       "    </tr>\n",
       "    <tr>\n",
       "      <th>3</th>\n",
       "      <td>4</td>\n",
       "      <td>Ace Hardcover</td>\n",
       "    </tr>\n",
       "    <tr>\n",
       "      <th>4</th>\n",
       "      <td>5</td>\n",
       "      <td>Addison Wesley Publishing Company</td>\n",
       "    </tr>\n",
       "    <tr>\n",
       "      <th>...</th>\n",
       "      <td>...</td>\n",
       "      <td>...</td>\n",
       "    </tr>\n",
       "    <tr>\n",
       "      <th>335</th>\n",
       "      <td>336</td>\n",
       "      <td>Workman Publishing Company</td>\n",
       "    </tr>\n",
       "    <tr>\n",
       "      <th>336</th>\n",
       "      <td>337</td>\n",
       "      <td>Wyatt Book</td>\n",
       "    </tr>\n",
       "    <tr>\n",
       "      <th>337</th>\n",
       "      <td>338</td>\n",
       "      <td>Yale University Press</td>\n",
       "    </tr>\n",
       "    <tr>\n",
       "      <th>338</th>\n",
       "      <td>339</td>\n",
       "      <td>Yearling</td>\n",
       "    </tr>\n",
       "    <tr>\n",
       "      <th>339</th>\n",
       "      <td>340</td>\n",
       "      <td>Yearling Books</td>\n",
       "    </tr>\n",
       "  </tbody>\n",
       "</table>\n",
       "<p>340 rows × 2 columns</p>\n",
       "</div>"
      ],
      "text/plain": [
       "     publisher_id                          publisher\n",
       "0    1             Ace                              \n",
       "1    2             Ace Book                         \n",
       "2    3             Ace Books                        \n",
       "3    4             Ace Hardcover                    \n",
       "4    5             Addison Wesley Publishing Company\n",
       "..  ..                                           ...\n",
       "335  336           Workman Publishing Company       \n",
       "336  337           Wyatt Book                       \n",
       "337  338           Yale University Press            \n",
       "338  339           Yearling                         \n",
       "339  340           Yearling Books                   \n",
       "\n",
       "[340 rows x 2 columns]"
      ]
     },
     "execution_count": 13,
     "metadata": {},
     "output_type": "execute_result"
    }
   ],
   "source": [
    "show_sql(query_publishers)"
   ]
  },
  {
   "cell_type": "code",
   "execution_count": 14,
   "metadata": {
    "scrolled": false
   },
   "outputs": [
    {
     "name": "stdout",
     "output_type": "stream",
     "text": [
      "<class 'pandas.core.frame.DataFrame'>\n",
      "RangeIndex: 340 entries, 0 to 339\n",
      "Data columns (total 2 columns):\n",
      " #   Column        Non-Null Count  Dtype \n",
      "---  ------        --------------  ----- \n",
      " 0   publisher_id  340 non-null    int64 \n",
      " 1   publisher     340 non-null    object\n",
      "dtypes: int64(1), object(1)\n",
      "memory usage: 5.4+ KB\n"
     ]
    }
   ],
   "source": [
    "show_sql(query_publishers).info()"
   ]
  },
  {
   "cell_type": "markdown",
   "metadata": {},
   "source": [
    "Содержит данные об издательствах:\n",
    "\n",
    "- `publisher_id` — идентификатор издательства - в числовом формате - `int64`\n",
    "- `publisher` — название издательства - текст в формате - `object`\n",
    "\n",
    "### Таблица `ratings`  \n",
    "Выведем первые несколько строчек датафреймов `ratings`на экран."
   ]
  },
  {
   "cell_type": "code",
   "execution_count": 15,
   "metadata": {},
   "outputs": [],
   "source": [
    "query_ratings = '''\n",
    "SELECT *\n",
    "FROM ratings r\n",
    "'''"
   ]
  },
  {
   "cell_type": "code",
   "execution_count": 16,
   "metadata": {
    "scrolled": false
   },
   "outputs": [
    {
     "data": {
      "text/html": [
       "<div>\n",
       "<style scoped>\n",
       "    .dataframe tbody tr th:only-of-type {\n",
       "        vertical-align: middle;\n",
       "    }\n",
       "\n",
       "    .dataframe tbody tr th {\n",
       "        vertical-align: top;\n",
       "    }\n",
       "\n",
       "    .dataframe thead th {\n",
       "        text-align: right;\n",
       "    }\n",
       "</style>\n",
       "<table border=\"1\" class=\"dataframe\">\n",
       "  <thead>\n",
       "    <tr style=\"text-align: right;\">\n",
       "      <th></th>\n",
       "      <th>rating_id</th>\n",
       "      <th>book_id</th>\n",
       "      <th>username</th>\n",
       "      <th>rating</th>\n",
       "    </tr>\n",
       "  </thead>\n",
       "  <tbody>\n",
       "    <tr>\n",
       "      <th>0</th>\n",
       "      <td>1</td>\n",
       "      <td>1</td>\n",
       "      <td>ryanfranco</td>\n",
       "      <td>4</td>\n",
       "    </tr>\n",
       "    <tr>\n",
       "      <th>1</th>\n",
       "      <td>2</td>\n",
       "      <td>1</td>\n",
       "      <td>grantpatricia</td>\n",
       "      <td>2</td>\n",
       "    </tr>\n",
       "    <tr>\n",
       "      <th>2</th>\n",
       "      <td>3</td>\n",
       "      <td>1</td>\n",
       "      <td>brandtandrea</td>\n",
       "      <td>5</td>\n",
       "    </tr>\n",
       "    <tr>\n",
       "      <th>3</th>\n",
       "      <td>4</td>\n",
       "      <td>2</td>\n",
       "      <td>lorichen</td>\n",
       "      <td>3</td>\n",
       "    </tr>\n",
       "    <tr>\n",
       "      <th>4</th>\n",
       "      <td>5</td>\n",
       "      <td>2</td>\n",
       "      <td>mariokeller</td>\n",
       "      <td>2</td>\n",
       "    </tr>\n",
       "    <tr>\n",
       "      <th>...</th>\n",
       "      <td>...</td>\n",
       "      <td>...</td>\n",
       "      <td>...</td>\n",
       "      <td>...</td>\n",
       "    </tr>\n",
       "    <tr>\n",
       "      <th>6451</th>\n",
       "      <td>6452</td>\n",
       "      <td>1000</td>\n",
       "      <td>carolrodriguez</td>\n",
       "      <td>4</td>\n",
       "    </tr>\n",
       "    <tr>\n",
       "      <th>6452</th>\n",
       "      <td>6453</td>\n",
       "      <td>1000</td>\n",
       "      <td>wendy18</td>\n",
       "      <td>4</td>\n",
       "    </tr>\n",
       "    <tr>\n",
       "      <th>6453</th>\n",
       "      <td>6454</td>\n",
       "      <td>1000</td>\n",
       "      <td>jarvispaul</td>\n",
       "      <td>5</td>\n",
       "    </tr>\n",
       "    <tr>\n",
       "      <th>6454</th>\n",
       "      <td>6455</td>\n",
       "      <td>1000</td>\n",
       "      <td>zross</td>\n",
       "      <td>2</td>\n",
       "    </tr>\n",
       "    <tr>\n",
       "      <th>6455</th>\n",
       "      <td>6456</td>\n",
       "      <td>1000</td>\n",
       "      <td>fharris</td>\n",
       "      <td>5</td>\n",
       "    </tr>\n",
       "  </tbody>\n",
       "</table>\n",
       "<p>6456 rows × 4 columns</p>\n",
       "</div>"
      ],
      "text/plain": [
       "      rating_id  book_id        username  rating\n",
       "0     1          1        ryanfranco      4     \n",
       "1     2          1        grantpatricia   2     \n",
       "2     3          1        brandtandrea    5     \n",
       "3     4          2        lorichen        3     \n",
       "4     5          2        mariokeller     2     \n",
       "...  ..         ..                ...    ..     \n",
       "6451  6452       1000     carolrodriguez  4     \n",
       "6452  6453       1000     wendy18         4     \n",
       "6453  6454       1000     jarvispaul      5     \n",
       "6454  6455       1000     zross           2     \n",
       "6455  6456       1000     fharris         5     \n",
       "\n",
       "[6456 rows x 4 columns]"
      ]
     },
     "execution_count": 16,
     "metadata": {},
     "output_type": "execute_result"
    }
   ],
   "source": [
    "show_sql(query_ratings)"
   ]
  },
  {
   "cell_type": "code",
   "execution_count": 17,
   "metadata": {
    "scrolled": false
   },
   "outputs": [
    {
     "name": "stdout",
     "output_type": "stream",
     "text": [
      "<class 'pandas.core.frame.DataFrame'>\n",
      "RangeIndex: 6456 entries, 0 to 6455\n",
      "Data columns (total 4 columns):\n",
      " #   Column     Non-Null Count  Dtype \n",
      "---  ------     --------------  ----- \n",
      " 0   rating_id  6456 non-null   int64 \n",
      " 1   book_id    6456 non-null   int64 \n",
      " 2   username   6456 non-null   object\n",
      " 3   rating     6456 non-null   int64 \n",
      "dtypes: int64(3), object(1)\n",
      "memory usage: 201.9+ KB\n"
     ]
    }
   ],
   "source": [
    "show_sql(query_ratings).info()"
   ]
  },
  {
   "cell_type": "markdown",
   "metadata": {},
   "source": [
    "Содержит данные о пользовательских оценках книг:\n",
    "\n",
    "- `rating_id` — идентификатор оценки  - в числовом формате - `int64`\n",
    "- `book_id` — идентификатор книги  - в числовом формате - `int64`\n",
    "- `username` — имя пользователя, оставившего оценку - текст в формате - `object`\n",
    "- `rating` — оценка книги  - в числовом формате - `int64`\n",
    "\n",
    "### Таблица `reviews`  \n",
    "Выведем первые несколько строчек датафреймов `reviews`на экран."
   ]
  },
  {
   "cell_type": "code",
   "execution_count": 18,
   "metadata": {},
   "outputs": [],
   "source": [
    "query_reviews = '''\n",
    "SELECT *\n",
    "FROM reviews re\n",
    "'''"
   ]
  },
  {
   "cell_type": "code",
   "execution_count": 19,
   "metadata": {
    "scrolled": false
   },
   "outputs": [
    {
     "data": {
      "text/html": [
       "<div>\n",
       "<style scoped>\n",
       "    .dataframe tbody tr th:only-of-type {\n",
       "        vertical-align: middle;\n",
       "    }\n",
       "\n",
       "    .dataframe tbody tr th {\n",
       "        vertical-align: top;\n",
       "    }\n",
       "\n",
       "    .dataframe thead th {\n",
       "        text-align: right;\n",
       "    }\n",
       "</style>\n",
       "<table border=\"1\" class=\"dataframe\">\n",
       "  <thead>\n",
       "    <tr style=\"text-align: right;\">\n",
       "      <th></th>\n",
       "      <th>review_id</th>\n",
       "      <th>book_id</th>\n",
       "      <th>username</th>\n",
       "      <th>text</th>\n",
       "    </tr>\n",
       "  </thead>\n",
       "  <tbody>\n",
       "    <tr>\n",
       "      <th>0</th>\n",
       "      <td>1</td>\n",
       "      <td>1</td>\n",
       "      <td>brandtandrea</td>\n",
       "      <td>Mention society tell send professor analysis. Over provide race technology continue these.</td>\n",
       "    </tr>\n",
       "    <tr>\n",
       "      <th>1</th>\n",
       "      <td>2</td>\n",
       "      <td>1</td>\n",
       "      <td>ryanfranco</td>\n",
       "      <td>Foot glass pretty audience hit themselves. Among admit investment argue security.</td>\n",
       "    </tr>\n",
       "    <tr>\n",
       "      <th>2</th>\n",
       "      <td>3</td>\n",
       "      <td>2</td>\n",
       "      <td>lorichen</td>\n",
       "      <td>Listen treat keep worry. Miss husband tax but person sport treatment industry. Kitchen decision deep the. Social party body the.</td>\n",
       "    </tr>\n",
       "    <tr>\n",
       "      <th>3</th>\n",
       "      <td>4</td>\n",
       "      <td>3</td>\n",
       "      <td>johnsonamanda</td>\n",
       "      <td>Finally month interesting blue could nature cultural bit. Prepare beat finish grow that smile teach. Dream me play near.</td>\n",
       "    </tr>\n",
       "    <tr>\n",
       "      <th>4</th>\n",
       "      <td>5</td>\n",
       "      <td>3</td>\n",
       "      <td>scotttamara</td>\n",
       "      <td>Nation purpose heavy give wait song will. List dinner another whole positive radio fast. Music staff many green.</td>\n",
       "    </tr>\n",
       "    <tr>\n",
       "      <th>...</th>\n",
       "      <td>...</td>\n",
       "      <td>...</td>\n",
       "      <td>...</td>\n",
       "      <td>...</td>\n",
       "    </tr>\n",
       "    <tr>\n",
       "      <th>2788</th>\n",
       "      <td>2789</td>\n",
       "      <td>999</td>\n",
       "      <td>martinadam</td>\n",
       "      <td>Later hospital turn easy community. Fact same enter true practice student system.</td>\n",
       "    </tr>\n",
       "    <tr>\n",
       "      <th>2789</th>\n",
       "      <td>2790</td>\n",
       "      <td>1000</td>\n",
       "      <td>wknight</td>\n",
       "      <td>Change lose answer close pressure. Spend so now.</td>\n",
       "    </tr>\n",
       "    <tr>\n",
       "      <th>2790</th>\n",
       "      <td>2791</td>\n",
       "      <td>1000</td>\n",
       "      <td>carolrodriguez</td>\n",
       "      <td>Authority go who television entire hair guy population. Pm vote take. Long born close thought person old. Visit ever school manage about.</td>\n",
       "    </tr>\n",
       "    <tr>\n",
       "      <th>2791</th>\n",
       "      <td>2792</td>\n",
       "      <td>1000</td>\n",
       "      <td>wendy18</td>\n",
       "      <td>Or western offer wonder ask. More hear phone foreign amount within cell. Ball poor hot that kid.</td>\n",
       "    </tr>\n",
       "    <tr>\n",
       "      <th>2792</th>\n",
       "      <td>2793</td>\n",
       "      <td>1000</td>\n",
       "      <td>jarvispaul</td>\n",
       "      <td>Republican staff bit eat material measure plan. Pretty issue claim rate push energy couple bit.</td>\n",
       "    </tr>\n",
       "  </tbody>\n",
       "</table>\n",
       "<p>2793 rows × 4 columns</p>\n",
       "</div>"
      ],
      "text/plain": [
       "      review_id  book_id        username  \\\n",
       "0     1          1        brandtandrea     \n",
       "1     2          1        ryanfranco       \n",
       "2     3          2        lorichen         \n",
       "3     4          3        johnsonamanda    \n",
       "4     5          3        scotttamara      \n",
       "...  ..         ..                ...      \n",
       "2788  2789       999      martinadam       \n",
       "2789  2790       1000     wknight          \n",
       "2790  2791       1000     carolrodriguez   \n",
       "2791  2792       1000     wendy18          \n",
       "2792  2793       1000     jarvispaul       \n",
       "\n",
       "                                                                                                                                           text  \n",
       "0     Mention society tell send professor analysis. Over provide race technology continue these.                                                 \n",
       "1     Foot glass pretty audience hit themselves. Among admit investment argue security.                                                          \n",
       "2     Listen treat keep worry. Miss husband tax but person sport treatment industry. Kitchen decision deep the. Social party body the.           \n",
       "3     Finally month interesting blue could nature cultural bit. Prepare beat finish grow that smile teach. Dream me play near.                   \n",
       "4     Nation purpose heavy give wait song will. List dinner another whole positive radio fast. Music staff many green.                           \n",
       "...                                                                                                                ...                           \n",
       "2788  Later hospital turn easy community. Fact same enter true practice student system.                                                          \n",
       "2789  Change lose answer close pressure. Spend so now.                                                                                           \n",
       "2790  Authority go who television entire hair guy population. Pm vote take. Long born close thought person old. Visit ever school manage about.  \n",
       "2791  Or western offer wonder ask. More hear phone foreign amount within cell. Ball poor hot that kid.                                           \n",
       "2792  Republican staff bit eat material measure plan. Pretty issue claim rate push energy couple bit.                                            \n",
       "\n",
       "[2793 rows x 4 columns]"
      ]
     },
     "execution_count": 19,
     "metadata": {},
     "output_type": "execute_result"
    }
   ],
   "source": [
    "show_sql(query_reviews)"
   ]
  },
  {
   "cell_type": "code",
   "execution_count": 20,
   "metadata": {
    "scrolled": false
   },
   "outputs": [
    {
     "name": "stdout",
     "output_type": "stream",
     "text": [
      "<class 'pandas.core.frame.DataFrame'>\n",
      "RangeIndex: 2793 entries, 0 to 2792\n",
      "Data columns (total 4 columns):\n",
      " #   Column     Non-Null Count  Dtype \n",
      "---  ------     --------------  ----- \n",
      " 0   review_id  2793 non-null   int64 \n",
      " 1   book_id    2793 non-null   int64 \n",
      " 2   username   2793 non-null   object\n",
      " 3   text       2793 non-null   object\n",
      "dtypes: int64(2), object(2)\n",
      "memory usage: 87.4+ KB\n"
     ]
    }
   ],
   "source": [
    "show_sql(query_reviews).info()"
   ]
  },
  {
   "cell_type": "markdown",
   "metadata": {},
   "source": [
    "Содержит данные о пользовательских обзорах на книги:\n",
    "\n",
    "- `review_id` — идентификатор обзора - в числовом формате - `int64`\n",
    "- `book_id` — идентификатор книги - в числовом формате - `int64`\n",
    "- `username` — имя пользователя, написавшего обзор - текст в формате - `object`\n",
    "- `text` — текст обзора - текст в формате - `object`\n",
    "\n"
   ]
  },
  {
   "cell_type": "markdown",
   "metadata": {},
   "source": [
    "##  Решение заданий"
   ]
  },
  {
   "cell_type": "markdown",
   "metadata": {},
   "source": [
    "###  Посчитайте, сколько книг вышло после 1 января 2000 года\n",
    "\n",
    "#### SQL-запрос\n"
   ]
  },
  {
   "cell_type": "code",
   "execution_count": 21,
   "metadata": {},
   "outputs": [],
   "source": [
    "query_books_amount = '''\n",
    "SELECT COUNT (DISTINCT book_id) as num_books\n",
    "FROM books b\n",
    "WHERE publication_date :: date >'2005-11-01';\n",
    "'''"
   ]
  },
  {
   "cell_type": "markdown",
   "metadata": {},
   "source": [
    "\n",
    "#### Вывод результата  запроса \n",
    "\n"
   ]
  },
  {
   "cell_type": "code",
   "execution_count": 22,
   "metadata": {},
   "outputs": [
    {
     "data": {
      "text/html": [
       "<div>\n",
       "<style scoped>\n",
       "    .dataframe tbody tr th:only-of-type {\n",
       "        vertical-align: middle;\n",
       "    }\n",
       "\n",
       "    .dataframe tbody tr th {\n",
       "        vertical-align: top;\n",
       "    }\n",
       "\n",
       "    .dataframe thead th {\n",
       "        text-align: right;\n",
       "    }\n",
       "</style>\n",
       "<table border=\"1\" class=\"dataframe\">\n",
       "  <thead>\n",
       "    <tr style=\"text-align: right;\">\n",
       "      <th></th>\n",
       "      <th>num_books</th>\n",
       "    </tr>\n",
       "  </thead>\n",
       "  <tbody>\n",
       "    <tr>\n",
       "      <th>0</th>\n",
       "      <td>277</td>\n",
       "    </tr>\n",
       "  </tbody>\n",
       "</table>\n",
       "</div>"
      ],
      "text/plain": [
       "   num_books\n",
       "0  277      "
      ]
     },
     "execution_count": 22,
     "metadata": {},
     "output_type": "execute_result"
    }
   ],
   "source": [
    "show_sql(query_books_amount)"
   ]
  },
  {
   "cell_type": "markdown",
   "metadata": {},
   "source": [
    "\n",
    "#### Выводы пo задаче\n"
   ]
  },
  {
   "cell_type": "markdown",
   "metadata": {},
   "source": [
    "После 1 января 2000 года  вышло 277 уникальных книг."
   ]
  },
  {
   "cell_type": "markdown",
   "metadata": {},
   "source": [
    "###  Посчитайте для каждой книги  количество обзоров и среднюю оценку\n",
    "\n",
    "#### SQL-запрос\n"
   ]
  },
  {
   "cell_type": "code",
   "execution_count": 23,
   "metadata": {
    "scrolled": false
   },
   "outputs": [],
   "source": [
    "query_books_rat = '''\n",
    "WITH book_ratings AS\n",
    "  (SELECT AVG(rating) as avg_rating,\n",
    "          book_id\n",
    "   FROM ratings r\n",
    "   GROUP BY book_id),\n",
    "     book_reviews AS\n",
    "  (SELECT book_id,\n",
    "          count(DISTINCT review_id) as num_reviews\n",
    "   FROM reviews re\n",
    "   GROUP BY book_id)\n",
    "SELECT b.*,\n",
    "       br.avg_rating,\n",
    "       be.num_reviews\n",
    "FROM books b\n",
    "JOIN book_ratings AS br ON b.book_id = br.book_id\n",
    "JOIN book_reviews AS be ON br.book_id = be.book_id\n",
    "ORDER BY  num_reviews DESC, avg_rating DESC;\n",
    "'''"
   ]
  },
  {
   "cell_type": "markdown",
   "metadata": {},
   "source": [
    "\n",
    "\n",
    "#### Вывод результата  запроса \n",
    "\n"
   ]
  },
  {
   "cell_type": "code",
   "execution_count": 24,
   "metadata": {},
   "outputs": [
    {
     "data": {
      "text/html": [
       "<div>\n",
       "<style scoped>\n",
       "    .dataframe tbody tr th:only-of-type {\n",
       "        vertical-align: middle;\n",
       "    }\n",
       "\n",
       "    .dataframe tbody tr th {\n",
       "        vertical-align: top;\n",
       "    }\n",
       "\n",
       "    .dataframe thead th {\n",
       "        text-align: right;\n",
       "    }\n",
       "</style>\n",
       "<table border=\"1\" class=\"dataframe\">\n",
       "  <thead>\n",
       "    <tr style=\"text-align: right;\">\n",
       "      <th></th>\n",
       "      <th>book_id</th>\n",
       "      <th>author_id</th>\n",
       "      <th>title</th>\n",
       "      <th>num_pages</th>\n",
       "      <th>publication_date</th>\n",
       "      <th>publisher_id</th>\n",
       "      <th>avg_rating</th>\n",
       "      <th>num_reviews</th>\n",
       "    </tr>\n",
       "  </thead>\n",
       "  <tbody>\n",
       "    <tr>\n",
       "      <th>0</th>\n",
       "      <td>948</td>\n",
       "      <td>554</td>\n",
       "      <td>Twilight (Twilight  #1)</td>\n",
       "      <td>501</td>\n",
       "      <td>2006-09-06</td>\n",
       "      <td>176</td>\n",
       "      <td>3.662500</td>\n",
       "      <td>7</td>\n",
       "    </tr>\n",
       "    <tr>\n",
       "      <th>1</th>\n",
       "      <td>302</td>\n",
       "      <td>236</td>\n",
       "      <td>Harry Potter and the Prisoner of Azkaban (Harry Potter  #3)</td>\n",
       "      <td>435</td>\n",
       "      <td>2004-05-01</td>\n",
       "      <td>255</td>\n",
       "      <td>4.414634</td>\n",
       "      <td>6</td>\n",
       "    </tr>\n",
       "    <tr>\n",
       "      <th>2</th>\n",
       "      <td>299</td>\n",
       "      <td>236</td>\n",
       "      <td>Harry Potter and the Chamber of Secrets (Harry Potter  #2)</td>\n",
       "      <td>341</td>\n",
       "      <td>1999-06-02</td>\n",
       "      <td>24</td>\n",
       "      <td>4.287500</td>\n",
       "      <td>6</td>\n",
       "    </tr>\n",
       "    <tr>\n",
       "      <th>3</th>\n",
       "      <td>656</td>\n",
       "      <td>402</td>\n",
       "      <td>The Book Thief</td>\n",
       "      <td>552</td>\n",
       "      <td>2006-03-14</td>\n",
       "      <td>9</td>\n",
       "      <td>4.264151</td>\n",
       "      <td>6</td>\n",
       "    </tr>\n",
       "    <tr>\n",
       "      <th>4</th>\n",
       "      <td>734</td>\n",
       "      <td>278</td>\n",
       "      <td>The Glass Castle</td>\n",
       "      <td>288</td>\n",
       "      <td>2006-01-17</td>\n",
       "      <td>258</td>\n",
       "      <td>4.206897</td>\n",
       "      <td>6</td>\n",
       "    </tr>\n",
       "    <tr>\n",
       "      <th>...</th>\n",
       "      <td>...</td>\n",
       "      <td>...</td>\n",
       "      <td>...</td>\n",
       "      <td>...</td>\n",
       "      <td>...</td>\n",
       "      <td>...</td>\n",
       "      <td>...</td>\n",
       "      <td>...</td>\n",
       "    </tr>\n",
       "    <tr>\n",
       "      <th>989</th>\n",
       "      <td>446</td>\n",
       "      <td>526</td>\n",
       "      <td>Moo  Baa  La La La!</td>\n",
       "      <td>14</td>\n",
       "      <td>2004-09-06</td>\n",
       "      <td>270</td>\n",
       "      <td>3.000000</td>\n",
       "      <td>1</td>\n",
       "    </tr>\n",
       "    <tr>\n",
       "      <th>990</th>\n",
       "      <td>187</td>\n",
       "      <td>585</td>\n",
       "      <td>Debt of Honor (Jack Ryan  #7)</td>\n",
       "      <td>990</td>\n",
       "      <td>1995-08-01</td>\n",
       "      <td>46</td>\n",
       "      <td>3.000000</td>\n",
       "      <td>1</td>\n",
       "    </tr>\n",
       "    <tr>\n",
       "      <th>991</th>\n",
       "      <td>318</td>\n",
       "      <td>594</td>\n",
       "      <td>History of Beauty</td>\n",
       "      <td>432</td>\n",
       "      <td>2004-11-13</td>\n",
       "      <td>249</td>\n",
       "      <td>2.500000</td>\n",
       "      <td>1</td>\n",
       "    </tr>\n",
       "    <tr>\n",
       "      <th>992</th>\n",
       "      <td>943</td>\n",
       "      <td>70</td>\n",
       "      <td>Tsubasa: RESERVoir CHRoNiCLE  Vol. 1</td>\n",
       "      <td>197</td>\n",
       "      <td>2004-04-27</td>\n",
       "      <td>76</td>\n",
       "      <td>2.500000</td>\n",
       "      <td>1</td>\n",
       "    </tr>\n",
       "    <tr>\n",
       "      <th>993</th>\n",
       "      <td>2</td>\n",
       "      <td>465</td>\n",
       "      <td>1 000 Places to See Before You Die</td>\n",
       "      <td>992</td>\n",
       "      <td>2003-05-22</td>\n",
       "      <td>336</td>\n",
       "      <td>2.500000</td>\n",
       "      <td>1</td>\n",
       "    </tr>\n",
       "  </tbody>\n",
       "</table>\n",
       "<p>994 rows × 8 columns</p>\n",
       "</div>"
      ],
      "text/plain": [
       "     book_id  author_id  \\\n",
       "0    948      554         \n",
       "1    302      236         \n",
       "2    299      236         \n",
       "3    656      402         \n",
       "4    734      278         \n",
       "..   ...      ...         \n",
       "989  446      526         \n",
       "990  187      585         \n",
       "991  318      594         \n",
       "992  943      70          \n",
       "993  2        465         \n",
       "\n",
       "                                                           title  num_pages  \\\n",
       "0    Twilight (Twilight  #1)                                      501         \n",
       "1    Harry Potter and the Prisoner of Azkaban (Harry Potter  #3)  435         \n",
       "2    Harry Potter and the Chamber of Secrets (Harry Potter  #2)   341         \n",
       "3    The Book Thief                                               552         \n",
       "4    The Glass Castle                                             288         \n",
       "..                ...                                             ...         \n",
       "989  Moo  Baa  La La La!                                          14          \n",
       "990  Debt of Honor (Jack Ryan  #7)                                990         \n",
       "991  History of Beauty                                            432         \n",
       "992  Tsubasa: RESERVoir CHRoNiCLE  Vol. 1                         197         \n",
       "993  1 000 Places to See Before You Die                           992         \n",
       "\n",
       "    publication_date  publisher_id  avg_rating  num_reviews  \n",
       "0    2006-09-06       176           3.662500    7            \n",
       "1    2004-05-01       255           4.414634    6            \n",
       "2    1999-06-02       24            4.287500    6            \n",
       "3    2006-03-14       9             4.264151    6            \n",
       "4    2006-01-17       258           4.206897    6            \n",
       "..          ...       ...                ...   ..            \n",
       "989  2004-09-06       270           3.000000    1            \n",
       "990  1995-08-01       46            3.000000    1            \n",
       "991  2004-11-13       249           2.500000    1            \n",
       "992  2004-04-27       76            2.500000    1            \n",
       "993  2003-05-22       336           2.500000    1            \n",
       "\n",
       "[994 rows x 8 columns]"
      ]
     },
     "execution_count": 24,
     "metadata": {},
     "output_type": "execute_result"
    }
   ],
   "source": [
    "show_sql(query_books_rat)"
   ]
  },
  {
   "cell_type": "markdown",
   "metadata": {},
   "source": [
    "\n",
    "\n",
    "#### Выводы пo задаче\n"
   ]
  },
  {
   "cell_type": "markdown",
   "metadata": {},
   "source": [
    "Видим, что есть рейтинги и обзоры только для 994 книг из 1000."
   ]
  },
  {
   "cell_type": "markdown",
   "metadata": {},
   "source": [
    "###  Определите издательство, которое выпустило наибольшее число книг толще 50 страниц — так вы исключите из анализа брошюры\n",
    "\n",
    "\n",
    "#### SQL-запрос\n"
   ]
  },
  {
   "cell_type": "code",
   "execution_count": 25,
   "metadata": {
    "scrolled": false
   },
   "outputs": [],
   "source": [
    "query_top_publisher = '''\n",
    "WITH thick_books AS\n",
    "  (SELECT book_id,\n",
    "          publisher_id\n",
    "   FROM books b\n",
    "   WHERE num_pages>50)\n",
    "SELECT p.publisher_id,\n",
    "       FIRST_VALUE(publisher) OVER (PARTITION BY p.publisher_id) AS publisher,\n",
    "                                   COUNT (book_id) AS num_books\n",
    "FROM publishers p\n",
    "JOIN thick_books AS tb ON p.publisher_id = tb.publisher_id\n",
    "GROUP BY p.publisher_id\n",
    "ORDER BY num_books DESC\n",
    "LIMIT 1;\n",
    "'''"
   ]
  },
  {
   "cell_type": "markdown",
   "metadata": {},
   "source": [
    "\n",
    "#### Вывод результата  запроса \n"
   ]
  },
  {
   "cell_type": "code",
   "execution_count": 26,
   "metadata": {},
   "outputs": [
    {
     "data": {
      "text/html": [
       "<div>\n",
       "<style scoped>\n",
       "    .dataframe tbody tr th:only-of-type {\n",
       "        vertical-align: middle;\n",
       "    }\n",
       "\n",
       "    .dataframe tbody tr th {\n",
       "        vertical-align: top;\n",
       "    }\n",
       "\n",
       "    .dataframe thead th {\n",
       "        text-align: right;\n",
       "    }\n",
       "</style>\n",
       "<table border=\"1\" class=\"dataframe\">\n",
       "  <thead>\n",
       "    <tr style=\"text-align: right;\">\n",
       "      <th></th>\n",
       "      <th>publisher_id</th>\n",
       "      <th>publisher</th>\n",
       "      <th>num_books</th>\n",
       "    </tr>\n",
       "  </thead>\n",
       "  <tbody>\n",
       "    <tr>\n",
       "      <th>0</th>\n",
       "      <td>212</td>\n",
       "      <td>Penguin Books</td>\n",
       "      <td>42</td>\n",
       "    </tr>\n",
       "  </tbody>\n",
       "</table>\n",
       "</div>"
      ],
      "text/plain": [
       "   publisher_id      publisher  num_books\n",
       "0  212           Penguin Books  42       "
      ]
     },
     "execution_count": 26,
     "metadata": {},
     "output_type": "execute_result"
    }
   ],
   "source": [
    "show_sql(query_top_publisher)"
   ]
  },
  {
   "cell_type": "markdown",
   "metadata": {},
   "source": [
    "\n",
    "#### Выводы п задаче\n"
   ]
  },
  {
   "cell_type": "markdown",
   "metadata": {},
   "source": [
    " Издательство **Penguin Books**  выпустило наибольшее число книг толще 50 страниц - 42 книги."
   ]
  },
  {
   "cell_type": "markdown",
   "metadata": {},
   "source": [
    "###  Определите автора с самой высокой средней оценкой книг — учитывайте только книги с 50 и более оценками;\n",
    "\n",
    "\n",
    "#### SQL-запрос\n"
   ]
  },
  {
   "cell_type": "code",
   "execution_count": 27,
   "metadata": {},
   "outputs": [],
   "source": [
    "query_top_author = '''\n",
    "WITH book_ratings AS\n",
    "  (SELECT AVG(rating) AS avg_rating,\n",
    "          count(rating) AS num_ratings,\n",
    "          book_id\n",
    "   FROM ratings r\n",
    "   GROUP BY book_id)\n",
    "SELECT a.author_id,\n",
    "       a.author,\n",
    "       author_avg\n",
    "FROM author a\n",
    "JOIN\n",
    "  (SELECT author_id,\n",
    "          AVG(avg_rating) AS author_avg\n",
    "   FROM\n",
    "     (SELECT b.*,\n",
    "             br.avg_rating,\n",
    "             br.num_ratings\n",
    "      FROM books AS b\n",
    "      JOIN book_ratings AS br ON b.book_id = br.book_id\n",
    "      WHERE br.num_ratings>50\n",
    "      ORDER BY br.avg_rating DESC) AS authors_books\n",
    "   GROUP BY author_id) AS auth_id ON auth_id.author_id = a.author_id\n",
    "ORDER BY author_avg DESC\n",
    "LIMIT 1;\n",
    "'''"
   ]
  },
  {
   "cell_type": "markdown",
   "metadata": {},
   "source": [
    "\n",
    "\n",
    "#### Вывод результата  запроса \n"
   ]
  },
  {
   "cell_type": "code",
   "execution_count": 28,
   "metadata": {},
   "outputs": [
    {
     "data": {
      "text/html": [
       "<div>\n",
       "<style scoped>\n",
       "    .dataframe tbody tr th:only-of-type {\n",
       "        vertical-align: middle;\n",
       "    }\n",
       "\n",
       "    .dataframe tbody tr th {\n",
       "        vertical-align: top;\n",
       "    }\n",
       "\n",
       "    .dataframe thead th {\n",
       "        text-align: right;\n",
       "    }\n",
       "</style>\n",
       "<table border=\"1\" class=\"dataframe\">\n",
       "  <thead>\n",
       "    <tr style=\"text-align: right;\">\n",
       "      <th></th>\n",
       "      <th>author_id</th>\n",
       "      <th>author</th>\n",
       "      <th>author_avg</th>\n",
       "    </tr>\n",
       "  </thead>\n",
       "  <tbody>\n",
       "    <tr>\n",
       "      <th>0</th>\n",
       "      <td>236</td>\n",
       "      <td>J.K. Rowling/Mary GrandPré</td>\n",
       "      <td>4.283844</td>\n",
       "    </tr>\n",
       "  </tbody>\n",
       "</table>\n",
       "</div>"
      ],
      "text/plain": [
       "   author_id                      author  author_avg\n",
       "0  236        J.K. Rowling/Mary GrandPré  4.283844  "
      ]
     },
     "execution_count": 28,
     "metadata": {},
     "output_type": "execute_result"
    }
   ],
   "source": [
    "show_sql(query_top_author)"
   ]
  },
  {
   "cell_type": "markdown",
   "metadata": {},
   "source": [
    "\n",
    "\n",
    "\n",
    "#### Выводы по задаче\n"
   ]
  },
  {
   "cell_type": "markdown",
   "metadata": {},
   "source": [
    "Авторы с наибольшей оценкой  - соавторства Mary GrandPré и Hatsune Miku, создательница серий книг о Гарри Поттере и игры  Майнкрафт. "
   ]
  },
  {
   "cell_type": "markdown",
   "metadata": {},
   "source": [
    "###  Посчитайте среднее количество обзоров от пользователей, которые поставили больше 50 оценок.\n",
    "\n",
    "\n",
    "#### SQL-запрос\n"
   ]
  },
  {
   "cell_type": "code",
   "execution_count": 29,
   "metadata": {},
   "outputs": [],
   "source": [
    "query_top_reviewers = '''\n",
    "WITH ra_users AS\n",
    "(SELECT username,\n",
    "       count(rating_id) as num_rating\n",
    "FROM ratings ra\n",
    "GROUP BY username\n",
    "HAVING  count(rating_id) > 50\n",
    "ORDER BY num_rating DESC), \n",
    "re_users as \n",
    "(SELECT username,\n",
    "       count(review_id) as num_reviews\n",
    "FROM reviews re\n",
    "GROUP BY username)\n",
    "SELECT AVG(num_reviews) as avg_num_reviews\n",
    "FROM ra_users a\n",
    "JOIN re_users e on a.username = e.username;\n",
    "'''"
   ]
  },
  {
   "cell_type": "markdown",
   "metadata": {},
   "source": [
    "\n",
    "#### Вывод результата  запроса \n"
   ]
  },
  {
   "cell_type": "code",
   "execution_count": 30,
   "metadata": {
    "scrolled": true
   },
   "outputs": [
    {
     "data": {
      "text/html": [
       "<div>\n",
       "<style scoped>\n",
       "    .dataframe tbody tr th:only-of-type {\n",
       "        vertical-align: middle;\n",
       "    }\n",
       "\n",
       "    .dataframe tbody tr th {\n",
       "        vertical-align: top;\n",
       "    }\n",
       "\n",
       "    .dataframe thead th {\n",
       "        text-align: right;\n",
       "    }\n",
       "</style>\n",
       "<table border=\"1\" class=\"dataframe\">\n",
       "  <thead>\n",
       "    <tr style=\"text-align: right;\">\n",
       "      <th></th>\n",
       "      <th>avg_num_reviews</th>\n",
       "    </tr>\n",
       "  </thead>\n",
       "  <tbody>\n",
       "    <tr>\n",
       "      <th>0</th>\n",
       "      <td>24.333333</td>\n",
       "    </tr>\n",
       "  </tbody>\n",
       "</table>\n",
       "</div>"
      ],
      "text/plain": [
       "   avg_num_reviews\n",
       "0  24.333333      "
      ]
     },
     "execution_count": 30,
     "metadata": {},
     "output_type": "execute_result"
    }
   ],
   "source": [
    "show_sql(query_top_reviewers)"
   ]
  },
  {
   "cell_type": "markdown",
   "metadata": {},
   "source": [
    "\n",
    "\n",
    "#### Выводы по задаче\n"
   ]
  },
  {
   "cell_type": "markdown",
   "metadata": {},
   "source": [
    "Среднее количество обзоров от пользователей, которые поставили больше 50 оценок - 24."
   ]
  },
  {
   "cell_type": "markdown",
   "metadata": {},
   "source": [
    "###  Почитаем отзывы  для трёх книг с наибольшим количеством рецензий и наиболее высокими оценками.  \n",
    "\n",
    "\n",
    "#### SQL-запрос\n"
   ]
  },
  {
   "cell_type": "code",
   "execution_count": 31,
   "metadata": {},
   "outputs": [],
   "source": [
    "query_books_reviews = '''\n",
    "WITH book_ratings AS\n",
    "  (SELECT AVG(rating) as avg_rating,\n",
    "          book_id\n",
    "   FROM ratings r\n",
    "   GROUP BY book_id),\n",
    "     book_reviews AS\n",
    "  (SELECT book_id,\n",
    "          count(DISTINCT review_id) as num_reviews\n",
    "   FROM reviews re\n",
    "   GROUP BY book_id )\n",
    "SELECT title, avg_rating, num_reviews,text\n",
    "FROM \n",
    "(SELECT b.book_id, \n",
    "       b.author_id,\n",
    "       b.title,\n",
    "       br.avg_rating,\n",
    "       be.num_reviews\n",
    "FROM books b\n",
    "JOIN book_ratings AS br ON b.book_id = br.book_id\n",
    "JOIN book_reviews AS be ON br.book_id = be.book_id\n",
    "ORDER BY  num_reviews DESC, avg_rating DESC\n",
    "LIMIT 3) top_b\n",
    "JOIN reviews re on re.book_id = top_b.book_id\n",
    "ORDER BY num_reviews DESC;\n",
    "'''"
   ]
  },
  {
   "cell_type": "markdown",
   "metadata": {},
   "source": [
    "\n",
    "#### Вывод результата  запроса \n"
   ]
  },
  {
   "cell_type": "code",
   "execution_count": 32,
   "metadata": {
    "scrolled": false
   },
   "outputs": [
    {
     "data": {
      "text/html": [
       "<div>\n",
       "<style scoped>\n",
       "    .dataframe tbody tr th:only-of-type {\n",
       "        vertical-align: middle;\n",
       "    }\n",
       "\n",
       "    .dataframe tbody tr th {\n",
       "        vertical-align: top;\n",
       "    }\n",
       "\n",
       "    .dataframe thead th {\n",
       "        text-align: right;\n",
       "    }\n",
       "</style>\n",
       "<table border=\"1\" class=\"dataframe\">\n",
       "  <thead>\n",
       "    <tr style=\"text-align: right;\">\n",
       "      <th></th>\n",
       "      <th>title</th>\n",
       "      <th>avg_rating</th>\n",
       "      <th>num_reviews</th>\n",
       "      <th>text</th>\n",
       "    </tr>\n",
       "  </thead>\n",
       "  <tbody>\n",
       "    <tr>\n",
       "      <th>0</th>\n",
       "      <td>Twilight (Twilight  #1)</td>\n",
       "      <td>3.662500</td>\n",
       "      <td>7</td>\n",
       "      <td>Add drive anyone federal range person. Own then by risk. Role magazine season all into safe.</td>\n",
       "    </tr>\n",
       "    <tr>\n",
       "      <th>1</th>\n",
       "      <td>Twilight (Twilight  #1)</td>\n",
       "      <td>3.662500</td>\n",
       "      <td>7</td>\n",
       "      <td>Realize girl mother offer she method ask. Expert reach generation know. Design bank crime.</td>\n",
       "    </tr>\n",
       "    <tr>\n",
       "      <th>2</th>\n",
       "      <td>Twilight (Twilight  #1)</td>\n",
       "      <td>3.662500</td>\n",
       "      <td>7</td>\n",
       "      <td>Still your evening focus various leader really. Nothing laugh interesting professor. There answer light get.</td>\n",
       "    </tr>\n",
       "    <tr>\n",
       "      <th>3</th>\n",
       "      <td>Twilight (Twilight  #1)</td>\n",
       "      <td>3.662500</td>\n",
       "      <td>7</td>\n",
       "      <td>And receive yet record else. Course Congress entire glass feel interest. Build minute decide.</td>\n",
       "    </tr>\n",
       "    <tr>\n",
       "      <th>4</th>\n",
       "      <td>Twilight (Twilight  #1)</td>\n",
       "      <td>3.662500</td>\n",
       "      <td>7</td>\n",
       "      <td>Be risk wear oil. Toward teach within already. Detail situation finally high cost.</td>\n",
       "    </tr>\n",
       "    <tr>\n",
       "      <th>5</th>\n",
       "      <td>Twilight (Twilight  #1)</td>\n",
       "      <td>3.662500</td>\n",
       "      <td>7</td>\n",
       "      <td>Take dark difference create. Skill page draw example green these they. Training home how building. Treat type beautiful can.</td>\n",
       "    </tr>\n",
       "    <tr>\n",
       "      <th>6</th>\n",
       "      <td>Twilight (Twilight  #1)</td>\n",
       "      <td>3.662500</td>\n",
       "      <td>7</td>\n",
       "      <td>Sit marriage soon exist control floor.</td>\n",
       "    </tr>\n",
       "    <tr>\n",
       "      <th>7</th>\n",
       "      <td>Harry Potter and the Prisoner of Azkaban (Harry Potter  #3)</td>\n",
       "      <td>4.414634</td>\n",
       "      <td>6</td>\n",
       "      <td>Score three health chair. Board between hard attack everyone.</td>\n",
       "    </tr>\n",
       "    <tr>\n",
       "      <th>8</th>\n",
       "      <td>Harry Potter and the Prisoner of Azkaban (Harry Potter  #3)</td>\n",
       "      <td>4.414634</td>\n",
       "      <td>6</td>\n",
       "      <td>Truth dinner class also nation attorney question. Majority how million particularly civil. Sound one just much do no watch.</td>\n",
       "    </tr>\n",
       "    <tr>\n",
       "      <th>9</th>\n",
       "      <td>Harry Potter and the Chamber of Secrets (Harry Potter  #2)</td>\n",
       "      <td>4.287500</td>\n",
       "      <td>6</td>\n",
       "      <td>Agent not arm history shake vote. Forward send life.</td>\n",
       "    </tr>\n",
       "    <tr>\n",
       "      <th>10</th>\n",
       "      <td>Harry Potter and the Prisoner of Azkaban (Harry Potter  #3)</td>\n",
       "      <td>4.414634</td>\n",
       "      <td>6</td>\n",
       "      <td>Staff amount these compare. Wife institution check thus reflect say.</td>\n",
       "    </tr>\n",
       "    <tr>\n",
       "      <th>11</th>\n",
       "      <td>Harry Potter and the Prisoner of Azkaban (Harry Potter  #3)</td>\n",
       "      <td>4.414634</td>\n",
       "      <td>6</td>\n",
       "      <td>Indicate operation difficult wind least. Throughout watch energy above including.</td>\n",
       "    </tr>\n",
       "    <tr>\n",
       "      <th>12</th>\n",
       "      <td>Harry Potter and the Prisoner of Azkaban (Harry Potter  #3)</td>\n",
       "      <td>4.414634</td>\n",
       "      <td>6</td>\n",
       "      <td>Task meeting yeah accept campaign study nearly return. Hear a focus pretty note than.</td>\n",
       "    </tr>\n",
       "    <tr>\n",
       "      <th>13</th>\n",
       "      <td>Harry Potter and the Chamber of Secrets (Harry Potter  #2)</td>\n",
       "      <td>4.287500</td>\n",
       "      <td>6</td>\n",
       "      <td>Want manage school though. President behind particularly memory education road relate.</td>\n",
       "    </tr>\n",
       "    <tr>\n",
       "      <th>14</th>\n",
       "      <td>Harry Potter and the Chamber of Secrets (Harry Potter  #2)</td>\n",
       "      <td>4.287500</td>\n",
       "      <td>6</td>\n",
       "      <td>Quite ask whether. Start training prepare other why note hour. Trip store six decide crime such.</td>\n",
       "    </tr>\n",
       "    <tr>\n",
       "      <th>15</th>\n",
       "      <td>Harry Potter and the Chamber of Secrets (Harry Potter  #2)</td>\n",
       "      <td>4.287500</td>\n",
       "      <td>6</td>\n",
       "      <td>Issue when sea city point.</td>\n",
       "    </tr>\n",
       "    <tr>\n",
       "      <th>16</th>\n",
       "      <td>Harry Potter and the Chamber of Secrets (Harry Potter  #2)</td>\n",
       "      <td>4.287500</td>\n",
       "      <td>6</td>\n",
       "      <td>Alone assume east few. Detail actually behavior deal minute within. Responsibility skill major some fast subject require.</td>\n",
       "    </tr>\n",
       "    <tr>\n",
       "      <th>17</th>\n",
       "      <td>Harry Potter and the Chamber of Secrets (Harry Potter  #2)</td>\n",
       "      <td>4.287500</td>\n",
       "      <td>6</td>\n",
       "      <td>Bill tonight low near especially. Congress relationship reach real range.</td>\n",
       "    </tr>\n",
       "    <tr>\n",
       "      <th>18</th>\n",
       "      <td>Harry Potter and the Prisoner of Azkaban (Harry Potter  #3)</td>\n",
       "      <td>4.414634</td>\n",
       "      <td>6</td>\n",
       "      <td>Statement rise that add use it edge keep. Size on decade lay section door.</td>\n",
       "    </tr>\n",
       "  </tbody>\n",
       "</table>\n",
       "</div>"
      ],
      "text/plain": [
       "                                                          title  avg_rating  \\\n",
       "0   Twilight (Twilight  #1)                                      3.662500     \n",
       "1   Twilight (Twilight  #1)                                      3.662500     \n",
       "2   Twilight (Twilight  #1)                                      3.662500     \n",
       "3   Twilight (Twilight  #1)                                      3.662500     \n",
       "4   Twilight (Twilight  #1)                                      3.662500     \n",
       "5   Twilight (Twilight  #1)                                      3.662500     \n",
       "6   Twilight (Twilight  #1)                                      3.662500     \n",
       "7   Harry Potter and the Prisoner of Azkaban (Harry Potter  #3)  4.414634     \n",
       "8   Harry Potter and the Prisoner of Azkaban (Harry Potter  #3)  4.414634     \n",
       "9   Harry Potter and the Chamber of Secrets (Harry Potter  #2)   4.287500     \n",
       "10  Harry Potter and the Prisoner of Azkaban (Harry Potter  #3)  4.414634     \n",
       "11  Harry Potter and the Prisoner of Azkaban (Harry Potter  #3)  4.414634     \n",
       "12  Harry Potter and the Prisoner of Azkaban (Harry Potter  #3)  4.414634     \n",
       "13  Harry Potter and the Chamber of Secrets (Harry Potter  #2)   4.287500     \n",
       "14  Harry Potter and the Chamber of Secrets (Harry Potter  #2)   4.287500     \n",
       "15  Harry Potter and the Chamber of Secrets (Harry Potter  #2)   4.287500     \n",
       "16  Harry Potter and the Chamber of Secrets (Harry Potter  #2)   4.287500     \n",
       "17  Harry Potter and the Chamber of Secrets (Harry Potter  #2)   4.287500     \n",
       "18  Harry Potter and the Prisoner of Azkaban (Harry Potter  #3)  4.414634     \n",
       "\n",
       "    num_reviews  \\\n",
       "0   7             \n",
       "1   7             \n",
       "2   7             \n",
       "3   7             \n",
       "4   7             \n",
       "5   7             \n",
       "6   7             \n",
       "7   6             \n",
       "8   6             \n",
       "9   6             \n",
       "10  6             \n",
       "11  6             \n",
       "12  6             \n",
       "13  6             \n",
       "14  6             \n",
       "15  6             \n",
       "16  6             \n",
       "17  6             \n",
       "18  6             \n",
       "\n",
       "                                                                                                                            text  \n",
       "0   Add drive anyone federal range person. Own then by risk. Role magazine season all into safe.                                  \n",
       "1   Realize girl mother offer she method ask. Expert reach generation know. Design bank crime.                                    \n",
       "2   Still your evening focus various leader really. Nothing laugh interesting professor. There answer light get.                  \n",
       "3   And receive yet record else. Course Congress entire glass feel interest. Build minute decide.                                 \n",
       "4   Be risk wear oil. Toward teach within already. Detail situation finally high cost.                                            \n",
       "5   Take dark difference create. Skill page draw example green these they. Training home how building. Treat type beautiful can.  \n",
       "6   Sit marriage soon exist control floor.                                                                                        \n",
       "7   Score three health chair. Board between hard attack everyone.                                                                 \n",
       "8   Truth dinner class also nation attorney question. Majority how million particularly civil. Sound one just much do no watch.   \n",
       "9   Agent not arm history shake vote. Forward send life.                                                                          \n",
       "10  Staff amount these compare. Wife institution check thus reflect say.                                                          \n",
       "11  Indicate operation difficult wind least. Throughout watch energy above including.                                             \n",
       "12  Task meeting yeah accept campaign study nearly return. Hear a focus pretty note than.                                         \n",
       "13  Want manage school though. President behind particularly memory education road relate.                                        \n",
       "14  Quite ask whether. Start training prepare other why note hour. Trip store six decide crime such.                              \n",
       "15  Issue when sea city point.                                                                                                    \n",
       "16  Alone assume east few. Detail actually behavior deal minute within. Responsibility skill major some fast subject require.     \n",
       "17  Bill tonight low near especially. Congress relationship reach real range.                                                     \n",
       "18  Statement rise that add use it edge keep. Size on decade lay section door.                                                    "
      ]
     },
     "execution_count": 32,
     "metadata": {},
     "output_type": "execute_result"
    }
   ],
   "source": [
    "show_sql(query_books_reviews)"
   ]
  },
  {
   "cell_type": "markdown",
   "metadata": {},
   "source": [
    "Один из отзывов на книгу Twilight (Twilight #1) свидетельствует: \n",
    "\n",
    "- *Realize girl mother offer she method ask. Expert reach generation know. Design bank crime.*\n",
    "\n",
    "- Понять девушку мать предложить она метод спросить. Эксперт достичь поколение знать. Дизайн банк преступление.\n",
    "\n",
    "Поскольку мне не приходилось читать книгу, не могу судить о достоверном изложении содержания, но звучит не совсем подходяще.\n"
   ]
  },
  {
   "cell_type": "markdown",
   "metadata": {},
   "source": [
    "###  Узнаем дату самой свежей книги\n",
    "\n",
    "\n",
    "#### SQL-запрос\n"
   ]
  },
  {
   "cell_type": "code",
   "execution_count": 33,
   "metadata": {},
   "outputs": [],
   "source": [
    "query_books_date = '''\n",
    "SELECT  MAX (publication_date::date) as maximum_date\n",
    "FROM books b;\n",
    "'''"
   ]
  },
  {
   "cell_type": "markdown",
   "metadata": {},
   "source": [
    "\n",
    "#### Вывод результата  запроса \n"
   ]
  },
  {
   "cell_type": "code",
   "execution_count": 34,
   "metadata": {
    "scrolled": true
   },
   "outputs": [
    {
     "data": {
      "text/html": [
       "<div>\n",
       "<style scoped>\n",
       "    .dataframe tbody tr th:only-of-type {\n",
       "        vertical-align: middle;\n",
       "    }\n",
       "\n",
       "    .dataframe tbody tr th {\n",
       "        vertical-align: top;\n",
       "    }\n",
       "\n",
       "    .dataframe thead th {\n",
       "        text-align: right;\n",
       "    }\n",
       "</style>\n",
       "<table border=\"1\" class=\"dataframe\">\n",
       "  <thead>\n",
       "    <tr style=\"text-align: right;\">\n",
       "      <th></th>\n",
       "      <th>maximum_date</th>\n",
       "    </tr>\n",
       "  </thead>\n",
       "  <tbody>\n",
       "    <tr>\n",
       "      <th>0</th>\n",
       "      <td>2020-03-31</td>\n",
       "    </tr>\n",
       "  </tbody>\n",
       "</table>\n",
       "</div>"
      ],
      "text/plain": [
       "  maximum_date\n",
       "0  2020-03-31 "
      ]
     },
     "execution_count": 34,
     "metadata": {},
     "output_type": "execute_result"
    }
   ],
   "source": [
    "show_sql(query_books_date)"
   ]
  },
  {
   "cell_type": "markdown",
   "metadata": {},
   "source": [
    "##  Общий вывод\n"
   ]
  },
  {
   "cell_type": "markdown",
   "metadata": {},
   "source": [
    "Рекомендации:\n",
    "\n",
    "- Самые высокие оценки и количество отзывов - у книг тематики фентези, жанра Young Adult, возможно предложение с новыми нигами в этом жанре\n",
    "- Издательство **Penguin Books**  выпустило наибольшее число книг, возможно предложить подборку только этого издательства\n",
    "- 2020-03-31 - дата самой свежей книги, можно загрузить новинки для более актуального маркетингового предложения\n",
    "- Тексты отзывов несогласованы с содержанием книг, возможно, необходима ревизия механизма хранения данных."
   ]
  }
 ],
 "metadata": {
  "ExecuteTimeLog": [
   {
    "duration": 1209,
    "start_time": "2022-09-15T06:32:17.647Z"
   },
   {
    "duration": 1820,
    "start_time": "2022-09-15T06:32:18.858Z"
   },
   {
    "duration": 12,
    "start_time": "2022-09-15T06:32:20.679Z"
   },
   {
    "duration": 29,
    "start_time": "2022-09-15T06:32:20.692Z"
   },
   {
    "duration": 37,
    "start_time": "2022-09-15T06:32:20.723Z"
   },
   {
    "duration": 64,
    "start_time": "2022-09-15T06:32:20.761Z"
   },
   {
    "duration": 4,
    "start_time": "2022-09-15T06:32:20.826Z"
   },
   {
    "duration": 16,
    "start_time": "2022-09-15T06:32:20.831Z"
   },
   {
    "duration": 31,
    "start_time": "2022-09-15T06:32:20.848Z"
   },
   {
    "duration": 56,
    "start_time": "2022-09-15T06:32:20.881Z"
   },
   {
    "duration": 232,
    "start_time": "2022-09-15T06:32:20.938Z"
   },
   {
    "duration": 50,
    "start_time": "2022-09-15T06:32:21.171Z"
   },
   {
    "duration": 117,
    "start_time": "2022-09-15T06:32:21.222Z"
   },
   {
    "duration": 6,
    "start_time": "2022-09-15T06:32:21.340Z"
   },
   {
    "duration": 25,
    "start_time": "2022-09-15T06:32:21.348Z"
   },
   {
    "duration": 29,
    "start_time": "2022-09-15T06:32:21.374Z"
   },
   {
    "duration": 12,
    "start_time": "2022-09-15T06:32:21.404Z"
   },
   {
    "duration": 16,
    "start_time": "2022-09-15T06:32:21.417Z"
   },
   {
    "duration": 15,
    "start_time": "2022-09-15T06:32:21.434Z"
   },
   {
    "duration": 13,
    "start_time": "2022-09-15T06:32:21.451Z"
   },
   {
    "duration": 11,
    "start_time": "2022-09-15T06:32:21.465Z"
   },
   {
    "duration": 391,
    "start_time": "2022-09-15T06:32:21.477Z"
   },
   {
    "duration": 9,
    "start_time": "2022-09-15T06:32:21.870Z"
   },
   {
    "duration": 25,
    "start_time": "2022-09-15T06:32:21.880Z"
   },
   {
    "duration": 10,
    "start_time": "2022-09-15T06:32:21.907Z"
   },
   {
    "duration": 10,
    "start_time": "2022-09-15T06:32:21.918Z"
   },
   {
    "duration": 13,
    "start_time": "2022-09-15T06:32:21.930Z"
   },
   {
    "duration": 11,
    "start_time": "2022-09-15T06:32:21.947Z"
   },
   {
    "duration": 86,
    "start_time": "2022-09-15T06:32:21.959Z"
   },
   {
    "duration": 33,
    "start_time": "2022-09-15T06:32:22.047Z"
   },
   {
    "duration": 51,
    "start_time": "2022-09-15T06:32:22.081Z"
   },
   {
    "duration": 3,
    "start_time": "2022-09-15T06:32:22.134Z"
   },
   {
    "duration": 15,
    "start_time": "2022-09-15T06:32:22.139Z"
   },
   {
    "duration": 22,
    "start_time": "2022-09-15T06:32:22.155Z"
   },
   {
    "duration": 26,
    "start_time": "2022-09-15T06:32:22.178Z"
   },
   {
    "duration": 15,
    "start_time": "2022-09-15T06:32:22.206Z"
   },
   {
    "duration": 581,
    "start_time": "2022-09-15T06:32:22.222Z"
   },
   {
    "duration": 497,
    "start_time": "2022-09-15T06:32:22.805Z"
   },
   {
    "duration": 42,
    "start_time": "2022-09-15T06:32:23.304Z"
   },
   {
    "duration": 1321,
    "start_time": "2022-09-15T06:32:23.348Z"
   },
   {
    "duration": 559,
    "start_time": "2022-09-15T06:32:24.670Z"
   },
   {
    "duration": 989,
    "start_time": "2022-09-15T06:32:25.230Z"
   },
   {
    "duration": 1458,
    "start_time": "2022-09-15T06:32:26.221Z"
   },
   {
    "duration": 767,
    "start_time": "2022-09-15T06:32:27.680Z"
   },
   {
    "duration": 1157,
    "start_time": "2022-09-15T06:32:28.449Z"
   },
   {
    "duration": 1494,
    "start_time": "2022-09-15T06:32:29.607Z"
   },
   {
    "duration": 723,
    "start_time": "2022-09-15T06:32:31.102Z"
   },
   {
    "duration": 1133,
    "start_time": "2022-09-15T06:32:31.826Z"
   },
   {
    "duration": 2071,
    "start_time": "2022-09-15T06:32:32.960Z"
   },
   {
    "duration": 824,
    "start_time": "2022-09-15T06:32:35.033Z"
   },
   {
    "duration": 1543,
    "start_time": "2022-09-15T06:32:35.859Z"
   },
   {
    "duration": 10,
    "start_time": "2022-09-15T06:32:37.403Z"
   },
   {
    "duration": 1089,
    "start_time": "2022-09-15T06:32:37.414Z"
   },
   {
    "duration": 1629,
    "start_time": "2022-09-15T06:32:38.504Z"
   },
   {
    "duration": 714,
    "start_time": "2022-09-15T06:32:40.135Z"
   },
   {
    "duration": 1252,
    "start_time": "2022-09-15T06:32:40.851Z"
   },
   {
    "duration": 1069,
    "start_time": "2022-09-15T06:32:42.105Z"
   },
   {
    "duration": 540,
    "start_time": "2022-09-15T06:32:43.176Z"
   },
   {
    "duration": 1003,
    "start_time": "2022-09-15T06:32:43.718Z"
   },
   {
    "duration": 1196,
    "start_time": "2022-11-27T23:08:36.572Z"
   },
   {
    "duration": 281,
    "start_time": "2022-11-27T23:08:37.770Z"
   },
   {
    "duration": 11,
    "start_time": "2022-11-27T23:08:38.053Z"
   },
   {
    "duration": 7,
    "start_time": "2022-11-27T23:08:38.066Z"
   },
   {
    "duration": 8,
    "start_time": "2022-11-27T23:08:38.075Z"
   },
   {
    "duration": 25,
    "start_time": "2022-11-27T23:08:38.084Z"
   },
   {
    "duration": 7,
    "start_time": "2022-11-27T23:08:38.110Z"
   },
   {
    "duration": 11,
    "start_time": "2022-11-27T23:08:38.118Z"
   },
   {
    "duration": 9,
    "start_time": "2022-11-27T23:08:38.131Z"
   },
   {
    "duration": 7,
    "start_time": "2022-11-27T23:08:38.143Z"
   },
   {
    "duration": 12,
    "start_time": "2022-11-27T23:08:38.151Z"
   },
   {
    "duration": 271,
    "start_time": "2022-11-27T23:08:38.164Z"
   },
   {
    "duration": 11,
    "start_time": "2022-11-27T23:08:38.437Z"
   },
   {
    "duration": 238,
    "start_time": "2022-11-27T23:08:38.449Z"
   },
   {
    "duration": 273,
    "start_time": "2022-11-27T23:08:38.689Z"
   },
   {
    "duration": 251,
    "start_time": "2022-11-27T23:08:38.964Z"
   },
   {
    "duration": 181,
    "start_time": "2022-11-27T23:08:39.220Z"
   },
   {
    "duration": 348,
    "start_time": "2022-11-27T23:08:39.402Z"
   },
   {
    "duration": 192,
    "start_time": "2022-11-27T23:08:39.752Z"
   },
   {
    "duration": 266,
    "start_time": "2022-11-27T23:08:39.946Z"
   },
   {
    "duration": 188,
    "start_time": "2022-11-27T23:08:40.214Z"
   },
   {
    "duration": 3,
    "start_time": "2022-11-27T23:08:40.404Z"
   },
   {
    "duration": 16,
    "start_time": "2022-11-27T23:08:40.409Z"
   },
   {
    "duration": 135,
    "start_time": "2022-11-27T23:08:40.426Z"
   },
   {
    "duration": 4,
    "start_time": "2022-11-27T23:08:40.563Z"
   },
   {
    "duration": 10,
    "start_time": "2022-11-27T23:08:40.569Z"
   },
   {
    "duration": 95,
    "start_time": "2022-11-27T23:08:40.580Z"
   },
   {
    "duration": 117,
    "start_time": "2022-11-27T23:08:40.678Z"
   },
   {
    "duration": 151,
    "start_time": "2022-11-27T23:08:40.796Z"
   },
   {
    "duration": 10,
    "start_time": "2022-11-27T23:08:40.948Z"
   },
   {
    "duration": 9,
    "start_time": "2022-11-27T23:08:40.960Z"
   },
   {
    "duration": 25,
    "start_time": "2022-11-27T23:08:40.970Z"
   },
   {
    "duration": 34,
    "start_time": "2022-11-27T23:08:40.997Z"
   },
   {
    "duration": 104,
    "start_time": "2022-11-27T23:39:28.118Z"
   },
   {
    "duration": 166,
    "start_time": "2022-11-27T23:39:47.516Z"
   },
   {
    "duration": 139,
    "start_time": "2022-11-27T23:40:42.163Z"
   },
   {
    "duration": 5,
    "start_time": "2022-11-27T23:41:39.730Z"
   },
   {
    "duration": 4,
    "start_time": "2022-11-27T23:44:08.125Z"
   },
   {
    "duration": 10,
    "start_time": "2022-11-27T23:52:08.287Z"
   },
   {
    "duration": 26,
    "start_time": "2022-11-27T23:52:19.752Z"
   },
   {
    "duration": 28,
    "start_time": "2022-11-27T23:52:56.879Z"
   },
   {
    "duration": 1353,
    "start_time": "2022-11-29T14:40:09.763Z"
   },
   {
    "duration": 334,
    "start_time": "2022-11-29T14:40:11.118Z"
   },
   {
    "duration": 14,
    "start_time": "2022-11-29T14:40:11.454Z"
   },
   {
    "duration": 9,
    "start_time": "2022-11-29T14:40:11.470Z"
   },
   {
    "duration": 8,
    "start_time": "2022-11-29T14:40:11.481Z"
   },
   {
    "duration": 25,
    "start_time": "2022-11-29T14:40:11.491Z"
   },
   {
    "duration": 6,
    "start_time": "2022-11-29T14:40:11.518Z"
   },
   {
    "duration": 9,
    "start_time": "2022-11-29T14:40:11.526Z"
   },
   {
    "duration": 9,
    "start_time": "2022-11-29T14:40:11.537Z"
   },
   {
    "duration": 9,
    "start_time": "2022-11-29T14:40:11.549Z"
   },
   {
    "duration": 6,
    "start_time": "2022-11-29T14:40:11.560Z"
   },
   {
    "duration": 53,
    "start_time": "2022-11-29T14:40:11.568Z"
   },
   {
    "duration": 4,
    "start_time": "2022-11-29T14:40:11.623Z"
   },
   {
    "duration": 10,
    "start_time": "2022-11-29T14:40:11.629Z"
   },
   {
    "duration": 12,
    "start_time": "2022-11-29T14:40:11.641Z"
   },
   {
    "duration": 9,
    "start_time": "2022-11-29T14:40:11.655Z"
   },
   {
    "duration": 15,
    "start_time": "2022-11-29T14:40:11.665Z"
   },
   {
    "duration": 291,
    "start_time": "2022-11-29T14:40:11.682Z"
   },
   {
    "duration": 13,
    "start_time": "2022-11-29T14:40:11.975Z"
   },
   {
    "duration": 254,
    "start_time": "2022-11-29T14:40:11.990Z"
   },
   {
    "duration": 282,
    "start_time": "2022-11-29T14:40:12.246Z"
   },
   {
    "duration": 269,
    "start_time": "2022-11-29T14:40:12.530Z"
   },
   {
    "duration": 216,
    "start_time": "2022-11-29T14:40:12.801Z"
   },
   {
    "duration": 329,
    "start_time": "2022-11-29T14:40:13.019Z"
   },
   {
    "duration": 201,
    "start_time": "2022-11-29T14:40:13.350Z"
   },
   {
    "duration": 274,
    "start_time": "2022-11-29T14:40:13.553Z"
   },
   {
    "duration": 228,
    "start_time": "2022-11-29T14:40:13.828Z"
   },
   {
    "duration": 5,
    "start_time": "2022-11-29T14:40:14.059Z"
   },
   {
    "duration": 10,
    "start_time": "2022-11-29T14:40:14.065Z"
   },
   {
    "duration": 150,
    "start_time": "2022-11-29T14:40:14.077Z"
   },
   {
    "duration": 148,
    "start_time": "2022-11-29T14:40:14.229Z"
   },
   {
    "duration": 5,
    "start_time": "2022-11-29T14:40:14.378Z"
   },
   {
    "duration": 12,
    "start_time": "2022-11-29T14:40:14.384Z"
   },
   {
    "duration": 115,
    "start_time": "2022-11-29T14:40:14.398Z"
   },
   {
    "duration": 136,
    "start_time": "2022-11-29T14:40:14.515Z"
   },
   {
    "duration": 186,
    "start_time": "2022-11-29T14:40:14.653Z"
   },
   {
    "duration": 11,
    "start_time": "2022-11-29T14:40:14.841Z"
   },
   {
    "duration": 10,
    "start_time": "2022-11-29T14:40:14.853Z"
   },
   {
    "duration": 54,
    "start_time": "2022-11-29T14:40:14.865Z"
   },
   {
    "duration": 15,
    "start_time": "2022-11-29T14:40:14.921Z"
   },
   {
    "duration": 4,
    "start_time": "2022-11-29T15:04:31.231Z"
   },
   {
    "duration": 4,
    "start_time": "2022-11-29T15:31:33.745Z"
   },
   {
    "duration": 48,
    "start_time": "2022-11-29T17:08:08.107Z"
   },
   {
    "duration": 1322,
    "start_time": "2022-11-29T17:08:12.668Z"
   },
   {
    "duration": 290,
    "start_time": "2022-11-29T17:08:13.992Z"
   },
   {
    "duration": 11,
    "start_time": "2022-11-29T17:08:14.284Z"
   },
   {
    "duration": 14,
    "start_time": "2022-11-29T17:08:14.296Z"
   },
   {
    "duration": 9,
    "start_time": "2022-11-29T17:08:14.312Z"
   },
   {
    "duration": 28,
    "start_time": "2022-11-29T17:08:14.323Z"
   },
   {
    "duration": 7,
    "start_time": "2022-11-29T17:08:14.353Z"
   },
   {
    "duration": 14,
    "start_time": "2022-11-29T17:08:14.362Z"
   },
   {
    "duration": 13,
    "start_time": "2022-11-29T17:08:14.378Z"
   },
   {
    "duration": 19,
    "start_time": "2022-11-29T17:08:14.392Z"
   },
   {
    "duration": 7,
    "start_time": "2022-11-29T17:08:14.413Z"
   },
   {
    "duration": 39,
    "start_time": "2022-11-29T17:08:14.421Z"
   },
   {
    "duration": 3,
    "start_time": "2022-11-29T17:08:14.462Z"
   },
   {
    "duration": 14,
    "start_time": "2022-11-29T17:08:14.467Z"
   },
   {
    "duration": 12,
    "start_time": "2022-11-29T17:08:14.482Z"
   },
   {
    "duration": 14,
    "start_time": "2022-11-29T17:08:14.495Z"
   },
   {
    "duration": 18,
    "start_time": "2022-11-29T17:08:14.510Z"
   },
   {
    "duration": 349,
    "start_time": "2022-11-29T17:08:14.530Z"
   },
   {
    "duration": 14,
    "start_time": "2022-11-29T17:08:14.881Z"
   },
   {
    "duration": 270,
    "start_time": "2022-11-29T17:08:14.897Z"
   },
   {
    "duration": 285,
    "start_time": "2022-11-29T17:08:15.169Z"
   },
   {
    "duration": 256,
    "start_time": "2022-11-29T17:08:15.456Z"
   },
   {
    "duration": 203,
    "start_time": "2022-11-29T17:08:15.714Z"
   },
   {
    "duration": 376,
    "start_time": "2022-11-29T17:08:15.918Z"
   },
   {
    "duration": 63,
    "start_time": "2022-11-29T17:08:18.901Z"
   },
   {
    "duration": 198,
    "start_time": "2022-11-29T17:08:23.951Z"
   },
   {
    "duration": 13,
    "start_time": "2022-11-29T17:08:26.179Z"
   },
   {
    "duration": 4,
    "start_time": "2022-11-29T17:08:47.638Z"
   },
   {
    "duration": 4,
    "start_time": "2022-11-29T17:16:11.371Z"
   },
   {
    "duration": 6,
    "start_time": "2022-11-29T17:16:16.279Z"
   },
   {
    "duration": 14,
    "start_time": "2022-11-29T17:16:36.569Z"
   },
   {
    "duration": 11,
    "start_time": "2022-11-29T17:16:43.830Z"
   },
   {
    "duration": 11,
    "start_time": "2022-11-29T17:17:22.421Z"
   },
   {
    "duration": 11,
    "start_time": "2022-11-29T17:18:19.033Z"
   },
   {
    "duration": 10,
    "start_time": "2022-11-29T17:19:20.259Z"
   },
   {
    "duration": 14,
    "start_time": "2022-11-29T17:19:33.402Z"
   },
   {
    "duration": 11,
    "start_time": "2022-11-29T17:19:36.467Z"
   },
   {
    "duration": 11,
    "start_time": "2022-11-29T17:19:37.033Z"
   },
   {
    "duration": 11,
    "start_time": "2022-11-29T17:19:47.280Z"
   },
   {
    "duration": 12,
    "start_time": "2022-11-29T17:20:11.982Z"
   },
   {
    "duration": 6,
    "start_time": "2022-11-29T17:20:17.806Z"
   },
   {
    "duration": 6,
    "start_time": "2022-11-29T17:20:22.121Z"
   },
   {
    "duration": 6,
    "start_time": "2022-11-29T17:20:51.466Z"
   },
   {
    "duration": 7,
    "start_time": "2022-11-29T17:22:26.735Z"
   },
   {
    "duration": 12,
    "start_time": "2022-11-29T17:23:26.640Z"
   },
   {
    "duration": 12,
    "start_time": "2022-11-29T17:23:31.042Z"
   },
   {
    "duration": 70,
    "start_time": "2022-11-29T17:23:49.394Z"
   },
   {
    "duration": 205,
    "start_time": "2022-11-29T17:25:09.279Z"
   },
   {
    "duration": 216,
    "start_time": "2022-11-29T17:25:49.191Z"
   },
   {
    "duration": 217,
    "start_time": "2022-11-29T17:26:12.873Z"
   }
  ],
  "colab": {
   "provenance": []
  },
  "kernelspec": {
   "display_name": "Python 3 (ipykernel)",
   "language": "python",
   "name": "python3"
  },
  "language_info": {
   "codemirror_mode": {
    "name": "ipython",
    "version": 3
   },
   "file_extension": ".py",
   "mimetype": "text/x-python",
   "name": "python",
   "nbconvert_exporter": "python",
   "pygments_lexer": "ipython3",
   "version": "3.9.15"
  },
  "toc": {
   "base_numbering": "0",
   "nav_menu": {},
   "number_sections": true,
   "sideBar": true,
   "skip_h1_title": true,
   "title_cell": "Table of Contents",
   "title_sidebar": "Contents",
   "toc_cell": false,
   "toc_position": {
    "height": "807.778px",
    "left": "154px",
    "top": "311.128px",
    "width": "280px"
   },
   "toc_section_display": true,
   "toc_window_display": true
  }
 },
 "nbformat": 4,
 "nbformat_minor": 1
}
