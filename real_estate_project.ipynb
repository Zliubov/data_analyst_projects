{
 "cells": [
  {
   "cell_type": "markdown",
   "metadata": {},
   "source": [
    "# Исследование объявлений о продаже квартир\n",
    "\n",
    "В вашем распоряжении данные сервиса Яндекс.Недвижимость — архив объявлений о продаже квартир в Санкт-Петербурге и соседних населённых пунктов за несколько лет. Нужно научиться определять рыночную стоимость объектов недвижимости. Ваша задача — установить параметры. Это позволит построить автоматизированную систему: она отследит аномалии и мошенническую деятельность. \n",
    "\n",
    "По каждой квартире на продажу доступны два вида данных. Первые вписаны пользователем, вторые — получены автоматически на основе картографических данных. Например, расстояние до центра, аэропорта, ближайшего парка и водоёма. "
   ]
  },
  {
   "cell_type": "markdown",
   "metadata": {},
   "source": [
    "## Откройте файл с данными и изучите общую информацию. "
   ]
  },
  {
   "cell_type": "markdown",
   "metadata": {},
   "source": [
    "### Загрузите данные из файла в датафрейм.\n",
    "**Импортирую библиотеку pandas. Считываю данные из csv-файла в датафрейм и сохраняю в переменную `data`. Путь к файлу:**\n",
    "\n",
    "`/datasets/data.csv`"
   ]
  },
  {
   "cell_type": "code",
   "execution_count": 29,
   "metadata": {},
   "outputs": [],
   "source": [
    "import pandas as pd\n",
    "import matplotlib.pyplot as plt\n",
    "\n",
    "try:\n",
    "    data = pd.read_csv('Datasets/real_estate_data.csv')\n",
    "except FileNotFoundError:\n",
    "    data = pd.read_csv('https://code.s3.yandex.net/datasets/real_estate_data.csv')"
   ]
  },
  {
   "cell_type": "markdown",
   "metadata": {},
   "source": [
    "**Выведем первые 5 строчек датафрейма `data` на экран.**"
   ]
  },
  {
   "cell_type": "code",
   "execution_count": 30,
   "metadata": {
    "scrolled": true
   },
   "outputs": [
    {
     "data": {
      "text/html": [
       "<div>\n",
       "<style scoped>\n",
       "    .dataframe tbody tr th:only-of-type {\n",
       "        vertical-align: middle;\n",
       "    }\n",
       "\n",
       "    .dataframe tbody tr th {\n",
       "        vertical-align: top;\n",
       "    }\n",
       "\n",
       "    .dataframe thead th {\n",
       "        text-align: right;\n",
       "    }\n",
       "</style>\n",
       "<table border=\"1\" class=\"dataframe\">\n",
       "  <thead>\n",
       "    <tr style=\"text-align: right;\">\n",
       "      <th></th>\n",
       "      <th>total_images\\tlast_price\\ttotal_area\\tfirst_day_exposition\\trooms\\tceiling_height\\tfloors_total\\tliving_area\\tfloor\\tis_apartment\\tstudio\\topen_plan\\tkitchen_area\\tbalcony\\tlocality_name\\tairports_nearest\\tcityCenters_nearest\\tparks_around3000\\tparks_nearest\\tponds_around3000\\tponds_nearest\\tdays_exposition</th>\n",
       "    </tr>\n",
       "  </thead>\n",
       "  <tbody>\n",
       "    <tr>\n",
       "      <th>0</th>\n",
       "      <td>20\\t13000000.0\\t108.0\\t2019-03-07T00:00:00\\t3\\...</td>\n",
       "    </tr>\n",
       "    <tr>\n",
       "      <th>1</th>\n",
       "      <td>7\\t3350000.0\\t40.4\\t2018-12-04T00:00:00\\t1\\t\\t...</td>\n",
       "    </tr>\n",
       "    <tr>\n",
       "      <th>2</th>\n",
       "      <td>10\\t5196000.0\\t56.0\\t2015-08-20T00:00:00\\t2\\t\\...</td>\n",
       "    </tr>\n",
       "    <tr>\n",
       "      <th>3</th>\n",
       "      <td>0\\t64900000.0\\t159.0\\t2015-07-24T00:00:00\\t3\\t...</td>\n",
       "    </tr>\n",
       "    <tr>\n",
       "      <th>4</th>\n",
       "      <td>2\\t10000000.0\\t100.0\\t2018-06-19T00:00:00\\t2\\t...</td>\n",
       "    </tr>\n",
       "  </tbody>\n",
       "</table>\n",
       "</div>"
      ],
      "text/plain": [
       "  total_images\\tlast_price\\ttotal_area\\tfirst_day_exposition\\trooms\\tceiling_height\\tfloors_total\\tliving_area\\tfloor\\tis_apartment\\tstudio\\topen_plan\\tkitchen_area\\tbalcony\\tlocality_name\\tairports_nearest\\tcityCenters_nearest\\tparks_around3000\\tparks_nearest\\tponds_around3000\\tponds_nearest\\tdays_exposition\n",
       "0  20\\t13000000.0\\t108.0\\t2019-03-07T00:00:00\\t3\\...                                                                                                                                                                                                                                                                  \n",
       "1  7\\t3350000.0\\t40.4\\t2018-12-04T00:00:00\\t1\\t\\t...                                                                                                                                                                                                                                                                  \n",
       "2  10\\t5196000.0\\t56.0\\t2015-08-20T00:00:00\\t2\\t\\...                                                                                                                                                                                                                                                                  \n",
       "3  0\\t64900000.0\\t159.0\\t2015-07-24T00:00:00\\t3\\t...                                                                                                                                                                                                                                                                  \n",
       "4  2\\t10000000.0\\t100.0\\t2018-06-19T00:00:00\\t2\\t...                                                                                                                                                                                                                                                                  "
      ]
     },
     "execution_count": 30,
     "metadata": {},
     "output_type": "execute_result"
    }
   ],
   "source": [
    "data.head(5)"
   ]
  },
  {
   "cell_type": "markdown",
   "metadata": {},
   "source": [
    "**Разлепим данные, которые склеились.**"
   ]
  },
  {
   "cell_type": "code",
   "execution_count": 31,
   "metadata": {
    "scrolled": true
   },
   "outputs": [
    {
     "data": {
      "text/html": [
       "<div>\n",
       "<style scoped>\n",
       "    .dataframe tbody tr th:only-of-type {\n",
       "        vertical-align: middle;\n",
       "    }\n",
       "\n",
       "    .dataframe tbody tr th {\n",
       "        vertical-align: top;\n",
       "    }\n",
       "\n",
       "    .dataframe thead th {\n",
       "        text-align: right;\n",
       "    }\n",
       "</style>\n",
       "<table border=\"1\" class=\"dataframe\">\n",
       "  <thead>\n",
       "    <tr style=\"text-align: right;\">\n",
       "      <th></th>\n",
       "      <th>total_images</th>\n",
       "      <th>last_price</th>\n",
       "      <th>total_area</th>\n",
       "      <th>first_day_exposition</th>\n",
       "      <th>rooms</th>\n",
       "      <th>ceiling_height</th>\n",
       "      <th>floors_total</th>\n",
       "      <th>living_area</th>\n",
       "      <th>floor</th>\n",
       "      <th>is_apartment</th>\n",
       "      <th>...</th>\n",
       "      <th>kitchen_area</th>\n",
       "      <th>balcony</th>\n",
       "      <th>locality_name</th>\n",
       "      <th>airports_nearest</th>\n",
       "      <th>cityCenters_nearest</th>\n",
       "      <th>parks_around3000</th>\n",
       "      <th>parks_nearest</th>\n",
       "      <th>ponds_around3000</th>\n",
       "      <th>ponds_nearest</th>\n",
       "      <th>days_exposition</th>\n",
       "    </tr>\n",
       "  </thead>\n",
       "  <tbody>\n",
       "    <tr>\n",
       "      <th>0</th>\n",
       "      <td>20</td>\n",
       "      <td>13000000.0</td>\n",
       "      <td>108.0</td>\n",
       "      <td>2019-03-07T00:00:00</td>\n",
       "      <td>3</td>\n",
       "      <td>2.70</td>\n",
       "      <td>16.0</td>\n",
       "      <td>51.0</td>\n",
       "      <td>8</td>\n",
       "      <td>NaN</td>\n",
       "      <td>...</td>\n",
       "      <td>25.0</td>\n",
       "      <td>NaN</td>\n",
       "      <td>Санкт-Петербург</td>\n",
       "      <td>18863.0</td>\n",
       "      <td>16028.0</td>\n",
       "      <td>1.0</td>\n",
       "      <td>482.0</td>\n",
       "      <td>2.0</td>\n",
       "      <td>755.0</td>\n",
       "      <td>NaN</td>\n",
       "    </tr>\n",
       "    <tr>\n",
       "      <th>1</th>\n",
       "      <td>7</td>\n",
       "      <td>3350000.0</td>\n",
       "      <td>40.4</td>\n",
       "      <td>2018-12-04T00:00:00</td>\n",
       "      <td>1</td>\n",
       "      <td>NaN</td>\n",
       "      <td>11.0</td>\n",
       "      <td>18.6</td>\n",
       "      <td>1</td>\n",
       "      <td>NaN</td>\n",
       "      <td>...</td>\n",
       "      <td>11.0</td>\n",
       "      <td>2.0</td>\n",
       "      <td>посёлок Шушары</td>\n",
       "      <td>12817.0</td>\n",
       "      <td>18603.0</td>\n",
       "      <td>0.0</td>\n",
       "      <td>NaN</td>\n",
       "      <td>0.0</td>\n",
       "      <td>NaN</td>\n",
       "      <td>81.0</td>\n",
       "    </tr>\n",
       "    <tr>\n",
       "      <th>2</th>\n",
       "      <td>10</td>\n",
       "      <td>5196000.0</td>\n",
       "      <td>56.0</td>\n",
       "      <td>2015-08-20T00:00:00</td>\n",
       "      <td>2</td>\n",
       "      <td>NaN</td>\n",
       "      <td>5.0</td>\n",
       "      <td>34.3</td>\n",
       "      <td>4</td>\n",
       "      <td>NaN</td>\n",
       "      <td>...</td>\n",
       "      <td>8.3</td>\n",
       "      <td>0.0</td>\n",
       "      <td>Санкт-Петербург</td>\n",
       "      <td>21741.0</td>\n",
       "      <td>13933.0</td>\n",
       "      <td>1.0</td>\n",
       "      <td>90.0</td>\n",
       "      <td>2.0</td>\n",
       "      <td>574.0</td>\n",
       "      <td>558.0</td>\n",
       "    </tr>\n",
       "    <tr>\n",
       "      <th>3</th>\n",
       "      <td>0</td>\n",
       "      <td>64900000.0</td>\n",
       "      <td>159.0</td>\n",
       "      <td>2015-07-24T00:00:00</td>\n",
       "      <td>3</td>\n",
       "      <td>NaN</td>\n",
       "      <td>14.0</td>\n",
       "      <td>NaN</td>\n",
       "      <td>9</td>\n",
       "      <td>NaN</td>\n",
       "      <td>...</td>\n",
       "      <td>NaN</td>\n",
       "      <td>0.0</td>\n",
       "      <td>Санкт-Петербург</td>\n",
       "      <td>28098.0</td>\n",
       "      <td>6800.0</td>\n",
       "      <td>2.0</td>\n",
       "      <td>84.0</td>\n",
       "      <td>3.0</td>\n",
       "      <td>234.0</td>\n",
       "      <td>424.0</td>\n",
       "    </tr>\n",
       "    <tr>\n",
       "      <th>4</th>\n",
       "      <td>2</td>\n",
       "      <td>10000000.0</td>\n",
       "      <td>100.0</td>\n",
       "      <td>2018-06-19T00:00:00</td>\n",
       "      <td>2</td>\n",
       "      <td>3.03</td>\n",
       "      <td>14.0</td>\n",
       "      <td>32.0</td>\n",
       "      <td>13</td>\n",
       "      <td>NaN</td>\n",
       "      <td>...</td>\n",
       "      <td>41.0</td>\n",
       "      <td>NaN</td>\n",
       "      <td>Санкт-Петербург</td>\n",
       "      <td>31856.0</td>\n",
       "      <td>8098.0</td>\n",
       "      <td>2.0</td>\n",
       "      <td>112.0</td>\n",
       "      <td>1.0</td>\n",
       "      <td>48.0</td>\n",
       "      <td>121.0</td>\n",
       "    </tr>\n",
       "  </tbody>\n",
       "</table>\n",
       "<p>5 rows × 22 columns</p>\n",
       "</div>"
      ],
      "text/plain": [
       "   total_images  last_price  total_area first_day_exposition  rooms  \\\n",
       "0            20  13000000.0       108.0  2019-03-07T00:00:00      3   \n",
       "1             7   3350000.0        40.4  2018-12-04T00:00:00      1   \n",
       "2            10   5196000.0        56.0  2015-08-20T00:00:00      2   \n",
       "3             0  64900000.0       159.0  2015-07-24T00:00:00      3   \n",
       "4             2  10000000.0       100.0  2018-06-19T00:00:00      2   \n",
       "\n",
       "   ceiling_height  floors_total  living_area  floor is_apartment  ...  \\\n",
       "0            2.70          16.0         51.0      8          NaN  ...   \n",
       "1             NaN          11.0         18.6      1          NaN  ...   \n",
       "2             NaN           5.0         34.3      4          NaN  ...   \n",
       "3             NaN          14.0          NaN      9          NaN  ...   \n",
       "4            3.03          14.0         32.0     13          NaN  ...   \n",
       "\n",
       "   kitchen_area  balcony    locality_name  airports_nearest  \\\n",
       "0          25.0      NaN  Санкт-Петербург           18863.0   \n",
       "1          11.0      2.0   посёлок Шушары           12817.0   \n",
       "2           8.3      0.0  Санкт-Петербург           21741.0   \n",
       "3           NaN      0.0  Санкт-Петербург           28098.0   \n",
       "4          41.0      NaN  Санкт-Петербург           31856.0   \n",
       "\n",
       "  cityCenters_nearest  parks_around3000  parks_nearest  ponds_around3000  \\\n",
       "0             16028.0               1.0          482.0               2.0   \n",
       "1             18603.0               0.0            NaN               0.0   \n",
       "2             13933.0               1.0           90.0               2.0   \n",
       "3              6800.0               2.0           84.0               3.0   \n",
       "4              8098.0               2.0          112.0               1.0   \n",
       "\n",
       "   ponds_nearest  days_exposition  \n",
       "0          755.0              NaN  \n",
       "1            NaN             81.0  \n",
       "2          574.0            558.0  \n",
       "3          234.0            424.0  \n",
       "4           48.0            121.0  \n",
       "\n",
       "[5 rows x 22 columns]"
      ]
     },
     "execution_count": 31,
     "metadata": {},
     "output_type": "execute_result"
    }
   ],
   "source": [
    "try:\n",
    "    data = pd.read_csv('Datasets/real_estate_data.csv', sep='\\t')\n",
    "except:\n",
    "    data = pd.read_csv('https://code.s3.yandex.net/datasets/real_estate_data.csv', sep='\\t')\n",
    "data.head(5)"
   ]
  },
  {
   "cell_type": "markdown",
   "metadata": {},
   "source": [
    "### Изучите общую информацию о полученном датафрейме.\n",
    "**Выводим основную информацию о датафрейме с помощью метода `info()`.**"
   ]
  },
  {
   "cell_type": "code",
   "execution_count": 32,
   "metadata": {},
   "outputs": [
    {
     "data": {
      "text/plain": [
       "<bound method DataFrame.info of        total_images  last_price  total_area first_day_exposition  rooms  \\\n",
       "0                20  13000000.0      108.00  2019-03-07T00:00:00      3   \n",
       "1                 7   3350000.0       40.40  2018-12-04T00:00:00      1   \n",
       "2                10   5196000.0       56.00  2015-08-20T00:00:00      2   \n",
       "3                 0  64900000.0      159.00  2015-07-24T00:00:00      3   \n",
       "4                 2  10000000.0      100.00  2018-06-19T00:00:00      2   \n",
       "...             ...         ...         ...                  ...    ...   \n",
       "23694             9   9700000.0      133.81  2017-03-21T00:00:00      3   \n",
       "23695            14   3100000.0       59.00  2018-01-15T00:00:00      3   \n",
       "23696            18   2500000.0       56.70  2018-02-11T00:00:00      2   \n",
       "23697            13  11475000.0       76.75  2017-03-28T00:00:00      2   \n",
       "23698             4   1350000.0       32.30  2017-07-21T00:00:00      1   \n",
       "\n",
       "       ceiling_height  floors_total  living_area  floor is_apartment  ...  \\\n",
       "0                2.70          16.0         51.0      8          NaN  ...   \n",
       "1                 NaN          11.0         18.6      1          NaN  ...   \n",
       "2                 NaN           5.0         34.3      4          NaN  ...   \n",
       "3                 NaN          14.0          NaN      9          NaN  ...   \n",
       "4                3.03          14.0         32.0     13          NaN  ...   \n",
       "...               ...           ...          ...    ...          ...  ...   \n",
       "23694            3.70           5.0         73.3      3          NaN  ...   \n",
       "23695             NaN           5.0         38.0      4          NaN  ...   \n",
       "23696             NaN           3.0         29.7      1          NaN  ...   \n",
       "23697            3.00          17.0          NaN     12          NaN  ...   \n",
       "23698            2.50           5.0         12.3      1          NaN  ...   \n",
       "\n",
       "       kitchen_area  balcony        locality_name  airports_nearest  \\\n",
       "0             25.00      NaN      Санкт-Петербург           18863.0   \n",
       "1             11.00      2.0       посёлок Шушары           12817.0   \n",
       "2              8.30      0.0      Санкт-Петербург           21741.0   \n",
       "3               NaN      0.0      Санкт-Петербург           28098.0   \n",
       "4             41.00      NaN      Санкт-Петербург           31856.0   \n",
       "...             ...      ...                  ...               ...   \n",
       "23694         13.83      NaN      Санкт-Петербург           24665.0   \n",
       "23695          8.50      NaN                Тосно               NaN   \n",
       "23696           NaN      NaN     село Рождествено               NaN   \n",
       "23697         23.30      2.0      Санкт-Петербург           39140.0   \n",
       "23698          9.00      NaN  поселок Новый Учхоз               NaN   \n",
       "\n",
       "      cityCenters_nearest  parks_around3000  parks_nearest  ponds_around3000  \\\n",
       "0                 16028.0               1.0          482.0               2.0   \n",
       "1                 18603.0               0.0            NaN               0.0   \n",
       "2                 13933.0               1.0           90.0               2.0   \n",
       "3                  6800.0               2.0           84.0               3.0   \n",
       "4                  8098.0               2.0          112.0               1.0   \n",
       "...                   ...               ...            ...               ...   \n",
       "23694              4232.0               1.0          796.0               3.0   \n",
       "23695                 NaN               NaN            NaN               NaN   \n",
       "23696                 NaN               NaN            NaN               NaN   \n",
       "23697             10364.0               2.0          173.0               3.0   \n",
       "23698                 NaN               NaN            NaN               NaN   \n",
       "\n",
       "       ponds_nearest  days_exposition  \n",
       "0              755.0              NaN  \n",
       "1                NaN             81.0  \n",
       "2              574.0            558.0  \n",
       "3              234.0            424.0  \n",
       "4               48.0            121.0  \n",
       "...              ...              ...  \n",
       "23694          381.0              NaN  \n",
       "23695            NaN             45.0  \n",
       "23696            NaN              NaN  \n",
       "23697          196.0            602.0  \n",
       "23698            NaN              NaN  \n",
       "\n",
       "[23699 rows x 22 columns]>"
      ]
     },
     "execution_count": 32,
     "metadata": {},
     "output_type": "execute_result"
    }
   ],
   "source": [
    "data.info"
   ]
  },
  {
   "cell_type": "markdown",
   "metadata": {},
   "source": [
    "### Постройте общую гистограмму для всех столбцов таблицы. "
   ]
  },
  {
   "cell_type": "markdown",
   "metadata": {},
   "source": [
    "Строим диаграмму для каждого столбца таблицы."
   ]
  },
  {
   "cell_type": "code",
   "execution_count": 33,
   "metadata": {
    "scrolled": true
   },
   "outputs": [
    {
     "data": {
      "image/png": "[encoded data removed]",
      "text/plain": [
       "<Figure size 1080x1440 with 20 Axes>"
      ]
     },
     "metadata": {
      "needs_background": "light"
     },
     "output_type": "display_data"
    }
   ],
   "source": [
    "data.hist(figsize=(15, 20))\n",
    "plt.show()"
   ]
  },
  {
   "cell_type": "markdown",
   "metadata": {},
   "source": [
    "## Предобработка данных"
   ]
  },
  {
   "cell_type": "markdown",
   "metadata": {},
   "source": [
    "### 1. Найдите и изучите пропущенные значения в столбцах:\n",
    "Определим, в каких столбцах есть пропуски.\n",
    "Заполним пропущенные значения там, где это возможно. \n",
    "Если продавец не указал число балконов, то, скорее всего, в его квартире их нет. Такие пропуски правильно заменить на 0."
   ]
  },
  {
   "cell_type": "code",
   "execution_count": 34,
   "metadata": {},
   "outputs": [],
   "source": [
    "data=data.rename(columns={'cityCenters_nearest':'city_centers_nearest'})\n",
    "#заменим шрифт в описании столбца - единственный столбец, который выбивается"
   ]
  },
  {
   "cell_type": "markdown",
   "metadata": {},
   "source": [
    " Выведем количество пропущенных значений для каждого столбца. "
   ]
  },
  {
   "cell_type": "code",
   "execution_count": 35,
   "metadata": {},
   "outputs": [
    {
     "data": {
      "text/plain": [
       "total_images                0\n",
       "last_price                  0\n",
       "total_area                  0\n",
       "first_day_exposition        0\n",
       "rooms                       0\n",
       "ceiling_height           9195\n",
       "floors_total               86\n",
       "living_area              1903\n",
       "floor                       0\n",
       "is_apartment            20924\n",
       "studio                      0\n",
       "open_plan                   0\n",
       "kitchen_area             2278\n",
       "balcony                 11519\n",
       "locality_name              49\n",
       "airports_nearest         5542\n",
       "city_centers_nearest     5519\n",
       "parks_around3000         5518\n",
       "parks_nearest           15620\n",
       "ponds_around3000         5518\n",
       "ponds_nearest           14589\n",
       "days_exposition          3181\n",
       "dtype: int64"
      ]
     },
     "execution_count": 35,
     "metadata": {},
     "output_type": "execute_result"
    }
   ],
   "source": [
    "data.isna().sum()"
   ]
  },
  {
   "cell_type": "markdown",
   "metadata": {},
   "source": [
    "Вот какие данные оказались пропущены:\n",
    "- ceiling_height           9195 — высота потолков (м)\n",
    "- floors_total               86 — всего этажей в доме\n",
    "- living_area              1903 — жилая площадь в квадратных метрах (м²)\n",
    "- is_apartment            20924 — апартаменты (булев тип)\n",
    "- kitchen_area             2278 — площадь кухни в квадратных метрах (м²)\n",
    "- balcony                 11519 — число балконов\n",
    "- locality_name              49 — название населённого пункта\n",
    "- airports_nearest         5542 — расстояние до ближайшего аэропорта в метрах (м)\n",
    "- cityCenters_nearest      5519 — расстояние до центра города (м)\n",
    "- parks_around3000         5518 — число парков в радиусе 3 км\n",
    "- parks_nearest           15620 — расстояние до ближайшего парка (м)\n",
    "- ponds_around3000         5518 — число водоёмов в радиусе 3 км\n",
    "- ponds_nearest           14589 — расстояние до ближайшего водоёма (м)\n",
    "- days_exposition          3181— сколько дней было размещено объявление (от публикации до снятия)"
   ]
  },
  {
   "cell_type": "markdown",
   "metadata": {},
   "source": [
    "Логично предположить, также, как и для балкона: если продавец не указал, что квартира является апартаментом, что рядом есть парк или пруд, вероятно, что это не так, и поэтому продавец опустил эту информацию.\n",
    "    "
   ]
  },
  {
   "cell_type": "code",
   "execution_count": 36,
   "metadata": {
    "scrolled": false
   },
   "outputs": [
    {
     "name": "stdout",
     "output_type": "stream",
     "text": [
      "is_apartment\n",
      "[nan False True]\n",
      "balcony\n",
      "[nan  2.  0.  1.  5.  4.  3.]\n",
      "parks_around3000\n",
      "[ 1.  0.  2. nan  3.]\n",
      "ponds_around3000\n",
      "[ 2.  0.  3.  1. nan]\n",
      "\n"
     ]
    }
   ],
   "source": [
    "column_name = ['is_apartment','balcony','parks_around3000','ponds_around3000']\n",
    "\n",
    "for t in column_name:\n",
    "    print(t)\n",
    "    data[t].unique()\n",
    "    print(data[t].unique())\n",
    "print()"
   ]
  },
  {
   "cell_type": "markdown",
   "metadata": {},
   "source": [
    "В этих данных если продавец не указал является ли квартира апартаментом, то вероятно предполодить, что не вявляется.\n",
    "Можно заменить пустые значение на False.\n",
    "Если не указано число балконов, количество парков или прудов, то, скорее всего, балконов, парков и прудовв нет - \n",
    "Пропуски можно заменить на 0."
   ]
  },
  {
   "cell_type": "code",
   "execution_count": 37,
   "metadata": {},
   "outputs": [
    {
     "name": "stdout",
     "output_type": "stream",
     "text": [
      "0    False\n",
      "1    False\n",
      "2    False\n",
      "3    False\n",
      "4    False\n",
      "Name: is_apartment, dtype: bool\n",
      "\n",
      "0    0.0\n",
      "1    2.0\n",
      "2    0.0\n",
      "3    0.0\n",
      "4    0.0\n",
      "Name: balcony, dtype: float64\n",
      "\n",
      "0    1.0\n",
      "1    0.0\n",
      "2    1.0\n",
      "3    2.0\n",
      "4    2.0\n",
      "Name: parks_around3000, dtype: float64\n",
      "\n",
      "0    2.0\n",
      "1    0.0\n",
      "2    2.0\n",
      "3    3.0\n",
      "4    1.0\n",
      "Name: ponds_around3000, dtype: float64\n",
      "\n"
     ]
    }
   ],
   "source": [
    "for t in column_name:\n",
    "    if t != 'is_apartment':\n",
    "        data[t] = data[t].fillna(value=0)\n",
    "    else: \n",
    "        data[t] = data[t].fillna(value=False)\n",
    "    print(data[t].head())\n",
    "    print()\n",
    "\n"
   ]
  },
  {
   "cell_type": "markdown",
   "metadata": {},
   "source": [
    "Для остальных пропусков нельзя предположить логичной замены. \n",
    "Вероятнее всего, пропуски в данных связаны с темб что продавцы пропускали необязательные поля при заполнении."
   ]
  },
  {
   "cell_type": "markdown",
   "metadata": {},
   "source": [
    "#### Рассмотрим типы данных в каждом столбце."
   ]
  },
  {
   "cell_type": "markdown",
   "metadata": {},
   "source": [
    "Заменим тип данных в столбце **last_price** на целочисленный."
   ]
  },
  {
   "cell_type": "code",
   "execution_count": 38,
   "metadata": {},
   "outputs": [],
   "source": [
    "data['last_price']= data['last_price'].astype(int)"
   ]
  },
  {
   "cell_type": "markdown",
   "metadata": {},
   "source": [
    "Стоблец с датой **first_day_exposition** читается как object, нужно изменить тип данных на datetime64."
   ]
  },
  {
   "cell_type": "code",
   "execution_count": 39,
   "metadata": {
    "scrolled": false
   },
   "outputs": [
    {
     "name": "stdout",
     "output_type": "stream",
     "text": [
      "0       2019-03-07\n",
      "1       2018-12-04\n",
      "2       2015-08-20\n",
      "3       2015-07-24\n",
      "4       2018-06-19\n",
      "           ...    \n",
      "23694   2017-03-21\n",
      "23695   2018-01-15\n",
      "23696   2018-02-11\n",
      "23697   2017-03-28\n",
      "23698   2017-07-21\n",
      "Name: first_day_exposition, Length: 23699, dtype: datetime64[ns]\n"
     ]
    }
   ],
   "source": [
    "data['first_day_exposition'] = pd.to_datetime(data['first_day_exposition'], format='%Y-%m-%dT%H:%M:%S')\n",
    "\n",
    "print(data['first_day_exposition'])"
   ]
  },
  {
   "cell_type": "markdown",
   "metadata": {},
   "source": [
    "Теперь хорошо :) \n",
    "Для того, чтобы можно было производить действия со временем (округлять часы, переводить часовой пояс) и тому подобное, необходимо, чтобы тип данных соответствовал."
   ]
  },
  {
   "cell_type": "markdown",
   "metadata": {},
   "source": [
    "#### Удаление дубликатов\n",
    "Посмотрим, есть ли дубликаты и уберём их."
   ]
  },
  {
   "cell_type": "code",
   "execution_count": 40,
   "metadata": {},
   "outputs": [
    {
     "data": {
      "text/plain": [
       "0"
      ]
     },
     "execution_count": 40,
     "metadata": {},
     "output_type": "execute_result"
    }
   ],
   "source": [
    "data.duplicated().sum()"
   ]
  },
  {
   "cell_type": "markdown",
   "metadata": {},
   "source": [
    "Явных дубликатов нет, посмотрим уникальные значения в столбце с названиями и уберем неявные дубликаты. \n",
    "Выведем на экран перечень уникальных названий из столбца **locality_name**.\n",
    "Замечаем, что у части названий фигурирует **ё**, заменим на **е**, а затем уберем административную единицу из названий, чтобы разное наименование не созддавало дубликат."
   ]
  },
  {
   "cell_type": "code",
   "execution_count": 41,
   "metadata": {},
   "outputs": [
    {
     "data": {
      "text/plain": [
       "['Бокситогорск',\n",
       " 'Волосово',\n",
       " 'Волхов',\n",
       " 'Всеволожск',\n",
       " 'Выборг',\n",
       " 'Высоцк',\n",
       " 'Гатчина',\n",
       " 'Зеленогорск',\n",
       " 'Ивангород',\n",
       " 'Каменногорск',\n",
       " 'Кингисепп',\n",
       " 'Кириши',\n",
       " 'Кировск',\n",
       " 'Колпино',\n",
       " 'Коммунар',\n",
       " 'Красное Село',\n",
       " 'Кронштадт',\n",
       " 'Кудрово',\n",
       " 'Лодейное Поле',\n",
       " 'Ломоносов',\n",
       " 'Луга',\n",
       " 'Любань',\n",
       " 'Мурино',\n",
       " 'Никольское',\n",
       " 'Новая Ладога',\n",
       " 'Отрадное',\n",
       " 'Павловск',\n",
       " 'Петергоф',\n",
       " 'Пикалёво',\n",
       " 'Подпорожье',\n",
       " 'Приморск',\n",
       " 'Приозерск',\n",
       " 'Пушкин',\n",
       " 'Санкт-Петербург',\n",
       " 'Светогорск',\n",
       " 'Сертолово',\n",
       " 'Сестрорецк',\n",
       " 'Сланцы',\n",
       " 'Сосновый Бор',\n",
       " 'Сясьстрой',\n",
       " 'Тихвин',\n",
       " 'Тосно',\n",
       " 'Шлиссельбург',\n",
       " 'городской поселок Большая Ижора',\n",
       " 'городской поселок Янино-1',\n",
       " 'городской посёлок Будогощь',\n",
       " 'городской посёлок Виллози',\n",
       " 'городской посёлок Лесогорский',\n",
       " 'городской посёлок Мга',\n",
       " 'городской посёлок Назия',\n",
       " 'городской посёлок Новоселье',\n",
       " 'городской посёлок Павлово',\n",
       " 'городской посёлок Рощино',\n",
       " 'городской посёлок Свирьстрой',\n",
       " 'городской посёлок Советский',\n",
       " 'городской посёлок Фёдоровское',\n",
       " 'городской посёлок Янино-1',\n",
       " 'деревня Агалатово',\n",
       " 'деревня Аро',\n",
       " 'деревня Батово',\n",
       " 'деревня Бегуницы',\n",
       " 'деревня Белогорка',\n",
       " 'деревня Большая Вруда',\n",
       " 'деревня Большая Пустомержа',\n",
       " 'деревня Большие Колпаны',\n",
       " 'деревня Большое Рейзино',\n",
       " 'деревня Большой Сабск',\n",
       " 'деревня Бор',\n",
       " 'деревня Борисова Грива',\n",
       " 'деревня Ваганово',\n",
       " 'деревня Вартемяги',\n",
       " 'деревня Вахнова Кара',\n",
       " 'деревня Выскатка',\n",
       " 'деревня Гарболово',\n",
       " 'деревня Глинка',\n",
       " 'деревня Горбунки',\n",
       " 'деревня Гостилицы',\n",
       " 'деревня Заклинье',\n",
       " 'деревня Заневка',\n",
       " 'деревня Зимитицы',\n",
       " 'деревня Извара',\n",
       " 'деревня Иссад',\n",
       " 'деревня Калитино',\n",
       " 'деревня Кальтино',\n",
       " 'деревня Камышовка',\n",
       " 'деревня Каськово',\n",
       " 'деревня Келози',\n",
       " 'деревня Кипень',\n",
       " 'деревня Кисельня',\n",
       " 'деревня Колтуши',\n",
       " 'деревня Коркино',\n",
       " 'деревня Котлы',\n",
       " 'деревня Кривко',\n",
       " 'деревня Кудрово',\n",
       " 'деревня Кузьмолово',\n",
       " 'деревня Курковицы',\n",
       " 'деревня Куровицы',\n",
       " 'деревня Куттузи',\n",
       " 'деревня Лаврики',\n",
       " 'деревня Лаголово',\n",
       " 'деревня Лампово',\n",
       " 'деревня Лесколово',\n",
       " 'деревня Лопухинка',\n",
       " 'деревня Лупполово',\n",
       " 'деревня Малая Романовка',\n",
       " 'деревня Малое Верево',\n",
       " 'деревня Малое Карлино',\n",
       " 'деревня Малые Колпаны',\n",
       " 'деревня Мануйлово',\n",
       " 'деревня Меньково',\n",
       " 'деревня Мины',\n",
       " 'деревня Мистолово',\n",
       " 'деревня Ненимяки',\n",
       " 'деревня Нижние Осельки',\n",
       " 'деревня Нижняя',\n",
       " 'деревня Низино',\n",
       " 'деревня Новое Девяткино',\n",
       " 'деревня Новолисино',\n",
       " 'деревня Нурма',\n",
       " 'деревня Оржицы',\n",
       " 'деревня Парицы',\n",
       " 'деревня Пельгора',\n",
       " 'деревня Пеники',\n",
       " 'деревня Пижма',\n",
       " 'деревня Пикколово',\n",
       " 'деревня Пудомяги',\n",
       " 'деревня Пустынка',\n",
       " 'деревня Пчева',\n",
       " 'деревня Рабитицы',\n",
       " 'деревня Разбегаево',\n",
       " 'деревня Раздолье',\n",
       " 'деревня Разметелево',\n",
       " 'деревня Рапполово',\n",
       " 'деревня Реброво',\n",
       " 'деревня Русско',\n",
       " 'деревня Сижно',\n",
       " 'деревня Снегирёвка',\n",
       " 'деревня Старая',\n",
       " 'деревня Старая Пустошь',\n",
       " 'деревня Старое Хинколово',\n",
       " 'деревня Старополье',\n",
       " 'деревня Старосиверская',\n",
       " 'деревня Старые Бегуницы',\n",
       " 'деревня Суоранда',\n",
       " 'деревня Сяськелево',\n",
       " 'деревня Тарасово',\n",
       " 'деревня Терпилицы',\n",
       " 'деревня Тихковицы',\n",
       " 'деревня Тойворово',\n",
       " 'деревня Торосово',\n",
       " 'деревня Торошковичи',\n",
       " 'деревня Трубников Бор',\n",
       " 'деревня Фалилеево',\n",
       " 'деревня Фёдоровское',\n",
       " 'деревня Хапо-Ое',\n",
       " 'деревня Хязельки',\n",
       " 'деревня Чудской Бор',\n",
       " 'деревня Шпаньково',\n",
       " 'деревня Щеглово',\n",
       " 'деревня Юкки',\n",
       " 'деревня Ялгино',\n",
       " 'деревня Яльгелево',\n",
       " 'деревня Ям-Тесово',\n",
       " 'коттеджный поселок Кивеннапа Север',\n",
       " 'коттеджный поселок Счастье',\n",
       " 'коттеджный посёлок Лесное',\n",
       " 'поселок Аннино',\n",
       " 'поселок Барышево',\n",
       " 'поселок Бугры',\n",
       " 'поселок Возрождение',\n",
       " 'поселок Войсковицы',\n",
       " 'поселок Володарское',\n",
       " 'поселок Гаврилово',\n",
       " 'поселок Гарболово',\n",
       " 'поселок Гладкое',\n",
       " 'поселок Глажево',\n",
       " 'поселок Глебычево',\n",
       " 'поселок Гончарово',\n",
       " 'поселок Громово',\n",
       " 'поселок Дружноселье',\n",
       " 'поселок Елизаветино',\n",
       " 'поселок Жилгородок',\n",
       " 'поселок Жилпосёлок',\n",
       " 'поселок Житково',\n",
       " 'поселок Заводской',\n",
       " 'поселок Запорожское',\n",
       " 'поселок Зимитицы',\n",
       " 'поселок Ильичёво',\n",
       " 'поселок Калитино',\n",
       " 'поселок Каложицы',\n",
       " 'поселок Кингисеппский',\n",
       " 'поселок Кирпичное',\n",
       " 'поселок Кобралово',\n",
       " 'поселок Кобринское',\n",
       " 'поселок Коммунары',\n",
       " 'поселок Коробицыно',\n",
       " 'поселок Котельский',\n",
       " 'поселок Красная Долина',\n",
       " 'поселок Красносельское',\n",
       " 'поселок Лесное',\n",
       " 'поселок Лисий Нос',\n",
       " 'поселок Лукаши',\n",
       " 'поселок Любань',\n",
       " 'поселок Мельниково',\n",
       " 'поселок Мичуринское',\n",
       " 'поселок Молодцово',\n",
       " 'поселок Мурино',\n",
       " 'поселок Новый Свет',\n",
       " 'поселок Новый Учхоз',\n",
       " 'поселок Оредеж',\n",
       " 'поселок Пансионат Зелёный Бор',\n",
       " 'поселок Первомайское',\n",
       " 'поселок Перово',\n",
       " 'поселок Петровское',\n",
       " 'поселок Победа',\n",
       " 'поселок Поляны',\n",
       " 'поселок Почап',\n",
       " 'поселок Починок',\n",
       " 'поселок Пушное',\n",
       " 'поселок Пчевжа',\n",
       " 'поселок Рабитицы',\n",
       " 'поселок Романовка',\n",
       " 'поселок Ромашки',\n",
       " 'поселок Рябово',\n",
       " 'поселок Севастьяново',\n",
       " 'поселок Селезнёво',\n",
       " 'поселок Сельцо',\n",
       " 'поселок Семиозерье',\n",
       " 'поселок Семрино',\n",
       " 'поселок Серебрянский',\n",
       " 'поселок Совхозный',\n",
       " 'поселок Старая Малукса',\n",
       " 'поселок Стеклянный',\n",
       " 'поселок Сумино',\n",
       " 'поселок Суходолье',\n",
       " 'поселок Тельмана',\n",
       " 'поселок Терволово',\n",
       " 'поселок Торковичи',\n",
       " 'поселок Тёсово-4',\n",
       " 'поселок Углово',\n",
       " 'поселок Усть-Луга',\n",
       " 'поселок Ушаки',\n",
       " 'поселок Цвелодубово',\n",
       " 'поселок Цвылёво',\n",
       " 'поселок городского типа Большая Ижора',\n",
       " 'поселок городского типа Вырица',\n",
       " 'поселок городского типа Дружная Горка',\n",
       " 'поселок городского типа Дубровка',\n",
       " 'поселок городского типа Ефимовский',\n",
       " 'поселок городского типа Кондратьево',\n",
       " 'поселок городского типа Красный Бор',\n",
       " 'поселок городского типа Кузьмоловский',\n",
       " 'поселок городского типа Лебяжье',\n",
       " 'поселок городского типа Лесогорский',\n",
       " 'поселок городского типа Назия',\n",
       " 'поселок городского типа Никольский',\n",
       " 'поселок городского типа Приладожский',\n",
       " 'поселок городского типа Рахья',\n",
       " 'поселок городского типа Рощино',\n",
       " 'поселок городского типа Рябово',\n",
       " 'поселок городского типа Синявино',\n",
       " 'поселок городского типа Советский',\n",
       " 'поселок городского типа Токсово',\n",
       " 'поселок городского типа Форносово',\n",
       " 'поселок городского типа имени Свердлова',\n",
       " 'поселок станции Вещево',\n",
       " 'поселок станции Корнево',\n",
       " 'поселок станции Лужайка',\n",
       " 'поселок станции Приветнинское',\n",
       " 'посёлок Александровская',\n",
       " 'посёлок Алексеевка',\n",
       " 'посёлок Аннино',\n",
       " 'посёлок Белоостров',\n",
       " 'посёлок Бугры',\n",
       " 'посёлок Возрождение',\n",
       " 'посёлок Войскорово',\n",
       " 'посёлок Высокоключевой',\n",
       " 'посёлок Гаврилово',\n",
       " 'посёлок Дзержинского',\n",
       " 'посёлок Жилгородок',\n",
       " 'посёлок Ильичёво',\n",
       " 'посёлок Кикерино',\n",
       " 'посёлок Кобралово',\n",
       " 'посёлок Коробицыно',\n",
       " 'посёлок Левашово',\n",
       " 'посёлок Ленинское',\n",
       " 'посёлок Лисий Нос',\n",
       " 'посёлок Мельниково',\n",
       " 'посёлок Металлострой',\n",
       " 'посёлок Мичуринское',\n",
       " 'посёлок Молодёжное',\n",
       " 'посёлок Мурино',\n",
       " 'посёлок Мыза-Ивановка',\n",
       " 'посёлок Новогорелово',\n",
       " 'посёлок Новый Свет',\n",
       " 'посёлок Пансионат Зелёный Бор',\n",
       " 'посёлок Парголово',\n",
       " 'посёлок Перово',\n",
       " 'посёлок Песочный',\n",
       " 'посёлок Петро-Славянка',\n",
       " 'посёлок Петровское',\n",
       " 'посёлок Платформа 69-й километр',\n",
       " 'посёлок Плодовое',\n",
       " 'посёлок Плоское',\n",
       " 'посёлок Победа',\n",
       " 'посёлок Поляны',\n",
       " 'посёлок Понтонный',\n",
       " 'посёлок Пригородный',\n",
       " 'посёлок Пудость',\n",
       " 'посёлок Репино',\n",
       " 'посёлок Ропша',\n",
       " 'посёлок Сапёрное',\n",
       " 'посёлок Сапёрный',\n",
       " 'посёлок Сосново',\n",
       " 'посёлок Старая Малукса',\n",
       " 'посёлок Стеклянный',\n",
       " 'посёлок Стрельна',\n",
       " 'посёлок Суйда',\n",
       " 'посёлок Сумино',\n",
       " 'посёлок Тельмана',\n",
       " 'посёлок Терволово',\n",
       " 'посёлок Торфяное',\n",
       " 'посёлок Усть-Ижора',\n",
       " 'посёлок Усть-Луга',\n",
       " 'посёлок Форт Красная Горка',\n",
       " 'посёлок Шугозеро',\n",
       " 'посёлок Шушары',\n",
       " 'посёлок Щеглово',\n",
       " 'посёлок городского типа Важины',\n",
       " 'посёлок городского типа Вознесенье',\n",
       " 'посёлок городского типа Вырица',\n",
       " 'посёлок городского типа Красный Бор',\n",
       " 'посёлок городского типа Кузнечное',\n",
       " 'посёлок городского типа Кузьмоловский',\n",
       " 'посёлок городского типа Лебяжье',\n",
       " 'посёлок городского типа Мга',\n",
       " 'посёлок городского типа Павлово',\n",
       " 'посёлок городского типа Рощино',\n",
       " 'посёлок городского типа Рябово',\n",
       " 'посёлок городского типа Сиверский',\n",
       " 'посёлок городского типа Тайцы',\n",
       " 'посёлок городского типа Токсово',\n",
       " 'посёлок городского типа Ульяновка',\n",
       " 'посёлок городского типа Форносово',\n",
       " 'посёлок городского типа имени Морозова',\n",
       " 'посёлок городского типа имени Свердлова',\n",
       " 'посёлок при железнодорожной станции Вещево',\n",
       " 'посёлок при железнодорожной станции Приветнинское',\n",
       " 'посёлок станции Громово',\n",
       " 'посёлок станции Свирь',\n",
       " 'садоводческое некоммерческое товарищество Лесная Поляна',\n",
       " 'садовое товарищество Новая Ропша',\n",
       " 'садовое товарищество Приладожский',\n",
       " 'садовое товарищество Рахья',\n",
       " 'садовое товарищество Садко',\n",
       " 'село Копорье',\n",
       " 'село Никольское',\n",
       " 'село Павлово',\n",
       " 'село Паша',\n",
       " 'село Путилово',\n",
       " 'село Рождествено',\n",
       " 'село Русско-Высоцкое',\n",
       " 'село Старая Ладога',\n",
       " 'село Шум',\n",
       " nan]"
      ]
     },
     "execution_count": 41,
     "metadata": {},
     "output_type": "execute_result"
    }
   ],
   "source": [
    "list(data['locality_name'].sort_values().unique())"
   ]
  },
  {
   "cell_type": "code",
   "execution_count": 42,
   "metadata": {},
   "outputs": [],
   "source": [
    "data['locality_name'] = data['locality_name'].str.replace('ё','е')"
   ]
  },
  {
   "cell_type": "code",
   "execution_count": 43,
   "metadata": {},
   "outputs": [],
   "source": [
    "word_list = [ 'поселок при железнодорожной станции ', 'деревня ',  'коттеджный поселок ', \\\n",
    "             'поселок городского типа имени ', 'поселок городского типа ',  'поселок станции ' , \\\n",
    "             'садоводческое некоммерческое товарищество ',  'садовое товарищество ',\\\n",
    "             'городской поселок ', 'поселок ','село ']\n",
    "for word in word_list:\n",
    "    data['locality_name'] = data['locality_name'].str.replace(word,'')"
   ]
  },
  {
   "cell_type": "code",
   "execution_count": 44,
   "metadata": {},
   "outputs": [
    {
     "data": {
      "text/plain": [
       "['Агалатово',\n",
       " 'Александровская',\n",
       " 'Алексеевка',\n",
       " 'Аннино',\n",
       " 'Аро',\n",
       " 'Барышево',\n",
       " 'Батово',\n",
       " 'Бегуницы',\n",
       " 'Белогорка',\n",
       " 'Белоостров',\n",
       " 'Бокситогорск',\n",
       " 'Большая Вруда',\n",
       " 'Большая Ижора',\n",
       " 'Большая Пустомержа',\n",
       " 'Большие Колпаны',\n",
       " 'Большое Рейзино',\n",
       " 'Большой Сабск',\n",
       " 'Бор',\n",
       " 'Борисова Грива',\n",
       " 'Бугры',\n",
       " 'Будогощь',\n",
       " 'Ваганово',\n",
       " 'Важины',\n",
       " 'Вартемяги',\n",
       " 'Вахнова Кара',\n",
       " 'Вещево',\n",
       " 'Виллози',\n",
       " 'Вознесенье',\n",
       " 'Возрождение',\n",
       " 'Войсковицы',\n",
       " 'Войскорово',\n",
       " 'Володарское',\n",
       " 'Волосово',\n",
       " 'Волхов',\n",
       " 'Всеволожск',\n",
       " 'Выборг',\n",
       " 'Вырица',\n",
       " 'Выскатка',\n",
       " 'Высокоключевой',\n",
       " 'Высоцк',\n",
       " 'Гаврилово',\n",
       " 'Гарболово',\n",
       " 'Гатчина',\n",
       " 'Гладкое',\n",
       " 'Глажево',\n",
       " 'Глебычево',\n",
       " 'Глинка',\n",
       " 'Гончарово',\n",
       " 'Горбунки',\n",
       " 'Гостилицы',\n",
       " 'Громово',\n",
       " 'Дзержинского',\n",
       " 'Дружная Горка',\n",
       " 'Дружноселье',\n",
       " 'Дубровка',\n",
       " 'Елизаветино',\n",
       " 'Ефимовский',\n",
       " 'Жилгородок',\n",
       " 'Жилпоселок',\n",
       " 'Житково',\n",
       " 'Заводской',\n",
       " 'Заклинье',\n",
       " 'Заневка',\n",
       " 'Запорожское',\n",
       " 'Зеленогорск',\n",
       " 'Зимитицы',\n",
       " 'Ивангород',\n",
       " 'Извара',\n",
       " 'Ильичево',\n",
       " 'Иссад',\n",
       " 'Калитино',\n",
       " 'Каложицы',\n",
       " 'Кальтино',\n",
       " 'Каменногорск',\n",
       " 'Камышовка',\n",
       " 'Каськово',\n",
       " 'Келози',\n",
       " 'Кивеннапа Север',\n",
       " 'Кикерино',\n",
       " 'Кингисепп',\n",
       " 'Кингисеппский',\n",
       " 'Кипень',\n",
       " 'Кириши',\n",
       " 'Кировск',\n",
       " 'Кирпичное',\n",
       " 'Кисельня',\n",
       " 'Кобралово',\n",
       " 'Кобринское',\n",
       " 'Колпино',\n",
       " 'Колтуши',\n",
       " 'Коммунар',\n",
       " 'Коммунары',\n",
       " 'Кондратьево',\n",
       " 'Копорье',\n",
       " 'Коркино',\n",
       " 'Корнево',\n",
       " 'Коробицыно',\n",
       " 'Котельский',\n",
       " 'Котлы',\n",
       " 'Красная Долина',\n",
       " 'Красное Село',\n",
       " 'Красносельское',\n",
       " 'Красный Бор',\n",
       " 'Кривко',\n",
       " 'Кронштадт',\n",
       " 'Кудрово',\n",
       " 'Кузнечное',\n",
       " 'Кузьмолово',\n",
       " 'Кузьмоловский',\n",
       " 'Курковицы',\n",
       " 'Куровицы',\n",
       " 'Куттузи',\n",
       " 'Лаврики',\n",
       " 'Лаголово',\n",
       " 'Лампово',\n",
       " 'Лебяжье',\n",
       " 'Левашово',\n",
       " 'Ленинское',\n",
       " 'Лесколово',\n",
       " 'Лесная Поляна',\n",
       " 'Лесное',\n",
       " 'Лесогорский',\n",
       " 'Лисий Нос',\n",
       " 'Лодейное Поле',\n",
       " 'Ломоносов',\n",
       " 'Лопухинка',\n",
       " 'Луга',\n",
       " 'Лужайка',\n",
       " 'Лукаши',\n",
       " 'Лупполово',\n",
       " 'Любань',\n",
       " 'Малая Романовка',\n",
       " 'Малое Верево',\n",
       " 'Малое Карлино',\n",
       " 'Малые Колпаны',\n",
       " 'Мануйлово',\n",
       " 'Мга',\n",
       " 'Мельниково',\n",
       " 'Меньково',\n",
       " 'Металлострой',\n",
       " 'Мины',\n",
       " 'Мистолово',\n",
       " 'Мичуринское',\n",
       " 'Молодежное',\n",
       " 'Молодцово',\n",
       " 'Морозова',\n",
       " 'Мурино',\n",
       " 'Мыза-Ивановка',\n",
       " 'Назия',\n",
       " 'Ненимяки',\n",
       " 'Нижние Осельки',\n",
       " 'Нижняя',\n",
       " 'Низино',\n",
       " 'Никольский',\n",
       " 'Никольское',\n",
       " 'Новая Ладога',\n",
       " 'Новая Ропша',\n",
       " 'Новогорелово',\n",
       " 'Новое Девяткино',\n",
       " 'Новолисино',\n",
       " 'Новоселье',\n",
       " 'Новый Свет',\n",
       " 'Новый Учхоз',\n",
       " 'Нурма',\n",
       " 'Оредеж',\n",
       " 'Оржицы',\n",
       " 'Отрадное',\n",
       " 'Павлово',\n",
       " 'Павловск',\n",
       " 'Пансионат Зеленый Бор',\n",
       " 'Парголово',\n",
       " 'Парицы',\n",
       " 'Паша',\n",
       " 'Пельгора',\n",
       " 'Пеники',\n",
       " 'Первомайское',\n",
       " 'Перово',\n",
       " 'Песочный',\n",
       " 'Петергоф',\n",
       " 'Петро-Славянка',\n",
       " 'Петровское',\n",
       " 'Пижма',\n",
       " 'Пикалево',\n",
       " 'Пикколово',\n",
       " 'Платформа 69-й километр',\n",
       " 'Плодовое',\n",
       " 'Плоское',\n",
       " 'Победа',\n",
       " 'Подпорожье',\n",
       " 'Поляны',\n",
       " 'Понтонный',\n",
       " 'Почап',\n",
       " 'Починок',\n",
       " 'Приветнинское',\n",
       " 'Пригородный',\n",
       " 'Приладожский',\n",
       " 'Приморск',\n",
       " 'Приозерск',\n",
       " 'Пудомяги',\n",
       " 'Пудость',\n",
       " 'Пустынка',\n",
       " 'Путилово',\n",
       " 'Пушкин',\n",
       " 'Пушное',\n",
       " 'Пчева',\n",
       " 'Пчевжа',\n",
       " 'Рабитицы',\n",
       " 'Разбегаево',\n",
       " 'Раздолье',\n",
       " 'Разметелево',\n",
       " 'Рапполово',\n",
       " 'Рахья',\n",
       " 'Реброво',\n",
       " 'Репино',\n",
       " 'Рождествено',\n",
       " 'Романовка',\n",
       " 'Ромашки',\n",
       " 'Ропша',\n",
       " 'Рощино',\n",
       " 'Русско',\n",
       " 'Русско-Высоцкое',\n",
       " 'Рябово',\n",
       " 'Садко',\n",
       " 'Санкт-Петербург',\n",
       " 'Саперное',\n",
       " 'Саперный',\n",
       " 'Свердлова',\n",
       " 'Светогорск',\n",
       " 'Свирь',\n",
       " 'Свирьстрой',\n",
       " 'Севастьяново',\n",
       " 'Селезнево',\n",
       " 'Сельцо',\n",
       " 'Семиозерье',\n",
       " 'Семрино',\n",
       " 'Серебрянский',\n",
       " 'Сертолово',\n",
       " 'Сестрорецк',\n",
       " 'Сиверский',\n",
       " 'Сижно',\n",
       " 'Синявино',\n",
       " 'Сланцы',\n",
       " 'Снегиревка',\n",
       " 'Советский',\n",
       " 'Совхозный',\n",
       " 'Сосново',\n",
       " 'Сосновый Бор',\n",
       " 'Старая',\n",
       " 'Старая Ладога',\n",
       " 'Старая Малукса',\n",
       " 'Старая Пустошь',\n",
       " 'Старое Хинколово',\n",
       " 'Старополье',\n",
       " 'Старосиверская',\n",
       " 'Старые Бегуницы',\n",
       " 'Стеклянный',\n",
       " 'Стрельна',\n",
       " 'Суйда',\n",
       " 'Сумино',\n",
       " 'Суоранда',\n",
       " 'Суходолье',\n",
       " 'Счастье',\n",
       " 'Сяськелево',\n",
       " 'Сясьстрой',\n",
       " 'Тайцы',\n",
       " 'Тарасово',\n",
       " 'Тельмана',\n",
       " 'Терволово',\n",
       " 'Терпилицы',\n",
       " 'Тесово-4',\n",
       " 'Тихвин',\n",
       " 'Тихковицы',\n",
       " 'Тойворово',\n",
       " 'Токсово',\n",
       " 'Торковичи',\n",
       " 'Торосово',\n",
       " 'Торошковичи',\n",
       " 'Торфяное',\n",
       " 'Тосно',\n",
       " 'Трубников Бор',\n",
       " 'Углово',\n",
       " 'Ульяновка',\n",
       " 'Усть-Ижора',\n",
       " 'Усть-Луга',\n",
       " 'Ушаки',\n",
       " 'Фалилеево',\n",
       " 'Федоровское',\n",
       " 'Форносово',\n",
       " 'Форт Красная Горка',\n",
       " 'Хапо-Ое',\n",
       " 'Хязельки',\n",
       " 'Цвелодубово',\n",
       " 'Цвылево',\n",
       " 'Чудской Бор',\n",
       " 'Шлиссельбург',\n",
       " 'Шпаньково',\n",
       " 'Шугозеро',\n",
       " 'Шум',\n",
       " 'Шушары',\n",
       " 'Щеглово',\n",
       " 'Юкки',\n",
       " 'Ялгино',\n",
       " 'Яльгелево',\n",
       " 'Ям-Тесово',\n",
       " 'Янино-1',\n",
       " nan]"
      ]
     },
     "execution_count": 44,
     "metadata": {},
     "output_type": "execute_result"
    }
   ],
   "source": [
    "list(data['locality_name'].sort_values().unique())"
   ]
  },
  {
   "cell_type": "markdown",
   "metadata": {},
   "source": [
    "#### Найдем выбивающиеся значения.\n",
    "В столбце ceiling_height указана высота потолков 25 м и 32 м. \n",
    "\n",
    "Логично предположить, что на самом деле это вещественные значения: 2.5 м и 3.2 м.\n",
    "\n",
    "Вероятно, в некоторых местах съехала точка: 14, 20, 24, 25, 26, 32 м и тп. Заменим значения выше 10 на значение, кратное 10, чтобы исправить ошибку."
   ]
  },
  {
   "cell_type": "code",
   "execution_count": 45,
   "metadata": {},
   "outputs": [
    {
     "data": {
      "text/plain": [
       "[1.0,\n",
       " 1.2,\n",
       " 1.75,\n",
       " 2.0,\n",
       " 2.2,\n",
       " 2.25,\n",
       " 2.3,\n",
       " 2.34,\n",
       " 2.4,\n",
       " 2.45,\n",
       " 2.46,\n",
       " 2.47,\n",
       " 2.48,\n",
       " 2.49,\n",
       " 2.5,\n",
       " 2.51,\n",
       " 2.52,\n",
       " 2.53,\n",
       " 2.54,\n",
       " 2.55,\n",
       " 2.56,\n",
       " 2.57,\n",
       " 2.58,\n",
       " 2.59,\n",
       " 2.6,\n",
       " 2.61,\n",
       " 2.62,\n",
       " 2.63,\n",
       " 2.64,\n",
       " 2.65,\n",
       " 2.66,\n",
       " 2.67,\n",
       " 2.68,\n",
       " 2.69,\n",
       " 2.7,\n",
       " 2.71,\n",
       " 2.72,\n",
       " 2.73,\n",
       " 2.74,\n",
       " 2.75,\n",
       " 2.76,\n",
       " 2.77,\n",
       " 2.78,\n",
       " 2.79,\n",
       " 2.8,\n",
       " 2.81,\n",
       " 2.82,\n",
       " 2.83,\n",
       " 2.84,\n",
       " 2.85,\n",
       " 2.86,\n",
       " 2.87,\n",
       " 2.88,\n",
       " 2.89,\n",
       " 2.9,\n",
       " 2.91,\n",
       " 2.92,\n",
       " 2.93,\n",
       " 2.94,\n",
       " 2.95,\n",
       " 2.96,\n",
       " 2.97,\n",
       " 2.98,\n",
       " 2.99,\n",
       " 3.0,\n",
       " 3.01,\n",
       " 3.02,\n",
       " 3.03,\n",
       " 3.04,\n",
       " 3.05,\n",
       " 3.06,\n",
       " 3.07,\n",
       " 3.08,\n",
       " 3.09,\n",
       " 3.1,\n",
       " 3.11,\n",
       " 3.12,\n",
       " 3.13,\n",
       " 3.14,\n",
       " 3.15,\n",
       " 3.16,\n",
       " 3.17,\n",
       " 3.18,\n",
       " 3.2,\n",
       " 3.21,\n",
       " 3.22,\n",
       " 3.23,\n",
       " 3.24,\n",
       " 3.25,\n",
       " 3.26,\n",
       " 3.27,\n",
       " 3.28,\n",
       " 3.29,\n",
       " 3.3,\n",
       " 3.31,\n",
       " 3.32,\n",
       " 3.33,\n",
       " 3.34,\n",
       " 3.35,\n",
       " 3.36,\n",
       " 3.37,\n",
       " 3.38,\n",
       " 3.39,\n",
       " 3.4,\n",
       " 3.42,\n",
       " 3.43,\n",
       " 3.44,\n",
       " 3.45,\n",
       " 3.46,\n",
       " 3.47,\n",
       " 3.48,\n",
       " 3.49,\n",
       " 3.5,\n",
       " 3.51,\n",
       " 3.52,\n",
       " 3.53,\n",
       " 3.54,\n",
       " 3.55,\n",
       " 3.56,\n",
       " 3.57,\n",
       " 3.58,\n",
       " 3.59,\n",
       " 3.6,\n",
       " 3.62,\n",
       " 3.63,\n",
       " 3.65,\n",
       " 3.66,\n",
       " 3.67,\n",
       " 3.68,\n",
       " 3.69,\n",
       " 3.7,\n",
       " 3.75,\n",
       " 3.76,\n",
       " 3.78,\n",
       " 3.8,\n",
       " 3.82,\n",
       " 3.83,\n",
       " 3.84,\n",
       " 3.85,\n",
       " 3.86,\n",
       " 3.87,\n",
       " 3.88,\n",
       " 3.9,\n",
       " 3.93,\n",
       " 3.95,\n",
       " 3.98,\n",
       " 4.0,\n",
       " 4.06,\n",
       " 4.1,\n",
       " 4.14,\n",
       " 4.15,\n",
       " 4.19,\n",
       " 4.2,\n",
       " 4.25,\n",
       " 4.3,\n",
       " 4.37,\n",
       " 4.4,\n",
       " 4.45,\n",
       " 4.5,\n",
       " 4.65,\n",
       " 4.7,\n",
       " 4.8,\n",
       " 4.9,\n",
       " 5.0,\n",
       " 5.2,\n",
       " 5.3,\n",
       " 5.5,\n",
       " 5.6,\n",
       " 5.8,\n",
       " 6.0,\n",
       " 8.0,\n",
       " 8.3,\n",
       " 10.3,\n",
       " 14.0,\n",
       " 20.0,\n",
       " 22.6,\n",
       " 24.0,\n",
       " 25.0,\n",
       " 26.0,\n",
       " 27.0,\n",
       " 27.5,\n",
       " 32.0,\n",
       " 100.0,\n",
       " nan]"
      ]
     },
     "execution_count": 45,
     "metadata": {},
     "output_type": "execute_result"
    }
   ],
   "source": [
    "list(data['ceiling_height'].sort_values().unique())"
   ]
  },
  {
   "cell_type": "code",
   "execution_count": 46,
   "metadata": {
    "scrolled": true
   },
   "outputs": [
    {
     "name": "stdout",
     "output_type": "stream",
     "text": [
      "2.65\n"
     ]
    }
   ],
   "source": [
    "data.loc[data['ceiling_height'] >10, 'ceiling_height'] = data['ceiling_height']/10\n",
    "data['ceiling_height'] = data['ceiling_height'].round(2)\n",
    "print(data['ceiling_height'].median())\n",
    "#видим, что медианное значение - 2,65. Отбросив выбивающиеся значения мы не потеряем в качестве данных."
   ]
  },
  {
   "cell_type": "markdown",
   "metadata": {},
   "source": [
    "Посмотрим распределение аномальных значений, ччтобы увидеть распределение значений и отсечь аномалии. \n",
    "\n",
    "На графике видно, что большая чать значений находится в диапахоне между 2,5 - 3, есть также много значений около 3,\n",
    "далее данные выглядят как вброс.\n",
    "Свыше 3,6 и ниже 2,1 можно отбрасывать значения, заменив их на медианное.\n",
    "Медианным же значением заполним пропуски."
   ]
  },
  {
   "cell_type": "code",
   "execution_count": 47,
   "metadata": {},
   "outputs": [
    {
     "data": {
      "image/png": "[encoded data removed]",
      "text/plain": [
       "<Figure size 432x288 with 1 Axes>"
      ]
     },
     "metadata": {
      "needs_background": "light"
     },
     "output_type": "display_data"
    }
   ],
   "source": [
    "data['ceiling_height'].hist(bins=100, range=(1,5))\n",
    "plt.title('Распределение значений')\n",
    "plt.xlabel('Высота, м')\n",
    "plt.ylabel('Количество')\n",
    "plt.show()"
   ]
  },
  {
   "cell_type": "code",
   "execution_count": 48,
   "metadata": {},
   "outputs": [
    {
     "data": {
      "text/plain": [
       "[2.2,\n",
       " 2.25,\n",
       " 2.26,\n",
       " 2.3,\n",
       " 2.34,\n",
       " 2.4,\n",
       " 2.45,\n",
       " 2.46,\n",
       " 2.47,\n",
       " 2.48,\n",
       " 2.49,\n",
       " 2.5,\n",
       " 2.51,\n",
       " 2.52,\n",
       " 2.53,\n",
       " 2.54,\n",
       " 2.55,\n",
       " 2.56,\n",
       " 2.57,\n",
       " 2.58,\n",
       " 2.59,\n",
       " 2.6,\n",
       " 2.61,\n",
       " 2.62,\n",
       " 2.63,\n",
       " 2.64,\n",
       " 2.65,\n",
       " 2.66,\n",
       " 2.67,\n",
       " 2.68,\n",
       " 2.69,\n",
       " 2.7,\n",
       " 2.71,\n",
       " 2.72,\n",
       " 2.73,\n",
       " 2.74,\n",
       " 2.75,\n",
       " 2.76,\n",
       " 2.77,\n",
       " 2.78,\n",
       " 2.79,\n",
       " 2.8,\n",
       " 2.81,\n",
       " 2.82,\n",
       " 2.83,\n",
       " 2.84,\n",
       " 2.85,\n",
       " 2.86,\n",
       " 2.87,\n",
       " 2.88,\n",
       " 2.89,\n",
       " 2.9,\n",
       " 2.91,\n",
       " 2.92,\n",
       " 2.93,\n",
       " 2.94,\n",
       " 2.95,\n",
       " 2.96,\n",
       " 2.97,\n",
       " 2.98,\n",
       " 2.99,\n",
       " 3.0,\n",
       " 3.01,\n",
       " 3.02,\n",
       " 3.03,\n",
       " 3.04,\n",
       " 3.05,\n",
       " 3.06,\n",
       " 3.07,\n",
       " 3.08,\n",
       " 3.09,\n",
       " 3.1,\n",
       " 3.11,\n",
       " 3.12,\n",
       " 3.13,\n",
       " 3.14,\n",
       " 3.15,\n",
       " 3.16,\n",
       " 3.17,\n",
       " 3.18,\n",
       " 3.2,\n",
       " 3.21,\n",
       " 3.22,\n",
       " 3.23,\n",
       " 3.24,\n",
       " 3.25,\n",
       " 3.26,\n",
       " 3.27,\n",
       " 3.28,\n",
       " 3.29,\n",
       " 3.3,\n",
       " 3.31,\n",
       " 3.32,\n",
       " 3.33,\n",
       " 3.34,\n",
       " 3.35,\n",
       " 3.36,\n",
       " 3.37,\n",
       " 3.38,\n",
       " 3.39,\n",
       " 3.4,\n",
       " 3.42,\n",
       " 3.43,\n",
       " 3.44,\n",
       " 3.45,\n",
       " 3.46,\n",
       " 3.47,\n",
       " 3.48,\n",
       " 3.49,\n",
       " 3.5,\n",
       " 3.51,\n",
       " 3.52,\n",
       " 3.53,\n",
       " 3.54,\n",
       " 3.55,\n",
       " 3.56,\n",
       " 3.57,\n",
       " 3.58,\n",
       " 3.59,\n",
       " 3.6,\n",
       " nan]"
      ]
     },
     "execution_count": 48,
     "metadata": {},
     "output_type": "execute_result"
    }
   ],
   "source": [
    "data.loc[data['ceiling_height']> 3.6,'ceiling_height'] = data['ceiling_height'].median()\n",
    "data.loc[data['ceiling_height'] <2.1, 'ceiling_height'] = data['ceiling_height'].median()\n",
    "#data['ceiling_height'] = data['ceiling_height'].fillna(value=data['ceiling_height'].median())\n",
    "\n",
    "list(data['ceiling_height'].sort_values().unique())"
   ]
  },
  {
   "cell_type": "markdown",
   "metadata": {},
   "source": [
    "Посмотрим на распределение значений в графе дней размещения, цены, комнат и общей площади.\n",
    "На графике видно, что у цены и у дней экспозиции очень большие хвосты, а акже, что есть аномальные значения по площади и по количеству комнат."
   ]
  },
  {
   "cell_type": "code",
   "execution_count": 49,
   "metadata": {},
   "outputs": [
    {
     "data": {
      "image/png": "[encoded data removed]",
      "text/plain": [
       "<Figure size 432x288 with 1 Axes>"
      ]
     },
     "metadata": {
      "needs_background": "light"
     },
     "output_type": "display_data"
    },
    {
     "data": {
      "image/png": "[encoded data removed]",
      "text/plain": [
       "<Figure size 432x288 with 1 Axes>"
      ]
     },
     "metadata": {
      "needs_background": "light"
     },
     "output_type": "display_data"
    },
    {
     "data": {
      "image/png": "[encoded data removed]",
      "text/plain": [
       "<Figure size 432x288 with 1 Axes>"
      ]
     },
     "metadata": {
      "needs_background": "light"
     },
     "output_type": "display_data"
    },
    {
     "data": {
      "image/png": "[encoded data removed]",
      "text/plain": [
       "<Figure size 432x288 with 1 Axes>"
      ]
     },
     "metadata": {
      "needs_background": "light"
     },
     "output_type": "display_data"
    }
   ],
   "source": [
    "columns = ['days_exposition','last_price','rooms','total_area']\n",
    "def show_hist(columns_name):\n",
    "    for column in columns_name:\n",
    "        data[column].hist(bins=100, range=(data[column].min(),data[column].max()))\n",
    "        plt.title(column)\n",
    "        plt.show()       \n",
    "show_hist(columns)"
   ]
  },
  {
   "cell_type": "markdown",
   "metadata": {},
   "source": [
    "Посмотрим количество аномальных значенийб медианное значение и количество пропусков.\n",
    "Видим, что пропуски есть только у дней, но пропуск может означать, что помещение ещё не сдали. \n",
    "Избавимся от выбивающихся ззначений."
   ]
  },
  {
   "cell_type": "code",
   "execution_count": 50,
   "metadata": {},
   "outputs": [
    {
     "name": "stdout",
     "output_type": "stream",
     "text": [
      "Количество значений для столбца Дни экспозции свыше 1400: 19\n",
      "Количество значений для столбца Последняя цена свыше 1.5 млн: 15\n",
      "Количество значений для столбца Комнаты свыше 7: 31\n",
      "Количество значений для столбца общая площадь свыше 400: 23\n"
     ]
    }
   ],
   "source": [
    "print('Количество значений для столбца Дни экспозции свыше 1400:',data.query('days_exposition > 1400')['floor'].count())\n",
    "print('Количество значений для столбца Последняя цена свыше 1.5 млн:',data.query('last_price > 150000000')['floor'].count())\n",
    "print('Количество значений для столбца Комнаты свыше 7:',data.query('rooms > 7')['floor'].count())\n",
    "print('Количество значений для столбца общая площадь свыше 400:',data.query('total_area > 400')['floor'].count())"
   ]
  },
  {
   "cell_type": "code",
   "execution_count": 51,
   "metadata": {},
   "outputs": [
    {
     "name": "stdout",
     "output_type": "stream",
     "text": [
      "Количество пропусков в стобце days_exposition:3181\n",
      "Количество пропусков в стобце last_price:0\n",
      "Количество пропусков в стобце rooms:0\n",
      "Количество пропусков в стобце total_area:0\n",
      "\n",
      "Медианное значение days_exposition:95.0\n",
      "Медианное значение last_price:4650000.0\n",
      "Медианное значение rooms:2.0\n",
      "Медианное значение total_area:52.0\n"
     ]
    }
   ],
   "source": [
    "for column in columns:\n",
    "    print(f'Количество пропусков в стобце {column}:{data[column].isna().sum()}')\n",
    "print()\n",
    "for column in columns:\n",
    "    print(f'Медианное значение {column}:{data[column].median()}')"
   ]
  },
  {
   "cell_type": "code",
   "execution_count": 52,
   "metadata": {},
   "outputs": [
    {
     "name": "stdout",
     "output_type": "stream",
     "text": [
      "<class 'pandas.core.frame.DataFrame'>\n",
      "RangeIndex: 23699 entries, 0 to 23698\n",
      "Data columns (total 22 columns):\n",
      " #   Column                Non-Null Count  Dtype         \n",
      "---  ------                --------------  -----         \n",
      " 0   total_images          23699 non-null  int64         \n",
      " 1   last_price            23699 non-null  int32         \n",
      " 2   total_area            23699 non-null  float64       \n",
      " 3   first_day_exposition  23699 non-null  datetime64[ns]\n",
      " 4   rooms                 23699 non-null  int64         \n",
      " 5   ceiling_height        14504 non-null  float64       \n",
      " 6   floors_total          23613 non-null  float64       \n",
      " 7   living_area           21796 non-null  float64       \n",
      " 8   floor                 23699 non-null  int64         \n",
      " 9   is_apartment          23699 non-null  bool          \n",
      " 10  studio                23699 non-null  bool          \n",
      " 11  open_plan             23699 non-null  bool          \n",
      " 12  kitchen_area          21421 non-null  float64       \n",
      " 13  balcony               23699 non-null  float64       \n",
      " 14  locality_name         23650 non-null  object        \n",
      " 15  airports_nearest      18157 non-null  float64       \n",
      " 16  city_centers_nearest  18180 non-null  float64       \n",
      " 17  parks_around3000      23699 non-null  float64       \n",
      " 18  parks_nearest         8079 non-null   float64       \n",
      " 19  ponds_around3000      23699 non-null  float64       \n",
      " 20  ponds_nearest         9110 non-null   float64       \n",
      " 21  days_exposition       20518 non-null  float64       \n",
      "dtypes: bool(3), datetime64[ns](1), float64(13), int32(1), int64(3), object(1)\n",
      "memory usage: 3.4+ MB\n"
     ]
    }
   ],
   "source": [
    "data.info()"
   ]
  },
  {
   "cell_type": "code",
   "execution_count": 53,
   "metadata": {
    "scrolled": true
   },
   "outputs": [],
   "source": [
    "data = data.query('(days_exposition.isna() | days_exposition < 1401) and last_price<150000001 and rooms<=7 and total_area<401',engine='python')"
   ]
  },
  {
   "cell_type": "code",
   "execution_count": 54,
   "metadata": {},
   "outputs": [
    {
     "name": "stdout",
     "output_type": "stream",
     "text": [
      "Медианное значение days_exposition:95.0\n",
      "Медианное значение last_price:4600000.0\n",
      "Медианное значение rooms:2.0\n",
      "Медианное значение total_area:52.0\n"
     ]
    }
   ],
   "source": [
    "#data.loc[data['days_exposition']> 1400,'days_exposition'] = data['days_exposition'].median()\n",
    "#data.loc[data['last_price']> 150000000,'last_price'] = data['last_price'].median()\n",
    "#data.loc[data['rooms']> 7,'rooms'] = data['rooms'].median()\n",
    "#data.loc[data['total_area']> 400,'total_area'] = data['total_area'].median()\n",
    "for column in columns:\n",
    "    print(f'Медианное значение {column}:{data[column].median()}')"
   ]
  },
  {
   "cell_type": "markdown",
   "metadata": {},
   "source": [
    "## Посчитайте и добавьте в таблицу новые столбцы"
   ]
  },
  {
   "cell_type": "markdown",
   "metadata": {},
   "source": [
    "Для расчёта новых стобцов применим функцию (для расчета типа этажа квартиры; значения — «первый», «последний», «другой»).\n",
    "Для расчёта и записи других - цена одного квадратного метра; день недели публикации объявления (0 — понедельник, 1 — вторник и так далее); месяц публикации объявления;год публикации объявления; расстояние до центра города в километрах (в м) - расчёты. \n",
    "Новую таблицу выведем на экран."
   ]
  },
  {
   "cell_type": "code",
   "execution_count": 55,
   "metadata": {},
   "outputs": [],
   "source": [
    "def floor_typing(row):\n",
    "        if row['floor'] == 1:\n",
    "            return 'первый'\n",
    "        elif row['floor'] ==  row['floors_total']:\n",
    "            return 'последний'\n",
    "        else:\n",
    "            return 'другой'\n",
    "\n",
    "data['floor_type'] = data.apply(floor_typing, axis=1)"
   ]
  },
  {
   "cell_type": "markdown",
   "metadata": {},
   "source": [
    "Добавим новые столбцы и построим таблицу."
   ]
  },
  {
   "cell_type": "markdown",
   "metadata": {},
   "source": [
    "<h4>Комментарий студента</h4>\n",
    "Спасибо - так элегантнее, исправила.\n",
    "</div>"
   ]
  },
  {
   "cell_type": "code",
   "execution_count": 56,
   "metadata": {},
   "outputs": [
    {
     "data": {
      "text/html": [
       "<div>\n",
       "<style scoped>\n",
       "    .dataframe tbody tr th:only-of-type {\n",
       "        vertical-align: middle;\n",
       "    }\n",
       "\n",
       "    .dataframe tbody tr th {\n",
       "        vertical-align: top;\n",
       "    }\n",
       "\n",
       "    .dataframe thead th {\n",
       "        text-align: right;\n",
       "    }\n",
       "</style>\n",
       "<table border=\"1\" class=\"dataframe\">\n",
       "  <thead>\n",
       "    <tr style=\"text-align: right;\">\n",
       "      <th></th>\n",
       "      <th>total_images</th>\n",
       "      <th>last_price</th>\n",
       "      <th>total_area</th>\n",
       "      <th>first_day_exposition</th>\n",
       "      <th>rooms</th>\n",
       "      <th>ceiling_height</th>\n",
       "      <th>floors_total</th>\n",
       "      <th>living_area</th>\n",
       "      <th>floor</th>\n",
       "      <th>is_apartment</th>\n",
       "      <th>...</th>\n",
       "      <th>ponds_around3000</th>\n",
       "      <th>ponds_nearest</th>\n",
       "      <th>days_exposition</th>\n",
       "      <th>floor_type</th>\n",
       "      <th>meter_price</th>\n",
       "      <th>week_day</th>\n",
       "      <th>month</th>\n",
       "      <th>year</th>\n",
       "      <th>distance_in_km</th>\n",
       "      <th>last_price_mil</th>\n",
       "    </tr>\n",
       "  </thead>\n",
       "  <tbody>\n",
       "    <tr>\n",
       "      <th>0</th>\n",
       "      <td>20</td>\n",
       "      <td>13000000</td>\n",
       "      <td>108.00</td>\n",
       "      <td>2019-03-07</td>\n",
       "      <td>3</td>\n",
       "      <td>2.70</td>\n",
       "      <td>16.0</td>\n",
       "      <td>51.00</td>\n",
       "      <td>8</td>\n",
       "      <td>False</td>\n",
       "      <td>...</td>\n",
       "      <td>2.0</td>\n",
       "      <td>755.0</td>\n",
       "      <td>NaN</td>\n",
       "      <td>другой</td>\n",
       "      <td>120370.37</td>\n",
       "      <td>3</td>\n",
       "      <td>3</td>\n",
       "      <td>2019</td>\n",
       "      <td>16.0</td>\n",
       "      <td>13.000</td>\n",
       "    </tr>\n",
       "    <tr>\n",
       "      <th>1</th>\n",
       "      <td>7</td>\n",
       "      <td>3350000</td>\n",
       "      <td>40.40</td>\n",
       "      <td>2018-12-04</td>\n",
       "      <td>1</td>\n",
       "      <td>NaN</td>\n",
       "      <td>11.0</td>\n",
       "      <td>18.60</td>\n",
       "      <td>1</td>\n",
       "      <td>False</td>\n",
       "      <td>...</td>\n",
       "      <td>0.0</td>\n",
       "      <td>NaN</td>\n",
       "      <td>81.0</td>\n",
       "      <td>первый</td>\n",
       "      <td>82920.79</td>\n",
       "      <td>1</td>\n",
       "      <td>12</td>\n",
       "      <td>2018</td>\n",
       "      <td>19.0</td>\n",
       "      <td>3.350</td>\n",
       "    </tr>\n",
       "    <tr>\n",
       "      <th>2</th>\n",
       "      <td>10</td>\n",
       "      <td>5196000</td>\n",
       "      <td>56.00</td>\n",
       "      <td>2015-08-20</td>\n",
       "      <td>2</td>\n",
       "      <td>NaN</td>\n",
       "      <td>5.0</td>\n",
       "      <td>34.30</td>\n",
       "      <td>4</td>\n",
       "      <td>False</td>\n",
       "      <td>...</td>\n",
       "      <td>2.0</td>\n",
       "      <td>574.0</td>\n",
       "      <td>558.0</td>\n",
       "      <td>другой</td>\n",
       "      <td>92785.71</td>\n",
       "      <td>3</td>\n",
       "      <td>8</td>\n",
       "      <td>2015</td>\n",
       "      <td>14.0</td>\n",
       "      <td>5.196</td>\n",
       "    </tr>\n",
       "    <tr>\n",
       "      <th>3</th>\n",
       "      <td>0</td>\n",
       "      <td>64900000</td>\n",
       "      <td>159.00</td>\n",
       "      <td>2015-07-24</td>\n",
       "      <td>3</td>\n",
       "      <td>NaN</td>\n",
       "      <td>14.0</td>\n",
       "      <td>NaN</td>\n",
       "      <td>9</td>\n",
       "      <td>False</td>\n",
       "      <td>...</td>\n",
       "      <td>3.0</td>\n",
       "      <td>234.0</td>\n",
       "      <td>424.0</td>\n",
       "      <td>другой</td>\n",
       "      <td>408176.10</td>\n",
       "      <td>4</td>\n",
       "      <td>7</td>\n",
       "      <td>2015</td>\n",
       "      <td>7.0</td>\n",
       "      <td>64.900</td>\n",
       "    </tr>\n",
       "    <tr>\n",
       "      <th>4</th>\n",
       "      <td>2</td>\n",
       "      <td>10000000</td>\n",
       "      <td>100.00</td>\n",
       "      <td>2018-06-19</td>\n",
       "      <td>2</td>\n",
       "      <td>3.03</td>\n",
       "      <td>14.0</td>\n",
       "      <td>32.00</td>\n",
       "      <td>13</td>\n",
       "      <td>False</td>\n",
       "      <td>...</td>\n",
       "      <td>1.0</td>\n",
       "      <td>48.0</td>\n",
       "      <td>121.0</td>\n",
       "      <td>другой</td>\n",
       "      <td>100000.00</td>\n",
       "      <td>1</td>\n",
       "      <td>6</td>\n",
       "      <td>2018</td>\n",
       "      <td>8.0</td>\n",
       "      <td>10.000</td>\n",
       "    </tr>\n",
       "    <tr>\n",
       "      <th>5</th>\n",
       "      <td>10</td>\n",
       "      <td>2890000</td>\n",
       "      <td>30.40</td>\n",
       "      <td>2018-09-10</td>\n",
       "      <td>1</td>\n",
       "      <td>NaN</td>\n",
       "      <td>12.0</td>\n",
       "      <td>14.40</td>\n",
       "      <td>5</td>\n",
       "      <td>False</td>\n",
       "      <td>...</td>\n",
       "      <td>0.0</td>\n",
       "      <td>NaN</td>\n",
       "      <td>55.0</td>\n",
       "      <td>другой</td>\n",
       "      <td>95065.79</td>\n",
       "      <td>0</td>\n",
       "      <td>9</td>\n",
       "      <td>2018</td>\n",
       "      <td>NaN</td>\n",
       "      <td>2.890</td>\n",
       "    </tr>\n",
       "    <tr>\n",
       "      <th>6</th>\n",
       "      <td>6</td>\n",
       "      <td>3700000</td>\n",
       "      <td>37.30</td>\n",
       "      <td>2017-11-02</td>\n",
       "      <td>1</td>\n",
       "      <td>NaN</td>\n",
       "      <td>26.0</td>\n",
       "      <td>10.60</td>\n",
       "      <td>6</td>\n",
       "      <td>False</td>\n",
       "      <td>...</td>\n",
       "      <td>0.0</td>\n",
       "      <td>NaN</td>\n",
       "      <td>155.0</td>\n",
       "      <td>другой</td>\n",
       "      <td>99195.71</td>\n",
       "      <td>3</td>\n",
       "      <td>11</td>\n",
       "      <td>2017</td>\n",
       "      <td>19.0</td>\n",
       "      <td>3.700</td>\n",
       "    </tr>\n",
       "    <tr>\n",
       "      <th>7</th>\n",
       "      <td>5</td>\n",
       "      <td>7915000</td>\n",
       "      <td>71.60</td>\n",
       "      <td>2019-04-18</td>\n",
       "      <td>2</td>\n",
       "      <td>NaN</td>\n",
       "      <td>24.0</td>\n",
       "      <td>NaN</td>\n",
       "      <td>22</td>\n",
       "      <td>False</td>\n",
       "      <td>...</td>\n",
       "      <td>0.0</td>\n",
       "      <td>NaN</td>\n",
       "      <td>NaN</td>\n",
       "      <td>другой</td>\n",
       "      <td>110544.69</td>\n",
       "      <td>3</td>\n",
       "      <td>4</td>\n",
       "      <td>2019</td>\n",
       "      <td>12.0</td>\n",
       "      <td>7.915</td>\n",
       "    </tr>\n",
       "    <tr>\n",
       "      <th>8</th>\n",
       "      <td>20</td>\n",
       "      <td>2900000</td>\n",
       "      <td>33.16</td>\n",
       "      <td>2018-05-23</td>\n",
       "      <td>1</td>\n",
       "      <td>NaN</td>\n",
       "      <td>27.0</td>\n",
       "      <td>15.43</td>\n",
       "      <td>26</td>\n",
       "      <td>False</td>\n",
       "      <td>...</td>\n",
       "      <td>0.0</td>\n",
       "      <td>NaN</td>\n",
       "      <td>189.0</td>\n",
       "      <td>другой</td>\n",
       "      <td>87454.76</td>\n",
       "      <td>2</td>\n",
       "      <td>5</td>\n",
       "      <td>2018</td>\n",
       "      <td>NaN</td>\n",
       "      <td>2.900</td>\n",
       "    </tr>\n",
       "    <tr>\n",
       "      <th>9</th>\n",
       "      <td>18</td>\n",
       "      <td>5400000</td>\n",
       "      <td>61.00</td>\n",
       "      <td>2017-02-26</td>\n",
       "      <td>3</td>\n",
       "      <td>2.50</td>\n",
       "      <td>9.0</td>\n",
       "      <td>43.60</td>\n",
       "      <td>7</td>\n",
       "      <td>False</td>\n",
       "      <td>...</td>\n",
       "      <td>0.0</td>\n",
       "      <td>NaN</td>\n",
       "      <td>289.0</td>\n",
       "      <td>другой</td>\n",
       "      <td>88524.59</td>\n",
       "      <td>6</td>\n",
       "      <td>2</td>\n",
       "      <td>2017</td>\n",
       "      <td>15.0</td>\n",
       "      <td>5.400</td>\n",
       "    </tr>\n",
       "  </tbody>\n",
       "</table>\n",
       "<p>10 rows × 29 columns</p>\n",
       "</div>"
      ],
      "text/plain": [
       "   total_images  last_price  total_area first_day_exposition  rooms  \\\n",
       "0            20    13000000      108.00           2019-03-07      3   \n",
       "1             7     3350000       40.40           2018-12-04      1   \n",
       "2            10     5196000       56.00           2015-08-20      2   \n",
       "3             0    64900000      159.00           2015-07-24      3   \n",
       "4             2    10000000      100.00           2018-06-19      2   \n",
       "5            10     2890000       30.40           2018-09-10      1   \n",
       "6             6     3700000       37.30           2017-11-02      1   \n",
       "7             5     7915000       71.60           2019-04-18      2   \n",
       "8            20     2900000       33.16           2018-05-23      1   \n",
       "9            18     5400000       61.00           2017-02-26      3   \n",
       "\n",
       "   ceiling_height  floors_total  living_area  floor  is_apartment  ...  \\\n",
       "0            2.70          16.0        51.00      8         False  ...   \n",
       "1             NaN          11.0        18.60      1         False  ...   \n",
       "2             NaN           5.0        34.30      4         False  ...   \n",
       "3             NaN          14.0          NaN      9         False  ...   \n",
       "4            3.03          14.0        32.00     13         False  ...   \n",
       "5             NaN          12.0        14.40      5         False  ...   \n",
       "6             NaN          26.0        10.60      6         False  ...   \n",
       "7             NaN          24.0          NaN     22         False  ...   \n",
       "8             NaN          27.0        15.43     26         False  ...   \n",
       "9            2.50           9.0        43.60      7         False  ...   \n",
       "\n",
       "   ponds_around3000  ponds_nearest  days_exposition  floor_type meter_price  \\\n",
       "0               2.0          755.0              NaN      другой   120370.37   \n",
       "1               0.0            NaN             81.0      первый    82920.79   \n",
       "2               2.0          574.0            558.0      другой    92785.71   \n",
       "3               3.0          234.0            424.0      другой   408176.10   \n",
       "4               1.0           48.0            121.0      другой   100000.00   \n",
       "5               0.0            NaN             55.0      другой    95065.79   \n",
       "6               0.0            NaN            155.0      другой    99195.71   \n",
       "7               0.0            NaN              NaN      другой   110544.69   \n",
       "8               0.0            NaN            189.0      другой    87454.76   \n",
       "9               0.0            NaN            289.0      другой    88524.59   \n",
       "\n",
       "   week_day  month  year  distance_in_km  last_price_mil  \n",
       "0         3      3  2019            16.0          13.000  \n",
       "1         1     12  2018            19.0           3.350  \n",
       "2         3      8  2015            14.0           5.196  \n",
       "3         4      7  2015             7.0          64.900  \n",
       "4         1      6  2018             8.0          10.000  \n",
       "5         0      9  2018             NaN           2.890  \n",
       "6         3     11  2017            19.0           3.700  \n",
       "7         3      4  2019            12.0           7.915  \n",
       "8         2      5  2018             NaN           2.900  \n",
       "9         6      2  2017            15.0           5.400  \n",
       "\n",
       "[10 rows x 29 columns]"
      ]
     },
     "execution_count": 56,
     "metadata": {},
     "output_type": "execute_result"
    }
   ],
   "source": [
    "data['meter_price'] = round(data['last_price']/ data['total_area'],2)\n",
    "data['week_day'] = data['first_day_exposition'].dt.weekday \n",
    "data['month'] = data['first_day_exposition'].dt.month\n",
    "data['year'] = data['first_day_exposition'].dt.year\n",
    "data['distance_in_km'] = round(data['city_centers_nearest']/1000,0)\n",
    "#Добавим значения в млн, для более легкого визуального предсьтавления данных\n",
    "data['last_price_mil'] = round(data['last_price']/1000000,3)\n",
    "data.head(10)"
   ]
  },
  {
   "cell_type": "markdown",
   "metadata": {},
   "source": [
    "### Проведите исследовательский анализ данных"
   ]
  },
  {
   "cell_type": "markdown",
   "metadata": {},
   "source": [
    "#### Изучим следующие параметры объектов:\n",
    "- общая площадь (total_area — общая площадь квартиры в квадратных метрах (м²))\n",
    "- жилая площадь (living_area — жилая площадь в квадратных метрах (м²))\n",
    "- площадь кухни (kitchen_area — площадь кухни в квадратных метрах (м²))\n",
    "- цена объекта (last_price — цена на момент снятия с публикации)\n",
    "- количество комнат (rooms — число комнат)\n",
    "- высота потолков (ceiling_height — высота потолков (м))\n",
    "- этаж квартиры (floor — этаж)\n",
    "- тип этажа квартиры (floor_type «первый», «последний», «другой»)\n",
    "- общее количество этажей в доме(floors_total — всего этажей в доме)\n",
    "- расстояние до центра города в метрах (city_centers_nearest — расстояние до центра города (м))\n",
    "- расстояние до ближайшего аэропорта (airports_nearest — расстояние до ближайшего аэропорта в метрах (м))\n",
    "- расстояние до ближайшего парка (parks_nearest — расстояние до ближайшего парка (м))\n",
    "- день и месяц публикации объявления (week_day и month)\n",
    "\n",
    "\n",
    "Построим отдельные гистограммы для каждого из этих параметров, а также другие важные характеристики."
   ]
  },
  {
   "cell_type": "code",
   "execution_count": 57,
   "metadata": {
    "scrolled": false
   },
   "outputs": [
    {
     "data": {
      "image/png": "[encoded data removed]",
      "text/plain": [
       "<Figure size 432x288 with 1 Axes>"
      ]
     },
     "metadata": {
      "needs_background": "light"
     },
     "output_type": "display_data"
    },
    {
     "name": "stdout",
     "output_type": "stream",
     "text": [
      "count    23619.000000\n",
      "mean        59.548460\n",
      "std         31.406545\n",
      "min         12.000000\n",
      "25%         40.000000\n",
      "50%         52.000000\n",
      "75%         69.300000\n",
      "max        400.000000\n",
      "Name: total_area, dtype: float64\n",
      "\n",
      "Медианное значение total_area:52.0\n",
      "\n",
      "Среднее значение total_area:59.54845971463634\n",
      "\n",
      "Количество пропусков в стобце total_area:0\n"
     ]
    },
    {
     "data": {
      "image/png": "[encoded data removed]",
      "text/plain": [
       "<Figure size 432x288 with 1 Axes>"
      ]
     },
     "metadata": {
      "needs_background": "light"
     },
     "output_type": "display_data"
    },
    {
     "name": "stdout",
     "output_type": "stream",
     "text": [
      "count    21724.000000\n",
      "mean        34.022901\n",
      "std         19.992245\n",
      "min          2.000000\n",
      "25%         18.600000\n",
      "50%         30.000000\n",
      "75%         42.200000\n",
      "max        255.700000\n",
      "Name: living_area, dtype: float64\n",
      "\n",
      "Медианное значение living_area:30.0\n",
      "\n",
      "Среднее значение living_area:34.02290100865371\n",
      "\n",
      "Количество пропусков в стобце living_area:1895\n"
     ]
    },
    {
     "data": {
      "image/png": "[encoded data removed]",
      "text/plain": [
       "<Figure size 432x288 with 1 Axes>"
      ]
     },
     "metadata": {
      "needs_background": "light"
     },
     "output_type": "display_data"
    },
    {
     "name": "stdout",
     "output_type": "stream",
     "text": [
      "count    21350.000000\n",
      "mean        10.509787\n",
      "std          5.706466\n",
      "min          1.300000\n",
      "25%          7.000000\n",
      "50%          9.100000\n",
      "75%         12.000000\n",
      "max        107.000000\n",
      "Name: kitchen_area, dtype: float64\n",
      "\n",
      "Медианное значение kitchen_area:9.1\n",
      "\n",
      "Среднее значение kitchen_area:10.509787353630005\n",
      "\n",
      "Количество пропусков в стобце kitchen_area:2269\n"
     ]
    },
    {
     "data": {
      "image/png": "[encoded data removed]",
      "text/plain": [
       "<Figure size 432x288 with 1 Axes>"
      ]
     },
     "metadata": {
      "needs_background": "light"
     },
     "output_type": "display_data"
    },
    {
     "name": "stdout",
     "output_type": "stream",
     "text": [
      "count    2.361900e+04\n",
      "mean     6.279525e+06\n",
      "std      7.015772e+06\n",
      "min      1.219000e+04\n",
      "25%      3.400000e+06\n",
      "50%      4.600000e+06\n",
      "75%      6.750000e+06\n",
      "max      1.480000e+08\n",
      "Name: last_price, dtype: float64\n",
      "\n",
      "Медианное значение last_price:4600000.0\n",
      "\n",
      "Среднее значение last_price:6279525.037173462\n",
      "\n",
      "Количество пропусков в стобце last_price:0\n"
     ]
    },
    {
     "data": {
      "image/png": "[encoded data removed]",
      "text/plain": [
       "<Figure size 432x288 with 1 Axes>"
      ]
     },
     "metadata": {
      "needs_background": "light"
     },
     "output_type": "display_data"
    },
    {
     "name": "stdout",
     "output_type": "stream",
     "text": [
      "count    23619.000000\n",
      "mean         2.055760\n",
      "std          1.028174\n",
      "min          0.000000\n",
      "25%          1.000000\n",
      "50%          2.000000\n",
      "75%          3.000000\n",
      "max          7.000000\n",
      "Name: rooms, dtype: float64\n",
      "\n",
      "Медианное значение rooms:2.0\n",
      "\n",
      "Среднее значение rooms:2.055760193064905\n",
      "\n",
      "Количество пропусков в стобце rooms:0\n"
     ]
    },
    {
     "data": {
      "image/png": "[encoded data removed]",
      "text/plain": [
       "<Figure size 432x288 with 1 Axes>"
      ]
     },
     "metadata": {
      "needs_background": "light"
     },
     "output_type": "display_data"
    },
    {
     "name": "stdout",
     "output_type": "stream",
     "text": [
      "count    14449.000000\n",
      "mean         2.707636\n",
      "std          0.228767\n",
      "min          2.200000\n",
      "25%          2.510000\n",
      "50%          2.650000\n",
      "75%          2.800000\n",
      "max          3.600000\n",
      "Name: ceiling_height, dtype: float64\n",
      "\n",
      "Медианное значение ceiling_height:2.65\n",
      "\n",
      "Среднее значение ceiling_height:2.70763582254823\n",
      "\n",
      "Количество пропусков в стобце ceiling_height:9170\n"
     ]
    },
    {
     "data": {
      "image/png": "[encoded data removed]",
      "text/plain": [
       "<Figure size 432x288 with 1 Axes>"
      ]
     },
     "metadata": {
      "needs_background": "light"
     },
     "output_type": "display_data"
    },
    {
     "name": "stdout",
     "output_type": "stream",
     "text": [
      "count    23619.000000\n",
      "mean         5.895296\n",
      "std          4.888034\n",
      "min          1.000000\n",
      "25%          2.000000\n",
      "50%          4.000000\n",
      "75%          8.000000\n",
      "max         33.000000\n",
      "Name: floor, dtype: float64\n",
      "\n",
      "Медианное значение floor:4.0\n",
      "\n",
      "Среднее значение floor:5.89529615987129\n",
      "\n",
      "Количество пропусков в стобце floor:0\n"
     ]
    },
    {
     "data": {
      "image/png": "[encoded data removed]",
      "text/plain": [
       "<Figure size 432x288 with 1 Axes>"
      ]
     },
     "metadata": {
      "needs_background": "light"
     },
     "output_type": "display_data"
    },
    {
     "name": "stdout",
     "output_type": "stream",
     "text": [
      "count      23619\n",
      "unique         3\n",
      "top       другой\n",
      "freq       17402\n",
      "Name: floor_type, dtype: object\n",
      "\n",
      "\n",
      "\n",
      "Тип данных колонки floor_type не позволяет произвести вычисления\n"
     ]
    },
    {
     "data": {
      "image/png": "[encoded data removed]",
      "text/plain": [
       "<Figure size 432x288 with 1 Axes>"
      ]
     },
     "metadata": {
      "needs_background": "light"
     },
     "output_type": "display_data"
    },
    {
     "name": "stdout",
     "output_type": "stream",
     "text": [
      "count    23533.000000\n",
      "mean        10.685845\n",
      "std          6.600118\n",
      "min          1.000000\n",
      "25%          5.000000\n",
      "50%          9.000000\n",
      "75%         16.000000\n",
      "max         60.000000\n",
      "Name: floors_total, dtype: float64\n",
      "\n",
      "Медианное значение floors_total:9.0\n",
      "\n",
      "Среднее значение floors_total:10.685845408575192\n",
      "\n",
      "Количество пропусков в стобце floors_total:86\n"
     ]
    },
    {
     "data": {
      "image/png": "[encoded data removed]",
      "text/plain": [
       "<Figure size 432x288 with 1 Axes>"
      ]
     },
     "metadata": {
      "needs_background": "light"
     },
     "output_type": "display_data"
    },
    {
     "name": "stdout",
     "output_type": "stream",
     "text": [
      "count    18103.000000\n",
      "mean     14218.721759\n",
      "std       8601.316116\n",
      "min        181.000000\n",
      "25%       9283.000000\n",
      "50%      13118.000000\n",
      "75%      16298.000000\n",
      "max      65968.000000\n",
      "Name: city_centers_nearest, dtype: float64\n",
      "\n",
      "Медианное значение city_centers_nearest:13118.0\n",
      "\n",
      "Среднее значение city_centers_nearest:14218.721758824504\n",
      "\n",
      "Количество пропусков в стобце city_centers_nearest:5516\n"
     ]
    },
    {
     "data": {
      "image/png": "[encoded data removed]",
      "text/plain": [
       "<Figure size 432x288 with 1 Axes>"
      ]
     },
     "metadata": {
      "needs_background": "light"
     },
     "output_type": "display_data"
    },
    {
     "name": "stdout",
     "output_type": "stream",
     "text": [
      "count    18082.000000\n",
      "mean     28804.150868\n",
      "std      12642.897396\n",
      "min          0.000000\n",
      "25%      18573.000000\n",
      "50%      26757.000000\n",
      "75%      37288.000000\n",
      "max      84869.000000\n",
      "Name: airports_nearest, dtype: float64\n",
      "\n",
      "Медианное значение airports_nearest:26757.0\n",
      "\n",
      "Среднее значение airports_nearest:28804.150868266785\n",
      "\n",
      "Количество пропусков в стобце airports_nearest:5537\n"
     ]
    },
    {
     "data": {
      "image/png": "[encoded data removed]",
      "text/plain": [
       "<Figure size 432x288 with 1 Axes>"
      ]
     },
     "metadata": {
      "needs_background": "light"
     },
     "output_type": "display_data"
    },
    {
     "name": "stdout",
     "output_type": "stream",
     "text": [
      "count    8023.000000\n",
      "mean      490.878973\n",
      "std       342.256898\n",
      "min         1.000000\n",
      "25%       288.000000\n",
      "50%       455.000000\n",
      "75%       612.000000\n",
      "max      3190.000000\n",
      "Name: parks_nearest, dtype: float64\n",
      "\n",
      "Медианное значение parks_nearest:455.0\n",
      "\n",
      "Среднее значение parks_nearest:490.8789729527608\n",
      "\n",
      "Количество пропусков в стобце parks_nearest:15596\n"
     ]
    },
    {
     "data": {
      "image/png": "[encoded data removed]",
      "text/plain": [
       "<Figure size 432x288 with 1 Axes>"
      ]
     },
     "metadata": {
      "needs_background": "light"
     },
     "output_type": "display_data"
    },
    {
     "name": "stdout",
     "output_type": "stream",
     "text": [
      "count    23619.000000\n",
      "mean         2.569880\n",
      "std          1.789254\n",
      "min          0.000000\n",
      "25%          1.000000\n",
      "50%          3.000000\n",
      "75%          4.000000\n",
      "max          6.000000\n",
      "Name: week_day, dtype: float64\n",
      "\n",
      "Медианное значение week_day:3.0\n",
      "\n",
      "Среднее значение week_day:2.569880181210043\n",
      "\n",
      "Количество пропусков в стобце week_day:0\n"
     ]
    },
    {
     "data": {
      "image/png": "[encoded data removed]",
      "text/plain": [
       "<Figure size 432x288 with 1 Axes>"
      ]
     },
     "metadata": {
      "needs_background": "light"
     },
     "output_type": "display_data"
    },
    {
     "name": "stdout",
     "output_type": "stream",
     "text": [
      "count    23619.000000\n",
      "mean         6.401838\n",
      "std          3.489961\n",
      "min          1.000000\n",
      "25%          3.000000\n",
      "50%          6.000000\n",
      "75%         10.000000\n",
      "max         12.000000\n",
      "Name: month, dtype: float64\n",
      "\n",
      "Медианное значение month:6.0\n",
      "\n",
      "Среднее значение month:6.401837503704645\n",
      "\n",
      "Количество пропусков в стобце month:0\n"
     ]
    }
   ],
   "source": [
    "columns_to_describe = ['total_area', 'living_area', 'kitchen_area','last_price', 'rooms', 'ceiling_height','floor',\n",
    "                      'floor_type', 'floors_total', 'city_centers_nearest','airports_nearest', 'parks_nearest',  \n",
    "                       'week_day', 'month']\n",
    "\n",
    "def columns_description (col_list):\n",
    "    for column in col_list:\n",
    "        try:\n",
    "            data[column].hist(bins=100, range=(data[column].min(),data[column].max()))\n",
    "            plt.title(column)\n",
    "            plt.show()  \n",
    "            print(data[column].describe())\n",
    "            print()\n",
    "            print(f'Медианное значение {column}:{data[column].median()}')\n",
    "            print()\n",
    "            print(f'Среднее значение {column}:{data[column].mean()}')\n",
    "            print()\n",
    "            print(f'Количество пропусков в стобце {column}:{data[column].isna().sum()}')\n",
    "        except:\n",
    "            print()\n",
    "            print()\n",
    "            print(f'Тип данных колонки {column} не позволяет произвести вычисления')\n",
    "columns_description(columns_to_describe)             "
   ]
  },
  {
   "cell_type": "markdown",
   "metadata": {},
   "source": [
    "Видим, что, несмотря на разброс значений, выстраивается общее представление о типичной квартире, которую выставляют на сдачу.\n",
    "Общая площадь сдваваемых квартир - обычно от 40 до 68.5 квадратных метров. Жилая площадь - от 18.6 до 42.3б а площадь кухни - от 7 до 12 квадратных метров. \n",
    "Обычно продаются по цене от 3.4 и 6.7 млн. \n",
    "В объявлениях чаще фигурируют квартиры от 1 до 3х  комнат. Высота потолка - от 2.52 до 2 8 метров, этаж - от 2 до 8ой. Как правило, квартиры находятся в 9 - 16 км от центра и 18-37 км от аэропорта и 288-612 метров от центра. Сдают обычно с марта по октябрь\n",
    "График для типа этажа не очень наглядный, посмотрим его отдельно."
   ]
  },
  {
   "cell_type": "code",
   "execution_count": 58,
   "metadata": {},
   "outputs": [
    {
     "data": {
      "image/png": "[encoded data removed]",
      "text/plain": [
       "<Figure size 432x288 with 1 Axes>"
      ]
     },
     "metadata": {
      "needs_background": "light"
     },
     "output_type": "display_data"
    }
   ],
   "source": [
    "data.groupby('floor_type')['last_price'].mean().plot.bar()\n",
    "plt.show()"
   ]
  },
  {
   "cell_type": "markdown",
   "metadata": {},
   "source": [
    "Видим, что чаще сдаются квартиры на последнем и другом этаже."
   ]
  },
  {
   "cell_type": "markdown",
   "metadata": {},
   "source": [
    "#### Изучение времени продажи квартиры."
   ]
  },
  {
   "cell_type": "code",
   "execution_count": 59,
   "metadata": {
    "scrolled": false
   },
   "outputs": [
    {
     "data": {
      "image/png": "[encoded data removed]",
      "text/plain": [
       "<Figure size 432x288 with 1 Axes>"
      ]
     },
     "metadata": {
      "needs_background": "light"
     },
     "output_type": "display_data"
    },
    {
     "name": "stdout",
     "output_type": "stream",
     "text": [
      "count    20452.000000\n",
      "mean       179.370282\n",
      "std        215.815906\n",
      "min          1.000000\n",
      "25%         45.000000\n",
      "50%         95.000000\n",
      "75%        231.000000\n",
      "max       1396.000000\n",
      "Name: days_exposition, dtype: float64\n",
      "\n",
      "Медианное значение days_exposition:95.0\n",
      "\n",
      "Среднее значение days_exposition:179.37028163504792\n",
      "\n",
      "Количество пропусков в стобце days_exposition:3167\n"
     ]
    },
    {
     "data": {
      "image/png": "[encoded data removed]",
      "text/plain": [
       "<Figure size 432x288 with 1 Axes>"
      ]
     },
     "metadata": {
      "needs_background": "light"
     },
     "output_type": "display_data"
    }
   ],
   "source": [
    "decsription_row = ['days_exposition']\n",
    "columns_description(decsription_row)\n",
    "\n",
    "data.boxplot(['days_exposition'], vert=False,showfliers=False)\n",
    "plt.title('Распределение значений дней')\n",
    "plt.show()"
   ]
  },
  {
   "cell_type": "markdown",
   "metadata": {},
   "source": [
    "Чтобы изучить время продажи квартиры, можно посмотреть столбец days_exposition.\n",
    "Этот параметр показывает, сколько дней было размещено каждое объявление.\n",
    "Поо гистограмме и по описанию видно, что основные значение находятся в итнтервале от 45 до 206 дней.\n",
    "Среднее значение - 154 дня, медианное - 95. \n",
    "Получается, что у большинства пользователей на продажу уходит от 1,5 месяца до 7 месяцев. \n",
    "Продаюа до этого времени - редкость, но случается, продаже выше этой отметки - долгие продажи.\n",
    "Причем в стобце 3181 пропусков, что может значить, что это также непроданные квартиры.\n"
   ]
  },
  {
   "cell_type": "markdown",
   "metadata": {},
   "source": [
    "#### Какие факторы больше всего влияют на общую (полную) стоимость объекта?"
   ]
  },
  {
   "cell_type": "markdown",
   "metadata": {},
   "source": [
    "Изучим данные по цене. "
   ]
  },
  {
   "cell_type": "code",
   "execution_count": 60,
   "metadata": {
    "scrolled": true
   },
   "outputs": [
    {
     "name": "stdout",
     "output_type": "stream",
     "text": [
      "count    23619.000000\n",
      "mean         6.279525\n",
      "std          7.015772\n",
      "min          0.012000\n",
      "25%          3.400000\n",
      "50%          4.600000\n",
      "75%          6.750000\n",
      "max        148.000000\n",
      "Name: last_price_mil, dtype: float64\n"
     ]
    },
    {
     "data": {
      "image/png": "[encoded data removed]",
      "text/plain": [
       "<Figure size 432x288 with 1 Axes>"
      ]
     },
     "metadata": {
      "needs_background": "light"
     },
     "output_type": "display_data"
    }
   ],
   "source": [
    "data.boxplot(['last_price_mil'], vert=False,showfliers=False)\n",
    "print(data['last_price_mil'].describe())"
   ]
  },
  {
   "cell_type": "markdown",
   "metadata": {},
   "source": [
    "Видим, что очень большой разброс цен. \n",
    "Какие наиболее вероятные факторы влияния: \n",
    "общей площади;\n",
    "жилой площади;\n",
    "площади кухни;\n",
    "количества комнат;\n",
    "этажа, на котором расположена квартира (первый, последний, другой);\n",
    "даты размещения (день недели, месяц, год).\n",
    "Подготовимм анализ корреляции по эти данным.\n",
    "\n",
    "Построим корреляцию для таблицы и выведем на экран."
   ]
  },
  {
   "cell_type": "code",
   "execution_count": 61,
   "metadata": {
    "scrolled": true
   },
   "outputs": [
    {
     "data": {
      "text/plain": [
       "distance_in_km         -0.282\n",
       "city_centers_nearest   -0.282\n",
       "ponds_nearest          -0.115\n",
       "year                   -0.057\n",
       "studio                 -0.036\n",
       "airports_nearest       -0.034\n",
       "parks_nearest          -0.019\n",
       "open_plan              -0.012\n",
       "week_day               -0.000\n",
       "floors_total            0.001\n",
       "month                   0.006\n",
       "balcony                 0.009\n",
       "floor                   0.029\n",
       "is_apartment            0.030\n",
       "days_exposition         0.118\n",
       "total_images            0.133\n",
       "parks_around3000        0.270\n",
       "ponds_around3000        0.270\n",
       "ceiling_height          0.411\n",
       "rooms                   0.435\n",
       "kitchen_area            0.569\n",
       "living_area             0.648\n",
       "total_area              0.739\n",
       "meter_price             0.744\n",
       "last_price_mil          1.000\n",
       "last_price              1.000\n",
       "Name: last_price, dtype: float64"
      ]
     },
     "execution_count": 61,
     "metadata": {},
     "output_type": "execute_result"
    }
   ],
   "source": [
    "corr = data.corr()\n",
    "corr['last_price'].sort_values().round(3)"
   ]
  },
  {
   "cell_type": "markdown",
   "metadata": {},
   "source": [
    "Замечаем высокую зависимость c самой собой, с ценой в млн(поскольку она создана из той же общей стоимости, цену за метр (при создании этой переменной участвовала цена), достаточно высокие показатели по жилым площадям ('total_area', 'living_area', 'kitchen_area').\n",
    "Постороим график ззависимости цены от разных вариантов площади - по графику видно, что наиболее выраженная связь у цены с полной площадью."
   ]
  },
  {
   "cell_type": "code",
   "execution_count": 62,
   "metadata": {},
   "outputs": [
    {
     "data": {
      "image/png": "[encoded data removed]",
      "text/plain": [
       "<Figure size 1440x1440 with 16 Axes>"
      ]
     },
     "metadata": {
      "needs_background": "light"
     },
     "output_type": "display_data"
    }
   ],
   "source": [
    "pd.plotting.scatter_matrix(data[['last_price', 'total_area', 'living_area', 'kitchen_area']], figsize=(20, 20));"
   ]
  },
  {
   "cell_type": "code",
   "execution_count": 63,
   "metadata": {},
   "outputs": [
    {
     "name": "stdout",
     "output_type": "stream",
     "text": [
      "   year  last_price\n",
      "0  2014   7540000.0\n",
      "1  2015   5300000.0\n",
      "2  2016   4500000.0\n",
      "3  2017   4500000.0\n",
      "4  2018   4550000.0\n",
      "5  2019   5048500.0\n"
     ]
    },
    {
     "data": {
      "image/png": "[encoded data removed]",
      "text/plain": [
       "<Figure size 432x288 with 1 Axes>"
      ]
     },
     "metadata": {
      "needs_background": "light"
     },
     "output_type": "display_data"
    }
   ],
   "source": [
    "year_corr = data.groupby('year')['last_price'].agg('median').reset_index()\n",
    "year_corr.plot('year','last_price')\n",
    "\n",
    "print (year_corr.head(10))\n"
   ]
  },
  {
   "cell_type": "markdown",
   "metadata": {},
   "source": [
    "Построим такие же графики для других переменных.\n",
    "\n",
    "Прослеживается связь с днём недели (за исключением понедельника, который выбивается) - получается что с ходом недели цена снижается.\n",
    "Зависимости между месяцем и ценой не видно. Видно, что лето - самый благоприятный с точки зрения низких цен период.\n",
    "Количчесвто комнат любопытным образом показывают практически идеальную корреляцию - видимо, в этот параметр незаметным образом \"пролезает\" и общая площадь.\n",
    "Количество балконов также влияют значительно - чем больше балконов, тем дороже стоимость.\n",
    "Видим, что чаще сдаются квартиры на последнем и другом этаже."
   ]
  },
  {
   "cell_type": "code",
   "execution_count": 64,
   "metadata": {},
   "outputs": [
    {
     "name": "stdout",
     "output_type": "stream",
     "text": [
      "Расчёт для month\n",
      "\n",
      "               month  last_price\n",
      "month       1.000000    0.082787\n",
      "last_price  0.082787    1.000000\n",
      "\n"
     ]
    },
    {
     "data": {
      "image/png": "[encoded data removed]",
      "text/plain": [
       "<Figure size 432x288 with 1 Axes>"
      ]
     },
     "metadata": {
      "needs_background": "light"
     },
     "output_type": "display_data"
    },
    {
     "name": "stdout",
     "output_type": "stream",
     "text": [
      "\n",
      "Расчёт для week_day\n",
      "\n",
      "            week_day  last_price\n",
      "week_day    1.000000   -0.848695\n",
      "last_price -0.848695    1.000000\n",
      "\n"
     ]
    },
    {
     "data": {
      "image/png": "[encoded data removed]",
      "text/plain": [
       "<Figure size 432x288 with 1 Axes>"
      ]
     },
     "metadata": {
      "needs_background": "light"
     },
     "output_type": "display_data"
    },
    {
     "name": "stdout",
     "output_type": "stream",
     "text": [
      "\n",
      "Расчёт для rooms\n",
      "\n",
      "               rooms  last_price\n",
      "rooms       1.000000    0.961616\n",
      "last_price  0.961616    1.000000\n",
      "\n"
     ]
    },
    {
     "data": {
      "image/png": "[encoded data removed]",
      "text/plain": [
       "<Figure size 432x288 with 1 Axes>"
      ]
     },
     "metadata": {
      "needs_background": "light"
     },
     "output_type": "display_data"
    },
    {
     "name": "stdout",
     "output_type": "stream",
     "text": [
      "\n",
      "Расчёт для floor_type\n",
      "\n",
      "            last_price\n",
      "last_price         1.0\n",
      "\n"
     ]
    },
    {
     "data": {
      "image/png": "[encoded data removed]",
      "text/plain": [
       "<Figure size 432x288 with 1 Axes>"
      ]
     },
     "metadata": {
      "needs_background": "light"
     },
     "output_type": "display_data"
    },
    {
     "name": "stdout",
     "output_type": "stream",
     "text": [
      "\n",
      "Расчёт для balcony\n",
      "\n",
      "             balcony  last_price\n",
      "balcony     1.000000    0.902883\n",
      "last_price  0.902883    1.000000\n",
      "\n"
     ]
    },
    {
     "data": {
      "image/png": "[encoded data removed]",
      "text/plain": [
       "<Figure size 432x288 with 1 Axes>"
      ]
     },
     "metadata": {
      "needs_background": "light"
     },
     "output_type": "display_data"
    },
    {
     "name": "stdout",
     "output_type": "stream",
     "text": [
      "\n"
     ]
    }
   ],
   "source": [
    "import seaborn\n",
    "\n",
    "def find_corr (cor_row):\n",
    "    for cor_column in cor_row:\n",
    "        print('Расчёт для',cor_column)\n",
    "        print()\n",
    "        print(data.groupby(cor_column)['last_price'].agg('median').reset_index().corr())\n",
    "        print()\n",
    "        seaborn.scatterplot(x=data.groupby(cor_column)['last_price'].agg('median').reset_index()[cor_column], y=data.groupby(cor_column)['last_price'].agg('median').reset_index()['last_price'], hue = 1 )\n",
    "        plt.title(cor_column)\n",
    "        plt.show()\n",
    "        print()\n",
    "        \n",
    "columns_for_corr = ['month','week_day','rooms','floor_type','balcony']        \n",
    "find_corr (columns_for_corr)"
   ]
  },
  {
   "cell_type": "markdown",
   "metadata": {},
   "source": [
    "#### Посчитаем среднюю цену одного квадратного метра в 10 населённых пунктах с наибольшим числом объявлений. \n",
    "Найдем 10 наиболее активный населенных пунктов, а также населенные пункты с наболее высокой и низкой стоимостью квадратного метра. "
   ]
  },
  {
   "cell_type": "code",
   "execution_count": 65,
   "metadata": {},
   "outputs": [
    {
     "data": {
      "text/html": [
       "<div>\n",
       "<style scoped>\n",
       "    .dataframe tbody tr th:only-of-type {\n",
       "        vertical-align: middle;\n",
       "    }\n",
       "\n",
       "    .dataframe tbody tr th {\n",
       "        vertical-align: top;\n",
       "    }\n",
       "\n",
       "    .dataframe thead th {\n",
       "        text-align: right;\n",
       "    }\n",
       "</style>\n",
       "<table border=\"1\" class=\"dataframe\">\n",
       "  <thead>\n",
       "    <tr style=\"text-align: right;\">\n",
       "      <th></th>\n",
       "      <th>meter_price</th>\n",
       "      <th>count</th>\n",
       "    </tr>\n",
       "    <tr>\n",
       "      <th>locality_name</th>\n",
       "      <th></th>\n",
       "      <th></th>\n",
       "    </tr>\n",
       "  </thead>\n",
       "  <tbody>\n",
       "    <tr>\n",
       "      <th>Санкт-Петербург</th>\n",
       "      <td>114067.115335</td>\n",
       "      <td>15649</td>\n",
       "    </tr>\n",
       "    <tr>\n",
       "      <th>Пушкин</th>\n",
       "      <td>103104.328065</td>\n",
       "      <td>367</td>\n",
       "    </tr>\n",
       "    <tr>\n",
       "      <th>Кудрово</th>\n",
       "      <td>95324.930508</td>\n",
       "      <td>472</td>\n",
       "    </tr>\n",
       "    <tr>\n",
       "      <th>Парголово</th>\n",
       "      <td>90103.136411</td>\n",
       "      <td>326</td>\n",
       "    </tr>\n",
       "    <tr>\n",
       "      <th>Мурино</th>\n",
       "      <td>86087.512017</td>\n",
       "      <td>590</td>\n",
       "    </tr>\n",
       "    <tr>\n",
       "      <th>Шушары</th>\n",
       "      <td>78677.364318</td>\n",
       "      <td>440</td>\n",
       "    </tr>\n",
       "    <tr>\n",
       "      <th>Колпино</th>\n",
       "      <td>75333.295816</td>\n",
       "      <td>337</td>\n",
       "    </tr>\n",
       "    <tr>\n",
       "      <th>Гатчина</th>\n",
       "      <td>68746.146515</td>\n",
       "      <td>307</td>\n",
       "    </tr>\n",
       "    <tr>\n",
       "      <th>Всеволожск</th>\n",
       "      <td>68670.553098</td>\n",
       "      <td>397</td>\n",
       "    </tr>\n",
       "    <tr>\n",
       "      <th>Выборг</th>\n",
       "      <td>58141.909325</td>\n",
       "      <td>237</td>\n",
       "    </tr>\n",
       "  </tbody>\n",
       "</table>\n",
       "</div>"
      ],
      "text/plain": [
       "                   meter_price  count\n",
       "locality_name                        \n",
       "Санкт-Петербург  114067.115335  15649\n",
       "Пушкин           103104.328065    367\n",
       "Кудрово           95324.930508    472\n",
       "Парголово         90103.136411    326\n",
       "Мурино            86087.512017    590\n",
       "Шушары            78677.364318    440\n",
       "Колпино           75333.295816    337\n",
       "Гатчина           68746.146515    307\n",
       "Всеволожск        68670.553098    397\n",
       "Выборг            58141.909325    237"
      ]
     },
     "metadata": {},
     "output_type": "display_data"
    }
   ],
   "source": [
    "data_local = data.pivot_table(index = 'locality_name', values = 'meter_price', aggfunc =  ['mean','count'])\n",
    "data_local.columns = ['meter_price','count']\n",
    "\n",
    "data_local_ten = data_local.sort_values(by = 'count', ascending = False).head(10)\n",
    "\n",
    "display(data_local_ten.sort_values(by = 'meter_price', ascending = False))\n"
   ]
  },
  {
   "cell_type": "markdown",
   "metadata": {},
   "source": [
    "По данным выходит, что Санкт-Петербург является одним из самых активных населенных пунктов с точки зрения публикаций объявлений, замыкает десятку Выблорг. Самые дешевый квадратные метры по из топ-10 самых активных городов с точки зрения количества объявлений наиболее дорогие квадратные метры - у Санкт-Петербурга (123 720 р), самые дешевые - в Выборге (58 141 руб)."
   ]
  },
  {
   "cell_type": "markdown",
   "metadata": {},
   "source": [
    "#### Оценим, как стоимость объектов зависит от расстояния до центра города в Санкт-Петербурге"
   ]
  },
  {
   "cell_type": "markdown",
   "metadata": {},
   "source": [
    "Поскольку мы уже посчитали расстояние до центра в километрахб мы можем выделить квартиры в Санкт-Петербурге с помощью столбца locality_name и вычислите среднюю цену каждого километра. Опишите, как стоимость объектов зависит от расстояния до центра города."
   ]
  },
  {
   "cell_type": "code",
   "execution_count": null,
   "metadata": {
    "scrolled": true
   },
   "outputs": [],
   "source": [
    "data_spb = data.query('locality_name==\"Санкт-Петербург\"').copy()\n",
    "\n",
    "data_spb.groupby(data['distance_in_km'])['meter_price'].mean().plot(kind='bar',figsize = (15, 5))\n",
    "plt.title('Cредняя цена каждого километра')\n",
    "plt.show()\n"
   ]
  },
  {
   "cell_type": "markdown",
   "metadata": {},
   "source": [
    "Видим, что наблюдается зависимость - чем дальше от центра города, тем дешевле стоит жилое помещение в перерасчете на квадратный метрю"
   ]
  },
  {
   "cell_type": "markdown",
   "metadata": {},
   "source": [
    "### Общий вывод"
   ]
  },
  {
   "cell_type": "markdown",
   "metadata": {},
   "source": [
    "Результаты проведенного исследования показывают, что данные по стоимости жилья достаточно разбросаны, как и дни, которые требуются, чтобы снять размещение.\n",
    "выстраивается общее представление о типичной квартире, которую выставляют на сдачу.\n",
    "Общая площадь сдваваемых квартир - обычно от 40 до 68.5 квадратных метров. Жилая площадь - от 18.6 до 42.3б а площадь кухни - от 7 до 12 квадратных метров. \n",
    "\n",
    "В объявлениях чаще фигурируют квартиры от 1 до 3х  комнат. Высота потолка - от 2.52 до 2 8 метров, этаж - от 2 до 8ой. Как правило, квартиры находятся в 9 - 16 км от центра и 18-37 км от аэропорта и 288-612 метров от центра. Сдают обычно с марта по октябрь.\n",
    "Основное количество объявлений - со стоимостью между 3.4 млн и 6.8 млн.\n",
    "У большинства пользователей на продажу уходит от 1,5 месяца до 7 месяцев. \n",
    "В данных заметна корреляция между стоимостью и годом, причем до 2017 года наблюдалось стабильное снижение, но после 2017 года - рост стоимости.\n",
    "Прослеживается связь с днём недели (за исключением понедельника, который выбивается низкими показателями) - с ходом недели цена снижается.\n",
    "Площадь зависит также влияет на стоимость: наибольшая связь между стоимостью и общей площадью, но также влияет и жилая площадь и площадь кухни.\n",
    "Количество комнат также оказывает влияние на цену - видимо, в этот параметр незаметным образом \"пролезает\" и общая площадь, а также тип квартиры, рассчитанные на более высокие цены.\n",
    "Та же картина наблюдается и с балконами - чем больше балконов, тем выше стоимость.\n",
    "Наиболее активные пользователи в Санкт-Петербурге, но при этом есть населенный пункт с более высокими ценами.\n",
    "По данным выходит, что Санкт-Петербург является одним из самых активных населенных пунктов с точки зрения публикаций объявлений, замыкает десятку Выблорг. Самые дешевый квадратные метры по из топ-10 самых активных городов с точки зрения количества объявлений наиболее дорогие квадратные метры - у Санкт-Петербурга (123 720 р), самые дешевые - в Выборге (58 141 руб).\n",
    "В Санкт-Петербурге наблюдается связь между расстоянием до центра и стоимостью - чем ближе к центру, тем дороже.\n"
   ]
  }
 ],
 "metadata": {
  "ExecuteTimeLog": [
   {
    "duration": 113,
    "start_time": "2022-07-23T14:16:11.135Z"
   },
   {
    "duration": 152,
    "start_time": "2022-07-23T14:18:52.038Z"
   },
   {
    "duration": 153,
    "start_time": "2022-07-23T14:18:52.704Z"
   },
   {
    "duration": 1139,
    "start_time": "2022-07-23T14:36:45.747Z"
   },
   {
    "duration": 11,
    "start_time": "2022-07-23T14:36:46.903Z"
   },
   {
    "duration": 297,
    "start_time": "2022-07-23T14:36:46.915Z"
   },
   {
    "duration": 14,
    "start_time": "2022-07-23T14:36:47.214Z"
   },
   {
    "duration": 2443,
    "start_time": "2022-07-23T14:36:47.229Z"
   },
   {
    "duration": 4,
    "start_time": "2022-07-23T14:36:49.674Z"
   },
   {
    "duration": 20,
    "start_time": "2022-07-23T14:36:49.679Z"
   },
   {
    "duration": 30,
    "start_time": "2022-07-23T14:36:49.702Z"
   },
   {
    "duration": 15,
    "start_time": "2022-07-23T14:36:49.734Z"
   },
   {
    "duration": 4,
    "start_time": "2022-07-23T14:36:49.752Z"
   },
   {
    "duration": 34,
    "start_time": "2022-07-23T14:36:49.757Z"
   },
   {
    "duration": 38,
    "start_time": "2022-07-23T14:36:49.793Z"
   },
   {
    "duration": 19,
    "start_time": "2022-07-23T14:36:49.832Z"
   },
   {
    "duration": 11,
    "start_time": "2022-07-23T14:36:49.853Z"
   },
   {
    "duration": 203,
    "start_time": "2022-07-23T14:36:49.865Z"
   },
   {
    "duration": 37,
    "start_time": "2022-07-23T14:36:50.070Z"
   },
   {
    "duration": 11,
    "start_time": "2022-07-23T14:36:50.109Z"
   },
   {
    "duration": 9,
    "start_time": "2022-07-23T14:36:50.121Z"
   },
   {
    "duration": 361,
    "start_time": "2022-07-23T14:36:50.132Z"
   },
   {
    "duration": 14,
    "start_time": "2022-07-23T14:36:50.501Z"
   },
   {
    "duration": 1248,
    "start_time": "2022-07-23T14:36:50.516Z"
   },
   {
    "duration": 32,
    "start_time": "2022-07-23T14:36:51.766Z"
   },
   {
    "duration": 37,
    "start_time": "2022-07-23T14:36:51.800Z"
   },
   {
    "duration": 16,
    "start_time": "2022-07-23T14:36:51.838Z"
   },
   {
    "duration": 394,
    "start_time": "2022-07-23T14:36:51.855Z"
   },
   {
    "duration": 59,
    "start_time": "2022-07-23T14:36:52.250Z"
   },
   {
    "duration": 4267,
    "start_time": "2022-07-23T14:36:52.311Z"
   },
   {
    "duration": 144,
    "start_time": "2022-07-23T14:36:56.583Z"
   },
   {
    "duration": 427,
    "start_time": "2022-07-23T14:36:56.729Z"
   },
   {
    "duration": 156,
    "start_time": "2022-07-23T14:36:57.157Z"
   },
   {
    "duration": 77,
    "start_time": "2022-07-23T14:36:57.315Z"
   },
   {
    "duration": 2638,
    "start_time": "2022-07-23T14:36:57.394Z"
   },
   {
    "duration": 861,
    "start_time": "2022-07-23T14:37:00.034Z"
   },
   {
    "duration": 986,
    "start_time": "2022-07-23T14:37:00.896Z"
   },
   {
    "duration": 34,
    "start_time": "2022-07-23T14:37:01.884Z"
   },
   {
    "duration": 326,
    "start_time": "2022-07-23T14:37:01.920Z"
   },
   {
    "duration": 1016,
    "start_time": "2022-07-23T18:54:14.106Z"
   },
   {
    "duration": 477,
    "start_time": "2022-07-23T18:54:22.833Z"
   },
   {
    "duration": 12,
    "start_time": "2022-07-23T18:54:24.377Z"
   },
   {
    "duration": 255,
    "start_time": "2022-07-23T18:54:30.430Z"
   },
   {
    "duration": 210,
    "start_time": "2022-07-23T18:54:32.350Z"
   },
   {
    "duration": 6,
    "start_time": "2022-07-23T18:54:34.753Z"
   },
   {
    "duration": 13,
    "start_time": "2022-07-23T18:57:20.563Z"
   },
   {
    "duration": 14,
    "start_time": "2022-07-23T18:57:25.991Z"
   },
   {
    "duration": 6,
    "start_time": "2022-07-23T18:57:30.450Z"
   },
   {
    "duration": 6,
    "start_time": "2022-07-23T18:57:35.797Z"
   },
   {
    "duration": 79,
    "start_time": "2022-07-23T18:57:35.848Z"
   },
   {
    "duration": 0,
    "start_time": "2022-07-23T18:57:35.929Z"
   },
   {
    "duration": 0,
    "start_time": "2022-07-23T18:57:35.930Z"
   },
   {
    "duration": 1351,
    "start_time": "2022-07-23T18:57:36.182Z"
   },
   {
    "duration": 0,
    "start_time": "2022-07-23T18:57:37.535Z"
   },
   {
    "duration": 0,
    "start_time": "2022-07-23T18:57:37.536Z"
   },
   {
    "duration": 0,
    "start_time": "2022-07-23T18:57:37.537Z"
   },
   {
    "duration": 0,
    "start_time": "2022-07-23T18:57:37.538Z"
   },
   {
    "duration": 0,
    "start_time": "2022-07-23T18:57:37.539Z"
   },
   {
    "duration": 0,
    "start_time": "2022-07-23T18:57:37.540Z"
   },
   {
    "duration": 0,
    "start_time": "2022-07-23T18:57:37.541Z"
   },
   {
    "duration": 0,
    "start_time": "2022-07-23T18:57:37.542Z"
   },
   {
    "duration": 0,
    "start_time": "2022-07-23T18:57:37.542Z"
   },
   {
    "duration": 0,
    "start_time": "2022-07-23T18:57:37.543Z"
   },
   {
    "duration": 0,
    "start_time": "2022-07-23T18:57:37.544Z"
   },
   {
    "duration": 1113,
    "start_time": "2022-07-23T18:57:38.196Z"
   },
   {
    "duration": 0,
    "start_time": "2022-07-23T18:57:39.311Z"
   },
   {
    "duration": 0,
    "start_time": "2022-07-23T18:57:39.312Z"
   },
   {
    "duration": 0,
    "start_time": "2022-07-23T18:57:39.313Z"
   },
   {
    "duration": 0,
    "start_time": "2022-07-23T18:57:39.314Z"
   },
   {
    "duration": 0,
    "start_time": "2022-07-23T18:57:39.315Z"
   },
   {
    "duration": 0,
    "start_time": "2022-07-23T18:57:39.316Z"
   },
   {
    "duration": 0,
    "start_time": "2022-07-23T18:57:39.317Z"
   },
   {
    "duration": 0,
    "start_time": "2022-07-23T18:57:39.318Z"
   },
   {
    "duration": 0,
    "start_time": "2022-07-23T18:57:39.319Z"
   },
   {
    "duration": 0,
    "start_time": "2022-07-23T18:57:39.320Z"
   },
   {
    "duration": 1116,
    "start_time": "2022-07-23T18:57:39.447Z"
   },
   {
    "duration": 0,
    "start_time": "2022-07-23T18:57:40.564Z"
   },
   {
    "duration": 0,
    "start_time": "2022-07-23T18:57:40.565Z"
   },
   {
    "duration": 0,
    "start_time": "2022-07-23T18:57:40.566Z"
   },
   {
    "duration": 0,
    "start_time": "2022-07-23T18:57:40.568Z"
   },
   {
    "duration": 0,
    "start_time": "2022-07-23T18:57:40.569Z"
   },
   {
    "duration": 212,
    "start_time": "2022-07-23T18:58:35.655Z"
   },
   {
    "duration": 28,
    "start_time": "2022-07-23T18:58:38.694Z"
   },
   {
    "duration": 1968,
    "start_time": "2022-07-23T18:58:45.943Z"
   },
   {
    "duration": 1989,
    "start_time": "2022-07-23T18:58:53.815Z"
   },
   {
    "duration": 5,
    "start_time": "2022-07-23T18:59:09.294Z"
   },
   {
    "duration": 211,
    "start_time": "2022-07-23T18:59:22.049Z"
   },
   {
    "duration": 6,
    "start_time": "2022-07-23T18:59:22.262Z"
   },
   {
    "duration": 223,
    "start_time": "2022-07-23T18:59:22.270Z"
   },
   {
    "duration": 21,
    "start_time": "2022-07-23T18:59:22.495Z"
   },
   {
    "duration": 1789,
    "start_time": "2022-07-23T18:59:22.518Z"
   },
   {
    "duration": 5,
    "start_time": "2022-07-23T18:59:24.310Z"
   },
   {
    "duration": 16,
    "start_time": "2022-07-23T18:59:24.316Z"
   },
   {
    "duration": 10,
    "start_time": "2022-07-23T18:59:27.448Z"
   },
   {
    "duration": 307,
    "start_time": "2022-07-23T19:19:41.544Z"
   },
   {
    "duration": 6,
    "start_time": "2022-07-23T19:19:41.853Z"
   },
   {
    "duration": 272,
    "start_time": "2022-07-23T19:19:41.860Z"
   },
   {
    "duration": 22,
    "start_time": "2022-07-23T19:19:42.134Z"
   },
   {
    "duration": 1728,
    "start_time": "2022-07-23T19:19:42.157Z"
   },
   {
    "duration": 5,
    "start_time": "2022-07-23T19:19:43.887Z"
   },
   {
    "duration": 10,
    "start_time": "2022-07-23T19:19:43.893Z"
   },
   {
    "duration": 9,
    "start_time": "2022-07-23T19:19:43.904Z"
   },
   {
    "duration": 38,
    "start_time": "2022-07-23T19:19:43.915Z"
   },
   {
    "duration": 3,
    "start_time": "2022-07-23T19:19:43.955Z"
   },
   {
    "duration": 10,
    "start_time": "2022-07-23T19:19:43.959Z"
   },
   {
    "duration": 18,
    "start_time": "2022-07-23T19:19:43.970Z"
   },
   {
    "duration": 16,
    "start_time": "2022-07-23T19:19:43.989Z"
   },
   {
    "duration": 10,
    "start_time": "2022-07-23T19:19:44.006Z"
   },
   {
    "duration": 136,
    "start_time": "2022-07-23T19:19:44.018Z"
   },
   {
    "duration": 21,
    "start_time": "2022-07-23T19:19:44.156Z"
   },
   {
    "duration": 7,
    "start_time": "2022-07-23T19:19:44.179Z"
   },
   {
    "duration": 9,
    "start_time": "2022-07-23T19:19:44.188Z"
   },
   {
    "duration": 270,
    "start_time": "2022-07-23T19:19:44.198Z"
   },
   {
    "duration": 13,
    "start_time": "2022-07-23T19:19:53.699Z"
   },
   {
    "duration": 11,
    "start_time": "2022-07-23T19:20:16.755Z"
   },
   {
    "duration": 205,
    "start_time": "2022-07-23T19:20:25.551Z"
   },
   {
    "duration": 7,
    "start_time": "2022-07-23T19:20:25.758Z"
   },
   {
    "duration": 263,
    "start_time": "2022-07-23T19:20:25.767Z"
   },
   {
    "duration": 38,
    "start_time": "2022-07-23T19:20:26.033Z"
   },
   {
    "duration": 2055,
    "start_time": "2022-07-23T19:20:26.074Z"
   },
   {
    "duration": 4,
    "start_time": "2022-07-23T19:20:28.131Z"
   },
   {
    "duration": 17,
    "start_time": "2022-07-23T19:20:28.136Z"
   },
   {
    "duration": 10,
    "start_time": "2022-07-23T19:20:28.154Z"
   },
   {
    "duration": 13,
    "start_time": "2022-07-23T19:20:28.165Z"
   },
   {
    "duration": 3,
    "start_time": "2022-07-23T19:20:28.179Z"
   },
   {
    "duration": 9,
    "start_time": "2022-07-23T19:20:28.184Z"
   },
   {
    "duration": 21,
    "start_time": "2022-07-23T19:20:28.194Z"
   },
   {
    "duration": 50,
    "start_time": "2022-07-23T19:20:28.216Z"
   },
   {
    "duration": 10,
    "start_time": "2022-07-23T19:20:28.269Z"
   },
   {
    "duration": 134,
    "start_time": "2022-07-23T19:20:28.280Z"
   },
   {
    "duration": 18,
    "start_time": "2022-07-23T19:20:28.415Z"
   },
   {
    "duration": 18,
    "start_time": "2022-07-23T19:20:28.435Z"
   },
   {
    "duration": 7,
    "start_time": "2022-07-23T19:20:28.454Z"
   },
   {
    "duration": 292,
    "start_time": "2022-07-23T19:20:28.463Z"
   },
   {
    "duration": 11,
    "start_time": "2022-07-23T19:20:35.365Z"
   },
   {
    "duration": 916,
    "start_time": "2022-07-23T19:21:12.584Z"
   },
   {
    "duration": 17,
    "start_time": "2022-07-23T19:21:15.551Z"
   },
   {
    "duration": 9,
    "start_time": "2022-07-23T19:23:12.774Z"
   },
   {
    "duration": 14,
    "start_time": "2022-07-23T19:23:18.052Z"
   },
   {
    "duration": 13,
    "start_time": "2022-07-23T19:23:22.643Z"
   },
   {
    "duration": 122,
    "start_time": "2022-07-23T19:24:20.842Z"
   },
   {
    "duration": 73,
    "start_time": "2022-07-23T19:24:33.159Z"
   },
   {
    "duration": 74,
    "start_time": "2022-07-23T19:24:53.074Z"
   },
   {
    "duration": 74,
    "start_time": "2022-07-23T19:24:54.842Z"
   },
   {
    "duration": 190,
    "start_time": "2022-07-23T19:25:21.044Z"
   },
   {
    "duration": 6,
    "start_time": "2022-07-23T19:25:21.236Z"
   },
   {
    "duration": 447,
    "start_time": "2022-07-23T19:25:21.244Z"
   },
   {
    "duration": 21,
    "start_time": "2022-07-23T19:25:21.693Z"
   },
   {
    "duration": 1724,
    "start_time": "2022-07-23T19:25:21.717Z"
   },
   {
    "duration": 10,
    "start_time": "2022-07-23T19:25:23.443Z"
   },
   {
    "duration": 8,
    "start_time": "2022-07-23T19:25:23.454Z"
   },
   {
    "duration": 8,
    "start_time": "2022-07-23T19:25:23.463Z"
   },
   {
    "duration": 11,
    "start_time": "2022-07-23T19:25:23.472Z"
   },
   {
    "duration": 5,
    "start_time": "2022-07-23T19:25:23.484Z"
   },
   {
    "duration": 8,
    "start_time": "2022-07-23T19:25:23.490Z"
   },
   {
    "duration": 17,
    "start_time": "2022-07-23T19:25:23.499Z"
   },
   {
    "duration": 47,
    "start_time": "2022-07-23T19:25:23.518Z"
   },
   {
    "duration": 9,
    "start_time": "2022-07-23T19:25:23.567Z"
   },
   {
    "duration": 114,
    "start_time": "2022-07-23T19:25:23.577Z"
   },
   {
    "duration": 17,
    "start_time": "2022-07-23T19:25:23.693Z"
   },
   {
    "duration": 7,
    "start_time": "2022-07-23T19:25:23.712Z"
   },
   {
    "duration": 7,
    "start_time": "2022-07-23T19:25:23.720Z"
   },
   {
    "duration": 294,
    "start_time": "2022-07-23T19:25:23.729Z"
   },
   {
    "duration": 28,
    "start_time": "2022-07-23T19:25:24.025Z"
   },
   {
    "duration": 1117,
    "start_time": "2022-07-23T19:25:24.055Z"
   },
   {
    "duration": 16,
    "start_time": "2022-07-23T19:25:25.174Z"
   },
   {
    "duration": 9,
    "start_time": "2022-07-23T19:25:25.191Z"
   },
   {
    "duration": 14,
    "start_time": "2022-07-23T19:25:25.202Z"
   },
   {
    "duration": 97,
    "start_time": "2022-07-23T19:25:27.651Z"
   },
   {
    "duration": 70,
    "start_time": "2022-07-23T19:25:44.063Z"
   },
   {
    "duration": 93,
    "start_time": "2022-07-23T19:25:50.448Z"
   },
   {
    "duration": 74,
    "start_time": "2022-07-23T19:26:02.745Z"
   },
   {
    "duration": 68,
    "start_time": "2022-07-23T19:27:17.068Z"
   },
   {
    "duration": 284,
    "start_time": "2022-07-23T19:27:33.162Z"
   },
   {
    "duration": 301,
    "start_time": "2022-07-23T19:27:43.940Z"
   },
   {
    "duration": 341,
    "start_time": "2022-07-23T19:27:48.442Z"
   },
   {
    "duration": 36,
    "start_time": "2022-07-23T19:29:22.403Z"
   },
   {
    "duration": 3105,
    "start_time": "2022-07-23T19:31:01.668Z"
   },
   {
    "duration": 186,
    "start_time": "2022-07-23T19:31:07.743Z"
   },
   {
    "duration": 6,
    "start_time": "2022-07-23T19:31:07.931Z"
   },
   {
    "duration": 231,
    "start_time": "2022-07-23T19:31:07.938Z"
   },
   {
    "duration": 21,
    "start_time": "2022-07-23T19:31:08.171Z"
   },
   {
    "duration": 1713,
    "start_time": "2022-07-23T19:31:08.194Z"
   },
   {
    "duration": 4,
    "start_time": "2022-07-23T19:31:09.909Z"
   },
   {
    "duration": 13,
    "start_time": "2022-07-23T19:31:09.914Z"
   },
   {
    "duration": 24,
    "start_time": "2022-07-23T19:31:09.929Z"
   },
   {
    "duration": 12,
    "start_time": "2022-07-23T19:31:09.954Z"
   },
   {
    "duration": 4,
    "start_time": "2022-07-23T19:31:09.967Z"
   },
   {
    "duration": 9,
    "start_time": "2022-07-23T19:31:09.972Z"
   },
   {
    "duration": 18,
    "start_time": "2022-07-23T19:31:09.982Z"
   },
   {
    "duration": 16,
    "start_time": "2022-07-23T19:31:10.002Z"
   },
   {
    "duration": 41,
    "start_time": "2022-07-23T19:31:10.020Z"
   },
   {
    "duration": 109,
    "start_time": "2022-07-23T19:31:10.062Z"
   },
   {
    "duration": 16,
    "start_time": "2022-07-23T19:31:10.173Z"
   },
   {
    "duration": 7,
    "start_time": "2022-07-23T19:31:10.191Z"
   },
   {
    "duration": 6,
    "start_time": "2022-07-23T19:31:10.199Z"
   },
   {
    "duration": 248,
    "start_time": "2022-07-23T19:31:10.207Z"
   },
   {
    "duration": 10,
    "start_time": "2022-07-23T19:31:10.457Z"
   },
   {
    "duration": 917,
    "start_time": "2022-07-23T19:31:10.468Z"
   },
   {
    "duration": 16,
    "start_time": "2022-07-23T19:31:11.387Z"
   },
   {
    "duration": 8,
    "start_time": "2022-07-23T19:31:11.404Z"
   },
   {
    "duration": 20,
    "start_time": "2022-07-23T19:31:11.414Z"
   },
   {
    "duration": 306,
    "start_time": "2022-07-23T19:31:11.435Z"
   },
   {
    "duration": 37,
    "start_time": "2022-07-23T19:31:11.742Z"
   },
   {
    "duration": 108,
    "start_time": "2022-07-23T19:39:04.591Z"
   },
   {
    "duration": 392,
    "start_time": "2022-07-23T19:39:59.761Z"
   },
   {
    "duration": 294,
    "start_time": "2022-07-23T19:40:40.513Z"
   },
   {
    "duration": 7,
    "start_time": "2022-07-23T19:40:40.808Z"
   },
   {
    "duration": 278,
    "start_time": "2022-07-23T19:40:40.816Z"
   },
   {
    "duration": 31,
    "start_time": "2022-07-23T19:40:41.096Z"
   },
   {
    "duration": 1611,
    "start_time": "2022-07-23T19:40:41.129Z"
   },
   {
    "duration": 4,
    "start_time": "2022-07-23T19:40:42.741Z"
   },
   {
    "duration": 9,
    "start_time": "2022-07-23T19:40:42.752Z"
   },
   {
    "duration": 15,
    "start_time": "2022-07-23T19:40:42.762Z"
   },
   {
    "duration": 9,
    "start_time": "2022-07-23T19:40:42.779Z"
   },
   {
    "duration": 4,
    "start_time": "2022-07-23T19:40:42.790Z"
   },
   {
    "duration": 9,
    "start_time": "2022-07-23T19:40:42.795Z"
   },
   {
    "duration": 20,
    "start_time": "2022-07-23T19:40:42.806Z"
   },
   {
    "duration": 41,
    "start_time": "2022-07-23T19:40:42.827Z"
   },
   {
    "duration": 10,
    "start_time": "2022-07-23T19:40:42.871Z"
   },
   {
    "duration": 125,
    "start_time": "2022-07-23T19:40:42.883Z"
   },
   {
    "duration": 16,
    "start_time": "2022-07-23T19:40:43.010Z"
   },
   {
    "duration": 7,
    "start_time": "2022-07-23T19:40:43.027Z"
   },
   {
    "duration": 21,
    "start_time": "2022-07-23T19:40:43.036Z"
   },
   {
    "duration": 313,
    "start_time": "2022-07-23T19:40:43.058Z"
   },
   {
    "duration": 11,
    "start_time": "2022-07-23T19:40:43.372Z"
   },
   {
    "duration": 831,
    "start_time": "2022-07-23T19:40:43.384Z"
   },
   {
    "duration": 15,
    "start_time": "2022-07-23T19:40:44.217Z"
   },
   {
    "duration": 21,
    "start_time": "2022-07-23T19:40:44.233Z"
   },
   {
    "duration": 12,
    "start_time": "2022-07-23T19:40:44.256Z"
   },
   {
    "duration": 370,
    "start_time": "2022-07-23T19:40:44.269Z"
   },
   {
    "duration": 53,
    "start_time": "2022-07-23T19:40:44.641Z"
   },
   {
    "duration": 3438,
    "start_time": "2022-07-23T19:40:44.696Z"
   },
   {
    "duration": 49,
    "start_time": "2022-07-23T19:55:09.235Z"
   },
   {
    "duration": 110,
    "start_time": "2022-07-23T19:55:10.456Z"
   },
   {
    "duration": 47,
    "start_time": "2022-07-23T19:55:12.896Z"
   },
   {
    "duration": 45,
    "start_time": "2022-07-23T19:55:53.756Z"
   },
   {
    "duration": 46,
    "start_time": "2022-07-23T19:56:01.186Z"
   },
   {
    "duration": 2094,
    "start_time": "2022-07-23T19:57:28.434Z"
   },
   {
    "duration": 210,
    "start_time": "2022-07-23T19:57:43.681Z"
   },
   {
    "duration": 6,
    "start_time": "2022-07-23T19:57:43.893Z"
   },
   {
    "duration": 213,
    "start_time": "2022-07-23T19:57:43.900Z"
   },
   {
    "duration": 21,
    "start_time": "2022-07-23T19:57:44.115Z"
   },
   {
    "duration": 1849,
    "start_time": "2022-07-23T19:57:44.138Z"
   },
   {
    "duration": 4,
    "start_time": "2022-07-23T19:57:45.989Z"
   },
   {
    "duration": 16,
    "start_time": "2022-07-23T19:57:45.995Z"
   },
   {
    "duration": 13,
    "start_time": "2022-07-23T19:57:46.013Z"
   },
   {
    "duration": 34,
    "start_time": "2022-07-23T19:57:46.028Z"
   },
   {
    "duration": 5,
    "start_time": "2022-07-23T19:57:46.065Z"
   },
   {
    "duration": 18,
    "start_time": "2022-07-23T19:57:46.072Z"
   },
   {
    "duration": 26,
    "start_time": "2022-07-23T19:57:46.092Z"
   },
   {
    "duration": 47,
    "start_time": "2022-07-23T19:57:46.120Z"
   },
   {
    "duration": 13,
    "start_time": "2022-07-23T19:57:46.169Z"
   },
   {
    "duration": 129,
    "start_time": "2022-07-23T19:57:46.185Z"
   },
   {
    "duration": 18,
    "start_time": "2022-07-23T19:57:46.316Z"
   },
   {
    "duration": 18,
    "start_time": "2022-07-23T19:57:46.336Z"
   },
   {
    "duration": 7,
    "start_time": "2022-07-23T19:57:46.356Z"
   },
   {
    "duration": 281,
    "start_time": "2022-07-23T19:57:46.365Z"
   },
   {
    "duration": 12,
    "start_time": "2022-07-23T19:57:46.651Z"
   },
   {
    "duration": 1013,
    "start_time": "2022-07-23T19:57:46.664Z"
   },
   {
    "duration": 16,
    "start_time": "2022-07-23T19:57:47.678Z"
   },
   {
    "duration": 7,
    "start_time": "2022-07-23T19:57:47.696Z"
   },
   {
    "duration": 13,
    "start_time": "2022-07-23T19:57:47.705Z"
   },
   {
    "duration": 300,
    "start_time": "2022-07-23T19:57:47.719Z"
   },
   {
    "duration": 42,
    "start_time": "2022-07-23T19:57:48.021Z"
   },
   {
    "duration": 3082,
    "start_time": "2022-07-23T19:57:48.064Z"
   },
   {
    "duration": 90,
    "start_time": "2022-07-23T19:57:51.151Z"
   },
   {
    "duration": 378,
    "start_time": "2022-07-23T19:57:51.242Z"
   },
   {
    "duration": 107,
    "start_time": "2022-07-23T19:57:51.622Z"
   },
   {
    "duration": 61,
    "start_time": "2022-07-23T19:57:51.730Z"
   },
   {
    "duration": 1857,
    "start_time": "2022-07-23T19:59:20.802Z"
   },
   {
    "duration": 216,
    "start_time": "2022-07-23T19:59:58.093Z"
   },
   {
    "duration": 7,
    "start_time": "2022-07-23T19:59:58.311Z"
   },
   {
    "duration": 210,
    "start_time": "2022-07-23T19:59:58.320Z"
   },
   {
    "duration": 22,
    "start_time": "2022-07-23T19:59:58.532Z"
   },
   {
    "duration": 1717,
    "start_time": "2022-07-23T19:59:58.556Z"
   },
   {
    "duration": 4,
    "start_time": "2022-07-23T20:00:00.275Z"
   },
   {
    "duration": 15,
    "start_time": "2022-07-23T20:00:00.280Z"
   },
   {
    "duration": 10,
    "start_time": "2022-07-23T20:00:00.296Z"
   },
   {
    "duration": 11,
    "start_time": "2022-07-23T20:00:00.307Z"
   },
   {
    "duration": 6,
    "start_time": "2022-07-23T20:00:00.320Z"
   },
   {
    "duration": 32,
    "start_time": "2022-07-23T20:00:00.327Z"
   },
   {
    "duration": 28,
    "start_time": "2022-07-23T20:00:00.360Z"
   },
   {
    "duration": 16,
    "start_time": "2022-07-23T20:00:00.390Z"
   },
   {
    "duration": 12,
    "start_time": "2022-07-23T20:00:00.408Z"
   },
   {
    "duration": 113,
    "start_time": "2022-07-23T20:00:00.421Z"
   },
   {
    "duration": 23,
    "start_time": "2022-07-23T20:00:00.535Z"
   },
   {
    "duration": 1910,
    "start_time": "2022-07-23T20:00:00.772Z"
   },
   {
    "duration": 7,
    "start_time": "2022-07-23T20:00:02.684Z"
   },
   {
    "duration": 9,
    "start_time": "2022-07-23T20:00:02.693Z"
   },
   {
    "duration": 245,
    "start_time": "2022-07-23T20:00:02.703Z"
   },
   {
    "duration": 10,
    "start_time": "2022-07-23T20:00:02.952Z"
   },
   {
    "duration": 906,
    "start_time": "2022-07-23T20:00:02.963Z"
   },
   {
    "duration": 13,
    "start_time": "2022-07-23T20:00:03.871Z"
   },
   {
    "duration": 8,
    "start_time": "2022-07-23T20:00:03.886Z"
   },
   {
    "duration": 15,
    "start_time": "2022-07-23T20:00:03.895Z"
   },
   {
    "duration": 332,
    "start_time": "2022-07-23T20:00:03.911Z"
   },
   {
    "duration": 40,
    "start_time": "2022-07-23T20:00:04.245Z"
   },
   {
    "duration": 3212,
    "start_time": "2022-07-23T20:00:04.286Z"
   },
   {
    "duration": 95,
    "start_time": "2022-07-23T20:00:07.500Z"
   },
   {
    "duration": 322,
    "start_time": "2022-07-23T20:00:07.598Z"
   },
   {
    "duration": 111,
    "start_time": "2022-07-23T20:00:07.921Z"
   },
   {
    "duration": 51,
    "start_time": "2022-07-23T20:00:08.034Z"
   },
   {
    "duration": 1981,
    "start_time": "2022-07-23T20:00:08.086Z"
   },
   {
    "duration": 537,
    "start_time": "2022-07-23T20:02:42.829Z"
   },
   {
    "duration": 8,
    "start_time": "2022-07-23T20:04:45.362Z"
   },
   {
    "duration": 223,
    "start_time": "2022-07-23T20:04:50.859Z"
   },
   {
    "duration": 4,
    "start_time": "2022-07-23T20:09:19.193Z"
   },
   {
    "duration": 4,
    "start_time": "2022-07-23T20:09:20.776Z"
   },
   {
    "duration": 39,
    "start_time": "2022-07-23T20:09:27.116Z"
   },
   {
    "duration": 134,
    "start_time": "2022-07-23T20:09:41.655Z"
   },
   {
    "duration": 725,
    "start_time": "2022-07-23T20:11:01.805Z"
   },
   {
    "duration": 24,
    "start_time": "2022-07-23T20:12:39.983Z"
   },
   {
    "duration": 26,
    "start_time": "2022-07-23T20:15:11.556Z"
   },
   {
    "duration": 27,
    "start_time": "2022-07-23T20:15:34.856Z"
   },
   {
    "duration": 31,
    "start_time": "2022-07-23T20:41:26.925Z"
   },
   {
    "duration": 28,
    "start_time": "2022-07-23T20:42:55.267Z"
   },
   {
    "duration": 26,
    "start_time": "2022-07-23T20:45:11.386Z"
   },
   {
    "duration": 226,
    "start_time": "2022-07-23T20:45:40.873Z"
   },
   {
    "duration": 270,
    "start_time": "2022-07-23T21:18:49.743Z"
   },
   {
    "duration": 6,
    "start_time": "2022-07-23T21:18:50.015Z"
   },
   {
    "duration": 287,
    "start_time": "2022-07-23T21:18:50.023Z"
   },
   {
    "duration": 23,
    "start_time": "2022-07-23T21:18:50.312Z"
   },
   {
    "duration": 1876,
    "start_time": "2022-07-23T21:18:50.337Z"
   },
   {
    "duration": 3,
    "start_time": "2022-07-23T21:18:52.215Z"
   },
   {
    "duration": 10,
    "start_time": "2022-07-23T21:18:52.220Z"
   },
   {
    "duration": 24,
    "start_time": "2022-07-23T21:18:52.231Z"
   },
   {
    "duration": 11,
    "start_time": "2022-07-23T21:18:52.256Z"
   },
   {
    "duration": 4,
    "start_time": "2022-07-23T21:18:52.269Z"
   },
   {
    "duration": 9,
    "start_time": "2022-07-23T21:18:52.274Z"
   },
   {
    "duration": 22,
    "start_time": "2022-07-23T21:18:52.285Z"
   },
   {
    "duration": 45,
    "start_time": "2022-07-23T21:18:52.308Z"
   },
   {
    "duration": 11,
    "start_time": "2022-07-23T21:18:52.355Z"
   },
   {
    "duration": 124,
    "start_time": "2022-07-23T21:18:52.367Z"
   },
   {
    "duration": 18,
    "start_time": "2022-07-23T21:18:52.493Z"
   },
   {
    "duration": 1981,
    "start_time": "2022-07-23T21:18:52.513Z"
   },
   {
    "duration": 8,
    "start_time": "2022-07-23T21:18:54.496Z"
   },
   {
    "duration": 7,
    "start_time": "2022-07-23T21:18:54.506Z"
   },
   {
    "duration": 278,
    "start_time": "2022-07-23T21:18:54.514Z"
   },
   {
    "duration": 11,
    "start_time": "2022-07-23T21:18:54.793Z"
   },
   {
    "duration": 1039,
    "start_time": "2022-07-23T21:18:54.806Z"
   },
   {
    "duration": 16,
    "start_time": "2022-07-23T21:18:55.851Z"
   },
   {
    "duration": 10,
    "start_time": "2022-07-23T21:18:55.868Z"
   },
   {
    "duration": 15,
    "start_time": "2022-07-23T21:18:55.879Z"
   },
   {
    "duration": 372,
    "start_time": "2022-07-23T21:18:55.896Z"
   },
   {
    "duration": 43,
    "start_time": "2022-07-23T21:18:56.269Z"
   },
   {
    "duration": 3220,
    "start_time": "2022-07-23T21:18:56.316Z"
   },
   {
    "duration": 196,
    "start_time": "2022-07-23T21:18:59.538Z"
   },
   {
    "duration": 329,
    "start_time": "2022-07-23T21:18:59.735Z"
   },
   {
    "duration": 108,
    "start_time": "2022-07-23T21:19:00.066Z"
   },
   {
    "duration": 46,
    "start_time": "2022-07-23T21:19:00.175Z"
   },
   {
    "duration": 1936,
    "start_time": "2022-07-23T21:19:00.223Z"
   },
   {
    "duration": 137,
    "start_time": "2022-07-23T21:19:02.161Z"
   },
   {
    "duration": 738,
    "start_time": "2022-07-23T21:19:02.299Z"
   },
   {
    "duration": 32,
    "start_time": "2022-07-23T21:19:03.039Z"
   },
   {
    "duration": 0,
    "start_time": "2022-07-23T21:19:03.072Z"
   },
   {
    "duration": 222,
    "start_time": "2022-07-23T21:19:07.963Z"
   },
   {
    "duration": 31,
    "start_time": "2022-07-23T21:24:21.738Z"
   },
   {
    "duration": 28,
    "start_time": "2022-07-23T21:25:50.064Z"
   },
   {
    "duration": 28,
    "start_time": "2022-07-23T21:25:59.177Z"
   },
   {
    "duration": 30,
    "start_time": "2022-07-23T21:27:15.098Z"
   },
   {
    "duration": 32,
    "start_time": "2022-07-23T21:27:25.450Z"
   },
   {
    "duration": 1282,
    "start_time": "2022-07-23T21:28:27.289Z"
   },
   {
    "duration": 28,
    "start_time": "2022-07-23T21:28:44.191Z"
   },
   {
    "duration": 1435,
    "start_time": "2022-07-23T21:30:21.924Z"
   },
   {
    "duration": 1168,
    "start_time": "2022-07-23T21:30:41.450Z"
   },
   {
    "duration": 1525,
    "start_time": "2022-07-23T21:32:29.939Z"
   },
   {
    "duration": 1195,
    "start_time": "2022-07-23T21:32:56.375Z"
   },
   {
    "duration": 1189,
    "start_time": "2022-07-23T21:33:34.514Z"
   },
   {
    "duration": 1114,
    "start_time": "2022-07-23T21:33:50.200Z"
   },
   {
    "duration": 1223,
    "start_time": "2022-07-23T21:33:56.855Z"
   },
   {
    "duration": 20,
    "start_time": "2022-07-23T21:34:03.388Z"
   },
   {
    "duration": 23,
    "start_time": "2022-07-23T21:35:58.806Z"
   },
   {
    "duration": 20,
    "start_time": "2022-07-23T21:36:09.418Z"
   },
   {
    "duration": 20,
    "start_time": "2022-07-23T21:36:09.538Z"
   },
   {
    "duration": 24,
    "start_time": "2022-07-23T21:36:54.272Z"
   },
   {
    "duration": 20,
    "start_time": "2022-07-23T21:37:02.638Z"
   },
   {
    "duration": 15,
    "start_time": "2022-07-23T21:55:27.337Z"
   },
   {
    "duration": 14,
    "start_time": "2022-07-23T21:55:37.361Z"
   },
   {
    "duration": 14,
    "start_time": "2022-07-23T21:55:48.073Z"
   },
   {
    "duration": 246,
    "start_time": "2022-07-23T21:55:58.855Z"
   },
   {
    "duration": 6,
    "start_time": "2022-07-23T21:55:59.103Z"
   },
   {
    "duration": 281,
    "start_time": "2022-07-23T21:55:59.111Z"
   },
   {
    "duration": 20,
    "start_time": "2022-07-23T21:55:59.394Z"
   },
   {
    "duration": 1714,
    "start_time": "2022-07-23T21:55:59.415Z"
   },
   {
    "duration": 4,
    "start_time": "2022-07-23T21:56:01.131Z"
   },
   {
    "duration": 21,
    "start_time": "2022-07-23T21:56:01.137Z"
   },
   {
    "duration": 9,
    "start_time": "2022-07-23T21:56:01.159Z"
   },
   {
    "duration": 12,
    "start_time": "2022-07-23T21:56:01.169Z"
   },
   {
    "duration": 4,
    "start_time": "2022-07-23T21:56:01.183Z"
   },
   {
    "duration": 11,
    "start_time": "2022-07-23T21:56:01.188Z"
   },
   {
    "duration": 18,
    "start_time": "2022-07-23T21:56:01.200Z"
   },
   {
    "duration": 43,
    "start_time": "2022-07-23T21:56:01.220Z"
   },
   {
    "duration": 10,
    "start_time": "2022-07-23T21:56:01.264Z"
   },
   {
    "duration": 132,
    "start_time": "2022-07-23T21:56:01.275Z"
   },
   {
    "duration": 17,
    "start_time": "2022-07-23T21:56:01.409Z"
   },
   {
    "duration": 1847,
    "start_time": "2022-07-23T21:56:01.428Z"
   },
   {
    "duration": 8,
    "start_time": "2022-07-23T21:56:03.276Z"
   },
   {
    "duration": 7,
    "start_time": "2022-07-23T21:56:03.285Z"
   },
   {
    "duration": 237,
    "start_time": "2022-07-23T21:56:03.293Z"
   },
   {
    "duration": 10,
    "start_time": "2022-07-23T21:56:03.531Z"
   },
   {
    "duration": 941,
    "start_time": "2022-07-23T21:56:03.543Z"
   },
   {
    "duration": 13,
    "start_time": "2022-07-23T21:56:14.223Z"
   },
   {
    "duration": 16,
    "start_time": "2022-07-23T21:56:21.720Z"
   },
   {
    "duration": 15,
    "start_time": "2022-07-23T21:56:23.054Z"
   },
   {
    "duration": 14,
    "start_time": "2022-07-23T21:56:31.400Z"
   },
   {
    "duration": 14,
    "start_time": "2022-07-23T21:56:48.343Z"
   },
   {
    "duration": 14,
    "start_time": "2022-07-23T21:57:08.113Z"
   },
   {
    "duration": 10,
    "start_time": "2022-07-23T21:57:20.143Z"
   },
   {
    "duration": 14,
    "start_time": "2022-07-23T21:57:41.484Z"
   },
   {
    "duration": 258,
    "start_time": "2022-07-23T21:58:21.449Z"
   },
   {
    "duration": 6,
    "start_time": "2022-07-23T21:58:21.709Z"
   },
   {
    "duration": 209,
    "start_time": "2022-07-23T21:58:21.716Z"
   },
   {
    "duration": 20,
    "start_time": "2022-07-23T21:58:21.927Z"
   },
   {
    "duration": 1679,
    "start_time": "2022-07-23T21:58:21.952Z"
   },
   {
    "duration": 4,
    "start_time": "2022-07-23T21:58:23.632Z"
   },
   {
    "duration": 15,
    "start_time": "2022-07-23T21:58:23.637Z"
   },
   {
    "duration": 9,
    "start_time": "2022-07-23T21:58:23.653Z"
   },
   {
    "duration": 9,
    "start_time": "2022-07-23T21:58:23.663Z"
   },
   {
    "duration": 4,
    "start_time": "2022-07-23T21:58:23.674Z"
   },
   {
    "duration": 9,
    "start_time": "2022-07-23T21:58:23.679Z"
   },
   {
    "duration": 134,
    "start_time": "2022-07-23T21:58:23.689Z"
   },
   {
    "duration": 16,
    "start_time": "2022-07-23T21:58:23.825Z"
   },
   {
    "duration": 10,
    "start_time": "2022-07-23T21:58:23.852Z"
   },
   {
    "duration": 135,
    "start_time": "2022-07-23T21:58:23.864Z"
   },
   {
    "duration": 21,
    "start_time": "2022-07-23T21:58:24.001Z"
   },
   {
    "duration": 2179,
    "start_time": "2022-07-23T21:58:24.024Z"
   },
   {
    "duration": 11,
    "start_time": "2022-07-23T21:58:26.205Z"
   },
   {
    "duration": 9,
    "start_time": "2022-07-23T21:58:26.218Z"
   },
   {
    "duration": 273,
    "start_time": "2022-07-23T21:58:26.253Z"
   },
   {
    "duration": 24,
    "start_time": "2022-07-23T21:58:26.528Z"
   },
   {
    "duration": 1060,
    "start_time": "2022-07-23T21:58:26.554Z"
   },
   {
    "duration": 15,
    "start_time": "2022-07-23T21:58:27.616Z"
   },
   {
    "duration": 24,
    "start_time": "2022-07-23T21:58:27.632Z"
   },
   {
    "duration": 16,
    "start_time": "2022-07-23T21:58:27.657Z"
   },
   {
    "duration": 312,
    "start_time": "2022-07-23T21:58:27.674Z"
   },
   {
    "duration": 41,
    "start_time": "2022-07-23T21:58:27.988Z"
   },
   {
    "duration": 3287,
    "start_time": "2022-07-23T21:58:28.032Z"
   },
   {
    "duration": 102,
    "start_time": "2022-07-23T21:58:31.320Z"
   },
   {
    "duration": 323,
    "start_time": "2022-07-23T21:58:31.424Z"
   },
   {
    "duration": 106,
    "start_time": "2022-07-23T21:58:31.748Z"
   },
   {
    "duration": 46,
    "start_time": "2022-07-23T21:58:31.856Z"
   },
   {
    "duration": 1835,
    "start_time": "2022-07-23T21:58:31.903Z"
   },
   {
    "duration": 130,
    "start_time": "2022-07-23T21:58:33.739Z"
   },
   {
    "duration": 711,
    "start_time": "2022-07-23T21:58:33.870Z"
   },
   {
    "duration": 23,
    "start_time": "2022-07-23T21:58:34.582Z"
   },
   {
    "duration": 351,
    "start_time": "2022-07-23T21:58:34.606Z"
   },
   {
    "duration": 172,
    "start_time": "2022-07-23T22:00:41.992Z"
   },
   {
    "duration": 6,
    "start_time": "2022-07-23T22:00:42.166Z"
   },
   {
    "duration": 397,
    "start_time": "2022-07-23T22:00:42.174Z"
   },
   {
    "duration": 22,
    "start_time": "2022-07-23T22:00:42.572Z"
   },
   {
    "duration": 1622,
    "start_time": "2022-07-23T22:00:42.596Z"
   },
   {
    "duration": 4,
    "start_time": "2022-07-23T22:00:44.219Z"
   },
   {
    "duration": 9,
    "start_time": "2022-07-23T22:00:44.224Z"
   },
   {
    "duration": 21,
    "start_time": "2022-07-23T22:00:44.234Z"
   },
   {
    "duration": 9,
    "start_time": "2022-07-23T22:00:44.257Z"
   },
   {
    "duration": 3,
    "start_time": "2022-07-23T22:00:44.268Z"
   },
   {
    "duration": 9,
    "start_time": "2022-07-23T22:00:44.272Z"
   },
   {
    "duration": 18,
    "start_time": "2022-07-23T22:00:44.282Z"
   },
   {
    "duration": 17,
    "start_time": "2022-07-23T22:00:44.301Z"
   },
   {
    "duration": 37,
    "start_time": "2022-07-23T22:00:44.321Z"
   },
   {
    "duration": 112,
    "start_time": "2022-07-23T22:00:44.360Z"
   },
   {
    "duration": 16,
    "start_time": "2022-07-23T22:00:44.473Z"
   },
   {
    "duration": 2126,
    "start_time": "2022-07-23T22:00:44.491Z"
   },
   {
    "duration": 9,
    "start_time": "2022-07-23T22:00:46.619Z"
   },
   {
    "duration": 23,
    "start_time": "2022-07-23T22:00:46.629Z"
   },
   {
    "duration": 271,
    "start_time": "2022-07-23T22:00:46.654Z"
   },
   {
    "duration": 12,
    "start_time": "2022-07-23T22:00:46.927Z"
   },
   {
    "duration": 1103,
    "start_time": "2022-07-23T22:00:46.940Z"
   },
   {
    "duration": 22,
    "start_time": "2022-07-23T22:00:48.045Z"
   },
   {
    "duration": 9,
    "start_time": "2022-07-23T22:00:48.069Z"
   },
   {
    "duration": 17,
    "start_time": "2022-07-23T22:00:48.080Z"
   },
   {
    "duration": 364,
    "start_time": "2022-07-23T22:00:48.098Z"
   },
   {
    "duration": 41,
    "start_time": "2022-07-23T22:00:48.464Z"
   },
   {
    "duration": 3539,
    "start_time": "2022-07-23T22:00:48.506Z"
   },
   {
    "duration": 110,
    "start_time": "2022-07-23T22:00:52.046Z"
   },
   {
    "duration": 378,
    "start_time": "2022-07-23T22:00:52.157Z"
   },
   {
    "duration": 126,
    "start_time": "2022-07-23T22:00:52.537Z"
   },
   {
    "duration": 48,
    "start_time": "2022-07-23T22:00:52.665Z"
   },
   {
    "duration": 2030,
    "start_time": "2022-07-23T22:00:52.714Z"
   },
   {
    "duration": 143,
    "start_time": "2022-07-23T22:00:54.751Z"
   },
   {
    "duration": 790,
    "start_time": "2022-07-23T22:00:54.895Z"
   },
   {
    "duration": 23,
    "start_time": "2022-07-23T22:00:55.687Z"
   },
   {
    "duration": 272,
    "start_time": "2022-07-23T22:00:55.711Z"
   },
   {
    "duration": 18,
    "start_time": "2022-07-23T22:07:58.974Z"
   },
   {
    "duration": 28,
    "start_time": "2022-07-23T22:09:11.113Z"
   },
   {
    "duration": 280,
    "start_time": "2022-07-23T22:09:33.441Z"
   },
   {
    "duration": 5,
    "start_time": "2022-07-23T22:09:33.723Z"
   },
   {
    "duration": 611,
    "start_time": "2022-07-23T22:09:33.730Z"
   },
   {
    "duration": 18,
    "start_time": "2022-07-23T22:09:34.343Z"
   },
   {
    "duration": 1629,
    "start_time": "2022-07-23T22:09:34.363Z"
   },
   {
    "duration": 5,
    "start_time": "2022-07-23T22:09:35.994Z"
   },
   {
    "duration": 17,
    "start_time": "2022-07-23T22:09:36.000Z"
   },
   {
    "duration": 11,
    "start_time": "2022-07-23T22:09:36.019Z"
   },
   {
    "duration": 31,
    "start_time": "2022-07-23T22:09:36.032Z"
   },
   {
    "duration": 13,
    "start_time": "2022-07-23T22:09:36.065Z"
   },
   {
    "duration": 15,
    "start_time": "2022-07-23T22:09:36.080Z"
   },
   {
    "duration": 33,
    "start_time": "2022-07-23T22:09:36.097Z"
   },
   {
    "duration": 25,
    "start_time": "2022-07-23T22:09:36.132Z"
   },
   {
    "duration": 9,
    "start_time": "2022-07-23T22:09:36.159Z"
   },
   {
    "duration": 110,
    "start_time": "2022-07-23T22:09:36.170Z"
   },
   {
    "duration": 16,
    "start_time": "2022-07-23T22:09:36.282Z"
   },
   {
    "duration": 1871,
    "start_time": "2022-07-23T22:09:36.299Z"
   },
   {
    "duration": 7,
    "start_time": "2022-07-23T22:09:38.172Z"
   },
   {
    "duration": 6,
    "start_time": "2022-07-23T22:09:38.181Z"
   },
   {
    "duration": 244,
    "start_time": "2022-07-23T22:09:38.189Z"
   },
   {
    "duration": 18,
    "start_time": "2022-07-23T22:09:38.435Z"
   },
   {
    "duration": 977,
    "start_time": "2022-07-23T22:09:38.454Z"
   },
   {
    "duration": 24,
    "start_time": "2022-07-23T22:09:39.433Z"
   },
   {
    "duration": 10,
    "start_time": "2022-07-23T22:09:39.459Z"
   },
   {
    "duration": 28,
    "start_time": "2022-07-23T22:09:39.472Z"
   },
   {
    "duration": 14,
    "start_time": "2022-07-23T22:10:19.741Z"
   },
   {
    "duration": 19,
    "start_time": "2022-07-23T22:10:26.049Z"
   },
   {
    "duration": 7,
    "start_time": "2022-07-23T22:10:45.602Z"
   },
   {
    "duration": 9,
    "start_time": "2022-07-23T22:11:17.352Z"
   },
   {
    "duration": 7,
    "start_time": "2022-07-23T22:11:40.437Z"
   },
   {
    "duration": 175,
    "start_time": "2022-07-23T22:11:56.497Z"
   },
   {
    "duration": 6,
    "start_time": "2022-07-23T22:11:56.674Z"
   },
   {
    "duration": 262,
    "start_time": "2022-07-23T22:11:56.681Z"
   },
   {
    "duration": 21,
    "start_time": "2022-07-23T22:11:56.945Z"
   },
   {
    "duration": 1670,
    "start_time": "2022-07-23T22:11:56.967Z"
   },
   {
    "duration": 14,
    "start_time": "2022-07-23T22:11:58.638Z"
   },
   {
    "duration": 8,
    "start_time": "2022-07-23T22:11:58.653Z"
   },
   {
    "duration": 9,
    "start_time": "2022-07-23T22:11:58.662Z"
   },
   {
    "duration": 10,
    "start_time": "2022-07-23T22:11:58.672Z"
   },
   {
    "duration": 3,
    "start_time": "2022-07-23T22:11:58.685Z"
   },
   {
    "duration": 9,
    "start_time": "2022-07-23T22:11:58.689Z"
   },
   {
    "duration": 20,
    "start_time": "2022-07-23T22:11:58.700Z"
   },
   {
    "duration": 19,
    "start_time": "2022-07-23T22:11:58.751Z"
   },
   {
    "duration": 10,
    "start_time": "2022-07-23T22:11:58.772Z"
   },
   {
    "duration": 131,
    "start_time": "2022-07-23T22:11:58.784Z"
   },
   {
    "duration": 18,
    "start_time": "2022-07-23T22:11:58.916Z"
   },
   {
    "duration": 1732,
    "start_time": "2022-07-23T22:11:58.936Z"
   },
   {
    "duration": 7,
    "start_time": "2022-07-23T22:12:00.670Z"
   },
   {
    "duration": 12,
    "start_time": "2022-07-23T22:12:00.678Z"
   },
   {
    "duration": 235,
    "start_time": "2022-07-23T22:12:00.692Z"
   },
   {
    "duration": 11,
    "start_time": "2022-07-23T22:12:00.929Z"
   },
   {
    "duration": 949,
    "start_time": "2022-07-23T22:12:00.941Z"
   },
   {
    "duration": 13,
    "start_time": "2022-07-23T22:12:01.892Z"
   },
   {
    "duration": 13,
    "start_time": "2022-07-23T22:12:01.907Z"
   },
   {
    "duration": 7,
    "start_time": "2022-07-23T22:12:01.922Z"
   },
   {
    "duration": 25,
    "start_time": "2022-07-23T22:12:01.930Z"
   },
   {
    "duration": 245,
    "start_time": "2022-07-23T22:12:01.956Z"
   },
   {
    "duration": 34,
    "start_time": "2022-07-23T22:12:02.204Z"
   },
   {
    "duration": 3258,
    "start_time": "2022-07-23T22:12:02.240Z"
   },
   {
    "duration": 95,
    "start_time": "2022-07-23T22:12:05.499Z"
   },
   {
    "duration": 312,
    "start_time": "2022-07-23T22:12:05.595Z"
   },
   {
    "duration": 111,
    "start_time": "2022-07-23T22:12:05.909Z"
   },
   {
    "duration": 61,
    "start_time": "2022-07-23T22:12:06.021Z"
   },
   {
    "duration": 1699,
    "start_time": "2022-07-23T22:12:06.083Z"
   },
   {
    "duration": 126,
    "start_time": "2022-07-23T22:12:07.783Z"
   },
   {
    "duration": 812,
    "start_time": "2022-07-23T22:12:07.911Z"
   },
   {
    "duration": 33,
    "start_time": "2022-07-23T22:12:08.724Z"
   },
   {
    "duration": 280,
    "start_time": "2022-07-23T22:12:08.758Z"
   },
   {
    "duration": 87,
    "start_time": "2022-07-24T01:30:57.485Z"
   },
   {
    "duration": 813,
    "start_time": "2022-07-24T01:35:18.671Z"
   },
   {
    "duration": 10,
    "start_time": "2022-07-24T01:35:19.486Z"
   },
   {
    "duration": 281,
    "start_time": "2022-07-24T01:35:19.498Z"
   },
   {
    "duration": 29,
    "start_time": "2022-07-24T01:35:19.781Z"
   },
   {
    "duration": 1885,
    "start_time": "2022-07-24T01:35:19.811Z"
   },
   {
    "duration": 4,
    "start_time": "2022-07-24T01:35:21.698Z"
   },
   {
    "duration": 10,
    "start_time": "2022-07-24T01:35:21.704Z"
   },
   {
    "duration": 11,
    "start_time": "2022-07-24T01:35:21.716Z"
   },
   {
    "duration": 11,
    "start_time": "2022-07-24T01:35:21.728Z"
   },
   {
    "duration": 4,
    "start_time": "2022-07-24T01:35:21.741Z"
   },
   {
    "duration": 14,
    "start_time": "2022-07-24T01:35:21.746Z"
   },
   {
    "duration": 26,
    "start_time": "2022-07-24T01:35:21.761Z"
   },
   {
    "duration": 19,
    "start_time": "2022-07-24T01:35:21.810Z"
   },
   {
    "duration": 10,
    "start_time": "2022-07-24T01:35:21.831Z"
   },
   {
    "duration": 136,
    "start_time": "2022-07-24T01:35:21.842Z"
   },
   {
    "duration": 19,
    "start_time": "2022-07-24T01:35:21.980Z"
   },
   {
    "duration": 7,
    "start_time": "2022-07-24T01:35:22.009Z"
   },
   {
    "duration": 8,
    "start_time": "2022-07-24T01:35:22.017Z"
   },
   {
    "duration": 264,
    "start_time": "2022-07-24T01:35:22.026Z"
   },
   {
    "duration": 18,
    "start_time": "2022-07-24T01:35:22.291Z"
   },
   {
    "duration": 1000,
    "start_time": "2022-07-24T01:35:22.311Z"
   },
   {
    "duration": 17,
    "start_time": "2022-07-24T01:35:23.312Z"
   },
   {
    "duration": 15,
    "start_time": "2022-07-24T01:35:23.330Z"
   },
   {
    "duration": 3,
    "start_time": "2022-07-24T01:35:23.347Z"
   },
   {
    "duration": 13,
    "start_time": "2022-07-24T01:35:23.352Z"
   },
   {
    "duration": 9,
    "start_time": "2022-07-24T01:35:23.367Z"
   },
   {
    "duration": 31,
    "start_time": "2022-07-24T01:35:23.378Z"
   },
   {
    "duration": 319,
    "start_time": "2022-07-24T01:35:23.413Z"
   },
   {
    "duration": 46,
    "start_time": "2022-07-24T01:35:23.734Z"
   },
   {
    "duration": 3664,
    "start_time": "2022-07-24T01:35:23.781Z"
   },
   {
    "duration": 116,
    "start_time": "2022-07-24T01:35:27.446Z"
   },
   {
    "duration": 382,
    "start_time": "2022-07-24T01:35:27.564Z"
   },
   {
    "duration": 122,
    "start_time": "2022-07-24T01:35:27.948Z"
   },
   {
    "duration": 51,
    "start_time": "2022-07-24T01:35:28.072Z"
   },
   {
    "duration": 1881,
    "start_time": "2022-07-24T01:35:28.125Z"
   },
   {
    "duration": 154,
    "start_time": "2022-07-24T01:35:30.009Z"
   },
   {
    "duration": 94,
    "start_time": "2022-07-24T01:35:30.165Z"
   },
   {
    "duration": 0,
    "start_time": "2022-07-24T01:35:30.260Z"
   },
   {
    "duration": 0,
    "start_time": "2022-07-24T01:35:30.262Z"
   },
   {
    "duration": 6,
    "start_time": "2022-07-24T01:36:37.101Z"
   },
   {
    "duration": 1395,
    "start_time": "2022-07-24T01:42:20.769Z"
   },
   {
    "duration": 809,
    "start_time": "2022-07-24T01:42:24.807Z"
   },
   {
    "duration": 24,
    "start_time": "2022-07-24T01:42:25.618Z"
   },
   {
    "duration": 356,
    "start_time": "2022-07-24T01:42:25.644Z"
   },
   {
    "duration": 46,
    "start_time": "2022-07-24T08:47:52.883Z"
   },
   {
    "duration": 1097,
    "start_time": "2022-07-24T08:47:58.418Z"
   },
   {
    "duration": 10,
    "start_time": "2022-07-24T08:47:59.517Z"
   },
   {
    "duration": 254,
    "start_time": "2022-07-24T08:47:59.529Z"
   },
   {
    "duration": 22,
    "start_time": "2022-07-24T08:47:59.786Z"
   },
   {
    "duration": 1969,
    "start_time": "2022-07-24T08:47:59.811Z"
   },
   {
    "duration": 4,
    "start_time": "2022-07-24T08:48:01.783Z"
   },
   {
    "duration": 36,
    "start_time": "2022-07-24T08:48:01.789Z"
   },
   {
    "duration": 13,
    "start_time": "2022-07-24T08:48:01.827Z"
   },
   {
    "duration": 37,
    "start_time": "2022-07-24T08:48:01.842Z"
   },
   {
    "duration": 30,
    "start_time": "2022-07-24T08:48:01.881Z"
   },
   {
    "duration": 15,
    "start_time": "2022-07-24T08:48:01.913Z"
   },
   {
    "duration": 31,
    "start_time": "2022-07-24T08:48:01.929Z"
   },
   {
    "duration": 23,
    "start_time": "2022-07-24T08:48:01.963Z"
   },
   {
    "duration": 21,
    "start_time": "2022-07-24T08:48:01.990Z"
   },
   {
    "duration": 175,
    "start_time": "2022-07-24T08:48:02.013Z"
   },
   {
    "duration": 21,
    "start_time": "2022-07-24T08:48:02.190Z"
   },
   {
    "duration": 8,
    "start_time": "2022-07-24T08:48:02.213Z"
   },
   {
    "duration": 51,
    "start_time": "2022-07-24T08:48:02.222Z"
   },
   {
    "duration": 299,
    "start_time": "2022-07-24T08:48:02.275Z"
   },
   {
    "duration": 15,
    "start_time": "2022-07-24T08:48:02.577Z"
   },
   {
    "duration": 1096,
    "start_time": "2022-07-24T08:48:02.594Z"
   },
   {
    "duration": 16,
    "start_time": "2022-07-24T08:48:03.692Z"
   },
   {
    "duration": 10,
    "start_time": "2022-07-24T08:48:03.709Z"
   },
   {
    "duration": 25,
    "start_time": "2022-07-24T08:48:03.721Z"
   },
   {
    "duration": 161,
    "start_time": "2022-07-24T08:48:12.641Z"
   },
   {
    "duration": 6,
    "start_time": "2022-07-24T08:48:12.804Z"
   },
   {
    "duration": 187,
    "start_time": "2022-07-24T08:48:12.812Z"
   },
   {
    "duration": 21,
    "start_time": "2022-07-24T08:48:13.001Z"
   },
   {
    "duration": 1950,
    "start_time": "2022-07-24T08:48:13.024Z"
   },
   {
    "duration": 4,
    "start_time": "2022-07-24T08:48:14.975Z"
   },
   {
    "duration": 12,
    "start_time": "2022-07-24T08:48:14.984Z"
   },
   {
    "duration": 11,
    "start_time": "2022-07-24T08:48:14.997Z"
   },
   {
    "duration": 18,
    "start_time": "2022-07-24T08:48:15.010Z"
   },
   {
    "duration": 33,
    "start_time": "2022-07-24T08:48:15.030Z"
   },
   {
    "duration": 17,
    "start_time": "2022-07-24T08:48:15.065Z"
   },
   {
    "duration": 25,
    "start_time": "2022-07-24T08:48:15.084Z"
   },
   {
    "duration": 21,
    "start_time": "2022-07-24T08:48:15.110Z"
   },
   {
    "duration": 27,
    "start_time": "2022-07-24T08:48:15.134Z"
   },
   {
    "duration": 160,
    "start_time": "2022-07-24T08:48:15.164Z"
   },
   {
    "duration": 22,
    "start_time": "2022-07-24T08:48:15.326Z"
   },
   {
    "duration": 13,
    "start_time": "2022-07-24T08:48:15.360Z"
   },
   {
    "duration": 16,
    "start_time": "2022-07-24T08:48:15.375Z"
   },
   {
    "duration": 329,
    "start_time": "2022-07-24T08:48:15.393Z"
   },
   {
    "duration": 11,
    "start_time": "2022-07-24T08:48:15.724Z"
   },
   {
    "duration": 1430,
    "start_time": "2022-07-24T08:48:15.737Z"
   },
   {
    "duration": 19,
    "start_time": "2022-07-24T08:48:17.170Z"
   },
   {
    "duration": 26,
    "start_time": "2022-07-24T08:48:17.191Z"
   },
   {
    "duration": 9,
    "start_time": "2022-07-24T08:48:17.219Z"
   },
   {
    "duration": 12,
    "start_time": "2022-07-24T08:48:20.696Z"
   },
   {
    "duration": 14,
    "start_time": "2022-07-24T08:48:54.104Z"
   },
   {
    "duration": 7,
    "start_time": "2022-07-24T08:49:04.069Z"
   },
   {
    "duration": 4,
    "start_time": "2022-07-24T08:49:05.515Z"
   },
   {
    "duration": 214,
    "start_time": "2022-07-24T08:55:50.523Z"
   },
   {
    "duration": 6,
    "start_time": "2022-07-24T08:55:50.739Z"
   },
   {
    "duration": 205,
    "start_time": "2022-07-24T08:55:50.747Z"
   },
   {
    "duration": 37,
    "start_time": "2022-07-24T08:55:50.954Z"
   },
   {
    "duration": 1920,
    "start_time": "2022-07-24T08:55:50.993Z"
   },
   {
    "duration": 4,
    "start_time": "2022-07-24T08:55:52.915Z"
   },
   {
    "duration": 12,
    "start_time": "2022-07-24T08:55:52.920Z"
   },
   {
    "duration": 31,
    "start_time": "2022-07-24T08:55:52.934Z"
   },
   {
    "duration": 18,
    "start_time": "2022-07-24T08:55:52.968Z"
   },
   {
    "duration": 11,
    "start_time": "2022-07-24T08:55:52.989Z"
   },
   {
    "duration": 11,
    "start_time": "2022-07-24T08:55:53.002Z"
   },
   {
    "duration": 118,
    "start_time": "2022-07-24T08:55:53.014Z"
   },
   {
    "duration": 29,
    "start_time": "2022-07-24T08:55:53.134Z"
   },
   {
    "duration": 15,
    "start_time": "2022-07-24T08:55:53.166Z"
   },
   {
    "duration": 142,
    "start_time": "2022-07-24T08:55:53.183Z"
   },
   {
    "duration": 22,
    "start_time": "2022-07-24T08:55:53.326Z"
   },
   {
    "duration": 11,
    "start_time": "2022-07-24T08:55:53.360Z"
   },
   {
    "duration": 19,
    "start_time": "2022-07-24T08:55:53.373Z"
   },
   {
    "duration": 295,
    "start_time": "2022-07-24T08:55:53.393Z"
   },
   {
    "duration": 17,
    "start_time": "2022-07-24T08:55:53.690Z"
   },
   {
    "duration": 1034,
    "start_time": "2022-07-24T08:55:53.709Z"
   },
   {
    "duration": 24,
    "start_time": "2022-07-24T08:55:54.744Z"
   },
   {
    "duration": 12,
    "start_time": "2022-07-24T08:55:54.769Z"
   },
   {
    "duration": 5,
    "start_time": "2022-07-24T08:55:54.783Z"
   },
   {
    "duration": 11,
    "start_time": "2022-07-24T08:55:54.790Z"
   },
   {
    "duration": 4,
    "start_time": "2022-07-24T08:55:54.802Z"
   },
   {
    "duration": 8,
    "start_time": "2022-07-24T08:55:54.808Z"
   },
   {
    "duration": 9,
    "start_time": "2022-07-24T08:55:54.819Z"
   },
   {
    "duration": 462,
    "start_time": "2022-07-24T08:55:54.861Z"
   },
   {
    "duration": 64,
    "start_time": "2022-07-24T08:55:55.325Z"
   },
   {
    "duration": 3873,
    "start_time": "2022-07-24T08:55:55.391Z"
   },
   {
    "duration": 133,
    "start_time": "2022-07-24T08:55:59.266Z"
   },
   {
    "duration": 452,
    "start_time": "2022-07-24T08:55:59.401Z"
   },
   {
    "duration": 138,
    "start_time": "2022-07-24T08:55:59.860Z"
   },
   {
    "duration": 50,
    "start_time": "2022-07-24T08:55:59.999Z"
   },
   {
    "duration": 2014,
    "start_time": "2022-07-24T08:56:00.050Z"
   },
   {
    "duration": 163,
    "start_time": "2022-07-24T08:56:02.066Z"
   },
   {
    "duration": 1411,
    "start_time": "2022-07-24T08:56:02.231Z"
   },
   {
    "duration": 42,
    "start_time": "2022-07-24T08:56:03.644Z"
   },
   {
    "duration": 353,
    "start_time": "2022-07-24T08:56:03.687Z"
   }
  ],
  "kernelspec": {
   "display_name": "Python 3 (ipykernel)",
   "language": "python",
   "name": "python3"
  },
  "language_info": {
   "codemirror_mode": {
    "name": "ipython",
    "version": 3
   },
   "file_extension": ".py",
   "mimetype": "text/x-python",
   "name": "python",
   "nbconvert_exporter": "python",
   "pygments_lexer": "ipython3",
   "version": "3.9.7"
  },
  "toc": {
   "base_numbering": 1,
   "nav_menu": {},
   "number_sections": true,
   "sideBar": true,
   "skip_h1_title": true,
   "title_cell": "Table of Contents",
   "title_sidebar": "Contents",
   "toc_cell": false,
   "toc_position": {},
   "toc_section_display": true,
   "toc_window_display": false
  }
 },
 "nbformat": 4,
 "nbformat_minor": 2
}
